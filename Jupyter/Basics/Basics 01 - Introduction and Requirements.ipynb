{
 "cells": [
  {
   "cell_type": "markdown",
   "metadata": {},
   "source": [
    "<img style=\"float: right;\"  src=\"images/LogoP.jpg\" width=\"200\">\n",
    "\n",
    "# Basics 01 - Introduction and Requirements\n",
    "\n",
    "This first document gives a brief introduction to the **SLab project** and describes the material needed to do the proposed laboratory projects.\n",
    "\n",
    "Version 1.2 (6/3/2019)\n",
    "License information is at the end of the document"
   ]
  },
  {
   "cell_type": "markdown",
   "metadata": {},
   "source": [
    "## Introduction\n",
    "\n",
    "The **Small Lab** (SLab) project pretends to ease self learning in electronics. It does not pretend to be a theoretical introduction to electronics. There are a lot of books for that and the author does not aspire to add more to the pile. So, you are supposed to know what is the resistor Ohm's law, what are the Kirchoff circuit laws and how does an inductor or a capacitor behaves. It is good for you to also know basic circuit theory in the frequency “s” domain although it is used only in some of the SLab documents.\n",
    "The objective of the project is to learn by working on lab measurements. That is, by building and measuring circuits.\n",
    "\n",
    "This is not new. Learning electronics by building circuits is quite typical. The usual problem, however, is the instrumentation. You can do things with only a power supply and a multimeter, but in no time you will need an oscilloscope and a function generator. And that costs money. Moreover, on modern laboratories we tend to make use of automation to perform repetitive measurements and that is not easy to do using budget instruments. Things like obtaining an input to output DC voltage response of a circuit is cumbersome and requires taking manual note of the measurements or building a setup with a function generator and an oscilloscope in X-Y mode. Add to that that it is not always easy to extract the measurement data to perform post processing.\n",
    "\n",
    "This project tries to ease the instrumentation part of the lab problem by using a combination of a low cost **microcontroller demonstration board** and some **Python code**. Having some foundation of Python will help but it is not a requirement. Python is quite easy to learn anyway and probably you already know about it.\n"
   ]
  },
  {
   "cell_type": "markdown",
   "metadata": {},
   "source": [
    "## SLAB for Instrumentation\n",
    "\n",
    "As we, humans, are not capable of sensing electrical magnitudes like voltages and currents like we sense textures and colors, we depend on instruments to know what is happening inside an electronic circuit. Moreover, things change quickly inside circuits so we need to be able to adapt the timescale where a circuit operates to the timescale where we can think about what is happening.\n",
    "\n",
    "Instrumentation is needed to set and measure voltage values both constant and variable in time. The basic set for any workbench is four instruments. To set constant voltages we use a **power supply**. To set a variable voltage we use a **function generator**. To measure a constant voltage or current we use a **multimeter**. Finally, to measure a variable voltage we use an **oscilloscope**. There are methods to measure also with variable currents when a multimeter is not enough but with most circuits, using some tricks, we can work out the current from voltage measurements.\n",
    "\n",
    "If we want to extract information from the instruments or perform any automated measurements we also need a PC computer. This is the 5th element of any modern basic workbench. \n",
    "\n",
    "Off course the list can grow if you have specific measurement needs but this list of 5 elements is usually enough for low frequency analog circuits.\n",
    "\n",
    "All those elements cost money and take space. In order to reduce space usage and instrument costs there are several available devices that connect to a PC using USB or a network interface and act as one or several of the four basic instruments. Note that most modern bench instruments can also be connected to a PC, the difference is that the low cost solutions need the PC to be used and, sometimes, make use of its computing power to operate.\n",
    "\n",
    "By displaying the information on the PC screen, you reduce the cost and space of having screens on the instruments themselves. You can get PC controlled oscilloscope / function generator combos some also add a power supply to the mix. \n",
    "There are a plethora of examples like the Digilent Analog Discovery (260$), the Analog Devices ADALM1000 (44€) o the Red Pitaya StemLab (From 200€). \n",
    "In general, the price for a half decent function generator/scope combo put you above 150€ and, although a lot of instruments can be automated it is not always easy. Prices are currently falling so this numbers could be not accurate by the time you read this document.\n",
    "\n",
    "The microcontroller world has come to unbelievable low prices you could not expect several years ago. A lot of microcontroller manufacturers sell cheap demonstration boards at cost price to promote their products. Moreover, some of the featured microcontrollers include not only **ADCs**, to measure voltages, but also **DACs** to set voltages, and miscelaneous additional components like **operational amplifiers** and **comparators**. That way you can control the inputs of a circuit and read its outputs. The SLab project proposes to use a cheap microcontroller board to generate the inputs and read the outputs of a **circuit under test** (CUT).\n",
    "\n",
    "The system works in **client-server** fashion. You have a hardware board, acting as server, connected to a circuit. You also have a client PC connected to the board. The PC client sends commands to the board, the board processes them and return the results to the PC.\n",
    "\n",
    "This solution is not ideal. Maximum sample frequencies in most microcontroller boards are in the low MHz range at best and that is using an optimal firmware. Voltage operation is usually low, usually in the 3V range. And measured values need calibration to resemble the real physical values. But you cannot beat the price. As an example, current STM32 Nucleo boards feature an ARM Cortex M4 CPU and include DAC and ADC peripherals for about 10€. Other manufacturers are in the same range of prices and features.\n",
    "\n",
    "Using generic programmable boards have its pros and cons. The basic inconvenient is that you need to program them to perform any operation. The related advantage is that, as you have developed the software it is running, you have complete control on its operation.\n",
    "\n",
    "The Slab System, at least, requires the four elements shown in the following figure:\n",
    "\n",
    "![fig01](images/Basics_01/fig01.png)\n",
    "\n",
    "First, on the left side, we have our **test circuit** we are measuring that is designed to learn something about electronics. On its right we have a **hardware board** that is basically a cheap microcontroller demonstration board and, optionally, some hardware drivers. Inside this board, there is a custom made **SLab firmware** that enables the board to perform some operations on the circuit as they are commanded from a **PC** through an **USB** cable.\n",
    "\n",
    "The **SLab** documentation define a standarized **communication protocol** between the PC and the hardware board. That means that you could have several options for the harware board. We will try to write all the SLab documentation so it is independent on the particular hardware board you are using. Note, however, that some experiments could have specific requirements on the harware board you are using."
   ]
  },
  {
   "cell_type": "markdown",
   "metadata": {},
   "source": [
    "## SLAB security recommendations\n",
    "\n",
    "Different hardware boards can give different levels of protection. On the cheaper less complex options there is a low impedance ground path between the test circuit and the PC computer. For this case, in order to have a  mostly secure SLab operation, some requirements need to be fullfiled.\n",
    "\n",
    "Note the **red isolation region** shown on the figure. The SLab hardware connects to the PC trough an USB cable. Any equipment can be damaged through a wired connection and the PC is not different. This potential hazard is common to the use of any MCU board like the **Nucleo** ones used typically on SLab or others like the **Arduino** ones. \n",
    "\n",
    "Even the cheaper simpler SLab hardware options are quite secure if you **only** make connections between the hardware board and the test circuit. Just **don't make connections** between the test circuit or the hardware board and the rest of the world. If you do, you are supposed to know the requirements to keep the system safe.\n",
    "\n",
    "The SLab system is neither a multimeter nor an oscilloscope. It does not include the specific protection elements that those instruments usually include. You are not supposed to use it to connect to circuits or devices on the outside world. This is especially true to mains connected equipments. Connecting to battery powered devices is also not intrinsically safe. \n",
    "\n",
    "Note also that a typical low cost SLab system, even if used as indicated, gives a low resistance path from the GND node of the circuit to the mains Ground trough the USB connection in the PC. So it is, effectively a **ground referenced system**.\n",
    "\n",
    "Look at the above drawing and take note that no electrical connection, except the USB cable, shall go out of the red isolated zone region. If you follow this simple rule, using the SLab system should be quite secure. If you don't follow this rule you are on your own.\n",
    "\n",
    "If you use a cheap hardware board, an additional layer of protection can be obtained by using an isolated USB connection if you want to be on the safer side or if you are not sure of your own actions. In order to work properly it is recommended for this connection to be able to provide 300 mA of current although 200 mA will probably be enough. An isolation cable together with a powered hub like in the figure below will probably do.\n",
    "\n",
    "![fig02](images/Basics_01/fig02.png)\n",
    "\n",
    "If you don't want or you cannot use an isolated USB connection, an intermediate solution is to power the hardware board, if it is capable of this option, using an external supply like is shown in the following figure. There will still be a low impedance ground path to the PC, but, as you don't drive the circuit supply from the PC, some risks are reduced.\n",
    "\n",
    "![fig03](images/Basics_01/fig03.png)\n",
    "\n",
    "Either way, there can always be hazards. The more care you take only reduces the probability at which they can happen. That means that the following disclaimer is always needed:\n",
    "\n",
    "<div class=\"alert alert-block alert-danger\">\n",
    "The author of this document takes no responsibility for any damage to you, your properties or equipment due to the use of the SLab system. This is true either if you are following the proper procedures or not.\n",
    "</div>\n",
    "\n",
    "If you do not agree with the above disclaimer just don't keep reading and leave SLab alone."
   ]
  },
  {
   "cell_type": "markdown",
   "metadata": {},
   "source": [
    "## PC side of SLab\n",
    "\n",
    "After the hardware board, the rest of the system is software on a PC. The hardware board communicates with a **slab** Python module or other `slab.*` modules like **slab.dc**, **slab.ac** and so on. Finally, the user, by the way of interactive or scripted commands, instructs the slab modules to perform operations on the test circuit. Both the board firmware and the **slab** modules are provided to you so you don't have to develop them.\n",
    "\n",
    ">Want to set one circuit input to 1.2V?, just type **slab.setVoltage(1,1.2)**\n",
    "\n",
    ">Want to read the voltage of a node?, type **slab.readVoltage(2)**\n",
    "\n",
    ">Want to read all four ADC voltages? **slab.printDC( )**\n",
    "\n",
    ">Want to plot the response of the circuit to a waveform? **slab.wavePlot(…)**\n",
    "\n",
    "SLab is developed as a **Python** module. That means that you can use whatever Python workflow you are familiar with. You can, for instance execute SLab:\n",
    "\n",
    "* From an interactive Python interpreter\n",
    "* From a Jupyter Notebook\n",
    "* From a Python script file\n",
    "* From a stand-alone program written in Python\n",
    "\n",
    "The **slab** module provides commands that interact with the hardware board. It is easy to build upon this functionality by adding more sophisticated functions like DC curves or AC analysis. Adding this functionality to the main **slab** module would make this file too big and less stable. That’s why the **slab** module is complemented by a set of sub modules like **slab.dc**, **slab.ac**, **slab.meas** and **slab.fft**. There is also an easy to use **slab.ez** module that hides most of the SLab internals for a less powerfull but more straightforward path to circuit measurements.\n",
    "\n",
    "Now you can use **dc.curveVV(....)** from the DC module to obtain a Vo(Vi) out circuit curve or **dc.curveVI(....)** to obtain a Io(Vi) circuit curve.\n",
    "In the case of the AC module, you can use, for instance, the **ac.bodeResponse** to draw the bode plot associated to a circuit AC response. Note that, due to hardware and software limitations, the bandwidth and dynamic range won't be too great in most SLab implementations.\n",
    "\n",
    "As all commands are Python functions, you can script any sequence of commands to **automate** whatever measurement you want to perform. Also all the code, both the **board firmware** and the **python module**, is public and open source, you can modify it if you think you could do better or you can also build new modules over the provided ones. The **communication protocol** between the board and the python module is standardized, so you can also use any board you like as long as it features at least **2 DACs** and **4 ADCs**. You would need, however, to develop its firmware.\n",
    "\n",
    "Is it the best solution? Perhaps it won’t be for every user. Using a microcontroller board with no specific instrumentation hardware has its drawbacks. A better solution could be to use a dedicated solution like the **Analog Discovery** or other PC controllable function generator/oscilloscope combo with some Python glue code. But that put you over the 200€ mark. Moreover, learning how to work out the measurements using modest equipment makes you learn a lot about errors and calibration and you never know enough about those topics on any laboratory environment no matter how expensive the equipment is.\n",
    "\n",
    "In addition, having full control on both the board firmware and the Python code gives the maximum compatibility and integration in all elements on the chain from the user interface to the circuit to measure.\n",
    "\n",
    "Finally, I do that because it is fun. \n",
    "\n",
    "**Note about slab modules** \n",
    "\n",
    "In **SLab** versions prior to **1.4** there was no **package** structure for SLab. The different submodules were called **slab_dc**, **slab_ac** and so on...  \n",
    "From version **1.4** the **slab** code uses a **package** structure, so the submodules are accessed ad **slab.dc**, **slab.ac** and so on.  \n",
    "This enables, if needed, to install the **slab** code as a normal python **package**."
   ]
  },
  {
   "cell_type": "markdown",
   "metadata": {},
   "source": [
    "## What SLab is\n",
    "\n",
    "The SLAB system is a project than enables you to develop electronic learning projects in a cheap way. The main goal of the project is to use a cheap microcontroller board to provide, at least, a supply voltage and six analog I/O lines that can be used to interface an experimental circuit under test (CUT). So, the main elements that the SLAB hardware provides are:\n",
    "\n",
    "* A supply voltage that gives a constant Vdd voltage (for instance 3.3V) to power the circuit.\n",
    "\n",
    "\n",
    "* 2 Output lines, associated to two separate Digital to Analog Converters (DAC), can be set to any value between GND and Vdd.\n",
    "\n",
    "\n",
    "* 4 Input lines, associated to four Analog to Digital Converter inputs (ADC), can read any voltage in the circuit if it is between GND and Vdd.\n",
    "\n",
    "But this is the bare minimum. The current recommended SLab setup features 2 DACs, 8 ADCs lines (4 available for AC operation) and 13 digital I/O lines.\n",
    "\n",
    "Inputs and outputs are always **synchronized**, so you can always show the **DAC** and **ADC** values on a coherent time axis. For instance, you can inject a sine wave on **DAC1**, a square wave of different frequency on **DAC2** and see the response of the circuit on four **ADC** nodes having good synchronization between inputs and outputs at each time point.\n",
    "\n",
    "Operation **is always on demand**. You send a command to the board, the board interacts with the circuit, and you get a response from that interaction. Most interaction results can be shown graphically on the PC computer.\n",
    "\n",
    "In SLab you **setup** an experiment, **perform** the measurements, and **interpret** the results. So this is quite different from the typical function generator - oscolloscope combo whre you are continuosuly exciting and mesuring a test circuit."
   ]
  },
  {
   "cell_type": "markdown",
   "metadata": {},
   "source": [
    "## SLab uses Python automation\n",
    "\n",
    "SLab has deep roots on **Python** automation. Every action you can perform with the system can be written down on Python code. That means that it is highly scalable. For instance, from generic **wave response** that is implemented on the board firmware, the Python layer code can obtain the circuit response for several different frequencies and obtain a **Bode plot**, or can also perform a **FFT** and calculate the **harmonic distortion**.\n",
    "\n",
    "You can also design you own Python programs that can perform automatic measurements. If you want to get readings during a very long time following a sequence of predetermined voltage excitation values, it is easy to automate.\n",
    "\n",
    "As all voltages, both inputs and outputs, are just vector objects from the Python point of view, you can use any of the available Python libraries to process them.\n",
    "\n",
    "Moreover, you can also add interactivity in the program that drives the board so that it changes its operation depending on the readings. As the program is developed using high level Python language, it is easier and more flexible to test concept this way than programming a microcontroller board.\n",
    "\n",
    "As **SLab** relies on Python, it also benefits from the [Jupyter](https://jupyter.org/) notebooks\n",
    "\n",
    "![Jupyter](images/Basics_01/jupyter.jpg)\n",
    "\n",
    "You can create a notebook **.ipynb** document that includes **formatted text**, formulas written using $\\LaTeX$, **calculations** performed with **numpy** and **measurements** performed with **SLab**. All in one document.\n",
    "\n",
    "In fact, this document you are reading has been generated as a Jupyter notebook although it does not contain any Python code.\n",
    "\n",
    "The first releases of **SLab** included **PDF** files for documentation and the measurements where performed on the Python interactive console. Since **SLab** version **1.4**, Jupyter notebooks are used both for the documentation and the proposed measurements."
   ]
  },
  {
   "cell_type": "markdown",
   "metadata": {},
   "source": [
    "## What SLab is not\n",
    "\n",
    "SLAB **is not** an **oscilloscope**, a **function generation** or a combo of both. In an oscilloscope or a function generator the instrument is always interacting with the circuit. An oscilloscope shows, in real time, the voltages in a circuit. You setup the scope and, at any time, you can see on its window, a graphical view of the circuit voltages. In a similar way, after you setup a function generator, it continually injects the selected waveform on the circuit.\n",
    "\n",
    "SLab don't work that way. You can instruct the system to read one second worth of data from all four ADC channels, but you cannot get a continuous data stream. You can also generate 100 cycles of a 1kHz sinewave, and at see the circuit voltages during this time, but you cannot generate a continuous sinewave. Not, at least, if you also want to obtain measurements. Moreover, in order to start a new action on the SLab system, the previous one need to have ended. You give an order, wait for the result, examine it, generate a new order, and so on...\n",
    "\n",
    "An useful scope needs enough bandwidth and sampling rate, but also a high enough update rate because you expect it to be real time. In the case of a scope implemented with microcontroller board and a PC, that gives a lot of stress on the communication link and on both the microcontroller and PC code. SLab doesn't pretend to win this war.\n",
    "\n",
    "SLab also **is not a good circuit troubleshooting tool**. Poking at different nodes of the circuit is possible but requires sending a new read command for each node. There are some continuous operation commands but they all operate at very low frequencies.  \n",
    "Due to how the system operates, you only get information on the circuit when you execute a command so it is not a good tool to locate events that happen at unknown times, specially if they are fast. It cannot substitute a scope with a decent update rate.  \n",
    "Moreover, as the typical SLab hardware boards operate at very low voltages and lack don't implement input protection devices, it is not advisable to use the SLab system to trobleshoot any system that is not powered by the SLab system itself.\n",
    "\n",
    "Finally SLab is also a system designed for **low frequencies and sample rates**. The maximum sample rate with current boards and firmwares is close to 80 kHz in the best case. Future firmwares can optimize the system but the sample rate will always be limited to the one associated to the microcontroller used. As an example, the microcontroller in the STM32 Nucleo F303RE board has a maximum sample rate of 5 MHz for 12 bit ADC readings and 64 kBytes of RAM memory. Most low budget scopes are better than that.\n",
    "\n",
    "The performance of the SLab system is below average compared with other instruments, but Python automation makes it a quite scalable and versatile tool.\n",
    "\n",
    "As an example, isn’t it pretty this arbitrary dual waveform generation?\n",
    "\n",
    "![fig04](images/Basics_01/fig04.png)"
   ]
  },
  {
   "cell_type": "markdown",
   "metadata": {},
   "source": [
    "## Next Step\n",
    "\n",
    "That ends this document.  \n",
    "In order to operate on the SLab environment you need a Hardware board. In order to continue reading the documentation, go to the **Boards** folder and open the **\"Firsts Steps\"** document for the board you are using."
   ]
  },
  {
   "cell_type": "markdown",
   "metadata": {},
   "source": [
    "## Document license\n",
    "\n",
    "Copyright  ©  Vicente Jiménez (2018-2019)  \n",
    "This work is licensed under a Creative Common Attribution-ShareAlike 4.0 International license.  \n",
    "This license is available at http://creativecommons.org/licenses/by-sa/4.0/\n",
    "\n",
    "<img  src=\"images/cc_sa.png\" width=\"200\">"
   ]
  },
  {
   "cell_type": "code",
   "execution_count": null,
   "metadata": {},
   "outputs": [],
   "source": []
  },
  {
   "cell_type": "code",
   "execution_count": null,
   "metadata": {},
   "outputs": [],
   "source": []
  }
 ],
 "metadata": {
  "kernelspec": {
   "display_name": "Python 3",
   "language": "python",
   "name": "python3"
  },
  "language_info": {
   "codemirror_mode": {
    "name": "ipython",
    "version": 3
   },
   "file_extension": ".py",
   "mimetype": "text/x-python",
   "name": "python",
   "nbconvert_exporter": "python",
   "pygments_lexer": "ipython3",
   "version": "3.7.1"
  }
 },
 "nbformat": 4,
 "nbformat_minor": 2
}
