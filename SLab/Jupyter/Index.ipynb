{
 "cells": [
  {
   "cell_type": "markdown",
   "metadata": {},
   "source": [
    "<img style=\"float: right;\"  src=\"Basics/images/LogoP.jpg\" width=\"200\">\n",
    "\n",
    "# SLab Main Index\n",
    "\n",
    "This is the **main index** of the SLab documentation   \n",
    "\n",
    "**SLab Release version 2.0 (23/5/2019)**\n",
    "\n",
    "File Version 1.2 (23/5/2019)  \n",
    "License information is at the end of the document\n",
    "\n",
    "---"
   ]
  },
  {
   "cell_type": "markdown",
   "metadata": {},
   "source": [
    "The current SLab distribution uses **Jupyter notebooks** both for operating the SLab system and for documentation. \n",
    "\n",
    "Most notebooks are interactive and combine **Markdown** text with **Python** code.\n",
    "\n",
    "This document is the root of all SLab documents.\n",
    "\n",
    "If you have any problem when using the **SLab System** you can check if is is a problem described in the [Problems and Solutions](Reference/Problems%20and%20Solutions.ipynb) document in the [Reference folder](Reference).\n",
    "\n",
    "If you have a new SLab installation and you want to check it, you can run the [SLab Test Notebook](Tests/SLab%20Test.ipynb)."
   ]
  },
  {
   "cell_type": "markdown",
   "metadata": {},
   "source": [
    "---\n",
    "\n",
    "## Basics I\n",
    "\n",
    "The **Basics** folder contains the documents that give the first steps on the **SLab system**.  \n",
    "It is divided on two sections. The first section contains an introduction to the system.\n",
    "\n",
    "[01 - Introduction and Requirements](Basics/Basics%2001%20-%20Introduction%20and%20Requirements.ipynb)  \n",
    "[02 - First Steps](Basics/Basics%2002%20-%20Firsts%20Steps.ipynb)\n",
    "\n",
    "Continue with the **Board Document** when you complete those documents."
   ]
  },
  {
   "cell_type": "markdown",
   "metadata": {},
   "source": [
    "---\n",
    "\n",
    "## Board Documents\n",
    "\n",
    "The **Boards** folder contains one folder for each SLab officially supported board.\n",
    "\n",
    "For instance, for the **Nucleo F303RE Zero** board you get:\n",
    " \n",
    "[01 - The F303RE Board](Boards/Nucleo_F303RE_Zero/Board%2001%20-%20The%20F303RE%20Board.ipynb)  \n",
    "[02 - SLab Setup](Boards/Nucleo_F303RE_Zero/Board%2002%20-%20SLab%20Setup.ipynb)  \n",
    "[03 - DAC2 Improvement](Boards/Nucleo_F303RE_Zero/Board%2003%20-%20DAC2%20Improvement.ipynb) : This one is optional, but reading it won't harm you\n",
    "\n",
    "For other boards, just locate their files inside their folder:\n",
    "\n",
    "[Board Folder](Boards)\n",
    "\n",
    "At the time of this writting, only the **F303RE** board documentation is included.\n",
    "\n",
    "After you have read the documents for your **Hardware Board**, you can continue with the rest of the **basics** section."
   ]
  },
  {
   "cell_type": "markdown",
   "metadata": {},
   "source": [
    "---\n",
    "\n",
    "## Basics II\n",
    "\n",
    "The second section of the basics folder deal with the **Board Calibration**, the **Components** needed to work on the tutorials and the generic **SLab Workflow** we will follow in most notebooks.\n",
    " \n",
    "Don't skip the **Calibration** unless you are sure that your **Hardware Board** has been calibrated.\n",
    "\n",
    "[03 - Board Calibration](Basics/Basics%2003%20-%20Board%20Calibration.ipynb)  \n",
    "[04 - The SLab Kit](Basics/Basics%2004%20-%20The%20SLab%20Kit.ipynb)  \n",
    "[05 - The SLab Workflow](Basics/Basics%2005%20-%20The%20SLab%20Workflow.ipynb)  \n",
    "\n",
    "After reading those documents, you can start with the central section of the SLab documentation."
   ]
  },
  {
   "cell_type": "markdown",
   "metadata": {},
   "source": [
    "---\n",
    "\n",
    "## Tutorials\n",
    "\n",
    "The **tutorials** compose the biggest element of the **SLab project**. The are intended to learn about electronics through hands-on experiments.\n",
    "\n",
    "Due to its size, it has been divided in several folders that are associated to different kinds of devices or circuits:\n",
    "\n",
    "### Linear DC\n",
    "\n",
    "Tutorials associated to basic **linear circuit theory** for **DC** circuits that cannot hold **state information**.\n",
    "\n",
    "[01 - Circuit Laws](Linear%20DC/Linear%20DC%2001%20-%20Circuit%20Laws.ipynb)   \n",
    "[02 - The Humble Resistor](Linear%20DC/Linear%20DC%2002%20-%20The%20Humble%20Resistor.ipynb)   \n",
    "[03 - Linearity and Superposition](Linear%20DC/Linear%20DC%2003%20-%20Linearity%20and%20Superposition.ipynb)  \n",
    "[04 - Thevenin, Norton and stateless circuits](Linear%20DC/Linear%20DC%2004%20-%20Thevenin%2C%20Norton%20and%20stateless%20circuits.ipynb)  \n",
    "[05 - Modelling devices with Controlled Sources](Linear%20DC/Linear%20DC%2005%20%20-%20Modelling%20devices%20with%20Controlled%20Sources.ipynb)\n",
    "\n",
    "### Linear AC\n",
    "\n",
    "Tutorials associated to basic **linear circuit theory** for **AC** circuits that can hold **state information**.  \n",
    "Those tutorials contain more mathematical concepts than the **DC** ones.\n",
    "\n",
    "[01 - The Capacitor](Linear%20AC/Linear%20AC%2001%20-%20The%20Capacitor.ipynb)  \n",
    "[02 - Impulse Response](Linear%20AC/Linear%20AC%2002%20-%20Impulse%20response.ipynb)  \n",
    "[03 - Travel to the S world](Linear%20AC/Linear%20AC%2003%20-%20Travel%20to%20the%20S%20world.ipynb#)  \n",
    "[04 - The frequency Response](Linear%20AC/Linear%20AC%2004%20-%20The%20frequency%20response.ipynb)\n",
    "\n",
    "### Linear Opamp\n",
    "\n",
    "Tutorials associated to the use of operational amplifiers in **linear mode**\n",
    "\n",
    "[01 - Open Loop](Linear%20Opamp/Linear%20Opamp%2001%20-%20Open%20Loop.ipynb)  \n",
    "[02 - Follow me](Linear%20Opamp/Linear%20Opamp%2002%20-%20Follow%20me.ipynb)  \n",
    "[03 - Follower in Laplace domain](Linear%20Opamp/Linear%20Opamp%2003%20-%20Follower%20in%20Laplace%20domain.ipynb)  \n",
    "[04 - Non Inverting Amplifier](Linear%20Opamp/Linear%20Opamp%2004%20-%20Non%20Inverting%20Amplifier.ipynb)  \n",
    "[05 - Inverting Amplifier](Linear%20Opamp/Linear%20Opamp%2005%20-%20Inverting%20Amplifier.ipynb)  \n",
    "[06 - Inverting Mixer](Linear%20Opamp/Linear%20Opamp%2006%20-%20Inverting%20Mixer.ipynb)  \n",
    "\n",
    "### Diode\n",
    "\n",
    "Tutorials associated to the use of silicon **diodes**  \n",
    "Note that there are two versions of the document number 4  \n",
    "\n",
    "[01 - DC Curve](Diode/Diode%2001%20-%20The%20diode%20dc%20curve.ipynb)  \n",
    "[02 - Diode at large signal](Diode/Diode%2002%20-%20Diode%20at%20large%20signal.ipynb)  \n",
    "[03 - Diode at small signal](Diode/Diode%2003%20-%20Diode%20at%20small%20signal.ipynb)  \n",
    "[04A - Rectifiers (Bridge version)](Diode/Diode%2004A%20-%20Rectifiers%20(Bridge%20Version).ipynb)  \n",
    "[04B - Rectifiers (Schottky version)](Diode/Diode%2004B%20-%20Rectifiers%20(Schottky%20Version).ipynb)  \n",
    "\n",
    "### BJT Transistor\n",
    "\n",
    "Tutorials associated to the use of silicon **BJT** transistors\n",
    "\n",
    "[01 - The Strange Device](BJT/BJT%2001%20-%20The%20Strange%20Device.ipynb)  \n",
    "[02 - BJT at large signal](BJT/BJT%2002%20-%20BJT%20at%20large%20signal.ipynb)  \n",
    "\n",
    "More **SLab tutorials** will be added as time pases.  "
   ]
  },
  {
   "cell_type": "markdown",
   "metadata": {},
   "source": [
    "---\n",
    "\n",
    "## Reference\n",
    "\n",
    "The **reference** folder contains the documentation for all SLab **modules** and supported **boards**. \n",
    "\n",
    "[SLab Reference](Reference/SLab%20Reference.ipynb) : Reference for the **main** SLab commands \n",
    "\n",
    "[DC Module Reference](Reference/DC%20Module%20Reference.ipynb) : Reference for the SLab **DC** module  \n",
    "[AC Module Reference](Reference/AC%20Module%20Reference.ipynb) : Reference for the SLab **AC** module  \n",
    "[Meas Module Reference](Reference/Meas%20Module%20Reference.ipynb) : Reference for the SLab **Meas** module  \n",
    "[FFT Module Reference](Reference/FFT%20Module%20Reference.ipynb) : Reference for the SLab **FFT** module  \n",
    "\n",
    "There is an additional **EZ** module. It was designed to ease the usage of the SLab system using the console. As the recommended method to use the system is on Jupyter notebooks, this module is now deprecated and is only included for backward compatibility.\n",
    "\n",
    "[Firmware Reference](Reference/Firmware%20Reference.ipynb) : Reference for the board **Firmware**\n",
    "\n",
    "[Markdown Examples](Reference/Markdown.ipynb) : Some [Markdown](https://en.wikipedia.org/wiki/Markdown) examples  "
   ]
  },
  {
   "cell_type": "markdown",
   "metadata": {},
   "source": [
    "---\n",
    "\n",
    "## PDF Documentation\n",
    "\n",
    "Most documentation about the SLab system is provided in **Jupyter** notebooks. Some documents, however, are provided as PDF documents as they are intended to be printed or to be updated with form contents\n",
    "\n",
    "[SLab Cheat Sheet](PDF/SLab%20F303%20Zero%20Cheat%20Sheet.pdf) : SLab **F303 Zero** Cheat Sheet\n",
    "\n",
    "[SLab Calibration Sheet](PDF/SLab%20Calibration%20Sheet.pdf) : Document to keep a calibration history record\n",
    "\n",
    "There are other PDF documents about the **SLab Installation** on the **SLab/Setup Docs** folder. Those documents, however, are not accesible from this index notebook."
   ]
  },
  {
   "cell_type": "markdown",
   "metadata": {},
   "source": [
    "---\n",
    "\n",
    "## Demo\n",
    "\n",
    "The **demo** folder contains notebooks that related the SLab system, or specific circuits, not contained in the main tutorials or references.  \n",
    "\n",
    "[Arbitrary Waves](Demo/Arbitrary%20Waves.ipynb) : Generation of arbitray waves demo  \n",
    "[DAC Analysis](Demo/DAC%20Analysis.ipynb) : Analizes the operation of the **303 Zero** board DACs  \n",
    "[Test BJT](Demo/Test%20BJT.ipynb) : Code to test BJT transistors  \n",
    "[Test MOS](Demo/Test%20MOS.ipynb) : Code to test MOS transistors  \n",
    "[Test Logic](Demo/Test%20Logic.ipynb) : Code to test logic circuits  "
   ]
  },
  {
   "cell_type": "markdown",
   "metadata": {},
   "source": [
    "---\n",
    "\n",
    "## Sandbox\n",
    "\n",
    "The [Sandbox](Sandbox/Sandbox.ipynb) is a notebook designed for fast tests using the **SLab System**.  \n",
    "It contains the code cells needed to import the SLab modules and connect with the board.\n",
    "\n",
    "You can add code cells in this notebook to interact with the **SLab system**  \n",
    "The notebook is intended to play with the SLab system when what you are doing doesn't require to create an especific notebook."
   ]
  },
  {
   "cell_type": "markdown",
   "metadata": {},
   "source": [
    "---\n",
    "\n",
    "## User\n",
    "\n",
    "The **User** folder is provided empty \n",
    "\n",
    "You can add all your personal **private** notebooks inside [this folder](User)\n",
    "\n",
    "They can be generated from an empty notebook or they can be obtained by copying the provided notebooks. Also you can cut and paste contents from other notebooks."
   ]
  },
  {
   "cell_type": "markdown",
   "metadata": {},
   "source": [
    "---\n",
    "\n",
    "## Extra\n",
    "\n",
    "The **Extra** folder is, like the **User** folder, provided almost empty \n",
    "\n",
    "In [this folder](Extra) you can add donwloadable notebooks provided as **zip** files. Those files should contain a folder with both a notebook document and any required additional files. Using this standarized format it is easy to share notebooks with other SLab users.\n",
    "\n",
    "If you plan to develop a notebook that will be shared later, it is better to develop it inside a specific folder inside the **Extra** folder than developing it inside the **User** folder. That way, sharing will be eased.\n",
    "\n",
    "Inside [this folder](Extra) you can find a **Extra Example.zip** file to give an example of this kind of notebooks. To test it, just uncompress it inside the **Extra** folder. Note that all referenced images or files should be inside the notebook folder."
   ]
  },
  {
   "cell_type": "markdown",
   "metadata": {},
   "source": [
    "---\n",
    "\n",
    "## Test\n",
    "\n",
    "The **Test** folder contains **test** notebooks for the **SLab system**\n",
    "\n",
    "These notebooks were created to test the operation of the **SLab system**. They can come handy to test the SLab environment or check new board firmwares. You can also use them to learn more about how **SLab** operates, although they have not been generated with that objective in mind.\n",
    "\n",
    "[SLab Test](Tests/SLab%20Test.ipynb) : Test of the SLab environment\n",
    "\n",
    "[Firmware Test](Tests/Firmware%20Test.ipynb) : Tests that the board firmware can execute all commands\n",
    "\n",
    "[Test Wave Plot](Tests/Test%20Wave%20Plot.ipynb) : Test waveResponse and wavePlot functionality\n",
    "\n",
    "[Test Wave Play](Tests/Test%20Wave%20Play.ipynb) : Test wavePlay functionality  "
   ]
  },
  {
   "cell_type": "markdown",
   "metadata": {},
   "source": [
    "---\n",
    "\n",
    "## Files\n",
    "\n",
    "[Files](Files) is the folder where **SLab** generated files will be stored. In particular it holds.\n",
    "\n",
    "**Last_COM.dat**  \n",
    "This file containts the **COM Port Name** of the last successfully opened connection to a **Hardware Board** when using the **connect** command without any argument, **SLab** will first try to connect with the board using the last port that was used to connect to the board. If this port fails, then **SLab** repeats the COM autodection algorithm.\n",
    "\n",
    "**Calibration Data**  \n",
    "Calibration data for the **Hardware Board** is stored in the [Calibrations Folder](Files/Calibrations). This folder contains four calibration files:\n",
    "\n",
    "* **Cal_ADC.dat** : ADC Calibration Curves\n",
    "* **Cal_DAC.dat** : DAC Calibration Curves\n",
    "* **Cal_Vdd.dat** : Information about the board $V_{DD}$ and $V_{REF}$\n",
    "* **Cal_Log.txt** : Log information about the calibrations\n",
    "\n",
    "If you have more than one board, the [Calibrations Folder](Files/Calibrations) shall contain a **folder** for each **Hardware Board** so you can keep separate calibration files for each one.\n",
    "\n",
    "The [Files](Files) folder can also hold any files generated by the **Python** code. Storing all the files in this folder prevent cluttering the folders where **Jupyter Notebooks** reside. In order to store a file on this folder you just need to use the `../Files/` prefix for all filenames.    \n",
    "In the case of **Extra** notebooks, as they have one additional folder level, use the `../../Files/` prefix or, better yet, a specific **Files** folder inside the **Extra** folder for the notebook."
   ]
  },
  {
   "cell_type": "markdown",
   "metadata": {},
   "source": [
    "## Document license\n",
    "\n",
    "Copyright  ©  Vicente Jiménez (2018-2019)  \n",
    "This work is licensed under a Creative Common Attribution-ShareAlike 4.0 International license.  \n",
    "This license is available at http://creativecommons.org/licenses/by-sa/4.0/\n",
    "\n",
    "<img  src=\"Basics/images/cc_sa.png\" width=\"200\">"
   ]
  },
  {
   "cell_type": "code",
   "execution_count": null,
   "metadata": {},
   "outputs": [],
   "source": []
  }
 ],
 "metadata": {
  "kernelspec": {
   "display_name": "Python 3",
   "language": "python",
   "name": "python3"
  },
  "language_info": {
   "codemirror_mode": {
    "name": "ipython",
    "version": 3
   },
   "file_extension": ".py",
   "mimetype": "text/x-python",
   "name": "python",
   "nbconvert_exporter": "python",
   "pygments_lexer": "ipython3",
   "version": "3.7.1"
  }
 },
 "nbformat": 4,
 "nbformat_minor": 2
}
