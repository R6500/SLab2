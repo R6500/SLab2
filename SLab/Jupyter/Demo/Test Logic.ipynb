{
 "cells": [
  {
   "cell_type": "markdown",
   "metadata": {},
   "source": [
    "<img style=\"float: right;\"  src=\"images/LogoP.jpg\" width=\"200\">\n",
    "\n",
    "# Demo : Test Logic\n",
    "\n",
    "Version 1.0 (18/6/2018)\n",
    "\n",
    "This **notebook** can be used to test logic gates\n",
    "\n",
    "\n",
    "## Import and connection"
   ]
  },
  {
   "cell_type": "code",
   "execution_count": null,
   "metadata": {},
   "outputs": [],
   "source": [
    "# Import the main SLab module\n",
    "import slab"
   ]
  },
  {
   "cell_type": "code",
   "execution_count": null,
   "metadata": {},
   "outputs": [],
   "source": [
    "boardFolder = ''                                # Board folder (leave '' if you use only one board)\n",
    "slab.setFilePrefix('../Files/')                 # Set File Prefix\n",
    "slab.setCalPrefix('Calibrations/'+boardFolder)  # Set Calibration Prefix         \n",
    "slab.connect()                                  # Connect to the board"
   ]
  },
  {
   "cell_type": "code",
   "execution_count": null,
   "metadata": {},
   "outputs": [],
   "source": [
    "# Get the Vref value\n",
    "vref = slab.gdata['vref']"
   ]
  },
  {
   "cell_type": "markdown",
   "metadata": {},
   "source": [
    "Execute the following **code cell** if you want the plots to be interactive."
   ]
  },
  {
   "cell_type": "code",
   "execution_count": null,
   "metadata": {},
   "outputs": [],
   "source": [
    "# Make plots interactive\n",
    "slab.interactivePlots()\n",
    "%matplotlib notebook"
   ]
  },
  {
   "cell_type": "markdown",
   "metadata": {},
   "source": [
    "## Common code\n",
    "\n",
    "Execute the following **code** cell to load the common functions needed for this notebook"
   ]
  },
  {
   "cell_type": "code",
   "execution_count": null,
   "metadata": {},
   "outputs": [],
   "source": [
    "# Convert from voltage to level\n",
    "def v2l(value):\n",
    "    if value>0.8*vref: return '1';\n",
    "    if value<0.2*vref: return '0';\n",
    "    if value>0.4*vref and value<0.6*vref: return 'z'\n",
    "    raise slab.SlabEx(\"Invalid logic level\")"
   ]
  },
  {
   "cell_type": "markdown",
   "metadata": {},
   "source": [
    "<a id='system'></a>\n",
    "\n",
    "<div class=\"alert alert-block alert-info\">\n",
    "<BR>\n",
    "<font size=\"6\"> One Input Gate Tests </font> \n",
    "<BR>\n",
    "</div>"
   ]
  },
  {
   "cell_type": "markdown",
   "metadata": {},
   "source": [
    "Tests a one input gate\n",
    "You can use this code to test inverters or buffers, for instance.\n",
    "\n",
    "* Connect **input** to **DAC1**\n",
    "* Connect **output** to **ADC1**\n",
    "* Connect a $220k\\Omega$ resistor between **output** and $V_{DD}$\n",
    "* Connect a $220k\\Omega$ resistor between **output** and $GND$\n",
    "\n",
    "The two $220k\\Omega$ enables us to detect the **High Impedance** state."
   ]
  },
  {
   "cell_type": "markdown",
   "metadata": {},
   "source": [
    "## Truth Table Test\n",
    "\n",
    "Check the truth table of the gate"
   ]
  },
  {
   "cell_type": "code",
   "execution_count": null,
   "metadata": {},
   "outputs": [],
   "source": [
    "# Response for two inputs\n",
    "slab.setVoltage(1,0)\n",
    "L0 = v2l(slab.readVoltage(1))\n",
    "slab.setVoltage(1,vref)\n",
    "L1 = v2l(slab.readVoltage(1))\n",
    "table = L0 + L1\n",
    "\n",
    "# Print Truth table\n",
    "print('Truth Table')\n",
    "print()\n",
    "print(' I |','O')\n",
    "print(' --+--')\n",
    "print(' 0 |',L0)\n",
    "print(' 1 |',L1)\n",
    "print()\n",
    "if table == '01': print('Identified as Buffer')\n",
    "if table == '10': print('Identified as Inverter')\n",
    "if table == '0z': print('Identified as Buffer Open Drain')\n",
    "if table == 'z0': print('Identified as Inverter Open Drain')"
   ]
  },
  {
   "cell_type": "markdown",
   "metadata": {},
   "source": [
    "## DC Curve\n",
    "\n",
    "The DC curve test checks the static transfer characteristic  \n",
    "The sweep is performed in both direction so you can check the gate **hysteresis**  \n",
    "A **half Vdd** level corresponds to **Z** state"
   ]
  },
  {
   "cell_type": "code",
   "execution_count": null,
   "metadata": {},
   "outputs": [],
   "source": [
    "# DC Tests\n",
    "dataF = slab.dcSweep(1,0,3,0.1)\n",
    "dataR = slab.dcSweep(1,3,0,-0.1)\n",
    "slab.plotnn([dataF[0],dataR[0]],[dataF[1],dataR[1]]\n",
    "            ,'DC Gate Test','Vi (V)','Vo (V)'\n",
    "            ,['Forward','Reverse'])"
   ]
  },
  {
   "cell_type": "markdown",
   "metadata": {},
   "source": [
    "# AC Test\n",
    "\n",
    "The AC test checks the response vs time  \n",
    "A 5kHz square wave is introduced on the input  \n",
    "A **half Vdd** level corresponds to **Z** state"
   ]
  },
  {
   "cell_type": "code",
   "execution_count": null,
   "metadata": {},
   "outputs": [],
   "source": [
    "# 10 point square wave at 5kHz\n",
    "slab.waveSquare(0,3,10) \n",
    "slab.setWaveFrequency(5000)\n",
    "\n",
    "# Measure and plot\n",
    "slab.tranStore(100,1)\n",
    "slab.wavePlot()"
   ]
  },
  {
   "cell_type": "markdown",
   "metadata": {},
   "source": [
    "<a id='system'></a>\n",
    "\n",
    "<div class=\"alert alert-block alert-info\">\n",
    "<BR>\n",
    "<font size=\"6\"> Several Input Gate Tests </font> \n",
    "<BR>\n",
    "</div>"
   ]
  },
  {
   "cell_type": "markdown",
   "metadata": {},
   "source": [
    "Tests a several input gate\n",
    "\n",
    "* Connect each **input** fom 0 to the **DIO** line with the same number\n",
    "* Connect **output** to **ADC1**\n",
    "* Connect a $220k\\Omega$ resistor between **output** and $V_{DD}$\n",
    "* Connect a $220k\\Omega$ resistor between **output** and $GND$\n",
    "\n",
    "The two $220k\\Omega$ enables us to detect the **High Impedance** state.\n",
    "\n",
    "Before excuting the specific tests, change and execute the following **code cell** to set the number of inputs of the gate. The code also initializes the **DIO** lines."
   ]
  },
  {
   "cell_type": "code",
   "execution_count": null,
   "metadata": {},
   "outputs": [],
   "source": [
    "# Set number of inputs\n",
    "N = 2\n",
    "\n",
    "# Initialize DIOs\n",
    "for i in range(0,N):\n",
    "    slab.dioMode(i,'output')\n",
    "\n",
    "# Print information\n",
    "print('The test Gate has',N,'inputs, from 0 to',N-1)"
   ]
  },
  {
   "cell_type": "markdown",
   "metadata": {},
   "source": [
    "## Truth Table Test\n",
    "\n",
    "Check the truth table of the gate  \n",
    "The table is optimized to show **don't care** 'x's on the inputs"
   ]
  },
  {
   "cell_type": "code",
   "execution_count": null,
   "metadata": {},
   "outputs": [],
   "source": [
    "# Number of combinations\n",
    "ncomb = 2**N\n",
    "\n",
    "# Initialize results\n",
    "resList = []\n",
    "\n",
    "# Test all cases\n",
    "for case in range(0,ncomb):\n",
    "    thisCase = []\n",
    "    for bit in range(0,N):\n",
    "        if case & (1<<bit):\n",
    "            slab.dioWrite(bit,1)\n",
    "            thisCase.append('1')\n",
    "        else:\n",
    "            slab.dioWrite(bit,0)\n",
    "            thisCase.append('0')\n",
    "    res = v2l(slab.readVoltage(1))\n",
    "    thisCase.append(res)\n",
    "    resList.append(thisCase) \n",
    "    \n",
    "# Optimize function\n",
    "def optimizationPass():\n",
    "    global resList    \n",
    "    lenlist = len(resList)\n",
    "    if lenlist<2: return\n",
    "    for i in range(0,lenlist-1):\n",
    "        for bit in range(0,N):\n",
    "            case = resList[i].copy() \n",
    "            if case[bit] == '0':\n",
    "                case[bit] = '1'\n",
    "                for j in range(i+1,lenlist):\n",
    "                    if case == resList[j]:\n",
    "                        resList[i][bit] = 'x'\n",
    "                        del resList[j]\n",
    "                        return 1\n",
    "            if case[bit] == '1':\n",
    "                case[bit] = '0'\n",
    "                for j in range(i+1,lenlist):\n",
    "                    if case == resList[j]:\n",
    "                        resList[i][bit] = 'x'\n",
    "                        del resList[j]\n",
    "                        return 1   \n",
    "    return 0\n",
    "\n",
    "# Perform optimization\n",
    "res = 1\n",
    "while res:\n",
    "    res=optimizationPass()\n",
    "                    \n",
    "# Print Truth table\n",
    "print('Truth Table')\n",
    "print('Inputs ordered 0..',N-1,sep='')\n",
    "print()\n",
    "for case in resList:\n",
    "    for i in range(0,N):\n",
    "        print(case[i],end='')\n",
    "    print(' : ',case[-1],sep='')    "
   ]
  },
  {
   "cell_type": "markdown",
   "metadata": {},
   "source": [
    "## Document license\n",
    "\n",
    "Copyright  ©  Vicente Jiménez (2018)  \n",
    "This work is licensed under a Creative Common Attribution-ShareAlike 4.0 International license.  \n",
    "This license is available at http://creativecommons.org/licenses/by-sa/4.0/\n",
    "\n",
    "<img  src=\"images/cc_sa.png\" width=\"200\">"
   ]
  },
  {
   "cell_type": "code",
   "execution_count": null,
   "metadata": {},
   "outputs": [],
   "source": []
  }
 ],
 "metadata": {
  "kernelspec": {
   "display_name": "Python 3",
   "language": "python",
   "name": "python3"
  },
  "language_info": {
   "codemirror_mode": {
    "name": "ipython",
    "version": 3
   },
   "file_extension": ".py",
   "mimetype": "text/x-python",
   "name": "python",
   "nbconvert_exporter": "python",
   "pygments_lexer": "ipython3",
   "version": "3.7.1"
  }
 },
 "nbformat": 4,
 "nbformat_minor": 2
}
