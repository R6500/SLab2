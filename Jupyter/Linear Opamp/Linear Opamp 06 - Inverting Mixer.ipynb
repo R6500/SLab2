{
 "cells": [
  {
   "cell_type": "markdown",
   "metadata": {},
   "source": [
    "<img style=\"float: right;\"  src=\"images/LogoP.jpg\" width=\"200\">\n",
    "\n",
    "# Linear Opamp 06   \n",
    "# Inverting Mixer\n",
    "\n",
    "<BR>\n",
    "This project is a spin-off of the Inverting Amplifier project. We will see how to convert it to a signal mixer.\n",
    "\n",
    "Version 1.2 (13/3/2019)  \n",
    "License information is at the end of the document\n",
    "\n",
    "---\n",
    "\n",
    "**Bill Of Materials (BOM):**\n",
    "\n",
    "* 1x Dual Opamp MCP6002\n",
    "* Resistors: 2x $1 k\\Omega$, $2,2k\\Omega$ and 2x $33k\\Omega$\n",
    "* Capacitors: 2x $10\\mu F$ (Electrolytic)\n",
    "\n",
    "---"
   ]
  },
  {
   "cell_type": "markdown",
   "metadata": {},
   "source": [
    "## The inverting mixer topology\n",
    "\n",
    "The inverting mixer is based on the inverting amplifier. It is recommended to develop the work on this topology to understand this mixer. \n",
    "\n",
    "You can recall the inverting amplifier topology:\n",
    "\n",
    "![Fig 01](images/L_OA_06/fig01.png)\n",
    "\n",
    "As we remember, the **virtual shortcircuit** at the opamp inputs make $V_{(-)}$ always be at the ground zero voltage.\n",
    "We can add one voltage source and one resistance to the circuit.\n",
    "\n",
    "![Fig 02](images/L_OA_06/fig02.png)\n",
    "\n",
    "In order to analyze this circuit we can see that, as $V_{(-)}$ voltage is zero, the current on resistors $R_2$ and $R_3$ is independent on each other. Also, in order to comply with the [Kirchhoff Current Law](https://en.wikipedia.org/wiki/Kirchhoff%27s_circuit_laws), current at $R_1$ shall be the sum of currents at $R_2$ and $R_3$.\n",
    "\n",
    "---\n",
    "\n",
    "**CALCULATION TASK**  \n",
    "Obtain the output voltage $V_O$ as function of $V_{i1}$, $V_{i2}$, $R1$, $R2$ and $R3$ for the above circuit using the virtual short circuit model.   \n",
    "\n",
    "---\n",
    "    \n",
    "Observe that the output will include two contributions from the two inputs. Each contribution will have a negative gain that depends on a resistor ratio. If all resistors are equal:\n",
    "\n",
    "$$R_1 = R_2 = R_3$$\n",
    "\n",
    "The output voltage simplifies to:\n",
    "\n",
    "$$V_o = -V_{i1}-V_{i2} = -(V_{i1}+V_{i2})$$\n",
    "\n",
    "So we have mixed both input signals with the same weight. Using different R2 and R3 values we could mix the signals with different weights.\n",
    "\n",
    "Remember that we cannot generate negative signals in the SLab system, so adding a reference voltage is in order:\n",
    "\n",
    "![Fig 03](images/L_OA_06/fig03.png)\n",
    "\n",
    "Remember also that it is recommended to have equal $R_5$ and $R_4$ values so that the reference voltage is at half the supply range.\n",
    "\n",
    "We will choose the following resistor values:\n",
    "\n",
    "$$R1 = 2.2 k\\Omega \\qquad R2 = R3 = 1 k\\Omega \\qquad R4 = R5 = 33 k\\Omega$$\n",
    "\n",
    "---\n",
    "\n",
    "**CALCULATION TASK**  \n",
    "Obtain the reference voltage $V_r$       \n",
    "Obtain the output voltage $V_O$ as function of $V_{i1}$, $V_{i2}$ and $V_r$ for the proposed resistor values.  \n",
    "\n",
    "---"
   ]
  },
  {
   "cell_type": "markdown",
   "metadata": {},
   "source": [
    "## Measuring the circuit\n",
    "\n",
    "Now we can measure the circuit. \n",
    "\n",
    "---\n",
    "\n",
    "![Practical Icon](images/pt.png)\n",
    "\n",
    "---\n",
    "\n",
    "First, we import the **SLab** module and **connect** to the board."
   ]
  },
  {
   "cell_type": "code",
   "execution_count": null,
   "metadata": {},
   "outputs": [],
   "source": [
    "# Import modules\n",
    "import slab"
   ]
  },
  {
   "cell_type": "code",
   "execution_count": null,
   "metadata": {},
   "outputs": [],
   "source": [
    "boardFolder = ''                                # Board folder (leave '' if you use only one board)\n",
    "slab.setFilePrefix('../Files/')                 # Set File Prefix\n",
    "slab.setCalPrefix('Calibrations/'+boardFolder)  # Set Calibration Prefix         \n",
    "slab.connect()                                  # Connect to the board"
   ]
  },
  {
   "cell_type": "markdown",
   "metadata": {},
   "source": [
    "It is always a good idea to check the board calibration.   \n",
    "The following code cell checks the calibration of the **DACs** and the first four **ADCs**"
   ]
  },
  {
   "cell_type": "code",
   "execution_count": null,
   "metadata": {},
   "outputs": [],
   "source": [
    "# Check the calibration\n",
    "slab.checkCalibration(pause=False,na=4)"
   ]
  },
  {
   "cell_type": "markdown",
   "metadata": {},
   "source": [
    "Now we must build the circuit.\n",
    "\n",
    "---\n",
    "\n",
    "**BUILD TASK**  \n",
    "Mount the proposed circuit  \n",
    "\n",
    "---\n",
    "\n",
    "The inputs are referred to the reference voltage $V_r$. So we will center our signals at $Vdd/2$. We can make SLab work out the values for us. Or we can also obtain the value from the circuit itself, as Vr is connected to **ADC2**"
   ]
  },
  {
   "cell_type": "code",
   "execution_count": null,
   "metadata": {},
   "outputs": [],
   "source": [
    "vr = slab.readVoltage(2)\n",
    "print('Vr','=',vr,'V')"
   ]
  },
  {
   "cell_type": "markdown",
   "metadata": {},
   "source": [
    "Now we can load two different signals for the **DACs**. We will first generate a $0.2 V$ amplitude $100 Hz$ signal on **DAC1** using 200 points.\n",
    "\n",
    "The wave on **DAC2** will be locked to the same sample frequency as the one in **DAC1**. In order to generate a signal on **DAC2** that has four times the frequency of the one in **DAC1**, we only need to provide $1/4$ of the data points. We will also select a $0.1 V$ amplitude for this signal.\n",
    "The second parameter loads the wave in the wavetable associated to DAC."
   ]
  },
  {
   "cell_type": "code",
   "execution_count": null,
   "metadata": {},
   "outputs": [],
   "source": [
    "# Set a 100Hz sine wave on DAC1\n",
    "slab.waveSine(vr-0.2,vr+0.2,200)\n",
    "slab.setWaveFrequency(100)\n",
    "\n",
    "# Set a 400Hz sine wave on DAC2\n",
    "slab.waveSine(vr-0.1,vr+0.1,50,second=True)"
   ]
  },
  {
   "cell_type": "markdown",
   "metadata": {},
   "source": [
    "We can now perform a reading of ADCs 1 to 3 for 2 waves (400 points) of the signal on **DAC1**. We use set the optional **dual** parameter of the waveResponse command to **True** so that not only the main wavetable is used on **DAC1** buy also the secondary wavetable is used on **DAC2**."
   ]
  },
  {
   "cell_type": "code",
   "execution_count": null,
   "metadata": {},
   "outputs": [],
   "source": [
    "# Store two primary waves for four ADC channels\n",
    "slab.tranStore(400,4)\n",
    "\n",
    "# Perform the measurement\n",
    "t,wo,wr,w2,w1 = slab.waveResponse(dual=True)\n",
    "\n",
    "# Plot the results\n",
    "slab.plot1n(t,[w1,w2,wo],\"Inverting Mixer\"\n",
    "             ,\"time (s)\",\"Signals (V)\",[\"v1\",\"v2\",\"vo\"])"
   ]
  },
  {
   "cell_type": "markdown",
   "metadata": {},
   "source": [
    "Observe that the circuit performs the expected mixing of the signal. Observe also that there is a negative gain that is greater than one.\n",
    "\n",
    "Mixing signals is tricky because we need enough dynamic range for all the signals we are mixing. If $v_1$ has $0.2 V$ amplitude, $v_2$ has $0.1 V$ amplitude and the amplifier gain is -2.2, you can work out the difference of the maximum and minimum voltages of the output signal.\n",
    "\n",
    "You are not guaranteed to reach this limit as it depends on the alignment of peaks of the input signals. So, this is a upper bound of the output signal range.\n",
    "\n",
    "You can obtain the current peak to peak of the output signal in order to compare its range with the calculated limit:"
   ]
  },
  {
   "cell_type": "code",
   "execution_count": null,
   "metadata": {},
   "outputs": [],
   "source": [
    "# Obtain peak to peak output voltage\n",
    "slab.peak2peak(vo)"
   ]
  },
  {
   "cell_type": "markdown",
   "metadata": {},
   "source": [
    "Perform the requested measurements   \n",
    "Check the peak to peak value of the output signal and compare it to the calculated maximum limit.    "
   ]
  },
  {
   "cell_type": "markdown",
   "metadata": {},
   "source": [
    "If we wanted to add more inputs to the circuit we can add as many inputs as we want by adding new resistors connected to the new inputs and the $V_(-)$ node."
   ]
  },
  {
   "cell_type": "markdown",
   "metadata": {},
   "source": [
    "## DC Blocking\n",
    "\n",
    "In the previous circuit, both inputs $V_{i1}$ and $V_{i2}$ were referred to the DC voltage on $V_r$. That enables us to mix both signals up to DC frequencies but need us to guarantee that the DC level of the signals is close enough to $V_r$ to prevent saturation of the $V_o$ output.\n",
    "\n",
    "For small gains it is easy to have a DC level close enough to $V_r$ but it is more difficult at higher gains. \n",
    "\n",
    "The following circuit adds capacitors $C_2$ and $C_3$ in series with resistors $R_2$ and $R_3$. They block the DC level of the inputs make because a zero at zero frequency is added at both inputs.\n",
    "\n",
    "![Fig 04](images/L_OA_06/fig04.png)\n",
    "\n",
    "In the same way as in the Inverting Amplifier we will have a low frequency cutoff at the frequency defined by a pole. As we have two inputs $V_{i1}$ and $V_{i2}$, we have one pole for each input: $p_{L1}$ for $V_{i1}$ and $p_{L2}$ for $V_{i2}$. If both resistors and capacitors are equal, both poles will be also the same.\n",
    "\n",
    "$$p_{L1} = \\frac{1}{R_2 C_2}\n",
    "\\qquad p_{L1} = \\frac{1}{R_3 C_3}\n",
    "\\qquad poles \\; in \\; \\frac{rad}{s}$$\n",
    "\n",
    "We propose to keep the $R_2$ and $R_3$ values and use $C_2 = C_3 = 10 \\mu F$.\n",
    "\n",
    "---\n",
    "\n",
    "**CALCULATION TASK**  \n",
    "Obtain the pole positions, in Hz, for the selected component values.     \n",
    "\n",
    "---"
   ]
  },
  {
   "cell_type": "markdown",
   "metadata": {},
   "source": [
    "Capacitors $C_2$ and $C_3$ are probably **electrolytic**, in that case, you should not reverse its bias voltage. That means using input voltages with DC value below $V_r$.\n",
    "\n",
    "You can set DACs to zero before mounting the circuit to guarantee you don't reverse polarize the capacitors:"
   ]
  },
  {
   "cell_type": "code",
   "execution_count": null,
   "metadata": {},
   "outputs": [],
   "source": [
    "# Set DACs to zero\n",
    "slab.zero()"
   ]
  },
  {
   "cell_type": "markdown",
   "metadata": {},
   "source": [
    "---\n",
    "\n",
    "**BUILD TASK**  \n",
    "Mount the proposed circuit  \n",
    "\n",
    "---"
   ]
  },
  {
   "cell_type": "markdown",
   "metadata": {},
   "source": [
    "We can now test the circuit using the same signals but preventing reverse polarize the caps."
   ]
  },
  {
   "cell_type": "code",
   "execution_count": null,
   "metadata": {},
   "outputs": [],
   "source": [
    "# Set primery and secondary waves\n",
    "slab.waveSine(vr-0.6,vr-0.2,200)\n",
    "slab.waveSine(vr-0.4,vr-0.2,50,second=True)\n",
    "\n",
    "# Measure and plot\n",
    "slab.wavePlot(dual=True)"
   ]
  },
  {
   "cell_type": "markdown",
   "metadata": {},
   "source": [
    "The output shall be independent on the DC value of the input signals as we have the DC blocking capacitors. We can check that:"
   ]
  },
  {
   "cell_type": "code",
   "execution_count": null,
   "metadata": {},
   "outputs": [],
   "source": [
    "# Change of input wave positions\n",
    "slab.waveSine(1-0.2,1+0.2,200)\n",
    "slab.waveSine(0.5-0.1,0.5+0.1,50,second=True)\n",
    "slab.wavePlot(dual=True)"
   ]
  },
  {
   "cell_type": "markdown",
   "metadata": {},
   "source": [
    "Remember that we have a low frequency zero, if we use a frequency too low, we will attenuate the signals."
   ]
  },
  {
   "cell_type": "code",
   "execution_count": null,
   "metadata": {},
   "outputs": [],
   "source": [
    "# Measurement for 10Hz primary wave\n",
    "slab.setWaveFrequency(10)\n",
    "slab.wavePlot(dual=True)"
   ]
  },
  {
   "cell_type": "markdown",
   "metadata": {},
   "source": [
    "Attenuation will further increase if we lower more the frequency:"
   ]
  },
  {
   "cell_type": "code",
   "execution_count": null,
   "metadata": {},
   "outputs": [],
   "source": [
    "# Measurement for 2Hz primary wave\n",
    "slab.setWaveFrequency(2)\n",
    "slab.wavePlot(dual=True)"
   ]
  },
  {
   "cell_type": "markdown",
   "metadata": {},
   "source": [
    "Observe that, as signals generated by **DAC1** and **DAC2** have different frequencies, the attenuation is different for each signal contribution."
   ]
  },
  {
   "cell_type": "markdown",
   "metadata": {},
   "source": [
    "## Last comments\n",
    "\n",
    "This was a short project. We have started from the **Inverting Amplifier** topology and we have built a **mixer** around it.  \n",
    "\n",
    "It is quite usual to build new circuits on the concepts or previous more simple circuits."
   ]
  },
  {
   "cell_type": "markdown",
   "metadata": {},
   "source": [
    "## References\n",
    "\n",
    "[SLab Python References](../Reference)  \n",
    "Those are the reference documents for the SLab Python modules. They describe the commands that can be carried out after importing each module. \n",
    "They should be available in the SLab/Doc folder.\n",
    "\n",
    "[TinyCad](https://sourceforge.net/projects/tinycad/)  \n",
    "Circuit images on this document have been drawn using the free software TinyCad  \n",
    "\n",
    "[SciPy](https://www.scipy.org/)  \n",
    "All the functions plots have been generated using the Matplotlib SciPy package."
   ]
  },
  {
   "cell_type": "markdown",
   "metadata": {},
   "source": [
    "## Document license\n",
    "\n",
    "Copyright  ©  Vicente Jiménez (2018-2019)  \n",
    "This work is licensed under a Creative Common Attribution-ShareAlike 4.0 International license.  \n",
    "This license is available at http://creativecommons.org/licenses/by-sa/4.0/\n",
    "\n",
    "<img  src=\"images/cc_sa.png\" width=\"200\">"
   ]
  },
  {
   "cell_type": "code",
   "execution_count": null,
   "metadata": {},
   "outputs": [],
   "source": []
  }
 ],
 "metadata": {
  "kernelspec": {
   "display_name": "Python 3",
   "language": "python",
   "name": "python3"
  },
  "language_info": {
   "codemirror_mode": {
    "name": "ipython",
    "version": 3
   },
   "file_extension": ".py",
   "mimetype": "text/x-python",
   "name": "python",
   "nbconvert_exporter": "python",
   "pygments_lexer": "ipython3",
   "version": "3.7.1"
  }
 },
 "nbformat": 4,
 "nbformat_minor": 2
}
