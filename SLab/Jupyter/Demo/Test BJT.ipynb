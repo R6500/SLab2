{
 "cells": [
  {
   "cell_type": "markdown",
   "metadata": {},
   "source": [
    "<img style=\"float: right;\"  src=\"images/LogoP.jpg\" width=\"200\">\n",
    "\n",
    "# Demo : Test  BJT Transistor\n",
    "\n",
    "Version 1.0 (20/6/2018)\n",
    "\n",
    "This **notebook** can be used to test **BJT** transistors\n",
    "\n",
    "\n",
    "## Import and connection"
   ]
  },
  {
   "cell_type": "code",
   "execution_count": null,
   "metadata": {},
   "outputs": [],
   "source": [
    "# Import numpy\n",
    "import numpy as np\n",
    "\n",
    "# Import the main SLab module\n",
    "import slab"
   ]
  },
  {
   "cell_type": "code",
   "execution_count": null,
   "metadata": {},
   "outputs": [],
   "source": [
    "boardFolder = ''                                # Board folder (leave '' if you use only one board)\n",
    "slab.setFilePrefix('../Files/')                 # Set File Prefix\n",
    "slab.setCalPrefix('Calibrations/'+boardFolder)  # Set Calibration Prefix         \n",
    "slab.connect()                                  # Connect to the board"
   ]
  },
  {
   "cell_type": "code",
   "execution_count": null,
   "metadata": {},
   "outputs": [],
   "source": [
    "# Get the Vref value\n",
    "vref = slab.gdata['vref']\n",
    "vdd  = slab.gdata['vdd']"
   ]
  },
  {
   "cell_type": "markdown",
   "metadata": {},
   "source": [
    "Execute the following **code cell** if you want the plots to be interactive."
   ]
  },
  {
   "cell_type": "code",
   "execution_count": null,
   "metadata": {},
   "outputs": [],
   "source": [
    "# Make plots interactive\n",
    "slab.interactivePlots()\n",
    "%matplotlib notebook"
   ]
  },
  {
   "cell_type": "markdown",
   "metadata": {},
   "source": [
    "## Basic NPN connections\n",
    "\n",
    "The following figure shows the basic connections to perform measurements on a **NPN** Device Under Test (DUT).\n",
    "\n",
    "![Base NPN](images/Test_BJT/NPN_Base.png)\n",
    "\n",
    "The NPN bipolar transistor with the base connected to **DAC1** enables us to have higher currents than the ones available on the **DAC** outputs. Note that we are using a **BC547** transistor that is limited to a maxim $100 mA$ collector current. This is ok because you cannot drain much more current from a typical **SLab hardware board**. If you want to test a transistor at higher currents, you will need to use a more complex setup.\n",
    "\n",
    "The $R_b$ resistor is used to measure the **base** current. It will be selected for the maximum current we want to measure.\n",
    "\n",
    "The $R_c$ resistor is used to measure the **collector** current. It will be selected for the maximum current we want to measure.\n",
    "\n",
    "The **bias resistor** $R_{bias}$ is included to provide a proper bias to the NPN emitter follower when the **DUT** is draining no current. This resistor has no efect at all on the measurements so it can have any reasonable value as long as it is much bigger than $R_c$. In general $100 k\\Omega$ is a good value."
   ]
  },
  {
   "cell_type": "markdown",
   "metadata": {},
   "source": [
    "## NPN Gummel and Beta plots\n",
    "\n",
    "The [Gummel](https://en.wikipedia.org/wiki/Gummel_plot) plot shows the **base** and **collector** current as function of the $V_{be}$ voltage.\n",
    "\n",
    "The same script also generates a **Beta** plot that shows $\\beta(I_c)$\n",
    "\n",
    "The $R_c$ resistor must be set so that we don't reach saturation at the minimum current.\n",
    "\n",
    "$\\qquad R_c = \\frac{V_{DD}-V_{be}-V_{CE\\:Sat\\: Max}}{I_{c\\: Max}}$\n",
    "\n",
    "We will set the base current using **DAC2**. The $R_b$ resistor relates to the base current as:\n",
    "\n",
    "$\\qquad R_b = \\frac{V_{DAC2\\: Max}-V_{be}}{I_{b\\:Max}}$\n",
    "\n",
    "To execute the following **code cell** you need to setup the following parameters in the first lines:\n",
    "\n",
    "* Value of $R_b$ used\n",
    "* Value of $R_c$ used\n",
    "* Maximum **DUT** saturation voltage\n",
    "* Minimum **DAC2** voltage\n",
    "* Maximum **DAC2** voltage\n",
    "* **DAC2** voltage step\n",
    "\n",
    "The maximum **DUT** saturation voltage is an upper bound to the saturation voltage. It is used to detect that we should stop the measurement because we are out of the **active** region. If you don't know this value, set an upper limit."
   ]
  },
  {
   "cell_type": "code",
   "execution_count": null,
   "metadata": {},
   "outputs": [],
   "source": [
    "# Parameters to set\n",
    "Rc = 15          # [Ohm]\n",
    "Rb = 1500        # [Ohm]\n",
    "Vcesat = 1.0     # [V]\n",
    "Vdac2min = 0.6   # [V]\n",
    "Vdac2max = 2.5   # [V]\n",
    "Vdac2inc = 0.02  # [V]\n",
    "\n",
    "# V range\n",
    "vdacR = np.arange(Vdac2min,Vdac2max,Vdac2inc)\n",
    "\n",
    "# Initialize output\n",
    "vbeR = []\n",
    "ibR  = []\n",
    "icR  = []\n",
    "\n",
    "print('Measurement starts...')\n",
    "\n",
    "# Perform measurement\n",
    "slab.setVoltage(1,vref-0.1)\n",
    "for vdac in vdacR:\n",
    "    slab.setVoltage(2,vdac)           # Set DAC2 voltage\n",
    "    slab.wait(0.1)\n",
    "    vb = slab.readVoltage(2)          # Read base voltage\n",
    "    vdac = slab.readVoltage(4)        # Read DAC2 voltage\n",
    "    vrp = slab.readVoltage(1)         # Obtain Rc high node voltage\n",
    "    vrn = slab.readVoltage(3)         # Obtain Rc low node voltage\n",
    "    ib = (vdac-vb)/Rb                 # Calculate Ib (A)\n",
    "    ic = (vrp-vrn)/Rc                 # Calculate Id (A)\n",
    "    # Detect saturation\n",
    "    if (vrn)<Vcesat:\n",
    "        print('Reached saturation: Stop measuring')\n",
    "        break\n",
    "    vbeR.append(vb)    \n",
    "    ibR.append(ib)        \n",
    "    icR.append(ic)\n",
    "\n",
    "# Set DACs to zero\n",
    "slab.zero()    \n",
    "    \n",
    "# Show gummel plot\n",
    "slab.plot1n(vbeR,[ibR,icR],'NPN Gummel Plot','Vbe (V)','Ib, Ic (A)',logy='True')\n",
    "\n",
    "# Show beta plot\n",
    "icR = np.array(icR)  # Convert to operate\n",
    "ibR = np.array(ibR)\n",
    "beta = icR/ibR\n",
    "slab.plot11(icR*1000.0,beta,'Beta Plot','Ic (mA)','Beta')\n"
   ]
  },
  {
   "cell_type": "markdown",
   "metadata": {},
   "source": [
    "## NPN Collector Current Curves\n",
    "\n",
    "Draw the $I_c(V_{ce})$ curves for several $I_b$ values\n",
    "\n",
    "This time we are not restricted to guarantee being in the **active** region, so the $R_c$ resistor just sets the current range you will get.\n",
    "\n",
    "$\\qquad I_c = \\frac{V_{DD}-V_{be}-V_{CE}}{R_d}$\n",
    "\n",
    "The current will be bounded by the limit at $V_{CE} = 0V$ give by:\n",
    "\n",
    "$\\qquad I_{c\\: Max} = \\frac{V_{DD}-V_{be}}{R_c}$\n",
    "\n",
    "So, you can set Rd to be:\n",
    "\n",
    "$\\qquad R_c = \\frac{V_{DD}-V_{be}}{I_{c\\: Max}}$\n",
    "\n",
    "There is a problem with the setup we are usuing because we are setting the **DAC2** voltage, not the base current. That means that base current will increase inside the saturation region. The code compensates this effect by scaling the **collector** current using information from the **base** current. You can eliminate this compensation by changing a flag at the start of the code.\n",
    "\n",
    "To run the **code below** you need to set, on the first lines:\n",
    "\n",
    "* Value of $R_b$ used\n",
    "* Value of $R_c$ used\n",
    "* Minimum **DAC2** voltage\n",
    "* Maximum **DAC2** voltage\n",
    "* **DAC2** voltage step\n",
    "\n",
    "You can also change the **DAC1** sweep that sets the $V_{DS}$ voltage. That way you can change the resolution, for instance."
   ]
  },
  {
   "cell_type": "code",
   "execution_count": null,
   "metadata": {
    "scrolled": false
   },
   "outputs": [],
   "source": [
    "# Parameters to set\n",
    "Rc = 100        # [Ohm]\n",
    "Rb = 100000      # [Ohm]\n",
    "Vdac2min = 0.5   # [V]\n",
    "Vdac2max = 2.6   # [V]\n",
    "Vdac2inc = 1.0   # [V]\n",
    "\n",
    "# Flag to use base current compensation\n",
    "compensate_base_current = True\n",
    "\n",
    "# Vdac1 sweep\n",
    "Vdac1_min  = 0.5         # [V] \n",
    "Vdac1_max  = vref - 0.1  # [V]\n",
    "Vdac1_step = 0.05         # [V]\n",
    "\n",
    "# Set nreadings\n",
    "slab.setDCreadings(400)\n",
    "\n",
    "# Vdac2 range\n",
    "vdac2R = np.arange(Vdac2min,Vdac2max,Vdac2inc)\n",
    "\n",
    "# Initialize output lists\n",
    "Vce_list  = []\n",
    "Ib_list   = []\n",
    "Ic_list   = []\n",
    "labels    = []\n",
    "for vdac2 in vdac2R:\n",
    "    # Set Vdac2\n",
    "    slab.setVoltage(2,vdac2)\n",
    "    # Perform dcSweep\n",
    "    data = slab.dcSweep(1,Vdac1_min,Vdac1_max,Vdac1_step)\n",
    "    # Calculate Ib current (in mA)\n",
    "    ib = 1000.0*(data[4]-data[2])/Rb\n",
    "    # Calculate Ic current (in mA)\n",
    "    ic = 1000.0*(data[1]-data[3])/Rc\n",
    "    # Correct for non constant base current\n",
    "    if compensate_base_current:\n",
    "        ic = ic * ib[-1] / ib\n",
    "    # Set label for this curve\n",
    "    ib_ua = int(ib[-1]*10000.0)/10.0\n",
    "    label = 'ib = ' + str(ib_ua) + ' uA'\n",
    "    labels.append(label)\n",
    "    # Add to list\n",
    "    Vce_list.append(data[3])\n",
    "    Ic_list.append(ic)\n",
    "    Ib_list.append(ib)\n",
    "    \n",
    "# Set DACs to zero    \n",
    "slab.zero()    \n",
    "    \n",
    "# Draw all curves\n",
    "slab.plotnn(Vce_list,Ic_list,'Collector Current at several base currents'\n",
    "                    ,'Vce (V)','Ic (mA)',labels)"
   ]
  },
  {
   "cell_type": "markdown",
   "metadata": {},
   "source": [
    "You can use the following cell to disconnect from the board"
   ]
  },
  {
   "cell_type": "code",
   "execution_count": null,
   "metadata": {},
   "outputs": [],
   "source": [
    "# Disconnect from the board\n",
    "slab.disconnect()"
   ]
  },
  {
   "cell_type": "markdown",
   "metadata": {},
   "source": [
    "## Document license\n",
    "\n",
    "Copyright  ©  Vicente Jiménez (2018)  \n",
    "This work is licensed under a Creative Common Attribution-ShareAlike 4.0 International license.  \n",
    "This license is available at http://creativecommons.org/licenses/by-sa/4.0/\n",
    "\n",
    "<img  src=\"images/cc_sa.png\" width=\"200\">"
   ]
  },
  {
   "cell_type": "code",
   "execution_count": null,
   "metadata": {},
   "outputs": [],
   "source": []
  }
 ],
 "metadata": {
  "kernelspec": {
   "display_name": "Python 3",
   "language": "python",
   "name": "python3"
  },
  "language_info": {
   "codemirror_mode": {
    "name": "ipython",
    "version": 3
   },
   "file_extension": ".py",
   "mimetype": "text/x-python",
   "name": "python",
   "nbconvert_exporter": "python",
   "pygments_lexer": "ipython3",
   "version": "3.7.1"
  }
 },
 "nbformat": 4,
 "nbformat_minor": 2
}
