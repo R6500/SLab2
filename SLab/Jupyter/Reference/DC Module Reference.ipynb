{
 "cells": [
  {
   "cell_type": "markdown",
   "metadata": {},
   "source": [
    "<img style=\"float: right;\"  src=\"images/LogoP.jpg\" width=\"200\">\n",
    "\n",
    "# DC Module Reference\n",
    "\n",
    "This a Jupyter Notebook Reference document for the SLab projects\n",
    "\n",
    "Version 1.0 (4/5/2018) License information is at the end of the document\n",
    "\n",
    "---"
   ]
  },
  {
   "cell_type": "markdown",
   "metadata": {},
   "source": [
    "This **DC Module Reference Notebook** describes the **DC Module** commands.  \n",
    "Those are the commands contained in the **dc.py** source file."
   ]
  },
  {
   "cell_type": "markdown",
   "metadata": {},
   "source": [
    "\n",
    "## Import and board connection\n",
    "\n",
    "In order to use the DC commands, we first need to import the DC module. This is an interactive módule, so, in order to execute the code examples, you should import it executing the cell below.\n",
    "\n",
    "We will also import the main **SLab** module as it includes some needed commands."
   ]
  },
  {
   "cell_type": "code",
   "execution_count": null,
   "metadata": {},
   "outputs": [],
   "source": [
    "# Import the main SLab module\n",
    "import slab\n",
    "\n",
    "# Import the DC module\n",
    "import slab.dc as dc"
   ]
  },
  {
   "cell_type": "markdown",
   "metadata": {},
   "source": [
    "If you want to try commands that interact with the **hardware board** using the examples in this document, you will need to connect to the board. You can use the following code cell for that. Note, however, that if you are using this document as reference while working on another SLab document, you can only have one connection, at the same time, with the board."
   ]
  },
  {
   "cell_type": "code",
   "execution_count": null,
   "metadata": {},
   "outputs": [],
   "source": [
    "boardFolder = ''                                # Board folder (leave '' if you use only one board)\n",
    "slab.setFilePrefix('../Files/')                 # Set File Prefix\n",
    "slab.setCalPrefix('Calibrations/'+boardFolder)  # Set Calibration Prefix         \n",
    "slab.connect()                                  # Connect to the board"
   ]
  },
  {
   "cell_type": "markdown",
   "metadata": {},
   "source": [
    "When you finish interacting with the board you can disconnect from it using the following code."
   ]
  },
  {
   "cell_type": "code",
   "execution_count": null,
   "metadata": {},
   "outputs": [],
   "source": [
    "# Disconnect from the board\n",
    "slab.disconnect()"
   ]
  },
  {
   "cell_type": "markdown",
   "metadata": {},
   "source": [
    "# Command Index\n",
    "\n",
    "The DC SLab module contains several commands that ease the DC measurements. The following list contains all the commands in the DC module. You can use the hiperlinks to jump to one of the commands.\n",
    "\n",
    "###  Two Terminal Device I-V Plots\n",
    "\n",
    "[curveVI](#curveVI) : Positive I(V) curve  \n",
    "[curveVIref](#curveVIref) : Positive and Negative I(V) curve  \n",
    "[curveVIbridge](#curveVIbridge) : Bridge mode Positive and Negative I(V) curve  \n",
    "\n",
    "\n",
    "###  Voltage Input-Output Plots\n",
    "\n",
    "[curveVV](#curveVV) : Basic Vo(vi) curve  \n",
    "[curveVVref](#curveVVref) Vo(vi) curve with reference voltage  \n",
    "[curveVVbridge](#curveVVbridge) Bridge mode Vo(Vi) curve  \n",
    "[hystVVcurve](#hystVVcurve) Hysteresis Vo(Vi) curve  \n",
    "\n",
    "### Current Output Transfer Plots\n",
    "\n",
    "[transferCurveVI](#transferCurveVI) : Transfer curve with input voltage and output current  \n",
    "[transferCurveII](#transferCurveII) : Transfer curve with input and output currents  \n",
    "\n",
    "Previous **SLab** versions had also **device curve** functions. Those are currently removed from the **DC** module. Their functionality is now in notebooks contained in the **Demo** folder."
   ]
  },
  {
   "cell_type": "code",
   "execution_count": null,
   "metadata": {},
   "outputs": [],
   "source": [
    "# Disconnect from the board\n",
    "slab.disconnect()"
   ]
  },
  {
   "cell_type": "markdown",
   "metadata": {},
   "source": [
    "<a id='system'></a>\n",
    "\n",
    "<div class=\"alert alert-block alert-info\">\n",
    "<BR>\n",
    "<font size=\"8\"> Two Terminal Device I-V Plots </font> \n",
    "<BR>\n",
    "</div>"
   ]
  },
  {
   "cell_type": "markdown",
   "metadata": {},
   "source": [
    "Commands on this section obtain the I-V characteristics of a two terminal component.\n",
    "\n",
    "![IV Base](images/dc/iv_base.png)\n",
    "\n",
    "A two terminal device can usually be characterized in DC by its I-V characteristic. That is the measurement of the device current for each possible voltage at its terminals.\n",
    "\n",
    "The three commands curveVI, curveVIref and curveVIbridge are useful to obtain the I(V) DC curve of a two terminal device under test (DUT) in different scenarios."
   ]
  },
  {
   "cell_type": "markdown",
   "metadata": {},
   "source": [
    "<a id='curveVI'></a>\n",
    "\n",
    "## curveVI\n",
    "\n",
    "Perform a I(V) curve for a two terminal component\n",
    "\n",
    ">**curveVI(v1,v2,vi,r,wt,returnData)**  \n",
    ">Required parameters:   \n",
    ">$\\quad$ v1 : Initial voltage of DAC1 (in Volt)  \n",
    ">$\\quad$ v2 : End of range (in Volt)  \n",
    ">Optional parameters:   \n",
    ">$\\quad$ vi : Step (defaults to 0.1V)  \n",
    ">$\\quad$ r  : Resistor value in kohms (defaults to 1k)  \n",
    ">$\\quad$ wt : Waiting time between steps (defaults to 0.1s)  \n",
    ">$\\quad$ returnData : Enable return of plot data (Defaults to False)  \n",
    ">Returns plot data if enabled (see also setPlotReturnData)   \n",
    "\n",
    "This command measures the current &I_D$ against voltage $V_D$ curve of a two terminal device under test (DUT) for positive voltages. In order to perform the measurement, the negative terminal of the device shall be connected to **GND** and the positive terminal to **ADC2**. A resistor shall also be connected between the **DAC1** output and **ADC1** input and the positive terminal of the DUT as shown in the following figure:\n",
    "\n",
    "![curveVI](images/dc/curveVI.png)\n",
    "\n",
    "The command will set **DAC1** voltage between **v1** and **v2** with **vi** step increments. If **vi** is omitted, it defaults to 0.1 V. A wait of **wt** seconds is included between each new **DAC1** value and the measurement on **ADC1** and **ADC2**. If **wt** is omitted it defaults to 0.1s.\n",
    "When the measurement ends, **DAC1** voltage is set to zero to minimize power consumption.\n",
    "\n",
    "From the measurements, current at the **DUT** is computed and the $I_D(V_D)$ curve is drawn\n",
    "\n",
    "$\\qquad V_D = V_{ADC1} \\qquad I_D = \\frac{V_{ADC1}-V_{ADC2}}{R}$\n",
    "\n",
    "Note that we use **ADC1** connected to **DAC1** output. In theory we could obtain $I_D$ from $V_{DAC1}$ and $V_{ADC2}$ not needing the **ADC1** connection. In practice it is a good idea to obtain voltage values for the same kind of device (ADC in this case) if there is the possibility to substract them when they are nearly equal. In our case, using two ADCs give a better current measurement around zero than using only one ADC and the set DAC value. \n",
    "Moreover, you are not guaranteed to really have the set value at the DAC output so, specially at the end ranges of the DAC. Using an ADC guarantees that you know the voltage at the node.\n",
    "\n",
    "Note also that we don't set the **DUT** input voltage range with the **v1** and **v2** parameters. Those parameters set the voltage range at the resistor input, the more current the device consumes, the less device voltage range we get. It is tempting to use a low value resistor to increase the voltage range, but there are two problems using this approach:\n",
    "\n",
    "* Setting a low value resistor gives a small $V_{ADC1} - V_{ADC2}$ drop on the resistor. That limits the accuracy of the current measurement.\n",
    "\n",
    "* Resistor **R** limits the current at the device. In order to guarantee that the device is not damaged and that the buffering circuit doesn't reach its compliance limits, it is recommended to limit the maximum current. We can calculate the limit, for the worst case as:\n",
    "\n",
    "$\\quad I_{DUT\\;MAX} = \\frac{V_{DAC1\\;MAX}}{R} = \\frac{v2}{R}$\n",
    "\n",
    "You need to ensure that **DAC1** buffer circuit can provide the $I_D$ max current.\n",
    "\n",
    "The command only works for positive $V_D$ voltages. In order to obtain I(V) curves that include negative voltages use the [curveVIref](#curveVIref) or [curveVIbridge](#curveVIbridge) instead.\n",
    "\n",
    "If the optional parameter **returnData** is **True** or **setPlotReturnData** was called previously with a **True** argument, the command return a two element tuple with numpy arrays of:\n",
    "\n",
    "* $V_D$ values\n",
    "* $I_D$ values"
   ]
  },
  {
   "cell_type": "markdown",
   "metadata": {},
   "source": [
    "---\n",
    "\n",
    "**Example**  \n",
    "Measure the forward curve of a 1N4148 diode.\n",
    "\n",
    "---\n",
    "\n",
    "We will connect the diode as **DUT** implementing the following circuit:\n",
    "\n",
    "![curveVI Example](images/dc/curveVI_example.png)\n",
    "\n",
    "The following **code cell** will generate the I(V) curve. We sweep **DAC1** voltage between $0V$ and $3.2V$ and use the default values for **vi**, **r** and **wt**.\n",
    "\n",
    "By using a $1k\\Omega$ resistor we have limited the current on the diode to a maximum of $3.2mA$. In practice, as voltage on the diode increases with current, the maximum current is $2.5mA$. Observe also, that the drop on **r** limits the measured VDUT voltage to less than $0.7V$."
   ]
  },
  {
   "cell_type": "code",
   "execution_count": null,
   "metadata": {},
   "outputs": [],
   "source": [
    "# curveVI example\n",
    "# 1N4148 diode curve\n",
    "\n",
    "dc.curveVI(0.0,3.2)"
   ]
  },
  {
   "cell_type": "markdown",
   "metadata": {},
   "source": [
    "<a id='curveVIref'></a>\n",
    "\n",
    "## curveVIref\n",
    "\n",
    "Plots I(V) Device Curve with reference voltage\n",
    "\n",
    ">**curveVIref(v1,v2,vi,r,vr,wt,returnData)**  \n",
    ">Required parameters:   \n",
    ">$\\quad$ v1 : Initial value of DAC1 (in Volt)  \n",
    ">$\\quad$ v2 : End of range (in Volt)  \n",
    ">Optional parameters:   \n",
    ">$\\quad$ vi : Step (defaults to 0.1V)  \n",
    ">$\\quad$ r  : Resistor value in kohms (defaults to 1k)  \n",
    ">$\\quad$ vr : Reference voltage (defaults to Vdd/2)  \n",
    ">$\\quad$ wt : Waiting time between steps (defaults to 0.1s)  \n",
    ">$\\quad$ returnData : Enable return of plot data (Defaults to False)  \n",
    ">Returns plot data if enabled (see also setPlotReturnData)  \n",
    "\n",
    "This command measures the current $I_D$ against voltage $V_D$ curve of a two terminal device under test (DUT).  \n",
    "In order to perform the measurement, the negative terminal of the device shall be connected to the central point of two equal **r** value resistors connected to Vdd and GND and to **ADC2**.  \n",
    "**DAC1** and **ADC1** shall be connected to the positive terminal of the **DUT**.   \n",
    "The following figure shows the circuit connections:  \n",
    "\n",
    "![curveVIref](images/dc/curveVIref.png)\n",
    "\n",
    "By connecting the negative terminal of the **DUT** as shown, negative voltages and currents can be measured. As the total voltage range has not changed compared to the [curveVI](#curveVI) command, the measurement of negative voltages reduces the positive voltage range.\n",
    "\n",
    "The command will set **DAC1** voltage between **v1** and **v2** with **vi** step increments. If **vi** is omitted, it defaults to $0.1 V$. A wait of **wt** seconds is included between each new **DAC1** value and the measurement on **ADC1** and **ADC2**. If **wt** is omitted it defaults to $0.1s$.\n",
    "When the measurement ends, **DAC1** voltage is set to **Vdd/2** to minimize power consumption.\n",
    "\n",
    "From the measurements, voltage and current at the **DUT** is computed and the $I_D(V_D)$ curve is drawn.\n",
    "\n",
    "$\\qquad V_D = V_{ADC1} - V_{ADC2} \\qquad I_D = 2 \\frac{V_{ADC2}-V_{DD}/2}{R}$\n",
    "\n",
    "Results obtained by using this command depend on both resistors having the same **r** value. If this condition is not met, an error in the current value will be shown on the curve.\n",
    "\n",
    "As in the [curveVI](#curveVI) command, **r** needs to be chosen value both to obtain good current accuracy and to limit the current in the **DUT**. In this case, also, the circuit always consumes current as the two resistors are always connected between $V_{DD}$ and $GND$. Default current consumption of the circuit, when $I_D$ is zero is:\n",
    "\n",
    "$\\qquad I_{Base} = \\frac{V_{DD}}{2R}$\n",
    "\n",
    "Current trough the **DUT** is bounded by:\n",
    "\n",
    "$\\qquad |I_D|_{MAX} = \\frac{V_{DD}}{R}$\n",
    "\n",
    "You need to ensure that **DAC1** buffer circuit can provide this current.\n",
    "\n",
    "The command requires that both resistors are equal and that the **V_{DD}** value is known. If not, current won’t show as zero for zero voltage. In order to increment the precision of the measurement you can provide the reference voltage using the optional **vr**parameter. In that case, the current is calculated as:\n",
    "\n",
    "$\\qquad I_D = 2\\frac{V_{ADC2}-V_r}{R}$\n",
    "\n",
    "In order to obtain this Vr voltage you just need to measure the voltage at **ADC2** after disconnecting **DAC1** from the circuit.\n",
    "\n",
    "If parameter **returnData** is **True** or **setPlotReturnData** was called with a **True** parameter, the command return a two element tuple with numpy arrays of:\n",
    "\n",
    "* $V_D$ values\n",
    "* $I_D$ values\n"
   ]
  },
  {
   "cell_type": "markdown",
   "metadata": {},
   "source": [
    "---\n",
    "\n",
    "**Example**  \n",
    "Measure the I(V) curve of two antiparallel 1N4148 diodes.\n",
    "\n",
    "---\n",
    "\n",
    "We will set the pair of diodes as the **DUT** and implement the following circuit:\n",
    "\n",
    "![curveVIref Example](images/dc/curveVIref_example.png)\n",
    "\n",
    "The following **code cell** will generate the I(V) curve. We sweep **DAC1** voltage between $0V$ and $3.2V$ and use the default values for **vi**, **r** and **wt**.\n",
    "\n",
    "If current is no exactly 0 at 0 voltage. That could probably be due to using two not exactly equal $1k\\Omega$ resistors. In order to increase the current measurement precision, the real reference voltage can be measured and be indicated as the optional **vr** parameter.\n",
    "\n",
    "Current is limited to $3.2mA$ due to the use of $1k\\Omega$ resistors. The voltage drop on the diodes limits the maximum current below $2mA$."
   ]
  },
  {
   "cell_type": "code",
   "execution_count": null,
   "metadata": {},
   "outputs": [],
   "source": [
    "# curveVIref example\n",
    "# Two 1N4148 in antiparallel curve\n",
    "\n",
    "dc.curveVIref(0.0,3.2)"
   ]
  },
  {
   "cell_type": "markdown",
   "metadata": {},
   "source": [
    "<a id='curveVIbridge'></a>\n",
    "\n",
    "## curveVIbridge\n",
    "\n",
    "Plots I(V) Device Curve in bridge configuration\n",
    "\n",
    ">**curveVIbridge(v1max,v2max,vi=0.1,vmin,r,wt,returnData)**  \n",
    ">Required parameters:   \n",
    ">$\\quad$ v1max : Max voltage at DAC 1 (in Volt)  \n",
    ">$\\quad$ v2max : Max voltage at DAC 2 (in Volt)  \n",
    ">Optional parameters:   \n",
    ">$\\quad$ vi : Step (defaults to 0.1V)  \n",
    ">$\\quad$ vmin : Min DAC voltage (Defaults to 0 V)  \n",
    ">$\\quad$ r  : Resistor value in kohms (defaults to 1k)  \n",
    ">$\\quad$ vr : Reference voltage (defaults to Vdd/2)  \n",
    ">$\\quad$ wt : Waiting time between steps (defaults to 0.1s)  \n",
    ">$\\quad$ returnData : Enable return of plot data (Defaults to False)  \n",
    ">Returns plot data if enabled (see also setPlotReturnData)  \n",
    "\n",
    "The previous [curveVIref](#curveVIref) command enables us to obtain the $I(V)$ curve of a two terminal device including negative voltages at expense of the positive voltage range. By using a **bridge configuration**, this command enables us to measure the negative voltage range of a device without compromising the positive range. In order to perform the measurement, the negative terminal of the device shall be connected to **DAC2** and **ADC3** and the positive terminal to **ADC2**. A resistor shall also be connected between the **DAC1** output and **ADC1** input and the positive terminal of the **DUT** as shown in the following figure:\n",
    "\n",
    "![curveVIbridge](images/dc/curveVIbridge.png)\n",
    "\n",
    "The command will obtain the $I(V)$ curve in two stages. In the first stage, **DAC2** voltage is set to **vmin** and **DAC1** voltage changes between **vmin** and **v1max** with **vi** step increments. In the second stage, **DAC1** voltage is set to **vmin** and **DAC2** voltage changes between **vmin** and **v2max** with **vi** step increments. If **vi** is omitted, it defaults to $0.1 V$.\n",
    "\n",
    "A wait of **wt** seconds is included between each new DAC value and the measurement on the ADCs. If **wt** is omitted it defaults to $0.1s$.\n",
    "\n",
    "When the measurement ends, both DACs are set to zero to minimize power consumption.\n",
    "\n",
    "From the measurements, voltage and current at the DUT is computed and the $I_D(V_D)$ curve is drawn.\n",
    "\n",
    "$\\qquad V_D = V_{ADC2} - V_{ADC3}  \\qquad  I_D = \\frac{V_{ADC1}-V_{ADC2}}{R}$\n",
    "\n",
    "As in the two previous command, the **r** value needs to be chosen both to obtain good current accuracy and to limit the current in the **DUT**. Current trough the DUT is limited to:\n",
    "\n",
    "$\\qquad |I_D|_{MAX} = \\frac{V_{DD}}{R}$\n",
    "\n",
    "You need to ensure that **DAC1** buffer circuit can provide this current.\n",
    "\n",
    "If parameter **returnData** is **True** or **setPlotReturnData** was called previously with a **True** parameter, the command return a two element tuple with numpy arrays of:\n",
    "\n",
    "* $V_D$ values\n",
    "* $I_D$ values\n"
   ]
  },
  {
   "cell_type": "markdown",
   "metadata": {},
   "source": [
    "---\n",
    "\n",
    "**Example**  \n",
    "Obtain the $I(V)$ response of a white led both for positive and negative voltages\n",
    "\n",
    "---\n",
    "\n",
    "The threshold of a white LED is too high to use the [curveVIref](#curveVIref) command, so we will use the bridge configuration. The following circuit shows the circuit to implement:\n",
    "\n",
    "![curveVIbridge Example](images/dc/curveVIbridge_example.png)\n",
    "\n",
    "The following **code cell** will generate the $I(V)$ curve.\n",
    "\n",
    "Maximum current is limited to $3.2mA$ due to the use of a $1k\\Omega$ resistor. As voltage drop in a blue LED is high (about 2.5V) current is limited to about $0.5mA$. That limit can be calculated:\n",
    "\n",
    "$\\qquad I_{MAX} = \\frac{V_{DAC1\\;MAX} - V_{DAC2\\;MIN} - V_D}{R}$"
   ]
  },
  {
   "cell_type": "code",
   "execution_count": null,
   "metadata": {},
   "outputs": [],
   "source": [
    "# curveVIbridge example\n",
    "# White LED I(V) curve\n",
    "\n",
    "dc.curveVIbridge(3.2,3.2,vmin=0.2)"
   ]
  },
  {
   "cell_type": "markdown",
   "metadata": {},
   "source": [
    "<a id='system'></a>\n",
    "\n",
    "<div class=\"alert alert-block alert-info\">\n",
    "<BR>\n",
    "<font size=\"8\"> Voltage Input-Output Plots </font> \n",
    "<BR>\n",
    "</div>"
   ]
  },
  {
   "cell_type": "markdown",
   "metadata": {},
   "source": [
    "Commands in this section obtain the voltage DC response of a circuit under test (CUT). That is, they obtain the output voltage for a sequence of input voltage values.\n",
    "\n",
    "![Vo(Vi)](images/dc/vo_vi.png)\n",
    "\n",
    "The following three commands [CurveVV](#CurveVV), [CurveVVref](#CurveVVref) and [HystVVcurve](#HystVVcurve) are useful in order to obtain the DC output voltage to input voltage curve of a circuit under test (CUT)."
   ]
  },
  {
   "cell_type": "markdown",
   "metadata": {},
   "source": [
    "<a id='curveVV'></a>\n",
    "\n",
    "## curveVV\n",
    "\n",
    "Plots a V(V) transfer curve\n",
    "\n",
    ">**curveVV(v1,v2,vi,wt,adc2,returnData)**  \n",
    ">Required parameters:   \n",
    ">$\\quad$ v1 : Initial value (in Volt)  \n",
    ">$\\quad$ v2 : End of range (in Volt)  \n",
    ">Optional parameters:   \n",
    ">$\\quad$ vi : Step (defaults to 0.1V)  \n",
    ">$\\quad$ wt : Waiting time between steps (defaults to 0.1s)  \n",
    ">$\\quad$ adc2 : Use ADC2 to improve accuracy (Defaults False)  \n",
    ">$\\quad$ returnData : Enable return of plot data (Defaults to False)  \n",
    ">Returns plot data if enabled (see also setPlotReturnData)  \n",
    "\n",
    "Draw voltage set with **DAC1** against voltage measured with **ADC1**.\n",
    "\n",
    "Measurements start with **DAC1** at **v1** voltage and end at **v2** voltage. Voltage is increased in a **vi** step between one measurement and the next one. If **vi** is omitted, it defaults to $0.1 V$.\n",
    "\n",
    "Between the change of the DAC voltage and the measurement with the ADCs the module waits **wt** seconds. If **wt** is omitted it defaults to $0.1s$.\n",
    "\n",
    "This command is useful for obtaining the DC voltage response of a circuit. The circuit under test (CUT), as shown in the following figure, is driven by an input voltage generated by **DAC1** and its output is read at **ADC1**.\n",
    "\n",
    "![curveVV](images/dc/curveVV.png)\n",
    "\n",
    "If optional parameter **adc2** is **True**, **ADC2** will be used to measure the Vi voltage. It is useful if you want to be sure of the Vi voltage really set by **DAC1**. The following figure shows the proper connections in this case.\n",
    "\n",
    "![curveVV 2](images/dc/curveVV2.png)\n",
    "\n",
    "If optional parameter **returnData** is **True** or **setPlotReturnData** was called previously with a **True** parameter, the command return a two element tuple with numpy arrays of:\n",
    "\n",
    "* $V_i$ values\n",
    "* $V_o$ values\n",
    "\n",
    "The same functionality of this command can be obtained with the **dcSweepPlot** command contained in the main **slab module**. This command, however, is more simple and having it on the DC module gives this module a more complete set of commands."
   ]
  },
  {
   "cell_type": "markdown",
   "metadata": {},
   "source": [
    "---\n",
    "\n",
    "**Example**  \n",
    "Measure a voltage drop circuit\n",
    "\n",
    "---\n",
    "\n",
    "The voltage drop circuit is shown in the following figure. For **Vi** input voltages below about $0.5V$, **D1** does not operate and output voltage is zero. For voltages over about $0.5V$, the output voltage is decreased respect to the input voltage due to the **D1** voltage drop. \n",
    "\n",
    "![curveVV Example](images/dc/curveVV_example.png)\n",
    "\n",
    "In order to test the $Vo(Vi)$ curve of the circuit we can execute the following **code cell**.\n",
    "\n",
    "Observe that the diode drop is $0.5V$ only at the start, and that it increase to arround $0.65V$ at the end.\n"
   ]
  },
  {
   "cell_type": "code",
   "execution_count": null,
   "metadata": {},
   "outputs": [],
   "source": [
    "# curveVV example\n",
    "# Voltage drop circuit Vo(Vi) plot\n",
    "\n",
    "dc.curveVV(0.0,3.0,adc2=True)"
   ]
  },
  {
   "cell_type": "markdown",
   "metadata": {},
   "source": [
    "<a id='curveVVref'></a>\n",
    "\n",
    "## curveVVref\n",
    "\n",
    "Plots a V(V) transfer curve with reference\n",
    "\n",
    ">**curveVVref(v1,v2,vi,wt,adc3,returnData)**  \n",
    ">Required parameters:   \n",
    ">$\\quad$ v1 : Initial value (in Volt)  \n",
    ">$\\quad$ v2 : End of range (in Volt)  \n",
    ">Optional parameters:   \n",
    ">$\\quad$ vi : Step (defaults to 0.1V)  \n",
    ">$\\quad$ wt : Waiting time between steps (defaults to 0.1s)  \n",
    ">$\\quad$ adc3 : Use ADC3 to sense Vi (Defaults to False)    \n",
    ">$\\quad$ returnData : Enable return of plot data (Defaults to False)  \n",
    ">Returns plot data if enabled (see also setPlotReturnData)  \n",
    "\n",
    "Obtain a circuit under test (CUT) $Vo(Vi)$ voltage taking into account a not grounded reference for the circuit.\n",
    "\n",
    "Set circuit input voltage with **DAC1** and measures output voltage with **ADC1**.\n",
    "Reference voltage of the circuit is measured with **ADC2**.\n",
    "Input $V_i$ and output $V_o$ voltages are calculated as:\n",
    "\n",
    "$\\qquad V_{Ref} = V_{ADC2} \\qquad V_i = V_{DAC1} - V_{Ref} \n",
    " \\qquad V_o = V_{ADC1} - V_{Ref}$\n",
    " \n",
    "Measurements start with **DAC1** at **v1** voltage and end at **v2** voltage. Voltage is increased in a **vi** value between one measurement and the next one. If **vi** is omitted, it defaults to $0.1 V$.\n",
    "\n",
    "Between the change of the DAC voltage and the measurement with the ADCs the module waits **wt** seconds. If **wt** is omitted it defaults to $0.1 s$.\n",
    "From the measurements, $V_i$ and $V_o$ are calculated and plotted.\n",
    "\n",
    "This command is useful for obtaining the DC voltage response of a circuit that uses a not grounded reference. The circuit under test (CUT), as shown in the following figure, is driven by an input voltage generated by **DAC1**, its output is read at **ADC1** and the reference is read at **ADC2**.\n",
    "\n",
    "![curveVVref](images/dc/curveVVref.png)\n",
    "\n",
    "If optional parameter **adc3** is **True**, **ADC3** will be used to measure the $V_i$ voltage. It is useful if you want to be sure of the $V_i$ voltage really set by **DAC1**. The following figure shows the proper connections in this case.\n",
    "\n",
    "![curveVVref 2](images/dc/curveVVref2.png)\n",
    "\n",
    "If parameter **returnData** is **True** or **setPlotReturnData** was called previously with a **True** parameter, the command return a two element tuple with numpy arrays of:\n",
    "\n",
    "* $V_i$ values\n",
    "* $V_o$ values\n"
   ]
  },
  {
   "cell_type": "markdown",
   "metadata": {},
   "source": [
    "---\n",
    "\n",
    "**Example**  \n",
    "Obtain the $V_o(V_i)$ curve of a 10 gain operational amplifier inverter circuit with reference. \n",
    "\n",
    "---\n",
    "\n",
    "The following figure shows the circuit we want to test:\n",
    "\n",
    "![curveVVref Example](images/dc/curveVVref_example.png)\n",
    "\n",
    "The circuit uses one of the two full-rail operational amplifiers included in the **MCP6002** integrated circuit. Resistors **R3** and **R4** set the gain between $V_i$ and $V_o$ to -10. Resistors **R1** and **R2** set the reference voltage for the circuit to halfway between $V_{DD}$ and $GND$.\n",
    "\n",
    "The following **code cell** performs the measurement.\n",
    "\n",
    "We see that output is zero when input is zero (respect to the $V_{DD}/2$ reference). We can also can check that the gain is really -10."
   ]
  },
  {
   "cell_type": "code",
   "execution_count": null,
   "metadata": {},
   "outputs": [],
   "source": [
    "# curveVVref example\n",
    "# Inverting Operational Amplifier Circuit\n",
    "\n",
    "dc.curveVVref(0.0,3.0,adc3=True)"
   ]
  },
  {
   "cell_type": "markdown",
   "metadata": {},
   "source": [
    "<a id='curveVVbridge'></a>\n",
    "\n",
    "## curveVVbridge\n",
    "\n",
    "Plots a V(V) transfer curve in bridge configuration\n",
    "\n",
    ">**curveVVbridge(vp,vn,vi,vmin,wt,returnData)**  \n",
    ">Required parameters:   \n",
    ">$\\quad$ vp : Maximum positive voltage (in Volt)  \n",
    ">$\\quad$ vn : Maximum negative voltage (in Volt)  \n",
    ">Optional parameters:   \n",
    ">$\\quad$ vi : Step (defaults to 0.1V)  \n",
    ">$\\quad$ vmin : Minimum DAC voltage (Defaults to 0.0)  \n",
    ">$\\quad$ wt : Waiting time between steps (defaults to 0.1s)  \n",
    ">$\\quad$ returnData : Enable return of plot data (Defaults to False)  \n",
    ">Returns plot data if enabled (see also setPlotReturnData)\n",
    "\n",
    "This command obtains a circuit under test (CUT) $V_o(V_i)$ using a bridge configuration.\n",
    "\n",
    "![curveVVbridge](images/dc/curveVVbridge.png)\n",
    "\n",
    "The command generates two sweeps:\n",
    "\n",
    "In the first sweep, **DAC2** is set to **vmin** and **DAC1** sweeps from **vmin** to **vp** in **vi** increments.\n",
    "In the second sweep, **DAC1** is set to **vmin** and **DAC2** sweeps from **vmin** to **vn** in **vi** increments.\n",
    "\n",
    "Input and output voltages are defined as:\n",
    "\n",
    "$\\qquad V_i = V_{ADC3}-V_{ADC4} \\qquad V_o = V_{ADC1} - V_{ADC2}$\n"
   ]
  },
  {
   "cell_type": "markdown",
   "metadata": {},
   "source": [
    "---\n",
    "\n",
    "**Example**  \n",
    "Obtain the Vo(Vi) curve of a diode bridge\n",
    "\n",
    "---\n",
    "\n",
    "The following figure shows the circuit we want to test:\n",
    "\n",
    "![curveVVbridge Example](images/dc/curveVVbridge_example.png)\n",
    "\n",
    "We have added a $100 k\\Omega$ **R2** resistor from the output negative terminal to ground because, when no diode conducts, the output floats and that will provide bad measurements.\n",
    "\n",
    "We increase the number of readings to reduce measurement noise and perform a $V_o(V_i)$ bridge curve. We also set the minimum DAC voltage to $0.2V$ to prevent working on the lower end of the DAC range.\n"
   ]
  },
  {
   "cell_type": "code",
   "execution_count": null,
   "metadata": {},
   "outputs": [],
   "source": [
    "# curveVVbridge example\n",
    "# Diode bridge circuit\n",
    "\n",
    "# Increase number of readings\n",
    "old = slab.setDCreadings(400)\n",
    "\n",
    "# Plot curve\n",
    "dc.curveVVbridge(3.2,3.2,vmin=0.2)\n",
    "\n",
    "# Restore number of readings\n",
    "slab.setDCreadings(old) "
   ]
  },
  {
   "cell_type": "markdown",
   "metadata": {},
   "source": [
    "<a id='hystVVcurve'></a>\n",
    "\n",
    "## hystVVcurve\n",
    "\n",
    "V(V) Transfer Hysteresis Curve\n",
    "\n",
    ">**hystVVcurve(v1,v2,vi,wt,adc2,returnData)**  \n",
    ">Required parameters:   \n",
    ">$\\quad$ v1 : Initial value (in Volt)  \n",
    ">$\\quad$ v2 : End of range (in Volt)  \n",
    ">Optional parameters:   \n",
    ">$\\quad$ vi : Step (defaults to 0.1V)  \n",
    ">$\\quad$ wt : Waiting time between steps (defaults to 0.1s)  \n",
    ">$\\quad$ adc2 : Use adc2 to measure vi (Defaults to False)\n",
    ">$\\quad$ returnData : Enable return of plot data (Defaults to False)  \n",
    ">Returns plot data if enabled (see also setPlotReturnData)\n",
    "\n",
    "Some circuits have a DC response that changes if the input voltage is rising or falling. The hysteresis curve command is similar to the [curveVV](#curveVV) command, but measures the response of the circuit both in the forward direction with **DAC1** voltage going from **v1** to **v2** and in the back direction with **DAC1** voltage going from **v2** to **v1**. In both cases voltage is measured at **ADC1**.\n",
    "\n",
    "If **adc2** is **True**, **ADC2** will be used to measure $V_i$\n",
    "\n",
    "If **returnData** is **True** or **setPlotReturnData** was called previously with a **True** parameter, the command return a four element tuple with numpy arrays of:\n",
    "\n",
    "* $V_i$ forward values\n",
    "* $V_o$ forward values\n",
    "* $V_i$ reverse values\n",
    "* $V_o$ reverse values\n"
   ]
  },
  {
   "cell_type": "markdown",
   "metadata": {},
   "source": [
    "---\n",
    "\n",
    "**Example**  \n",
    "Measure a hysteresis inverting comparator curve.\n",
    "\n",
    "---\n",
    "\n",
    "The circuit to test is shown in the following figure. **R1** and **R2** set the center of the comparator change at $V_{DD}/2$ that is about $1.65V$ for a 3.3V powered board. **R3** sets the hysteresis of the comparator.\n",
    "\n",
    "![hystVVcurve Example](images/dc/hystVVcurve_example.png)\n",
    "\n",
    "In order to see the I/O curve we can issue the command in the **code cell** below that sweeps **DAC1** between $0V$ and $3V$ both rising (Forward) and falling (Back).\n",
    "\n",
    "\n"
   ]
  },
  {
   "cell_type": "code",
   "execution_count": null,
   "metadata": {},
   "outputs": [],
   "source": [
    "# hystVVcurve example\n",
    "# Hysteresis comparator\n",
    "\n",
    "dc.hystVVcurve(0.0,3.0,adc2=True)"
   ]
  },
  {
   "cell_type": "markdown",
   "metadata": {},
   "source": [
    "It seems that forward (blue) and back (blue) curves are not vertical. This is due to the default $0.1V$ step of the previous command. That means that we have, for instance on the input in the back direction, one point at $1.6V$ and another at $1.5V$.\n",
    "If we want more precise curve around the change zone of the comparator we can perform a finer $10mV$ step between $1.2V$ and $2V$."
   ]
  },
  {
   "cell_type": "code",
   "execution_count": null,
   "metadata": {},
   "outputs": [],
   "source": [
    "# hystVVcurve example\n",
    "# Hysteresis comparator detail\n",
    "\n",
    "dc.hystVVcurve(1.2,2.0,0.01,adc2=True)"
   ]
  },
  {
   "cell_type": "markdown",
   "metadata": {},
   "source": [
    "<a id='system'></a>\n",
    "\n",
    "<div class=\"alert alert-block alert-info\">\n",
    "<BR>\n",
    "<font size=\"8\"> Current Output Transfer Plots </font> \n",
    "<BR>\n",
    "</div>"
   ]
  },
  {
   "cell_type": "markdown",
   "metadata": {},
   "source": [
    "The following two commands [transferCurveVI](#transferCurveVI) and [transferCurveII](#transferCurveII) are designed to measure circuits whose output is defined on current instead of voltage.\n",
    "\n",
    "With those two command, added to the previous ones, we obtain the following table of circuit transfer curves:\n",
    "\n",
    "<img  src=\"images/dc/transferTable.png\" width=\"400\">\n",
    "\n",
    "Those commands don’t include all possibilities. For instance, there is no command for circuits with current input and voltage output. Moreover, hysteresis and negative ranges are only measured in voltage to voltage circuits. As all this commands rely on the Basic DC commands, it is possible to define any new commands if the ones defined in the DC module are not suited for a particular measurement."
   ]
  },
  {
   "cell_type": "markdown",
   "metadata": {},
   "source": [
    "<a id='transferCurveVI'></a>\n",
    "\n",
    "## transferCurveVI\n",
    "\n",
    "Plots a I(V) Transfer Curve\n",
    "\n",
    ">**transferCurveVI(v1,v2,vi,ro,adc3,wt,returnData)**  \n",
    ">Required parameters:   \n",
    ">$\\quad$ v1 : Initial value of DAC1 (in Volt)  \n",
    ">$\\quad$ v2 : End of range (in Volt)  \n",
    ">Optional parameters:   \n",
    ">$\\quad$ vi : Step (defaults to 0.1V)  \n",
    ">$\\quad$ ro : Resistor Ro value in kohms (defaults to 1k)  \n",
    ">$\\quad$ adc3 : Use ADC3 (defaults to False)  \n",
    ">$\\quad$ wt : Waiting time between steps (defaults to 0.1s)  \n",
    ">$\\quad$ returnData : Enable return of plot data (Defaults to False)  \n",
    ">Returns plot data if enabled (see also setPlotReturnData)\n",
    "\n",
    "This command measures the output current of a circuit under test (CUT) against its input voltage. The following figure shows the setup of connections to perform the measurement. \n",
    "\n",
    "![transferCurveVI](images/dc/transferCurveVI.png)\n",
    "\n",
    "Depending on the circuit $R_i$ can be omitted. Sometimes, however, it will interest to limit the input current on the circuit using this resistor. Either way, it is not used in the calculations.\n",
    "\n",
    "The command will set **DAC1** voltage between **v1** and **v2** with **vi** step increments. If **vi** is omitted, it defaults to $0.1 V$. A wait of **wt** seconds is included between each new **DAC1** value and the measurement on **ADC1** and **ADC2**. If **wt** is omitted it defaults to $0.1s$.  \n",
    "When the measurement ends, **DAC1** voltage is set to zero to minimize power consumption.\n",
    "\n",
    "If the optional parameter **adc3** is **True**, the circuit used will measure both voltages on $R_o$ using ADC readings. To obtain both voltages the following circuit will be used.\n",
    "\n",
    "![transferCurveVI2](images/dc/transferCurveVI2.png)\n",
    "\n",
    "From the measurements, a $I_o(V_i)$ curve will be shown.\n",
    "\n",
    "If parameter **returnData** is **True** or **setPlotReturnData** was called previously with a **True** parameter, the command return a two element tuple with numpy arrays of:\n",
    "\n",
    "* $V_i$ values\n",
    "* $I_o$ values\n",
    "\n"
   ]
  },
  {
   "cell_type": "markdown",
   "metadata": {},
   "source": [
    "---\n",
    "\n",
    "**Example**  \n",
    "Measure the collector current against the base voltage on a BC547 bipolar junction transistor (BJT)\n",
    "\n",
    "---\n",
    "\n",
    "We will setup the following circuit:\n",
    "\n",
    "![transferCurveVI Example](images/dc/transferCurveVI_example.png)\n",
    "\n",
    "In order to obtain the Ic(Vbe) curve we execute the following **code cell**. First we increase the number of measurements to average to increase the accuracy and then we draw the curve. We have used a fine $20mV$ step to provide a better representation at the lower range of the curve.\n",
    "\n"
   ]
  },
  {
   "cell_type": "code",
   "execution_count": null,
   "metadata": {},
   "outputs": [],
   "source": [
    "# transferCurveVI example\n",
    "# Ic(Vbe) BJT curve\n",
    "\n",
    "# Increasae number of readings\n",
    "old = slab.setDCreadings(100) \n",
    "\n",
    "# Plot the curve\n",
    "dc.transferCurveVI(0.5,3.0,0.02)\n",
    "\n",
    "# Restore number of readings\n",
    "slab.setDCreadings(old)"
   ]
  },
  {
   "cell_type": "markdown",
   "metadata": {},
   "source": [
    "As **ro** is $1k\\Omega$ and the transistor saturates at $V_{CE}$ of about $0.2V$, maximum current before saturation is about $3.1mA$. So, points above that current are not guaranteed to be in the linear active region of the BJT.\n",
    "\n",
    "If we want to operate at higher currents we can reduce **ri** and **ro**. We want to limit the collector current to $50mA$ because this transistor cannot operate above $100mA$ and because the nucleo board cannot provide more than $300mA$ to all connected elements. Using a $68\\Omega$ ro value we will enter saturation at about $45mA$. We will also decrease **ri** to $8.2k\\Omega$ so that there is enough base current to have a high collector current.\n",
    "\n",
    "The following **code cell** performs the measurements. As the **vi**, **wt** and **ro** are not in the proper order, the name of the parameter shall be included. That way you don't need to remember the order of the optional parameters. Note also that **ro** is given in $k\\Omega$. This time we don't need to use a $20mV$ step because we start on **DAC1** at $1V$ instead of $0.5V$."
   ]
  },
  {
   "cell_type": "code",
   "execution_count": null,
   "metadata": {},
   "outputs": [],
   "source": [
    "# transferCurveVI example\n",
    "# Ic(Vbe) BJT curve\n",
    "\n",
    "# Increasae number of readings\n",
    "old = slab.setDCreadings(100) \n",
    "\n",
    "# Plot the curve\n",
    "dc.transferCurveVI(1.0,3.0,vi=0.1,wt=0.1,ro=0.068)\n",
    "\n",
    "# Restore number of readings\n",
    "slab.setDCreadings(old)"
   ]
  },
  {
   "cell_type": "markdown",
   "metadata": {},
   "source": [
    "<a id='transferCurveII'></a>\n",
    "\n",
    "## transferCurveII\n",
    "\n",
    "Plots a I(I) Transfer Curve\n",
    "\n",
    ">**transferCurveII(v1,v2,vi,r1,r2,adc3,adc4,wt,returnData)**  \n",
    ">Required parameters:   \n",
    ">$\\quad$ v1 : Initial value of DAC1 (in Volt)  \n",
    ">$\\quad$ v2 : End of range (in Volt)  \n",
    ">Optional parameters:   \n",
    ">$\\quad$ vi : Step (defaults to 0.1V)  \n",
    ">$\\quad$ r1 : Resistor R1 value in kohms (defaults to 1k)  \n",
    ">$\\quad$ r2 : Resistor R2 value in kohms (defaults to 1k)  \n",
    ">$\\quad$ adc3 : Use ADC3 to measure r2 high side (defaults to False)  \n",
    ">$\\quad$ adc4 : Use ADC4 to measure DAC1 (defaults to False)  \n",
    ">$\\quad$ wt : Waiting time between steps (defaults to 0.1s)  \n",
    ">$\\quad$ returnData : Enable return of plot data (Defaults to False)  \n",
    ">Returns plot data if enabled (see also setPlotReturnData)  \n",
    "\n",
    "This command is similar to the previous one and measures the output current of a circuit under test (CUT) against its input current. The connections are the same than in the previous case.\n",
    "\n",
    "![transferCurveII](images/dc/transferCurveII.png)\n",
    "\n",
    "As we need **R1** to compute the input current, this time, this resistor cannot be omitted. \n",
    "\n",
    "The command will set **DAC1** voltage between **v1** and **v2** with **vi** step increments. If **vi** is omitted, it defaults to $0.1 V$. A wait of **wt** seconds is included between each new **DAC1** value and the measurement on the ADCs. If **wt** is omitted it defaults to $0.1s$.\n",
    "When the measurement ends, **DAC1** voltage is set to zero to minimize power consumption.\n",
    "\n",
    "If the **adc3** parameter is **True**, the **ADC3** will be used to measure the high side of **R2** instead of assuming it to be $V_{DD}$. If the **adc4** parameter is **True**, the **ADC4** will be used to measure the **DAC1** output instead of relying on the DAC programmed value. The following figure shows those optional connections.\n",
    "\n",
    "![transferCurveII2](images/dc/transferCurveII2.png)\n",
    "\n",
    "From the measurements, a $I_o(I_i)$ curve will be shown.\n",
    "\n",
    "If **returnData** is **True** or **setPlotReturnData** was called previously with a **True** parameter, the command return a two element tuple with numpy arrays of:\n",
    "\n",
    "* $I_i$ values\n",
    "* $I_o$ values\n"
   ]
  },
  {
   "cell_type": "markdown",
   "metadata": {},
   "source": [
    "---\n",
    "\n",
    "**Example**  \n",
    "Measure the collector current against the base current on a BC547 transistor\n",
    "\n",
    "---\n",
    "\n",
    "We will setup a similar circuit as in the [transferCurveVI](#transferCurveVI) example.\n",
    "\n",
    "![transferCurveII Example](images/dc/transferCurveII_example.png)\n",
    "\n",
    "In order to obtain the $I_C(V_{BE})$ curve we use the following **code cell**. Parameteres **r2** and **wt** use their default values of $1k\\Omega$ and $0.1s$.\n",
    "\n",
    "We obtain the following graph where we observe a constant $\\beta$ ratio between $I_C$ and $I_B$ up to the point where the transistor enters in the saturation region."
   ]
  },
  {
   "cell_type": "code",
   "execution_count": null,
   "metadata": {},
   "outputs": [],
   "source": [
    "# transferCurveII example\n",
    "# Ic(Ib) BJT curve\n",
    "\n",
    "# Obtain the transfer curve\n",
    "dc.transferCurveII(0.5,2.0,0.1,100.0)"
   ]
  },
  {
   "cell_type": "markdown",
   "metadata": {},
   "source": [
    "At low currents, the $\\beta$ of the transistor is reasonably constant. This parameter, however, degrades at high currents. If we want to operate at higher currents we can reduce **ri** and **ro**. Using a $68\\Omega$ ro value we will enter saturation at about $45mA$. We will also reduce **ri** to $8.2k\\Omega$ to provide enough base current.\n",
    "\n",
    "Before issuing the **transferCurveII** command we will also increase the number of readings to reduce the measurement errors.\n",
    "\n",
    "We can see that $\\beta$ degrades at currents over $30mA$."
   ]
  },
  {
   "cell_type": "code",
   "execution_count": null,
   "metadata": {},
   "outputs": [],
   "source": [
    "# transferCurveII example\n",
    "# Ic(Ib) BJT curve\n",
    "\n",
    "# Increase number of readings\n",
    "old = slab.setDCreadings(50) \n",
    "\n",
    "# Draw the curve\n",
    "dc.transferCurveII(1.0,3.0,0.1,8.2,0.068)\n",
    "\n",
    "# Restore number of readings\n",
    "slab.setDCreadings(old) "
   ]
  },
  {
   "cell_type": "markdown",
   "metadata": {},
   "source": [
    "## Document license\n",
    "\n",
    "Copyright  ©  Vicente Jiménez (2018)  \n",
    "This work is licensed under a Creative Common Attribution-ShareAlike 4.0 International license.  \n",
    "This license is available at http://creativecommons.org/licenses/by-sa/4.0/\n",
    "\n",
    "<img  src=\"images/cc_sa.png\" width=\"200\">"
   ]
  },
  {
   "cell_type": "code",
   "execution_count": null,
   "metadata": {},
   "outputs": [],
   "source": []
  }
 ],
 "metadata": {
  "kernelspec": {
   "display_name": "Python 3",
   "language": "python",
   "name": "python3"
  },
  "language_info": {
   "codemirror_mode": {
    "name": "ipython",
    "version": 3
   },
   "file_extension": ".py",
   "mimetype": "text/x-python",
   "name": "python",
   "nbconvert_exporter": "python",
   "pygments_lexer": "ipython3",
   "version": "3.7.1"
  }
 },
 "nbformat": 4,
 "nbformat_minor": 2
}
