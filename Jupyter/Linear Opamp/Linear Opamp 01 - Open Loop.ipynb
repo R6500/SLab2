{
 "cells": [
  {
   "cell_type": "markdown",
   "metadata": {},
   "source": [
    "<img style=\"float: right;\"  src=\"images/LogoP.jpg\" width=\"200\">\n",
    "\n",
    "# Linear Op Amp 01 : Open Loop\n",
    "\n",
    "This project starts working with the Operational Amplifier in **open loop** operation.\n",
    "\n",
    "Version 1.2 (12/3/2019)  \n",
    "License information is at the end of the document\n",
    "\n",
    "---\n",
    "**Bill Of Materials (BOM):**\n",
    "\n",
    "* Dual Opamp MCP6002\n",
    "* $1k\\Omega$ resistor\n",
    "\n",
    "---"
   ]
  },
  {
   "cell_type": "markdown",
   "metadata": {},
   "source": [
    "## Meet the Opamp\n",
    "\n",
    "The **operational amplifier**, opamp for short, is a device that amplifies the **voltage difference** Vd between two input nodes: A positive (+) or **non inverting input** (nii) and a negative (-) or **inverting input** (ii). The output of the amplifier Vo is **A** times the input voltage difference.\n",
    "The following figure shows the operational amplifier symbol together with the zero order basic model that implements the above explanation:\n",
    "\n",
    "![fig 01](images\\L_OA_01\\fig01.png)\n",
    "\n",
    "The model shows that the output node is forced, by a dependent voltage source, to a voltage that is proportional to the Vd voltage between the inputs. \n",
    "This is a model, an idealization of what the opamp should be. We will see later that real opamps fail to operate always as this model.\n",
    "Observe that the input terminals are not connected to anything. The described model supposes that that the current entering the opamp through its input terminals is zero.\n",
    "Observe also that the basic model includes a node, the ground node, which is not included in the opamp symbol. \n",
    "\n",
    "From the above model we can get the output of the opamp as:\n",
    "\n",
    "$$V_O = A \\cdot V_d = A\\left(V_{(+)}-V_{(-)}\\right)$$\n",
    "\n",
    "The greater the A value, the better. An ideal opamp will operate just like the above model with an infinite A gain. So it will satisfy:\n",
    "\n",
    "$$V_O = A\\left(V_{(+)}-V_{(-)}\\right) \\quad with \\quad A \\rightarrow \\infty$$\n",
    "\n",
    "This is de **ideal** opamp operation. That’s what any opamp aspires to be.\n",
    " \n",
    "We cannot get our hands on an ideal opamp, we can only buy real ones. In this document we will work with the Microchip **MCP6002** integrated circuit in the 8 pin **PDIP** package version. This component features two opamps on a single chip:\n",
    "\n",
    "![mcp6002](images\\L_OA_01\\mcp6002.png)\n",
    "\n",
    "If the two included opamps were ideal, we wouldn’t need any more information as they would just behave as the model says. If they were not ideal but they worked as the zero order model with a finite gain, we would only need the gain A value. The less ideal a component is, the more information we need about it to know how it really operates.\n",
    "\n",
    "All the needed information about a component operation can be obtained from the component datasheet that the manufacturer releases free of charge. In order to know how our MCP6002 will operate, we need its datasheet.\n",
    "\n",
    "Obtain the MCP6002 datasheet. Just google on **\"MCP6002 datasheet\"**. It will probably be the first PDF result.\n",
    "\n",
    "The datasheet shows all the ways that the opamp doesn’t behave ideally. And it has 40 pages! For instance, we can see the finite gain, defined as Open Loop Gain (AOL).\n",
    "\n",
    "![aol](images\\L_OA_01\\aol.png)\n",
    "\n",
    "First thing we see is that we don’t know the AOL value. The datasheet says that the typical value is 112 dB. But the typical value is just the normal value you should expect. A particular opamp can have a different value, as low as the minimum limit of 88 dB. Observe that there is no maximum value. It is unbound. That means that you can get any gain over 88 dB. \n",
    "\n",
    "Gain is provided in dB. Remember that A\\[dB\\], relates to linear gain A as:\n",
    "\n",
    "$$A[dB] = 20 \\cdot log_{10}(A)$$\n",
    "\n",
    "Calculate the typical and minimum linear gain A values for the MCP6002. This gain is usually given unitless (V/V) or as V/mV.\n",
    "\n",
    "You can fill-in the formulas in the **code cell** below to do the calculations"
   ]
  },
  {
   "cell_type": "code",
   "execution_count": null,
   "metadata": {},
   "outputs": [],
   "source": [
    "Aol_typ = \n",
    "Aol_min = \n",
    "print('Typical Aol is ',Aol_typ)\n",
    "print('Minimum Aol is ',Aol_min)"
   ]
  },
  {
   "cell_type": "markdown",
   "metadata": {},
   "source": [
    "Enough calculations for now, let’s see how this device behaves.\n",
    "\n",
    "---\n",
    "\n",
    "![Practical Icon](images/pt.png)\n",
    "\n",
    "---"
   ]
  },
  {
   "cell_type": "markdown",
   "metadata": {},
   "source": [
    "## Connecting the board\n",
    "\n",
    "Before performing any measurement we need to connect to the board. This also requires setting the proper paths for the **SLab** data files."
   ]
  },
  {
   "cell_type": "code",
   "execution_count": null,
   "metadata": {},
   "outputs": [],
   "source": [
    "# Import the SLab module\n",
    "import slab"
   ]
  },
  {
   "cell_type": "code",
   "execution_count": null,
   "metadata": {},
   "outputs": [],
   "source": [
    "boardFolder = ''                                # Board folder (leave '' if you use only one board)\n",
    "slab.setFilePrefix('../Files/')                 # Set File Prefix\n",
    "slab.setCalPrefix('Calibrations/'+boardFolder)  # Set Calibration Prefix         \n",
    "slab.connect()                                  # Connect to the board"
   ]
  },
  {
   "cell_type": "markdown",
   "metadata": {},
   "source": [
    "If something goes wrong with the board you can always **reset** it, and run again the second cell to reconnect with the board. You don't need to repeat the **import** if you don't close this notebook.\n",
    "\n",
    "Before starting with the opamp circuits it is a good idea to check the board calibration. This is specially easy if the board wires are in the **SLab Standard Docking** position."
   ]
  },
  {
   "cell_type": "code",
   "execution_count": null,
   "metadata": {},
   "outputs": [],
   "source": [
    "# Check the calibration for the first four ADCs\n",
    "slab.checkCalibration(pause=False,na=4)"
   ]
  },
  {
   "cell_type": "markdown",
   "metadata": {},
   "source": [
    "## Powering the Opamp\n",
    "\n",
    "First thing to note is that the **MCP6002** component has more terminals than the ideal one. The first order opamp model didn’t feature any Vdd terminal, but real opamps need to get power from somewhere. Regarding the supply, we will power the opamp from the SLab hardware board Vdd supply and we need to check that we won’t damage the opamp.\n",
    "The opamp datasheet, in the **Absolute Maximum Ratings** table shows the maximum allowed voltage difference between the positive and negative supply nodes:\n",
    "\n",
    "![amr](images\\L_OA_01\\amr.png)\n",
    "\n",
    "That means that using a supply over 7V will **damage** the opamp. Never do that. The fact that the opamp is not damaged doesn’t mean that it will work as expected. Going down the datasheet se can see the supply requirements:\n",
    "\n",
    "![Supply Requirements](images\\L_OA_01\\supply_req.png)\n",
    "\n",
    "As we see we can operate the opamp with supply voltages as low as 1.8 V and as high as 6.0 V. Any voltage between 0 V and 1.8V or between 6.0 V and 7.0 V won’t damage the opamp but the device also won’t operate as expected. \n",
    "The table also shows us the quiescent current IQ. This is the current needed just to operate without taking into account any current provided on the device outputs. We see that the MCP6002 chip can draw up to $170 \\mu A$ without doing anything, just by being connected to the supply.\n",
    "\n",
    "We can check the IQ ourselves.\n",
    "\n",
    "A $170 \\mu A$ will produce a voltage drop of 170 mV on a $1 k\\Omega$ resistor. The following circuit enables us to measure this value. Remember that the MCP6002 features two opamps. We connect the inputs of both to the opamp negative supply so that the noise on both opamps is not amplified.\n",
    "\n",
    "![fig02](images\\L_OA_01\\fig02.png)\n",
    "\n",
    "Next to each terminal, a small number indicates the related pin in the integrated circuit.\n",
    "\n",
    "---\n",
    "\n",
    "**BUILD TASK**\n",
    "\n",
    "Build the circuit on the breadboard.\n",
    "Add also the ADC, Vdd and GND connections.\n",
    "    \n",
    "---    \n",
    "    \n",
    "To obtain the current we only need to build the circuit and request the current on the resistor on a Python console. First, we import the slab module, then we connect to the hardware board and finally we request the current on a $1000\\Omega$ resistor connected between ADC1 output and ground.    "
   ]
  },
  {
   "cell_type": "code",
   "execution_count": null,
   "metadata": {},
   "outputs": [],
   "source": [
    "print('Iq = ',1e6*slab.rCurrent(1000,1),'uA')"
   ]
  },
  {
   "cell_type": "markdown",
   "metadata": {},
   "source": [
    "Compare the measured Iq value with the datasheet values. How does it compare? Is it far from the typical value? "
   ]
  },
  {
   "cell_type": "markdown",
   "metadata": {},
   "source": [
    "If you are curious, you can check how this current relates to the supply voltage. If you don’t want to hassle with that, just skip to the next section.\n",
    "\n",
    "We will connect the opamp positive supply to **DAC1** output instead of Vdd so that we can control this voltage. Remember to disconnect previously **Vdd** as you should never connect together the outputs of two supplies.\n",
    "\n",
    "![fig03](images\\L_OA_01\\fig03.png)\n",
    "\n",
    "As we know, the opamp should work only from 1.8V, but, as we won’t damage it below that value, we will sweep all DAC 1 voltages up to 3.2 V in 0.1 V steps.\n",
    "\n",
    ">`data = slab.dcSweep(1,0,3.2,0.1)`\n",
    "\n",
    "The **dcSweep** command returns a five element tuple. Element 0 is the DAC 1 value and elements 1 to 4 are ADC values. You can ask for help on the command if you want this information:\n",
    "\n",
    ">`slab.help('dcSweep')`\n",
    "\n",
    "We want to give the current in $\\mu A$, so you need to manage the units:\n",
    "\n",
    "$\\qquad I_Q[\\mu A] = 10^6 I_Q[A] = 10^6 \\frac{V_{ADC1}[V]}{R1[\\Omega]}\n",
    "= 10^6 \\frac{V_{ADC1}[V]}{1000\\Omega} = \\frac {1000}{1\\Omega}V_{ADC1}[V]$\n",
    "\n",
    "Now we can compute supply voltage and current. \n",
    "\n",
    ">`Vsup = data[0] – data[1]`  \n",
    ">`Iq = data[1]*1000`\n",
    "\n",
    "Then we can plot the information using the **plot11** command:\n",
    "\n",
    ">`slab.plot11(Vsup,Iq,'Iq Current','Vsup(V)','Iq(uA)')`\n",
    "\n",
    "All this code is in the cell below:"
   ]
  },
  {
   "cell_type": "code",
   "execution_count": null,
   "metadata": {},
   "outputs": [],
   "source": [
    "data = slab.dcSweep(1,0,3.2,0.1)\n",
    "Vsup = data[0] - data[1]\n",
    "Iq = data[1]*1000\n",
    "slab.plot11(Vsup,Iq,'Iq Current','Vsup(V)','Iq(uA)')"
   ]
  },
  {
   "cell_type": "markdown",
   "metadata": {},
   "source": [
    "You can compare the results with the data on the opamp datasheet:\n",
    "\n",
    "Compare the measurements with the datasheet curves.  \n",
    "How does the $Iq$ dependence with supply voltage compare?"
   ]
  },
  {
   "cell_type": "markdown",
   "metadata": {},
   "source": [
    "## Open loop circuit\n",
    "\n",
    "After checking the quiescent current we can now see the basic behavior to see how it relates with the first order model. The following circuit will enable us to obtain the response of the opamp.\n",
    "\n",
    "![fig04](images\\L_OA_01\\fig04.png)\n",
    "\n",
    "If you prefer, the following schematic is equivalent and makes explicit that **Vdd**, **DAC1** and **DAC2** voltages are forced and **ADC1** is only measured.\n",
    "\n",
    "![fig05](images\\L_OA_01\\fig05.png)\n",
    "\n",
    "**Build the circuit of the above figure**    \n",
    "\n",
    "We can check the output of the amplifier at ADC 1 as function of the difference voltage set between DAC 1 and DAC 2. First, we set DAC 2 at 1V. So that V(-) = 1V.\n",
    "\n",
    ">`slab.setVoltage(2,1)`\n",
    "\n",
    "Now we can obtain the DAC 1 to ADC 1 response for DAC 1 values between 0V and 2V in 50mV steps by using the curveVV command. This command plots the ADC 1 voltage as function of the DAC 1 voltage. The curveVV command is not contained in the main slab.py file. It is part of the DC submodule, so we will need to import it. For ease of use we will use an alias dc for the slab_dc module namespace.\n",
    "\n",
    ">`import slab_dc as dc`  \n",
    ">`dc.curveVV(0,2,0.05)`\n",
    "\n",
    "The curve doesn’t give the opamp input Vd voltage but the V(+) voltage. Using an ideal opamp, we should get:\n",
    "\n",
    "$\\qquad V_{ADC1}(V_{DAC1}) = A_{OL} \\left( V_{(+)}-1V \\right)$\n",
    "\n",
    "The Vo(Vi) curve should be a line that pass through the Vi = 1V, Vo = 0V point with an AOL slope. If you want you can compute the Vo(Vd) curve using a slightly more complex alternative method:\n",
    "\n",
    "The **dcSweep** command returns a 5 element tuple with the DAC 1 voltage as element 0 and the ADC voltages as elements 1, 2, 3  and 4.\n",
    "\n",
    "The following code cells obtains the $V_O(V_d)$ opamp response using this command."
   ]
  },
  {
   "cell_type": "code",
   "execution_count": null,
   "metadata": {},
   "outputs": [],
   "source": [
    "slab.setVoltage(2,1)\n",
    "data = slab.dcSweep(1,0,2,0.05)\n",
    "vd = data[0] - 1\n",
    "vo = data[1]\n",
    "slab.plot11(vd,vo,'Open Loop DC response','Vd(V)','Vo(V)')"
   ]
  },
  {
   "cell_type": "markdown",
   "metadata": {},
   "source": [
    "Compare the measurements with the expected result.  \n",
    "Does the Opamp work as expected?  \n",
    "    \n",
    "You should observe a big difference from the model prediction. The output does not always behave as an $A_{OL}$ slope line. It saturates at two levels $V_{O \\:max}$ and $V_{O \\:min}$.\n",
    "\n",
    "![fig06](images\\L_OA_01\\fig06.png)\n",
    "\n",
    "This deviation from the ideal operation is also included in the manufacturer datasheet as the Maximum Output Voltage Swing parameter.\n",
    "\n",
    "![vol & voh](images\\L_OA_01\\vol_voh.png)\n",
    "\n",
    "We see that the output can go as low as 25 mV over the negative Vss supply (GND in our case) and as high as 25 mV below the positive Vdd voltage. No **real** operational amplifier can output voltages outside of the supply range so, in this regard, the MCP6002, although not ideal, is quite good. An opamp, like the MCP6002, that is capable to drive its output very close to the supply limits is qualified as **Rail to Rail Output** or **Full Rail Output**.\n",
    "\n",
    "If you can get your hands on a **TLC272** dual opamp, for instance, you can check that $V_{O \\:min}$ can nearly reach the negative supply but $V_{O \\:max}$ gets only to about 1V below the positive supply.\n",
    "\n",
    "So, a real opamp never behaves like ideal or the basic zero order model because it saturates. A model more akin to the real operation can use the same circuit as the zero order case but the equations shall now be written as:\n",
    "\n",
    "$\\qquad V_d = V_{(+)} - V_{(-)}$\n",
    "\n",
    "$\\qquad V_O = V_{O \\: max} \\qquad if \\quad A \\cdot V_d \\geq V_{O\\: max}$\n",
    "\n",
    "$\\qquad V_O = A \\cdot V_d \\qquad if \\quad V_{O\\: min} \\leq A \\cdot V_d \\leq V_{O\\: max}$\n",
    "\n",
    "$\\qquad V_O = V_{O\\: min} \\qquad if \\quad A \\cdot V_d \\leq V_{O\\: min}$\n",
    "\n",
    "See how as we depart from ideality more parameters creep in. An ideal opamp had no parameter at all (as gain was always infinite). Zero order model had one gain A parameter. Now we have, at least three parameters: $A$, $V_{O \\:max}$ and $V_{O \\:min}$. Four if you count quiescent current $I_Q$."
   ]
  },
  {
   "cell_type": "markdown",
   "metadata": {},
   "source": [
    "## Gain Troubles\n",
    "\n",
    "Obtaining the gain can be tricky. It seems easy because you only need to get two points to calculate gain from them:\n",
    "\n",
    "$\\qquad A_{OL} = \\frac{V_{O2}-V_{O1}}{V_{d2}-V_{d1}}$\n",
    "\n",
    "But you need to be sure that those points correspond to real measurement out of the saturation region. Let’s say you have an opamp with the response shown in red and you get the blue measurement points:\n",
    "\n",
    "![fig07](images\\L_OA_01\\fig07.png)\n",
    "\n",
    "When you obtain the plot, the program will join the dots to show you the following blue curve:\n",
    "\n",
    "![fig08](images\\L_OA_01\\fig08.png)\n",
    "\n",
    "As we remember, in the previous measurements, we used 50mV spacing between DAC 1 points, so we cannot guarantee that two points are in the non saturated region if they are not 50mV or more afar from the closer saturated point. \n",
    "In general you need to use a $\\Delta V$ voltage step low enough so that the two used measurement points are, at least, a distance $\\Delta V$ or more from the saturated regions.\n",
    "\n",
    "![fig09](images\\L_OA_01\\fig09.png)\n",
    "\n",
    "The SLab system is limited in how small a DAC step can be. Remember that a n bit DAC output voltage VDAC relates to its digital input nDAC with the formula:\n",
    "\n",
    "$\\qquad V_{DAC} = \\frac{V_{dd}}{2^n}n_{DAC}$\n",
    "\n",
    "So the resolution will be one count change:\n",
    "\n",
    "$\\qquad \\Delta V_{DAC} = \\frac{V_{dd}}{2^n}$\n",
    "\n",
    "Note that this is the resolution. It gives the minimum possible DAC change. It is not the precission that relates to the uncertainty of the value we set. That later value can be much greater and relates to how well the board calibration was performed.\n",
    "\n",
    "If you are using a **F303RE Zero Board**, the **DAC** resolutions are 12 bit. For any other hardware board or buffering circuit check its related information.\n",
    "\n",
    "As we know the typical $A_{OL}$ value for the MCP6002, we can check the resolution requirements we have. If we suppose, in a fortunate case, that we can get two points separated 1/3 the output range of the opamp, powered at 3.3V, we can calculate the needed resolution:\n",
    "\n",
    "$\\qquad A_{OL} = \\frac{\\Delta V_O}{\\Delta V_d} = \\frac{V_{dd}/3}{\\Delta V_{DAC 1}}\n",
    "\\qquad \\Delta V_{DAC1} = \\frac{V_{dd}}{3 \\cdot A_{OL}}$\n",
    "\n",
    "---\n",
    "\n",
    "**THEORETICAL TASK**  \n",
    "Obtain the required DAC 1 resolution and the actual resolution we have in the SLAB system.  \n",
    "Are we expected to be able to directly measure the AOL gain?  \n",
    "Which is the maximum gain we can measure?  \n",
    " \n",
    "---   \n",
    "   \n",
    "You can fill-in the formulas in the code cell below to do the calculations"
   ]
  },
  {
   "cell_type": "code",
   "execution_count": null,
   "metadata": {},
   "outputs": [],
   "source": [
    "Resolution = \n",
    "Max_Gain = \n",
    "print('DAC 1 resolution shall be',Resolution,'V')\n",
    "print('Maximum gain we can measure is',Max_Gain)"
   ]
  },
  {
   "cell_type": "markdown",
   "metadata": {},
   "source": [
    "## Last Comments\n",
    "\n",
    "In this document we have performed several measurements in an open loop opamp. We call the circuit open loop because the output never loops to the input. That is, there is no flux of information that goes from the output and is feedback on the input.\n",
    "\n",
    "An open loop configuration is never useful for amplification because amplification is too high for practical purposes. Moreover, we don’t really know what the amplification is because it can broadly change from chip to chip and, in the same chip, due to drift or ambient effects like the chip temperature.\n",
    "\n",
    "Open loop configuration can be useful, however, for nonlinear usage. As the gain is so high, the opamp works like a comparator on the input Vd voltage. Vo is Vomax if Vd is positive and Vo is Vomin if Vd is positive.\n",
    "\n",
    "From now on, in order to implement linear functionalities like amplification, we will use the opamp in closed loop. That requires to feedback information from the output back to the input.\n"
   ]
  },
  {
   "cell_type": "markdown",
   "metadata": {},
   "source": [
    "## References\n",
    "\n",
    "**SLab Python References**   \n",
    "Those are the reference documents for the SLab Python modules. They describe the commands that can be carried out after importing each module.  \n",
    "They should be available in the SLab/Doc folder.\n",
    "\n",
    "**TinyCad**  \n",
    "Circuit images on this document have been drawn using the free software TinyCad  \n",
    "https://sourceforge.net/projects/tinycad/\n",
    "\n",
    "**Matplotlib**  \n",
    "All the functions plots have been generated using the Matplotlib SciPy package.  \n",
    "https://matplotlib.org/"
   ]
  },
  {
   "cell_type": "markdown",
   "metadata": {},
   "source": [
    "## Document license\n",
    "\n",
    "Copyright  ©  Vicente Jiménez (2018-2019)  \n",
    "This work is licensed under a Creative Common Attribution-ShareAlike 4.0 International license.  \n",
    "This license is available at http://creativecommons.org/licenses/by-sa/4.0/\n",
    "\n",
    "<img  src=\"images/cc_sa.png\" width=\"200\">"
   ]
  },
  {
   "cell_type": "code",
   "execution_count": null,
   "metadata": {},
   "outputs": [],
   "source": []
  }
 ],
 "metadata": {
  "kernelspec": {
   "display_name": "Python 3",
   "language": "python",
   "name": "python3"
  },
  "language_info": {
   "codemirror_mode": {
    "name": "ipython",
    "version": 3
   },
   "file_extension": ".py",
   "mimetype": "text/x-python",
   "name": "python",
   "nbconvert_exporter": "python",
   "pygments_lexer": "ipython3",
   "version": "3.7.1"
  }
 },
 "nbformat": 4,
 "nbformat_minor": 2
}
