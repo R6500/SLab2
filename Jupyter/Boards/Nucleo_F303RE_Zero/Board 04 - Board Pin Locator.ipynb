{
 "cells": [
  {
   "cell_type": "markdown",
   "metadata": {},
   "source": [
    "<img style=\"float: right;\"  src=\"images/LogoP.jpg\" width=\"200\">\n",
    "\n",
    "# Nucleo F303RE Zero Hardware Board\n",
    "\n",
    "# Board 04 - Pin Locator\n",
    "\n",
    "This document describes the **Pin Locator** an aid to locate the pins used by **SLab** on the **STM32F303RE Nucleo64** board.\n",
    "\n",
    "Version 1.0 (4/4/2019)\n",
    "License information is at the end of the document\n",
    "\n",
    "---\n",
    "**Bill Of Materials (BOM):**\n",
    "\n",
    "* A printer\n",
    "* Some cardboard and glue\n",
    "* Optionally a laminator\n",
    "* Four male pins\n",
    "\n",
    "---"
   ]
  },
  {
   "cell_type": "markdown",
   "metadata": {},
   "source": [
    "## Problems locating pins\n",
    "\n",
    "If you remember from previous documents, we use some of the pins available on the two dual row male **morpho connectors** at the left and right sides of the board to take the signals we need for **SLab** operation. \n",
    "\n",
    "![Morpho Connectors](images/Board_04/morpho.jpg)\n",
    "\n",
    "The signals we can use are shown on the next figure. Note that some of those signals are not usable now and are reserved for future implementations of the board firmware.\n",
    "\n",
    "![F303 Zero Pinout](images/Board_04/F303_Zero_Pinout.png)\n",
    "\n",
    "The problem is locating those signals on the **morpho connectors** because those connectors don't even have pin numbers. The only easy way is to count from the top or bottom untill you find the pin you are searching for. This lack of any numbering is, in my opinion, one of the main drawbacks of the **Nucleo64 Boards** that are, in every other aspect, very well designed.\n",
    "\n",
    "This document proposes a method to easily locate the pins. You are not required to do that to work on **SLab**. In fact, once you connect the cables, you don't need to take them out anymore and, as are color coded, they are easy to locate. So, in the end, the problem is not as bad as it could be."
   ]
  },
  {
   "cell_type": "markdown",
   "metadata": {},
   "source": [
    "## Pin locating cards\n",
    "\n",
    "The proposal is to print and cut-out a card that can be placed over the **Nucleo64** board so that we can locate the signals we want to use. The following figure shows the proposed **card**.\n",
    "\n",
    "![Card](images/Board_04/card.png)\n",
    "\n",
    "The card is placed oved the **Nucleo 64** board so that the two rectangular holes lie over the two **morpho** connectors. That way, you can easily locate each **SLab** signal. To fix the card in place, we practice four holes in the card that are secured on the board using four pins that enter four matching holes in the **Arduino** connectors that we don't use in **SLab**.\n",
    "\n",
    "The central empty region of the card leaves space for the two board buttons and to see the **Power** *LD3* and the **User** *LD2* LEDs. Observe that the card has text to locate the **Halt** and **Reset** buttons and those LEDs.\n",
    "\n",
    "This card can be located in the [Cards Folder](http://localhost:8888/tree/Boards/Nucleo_F303RE_Zero/Cards). In particular in the [SLab Pin Locator STM32F303RE Board.pdf](http://localhost:8888/files/Boards/Nucleo_F303RE_Zero/Cards/SLab%20Pin%20Locator%20STM32F303RE%20Board.pdf) file. Observe that there are two versions for the **card**. One only shows the main **SLab** signals: $Vdd$, $GND$, both **DAC** channels and four **ADC** channels. The other shows all signals that you can use in the current implementation of the board **firmware**.\n",
    "\n",
    "When you print the card it is very important that the vertical side matxes, as exactly as possible, the $67.4 mm$ size indicated on the previous figure. If the size is not right, the pins will be misaligned. Note that a $2.54 mm \\: (0.1\")$ error corresponds to a mismatch that is equal to the connector pitch, so the error shall be as small as possible.\n",
    "\n",
    "One way to get the size right is to do a first test print of the cards and measure them to set the proper scale so that a second print gets the exact required size. The following **code cell** does just that for you."
   ]
  },
  {
   "cell_type": "code",
   "execution_count": 1,
   "metadata": {},
   "outputs": [
    {
     "name": "stdout",
     "output_type": "stream",
     "text": [
      "Required scale is  49.197080291970806 %\n"
     ]
    }
   ],
   "source": [
    "Original_Scale = 100   # Scale you used for printing (in %)\n",
    "H_Obtained     = 137   # Vertical dimension of one card after printing (in mm)\n",
    "\n",
    "# Calculate the scale we require\n",
    "Req_Scale = 67.4*Original_Scale/H_Obtained   \n",
    "print('Required scale is ',Req_Scale,'%')"
   ]
  },
  {
   "cell_type": "markdown",
   "metadata": {},
   "source": [
    "The card is also provided in the original **Excel** format so that you can modify it if you please. That way you can change the colors to suit your mood, put your name or whatever you please. The **Excel** file also contains the previous code that properly calculate the needed scale to print the card."
   ]
  },
  {
   "cell_type": "markdown",
   "metadata": {},
   "source": [
    "## Using the Card\n",
    "\n",
    "It is better to print the card on cardboard, but not all printers are capable of that. After printing the card, if it was printed on paper, glue it over something more sturdy like cardboard and cut-out the outside of the card. Yo can also laminate it so that it is protected from normal use. In this case, if the laminating film is sturdy enough, you don't need to print or glue on cardboard. Then cut-out the **morpho** connectors holes with something like an **X-Acto** knife. The following image shows a card after printing, cutting, laminating and cutting again. \n",
    "\n",
    "![Laminated Card](images/Board_04/slab_card.jpg)\n",
    "\n",
    "Then you will need to use something sharp, like a pin or needle to practice the four alignment holes. Holes `1`, `2` and `4` should be on the center of the indicated circles. Hole `3` should be in the line that separates rows 3 and 4, just where the arrows point at. Blame that on **Arduino** for using a non standard $50mil$ pitch when separating its two right side standard $100mil$ pitch connectors.\n",
    "\n",
    "Put the card over the board and secure it using four electrical male pins. You can cut them from a standard male pin header. just use one pin for each hole.\n",
    "\n",
    "![Pin Header](images/Board_04/pin_header.jpg)\n",
    "\n",
    "As indicated on the **PDF** file, the four pins go to the following **Arduino** pins:\n",
    "\n",
    "* Pin 1 on **IOREF** and the hole at the right of morpho **CN7** row 6  \n",
    "* Pin 2 on **VIN** and the hole at the right of morpho **CN7** row 12   \n",
    "* Pin 3 on **AVDD** and the hole at the left of morpho **CN10** between rows 3 and 4  \n",
    "* Pin 4 on **RX/D0** and the hole at the left of morpho **CN10** last row 19  \n",
    "\n",
    "After you are done you will get something like the figure shown below. Congratulations, no more searching for **SLab** pins on the **morpho** headers.\n",
    "\n",
    "![Board with card](images/Board_04/slab_card_onboard.jpg)\n",
    "\n",
    "When you now use the **SLab System** you will have an easier way to setup all the jumper wires. Specially if you use more than the eight standard wires.\n",
    "\n",
    "![SLab Setup](images/Board_04/system_with_card.jpg)"
   ]
  },
  {
   "cell_type": "markdown",
   "metadata": {},
   "source": [
    "## Nucleo Card\n",
    "\n",
    "If you seach the [Cards Folder](http://localhost:8888/tree/Boards/Nucleo_F303RE_Zero/Cards) you will see that there is another card available. The [STM32F303RE Nucleo64 Pin Locator.pdf](http://localhost:8888/files/Boards/Nucleo_F303RE_Zero/Cards/STM32F303RE%20Nucleo64%20Pin%20Locator.pdf) file contains a card for the **STM32F303RE Nucleo64** board that is not specific for the **SLab** system. If, at some point of time you are bored of **SLab** and you want to use [MBED](https://www.mbed.com/en/) to practice some **firmware** coding, you can use this card to easily locate all the port pins on the **morpho** connectors. If you just use the **Arduino** connectors, you don't need this card at all. In fact, this card blocks those pins.\n",
    "\n",
    "![Board with Nucleo card](images/Board_04/nucleo_card_onboard.jpg)\n",
    "\n",
    "As in the previous case, this file is also available in **Excel** format. In this case having an editable file is more interesting because all **Nucleo64** boards have the same form factor but non always the same port signals distribution."
   ]
  },
  {
   "cell_type": "markdown",
   "metadata": {},
   "source": [
    "## Document license\n",
    "\n",
    "Copyright  ©  Vicente Jiménez (2019)  \n",
    "This work is licensed under a Creative Common Attribution-ShareAlike 4.0 International license.  \n",
    "This license is available at http://creativecommons.org/licenses/by-sa/4.0/\n",
    "\n",
    "<img  src=\"images/cc_sa.png\" width=\"200\">"
   ]
  },
  {
   "cell_type": "code",
   "execution_count": null,
   "metadata": {},
   "outputs": [],
   "source": []
  }
 ],
 "metadata": {
  "kernelspec": {
   "display_name": "Python 3",
   "language": "python",
   "name": "python3"
  },
  "language_info": {
   "codemirror_mode": {
    "name": "ipython",
    "version": 3
   },
   "file_extension": ".py",
   "mimetype": "text/x-python",
   "name": "python",
   "nbconvert_exporter": "python",
   "pygments_lexer": "ipython3",
   "version": "3.7.1"
  }
 },
 "nbformat": 4,
 "nbformat_minor": 2
}
