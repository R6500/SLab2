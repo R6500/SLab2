{
 "cells": [
  {
   "cell_type": "markdown",
   "metadata": {},
   "source": [
    "<img style=\"float: right;\"  src=\"images/LogoP.jpg\" width=\"200\">\n",
    "\n",
    "# AC Module Reference\n",
    "\n",
    "This a Jupyter Notebook Reference document for the SLab projects\n",
    "\n",
    "Version 1.0 (7/3/2019) License information is at the end of the document\n",
    "\n",
    "---"
   ]
  },
  {
   "cell_type": "markdown",
   "metadata": {},
   "source": [
    "This **AC Module Reference Notebook** describes the **AC Module** commands.  \n",
    "Those are the commands contained in the **ac.py** source file."
   ]
  },
  {
   "cell_type": "markdown",
   "metadata": {},
   "source": [
    "\n",
    "## Import and board connection\n",
    "\n",
    "In order to use the AC commands, we first need to import the AC module. This is an interactive módule, so, in order to execute the code examples, you should import it executing the cell below.\n",
    "\n",
    "We will also import the main **SLab** module as it includes some needed commands."
   ]
  },
  {
   "cell_type": "code",
   "execution_count": null,
   "metadata": {},
   "outputs": [],
   "source": [
    "# Import the main SLab module\n",
    "import slab\n",
    "\n",
    "# Import the AC module\n",
    "import slab.ac as ac"
   ]
  },
  {
   "cell_type": "markdown",
   "metadata": {},
   "source": [
    "If you want to try commands that interact with the **hardware board** using the examples in this document, you will need to connect to the board. You can use the following code cell for that. Note, however, that if you are using this document as reference while working on another SLab document, you can only have one connection, at the same time, with the board."
   ]
  },
  {
   "cell_type": "code",
   "execution_count": null,
   "metadata": {},
   "outputs": [],
   "source": [
    "boardFolder = ''                                # Board folder (leave '' if you use only one board)\n",
    "slab.setFilePrefix('../Files/')                 # Set File Prefix\n",
    "slab.setCalPrefix('Calibrations/'+boardFolder)  # Set Calibration Prefix         \n",
    "slab.connect()                                  # Connect to the board"
   ]
  },
  {
   "cell_type": "markdown",
   "metadata": {},
   "source": [
    "When you finish interacting with the board you can disconnect from it using the following code."
   ]
  },
  {
   "cell_type": "code",
   "execution_count": null,
   "metadata": {},
   "outputs": [],
   "source": [
    "# Disconnect from the board\n",
    "slab.disconnect()"
   ]
  },
  {
   "cell_type": "markdown",
   "metadata": {},
   "source": [
    "# Command Index\n",
    "\n",
    "The AC SLab module contains several commands that ease the AC measurements. The following list contains all the commands in the AC module. You can use the hiperlinks to jump to one of the commands.\n",
    "\n",
    "###  Frequency Response Commands\n",
    "\n",
    "[sineGain](#sineGain) : Measures gain at one ADC for a sinewave tone   \n",
    "[sineGainAll](#sineGainAll) : Measures gain at all ADCs for a sinewave tone  \n",
    "[freqResponse](#freqResponse) : Measures gain for one ADC and several frequencies    \n",
    "[freqResponseAll](#freqResponseAll) : Measures gain for all ADCs and several frequencies    \n",
    "\n",
    "###  Frequency Plot Commands   \n",
    "\n",
    "[plotBode](#plotBode) : Draws a Bode plot  \n",
    "[plotFreq](#plotFreq) : Draws a linear frequency response plot    \n",
    "[bodeResponse](#bodeResponse) : Measures and draws a Bode plot    \n",
    "\n",
    "###  Utility Functions  \n",
    "\n",
    "[logRange](#logRange) : Generate a log spaced range of numbers  \n",
    "[f2w](#f2w) : Convert from Hz to rad/s     \n",
    "[w2f](#w2f) : Convert from rad/s to Hz  \n",
    "[dB](#dB) : Convert from linear gain to dB  \n",
    "[magPhase](#magPhase) : Convert from complex value to magnitude and phase  \n",
    "[mag](#mag) : Obtain the magnitude value of a complex number  \n",
    "[phase](#phase) : Obtain the phase value of a complex number  \n"
   ]
  },
  {
   "cell_type": "markdown",
   "metadata": {},
   "source": [
    "<a id='system'></a>\n",
    "\n",
    "<div class=\"alert alert-block alert-info\">\n",
    "<BR>\n",
    "<font size=\"8\"> Frequency Response Commands </font> \n",
    "<BR>\n",
    "</div>"
   ]
  },
  {
   "cell_type": "markdown",
   "metadata": {},
   "source": [
    "Commands in this section are useful to measure the response of a circuit against tones of constant frequency. The commands in this section use the slab.py module wave commands to generate and measure the response of the circuit against sine waves.\n",
    "\n",
    "Note that the **SLab** system is not designed for frequency response characterization. As the hardware boards don't feature any amplification circuit, dynamic range is poor. Using 12 bit ADCs and DACs we can get a maximum dynamic range of 72dB but that's only true at ideal conditions. Taking into account that the signals won't usually reach the full range of the converters and the measurement noise, the dynamic range will be much lower. For instance, with a 10mV noise and signals that only reach half Vdd range, the dynamic range will be reduced to 44dB. That's only two decades for a first order zero or pole.\n",
    "\n",
    "In practice, using an experimental setup that makes uses of most of the ADC range you can obtain about 60 dB dynamic range in magnitude measurements as dB measurements are logarithmic and thus are quite forgiving for noise errors. Phase measurements, however, will be contaminated with noise much before reaching this point.\n",
    "\n",
    "You should also take care of low frequency noise as it will limit the available dynamic range.\n",
    "\n",
    "Frequency response commands use the base transient and wave commands to operate. So, they modify any previous setting configured with **setSampleTime**, **setTransientStorage**, **setWaveFrequency** and erase any wavetable loaded with the any waveform generation command."
   ]
  },
  {
   "cell_type": "markdown",
   "metadata": {},
   "source": [
    "<a id='sineGain'></a>\n",
    "\n",
    "## sineGain\n",
    "\n",
    "Calculates complex gain for a give frequency.  \n",
    "Signal is generated at **DAC1** and output is read at one **ADC**.\n",
    "\n",
    ">**sineGain(v1,v2,freq,channel,npre,maxfs)**  \n",
    ">Required parameters:  \n",
    ">$\\quad$ v1 : min value of signal  \n",
    ">$\\quad$ v2 : max value of signal  \n",
    ">$\\quad$ freq : frequency (Hz)  \n",
    ">Optional parameters:    \n",
    ">$\\quad$ channel : ADC channel to read (defaults to 1)  \n",
    ">$\\quad$ npre : number of cycles before measurement (defaults to 5)  \n",
    ">$\\quad$ maxfs : max sample frequency (at least 10*freq)(Defaults to maximum reported by board)  \n",
    ">Returns complex gain  \n",
    " \n",
    "Obtains the complex gain of a circuit against a sine wave tone. The tone will be applied using **DAC1** and the response of the circuit will be read at the indicated **ADC** channel (1 by default).\n",
    "\n",
    "![Sine Gain](images/ac/sineGain.png)\n",
    " \n",
    "The sine wave will be generated at **DAC1** as:\n",
    "\n",
    "$$A_{DAC}=\\frac{v_2 - v_1}{2} \\qquad M_{DAC}=\\frac{v_1+v_2}{2} \\qquad DAC_1(t)=M_{DAC} + A_{DAC}sin(2\\pi\\cdot freq \\cdot t)$$\n",
    " \n",
    "So the low peak of the wave will be at **v1** and the high peak of the wave at **v2**.\n",
    "\n",
    "The output of the circuit read at the ADC is processed to obtain the unknowns $M_{ADC}$, $A_{ADC}$ and $\\theta_{ADC}$ that give the best approximation to:\n",
    "\n",
    "$$ADC(t) \\approx M_{ADC} + A_{ADC} sin(2\\pi \\cdot freq \\cdot t + \\theta_{ADC})$$\n",
    " \n",
    "After solving for the unknown values, the complex gain is reported as:\n",
    "\n",
    "$$gain = \\frac{A_{ADC}}{A_{DAC}}cos(\\theta_{ADC})+j\\frac{A_{ADC}}{A_{DAC}}sin(\\theta_{ADC})$$\n",
    "\n",
    "Parameter **npre** selects the number of sine cycles to produce before start measuring the circuit and defaults to 5 cycles.   \n",
    "\n",
    "Paremeter **maxfs** selets the maximum sample frequency to use and defaults the maximum reported by on the board. If you get a **Sample Overrun** exception it means that measurements are not fast enough for the maximum sample frequency so you will need to select a lower sample frequency. Note that the command will generate an exception if the maximum sample frequency is not, at least, 4 times the tone frequency to use.\n",
    "\n",
    "At tone frequencies close to the maximum limit, several cycles will be measured to reduce the errors. However, errors will increase the closer you get to the limit, especially in the phase response as any uncalibrated delay between the DAC and the ADC will produce a phase response error.\n",
    "\n",
    "If the maximum or minimum of the output waveform is too close to the supplies, a saturation warning will be generated.\n"
   ]
  },
  {
   "cell_type": "markdown",
   "metadata": {},
   "source": [
    "---\n",
    "\n",
    "**Example**  \n",
    "Show the response of a first order low pass filter at the corner frequency.\n",
    "\n",
    "---\n",
    "\n",
    "We will test the following circuit.\n",
    "\n",
    "![RC](images/ac/RC.png)\n",
    "\n",
    "The corner frequency is:\n",
    "\n",
    "$$f_c = \\frac{1}{2\\pi(R1\\cdot C1)} \\approx 723Hz$$\n",
    "\n",
    "We can obtain the response of the circuit at this frequency using the following code. Note that we use the default ADC channel 1."
   ]
  },
  {
   "cell_type": "code",
   "execution_count": null,
   "metadata": {},
   "outputs": [],
   "source": [
    "# EXAMPLE : Response of a RC circuit at the corner frequency\n",
    "# Theoretical result shall be 0.71 magnitude and -45 deg phase\n",
    "\n",
    "gain = ac.sineGain(1.0,2.0,723.0)\n",
    "\n",
    "print('Gain =',gain)\n",
    "m,p = ac.magPhase(gain)\n",
    "print('Magnitude =',m)\n",
    "print('Phase =',p)      "
   ]
  },
  {
   "cell_type": "markdown",
   "metadata": {},
   "source": [
    "<a id='sineGainAll'></a>\n",
    "\n",
    "## sineGainAll\n",
    "\n",
    "Calculates complex gain for a give frequency\n",
    "Signal is generated at **DAC1** and output is read at all **ADCs**\n",
    "\n",
    ">**sineGainAll(v1,v2,freq,npre,maxfs)**  \n",
    ">Required parameters:  \n",
    ">$\\quad$ v1 : min value of signal  \n",
    ">$\\quad$ v2 : max value of signal  \n",
    ">$\\quad$ freq : frequency (Hz)  \n",
    ">Optional parameters:    \n",
    ">$\\quad$ npre : number of cycles before measurement (defaults to 5)  \n",
    ">$\\quad$ maxfs : max sample frequency (at least 10*freq)(Defaults to maximum reported by board)  \n",
    ">Returns list of complex gains (one for each ADC)  \n",
    "\n",
    "Obtains the complex gain of a circuit against a sine wave tone for all **ADCs**. \n",
    "The tone will be applied using **DAC1** and the response of the circuit will be read at all **ADC** channels in sequence.\n",
    "Data is returned as a list of complex gains with one element for each ADC.\n"
   ]
  },
  {
   "cell_type": "markdown",
   "metadata": {},
   "source": [
    "---\n",
    "\n",
    "**Example**  \n",
    "Show the response of a second order low pass filter at the corner frequency.\n",
    "\n",
    "---\n",
    "\n",
    "We will test the following circuit.\n",
    "\n",
    "![RC](images/ac/RC2.png)\n",
    "\n",
    "We have two cascade filters with the same corner frequency:\n",
    "\n",
    "$$f_c = \\frac{1}{2\\pi(R1\\cdot C1)} = \\frac{1}{2\\pi(R2\\cdot C2)} = 1592Hz$$\n",
    "\n",
    "We can obtain the response of the circuit at the two capacitor nodes.\n",
    "\n",
    "The code will generate data for all ADCs (8 in the F303 Board), but only ADC1 and ADC2 are usefull."
   ]
  },
  {
   "cell_type": "code",
   "execution_count": null,
   "metadata": {},
   "outputs": [],
   "source": [
    "# EXAMPLE : Response of a RC circuit at the corner frequency\n",
    "# Theoretical result shall be 0.71 magnitude and -45 deg phase for ADC1\n",
    "# Theoretical result shall be 0.5  magnitude and -90 deg phase for ADC1\n",
    "\n",
    "table = ac.sineGainAll(1.0,2.0,1592.0)\n",
    "\n",
    "print(table)\n",
    "print()\n",
    "\n",
    "m,p = ac.magPhase(table[0])\n",
    "print('ADC1 Magnitude =',m,'Phase =',p)    \n",
    "m,p = ac.magPhase(table[1])\n",
    "print('ADC2 Magnitude =',m,'Phase =',p)"
   ]
  },
  {
   "cell_type": "markdown",
   "metadata": {},
   "source": [
    "<a id='freqResponse'></a>\n",
    "\n",
    "## freqResponse\n",
    "\n",
    "Obtain the frequency response of a circuit\n",
    "Signal is generated at **DAC1** and output is read at **ADC1**\n",
    "\n",
    ">**freqResponse(v1,v2,fvector,channel,npre,maxfs)**  \n",
    ">Required parameters:  \n",
    ">$\\quad$ v1 : min value of signal  \n",
    ">$\\quad$ v2 : max value of signal  \n",
    ">$\\quad$ fvector : vector of frequencies to test  \n",
    ">Optional parameters:    \n",
    ">$\\quad$ channel : Channel to measure (defaults to 1)  \n",
    ">$\\quad$ npre : number of cycles before measurement (defaults to 5)  \n",
    ">$\\quad$ maxfs : max sample frequency (at least 10*freq)(Defaults to maximum reported by board)  \n",
    ">Returns a vector of complex gains  \n",
    "\n",
    "This command computes the complex gain of a circuit by calling the **sineGain** command for the list of frequencies contained in the **fvector** parameter. The command **bodeResponse** issues this command to get the plot data.\n",
    "\n",
    "That way, the bodeResponse command:\n",
    "\n",
    "> slab.bodeResponse(0.5,2.5,10.0,8000.0,10,npre=5)\n",
    "\n",
    "can be implemented as:\n",
    "\n",
    "> fv = logRange(10.0,8000.0,ppd=10)  \n",
    "> gv = freqResponse(0.5,2.5,fv,npre=5)  \n",
    "> plotBode(fv,gv)  "
   ]
  },
  {
   "cell_type": "markdown",
   "metadata": {},
   "source": [
    "---\n",
    "\n",
    "**Example**  \n",
    "Compare the ideal and real response of a first order low pass filter\n",
    "\n",
    "---\n",
    "\n",
    "We will test the following circuit.\n",
    "\n",
    "![RC-10k](images/ac/RC-10k.png)\n",
    "\n",
    "Then we use the following code to compare the real and ideal response.  \n",
    "As you can see you get some measurement errors, specially in the phase, at the higher frequencies."
   ]
  },
  {
   "cell_type": "code",
   "execution_count": null,
   "metadata": {},
   "outputs": [],
   "source": [
    "# EXAMPLE : Compare theoretical and measured response of a RC filter\n",
    "\n",
    "fv = ac.logRange(10.0,2000.0,10.0)\n",
    "\n",
    "R = 10000.0\n",
    "C = 220.0e-9\n",
    "fc = ac.w2f(1/(R*C)) \n",
    "\n",
    "g0 = 1.0/(1.0+1j*fv/fc)\n",
    "g = ac.freqResponse(0.5,2.5,fv,npre=5,maxfs=35000)\n",
    "\n",
    "ac.plotBode([fv,fv],[g0,g],[\"Ideal\",\"Real\"])\n"
   ]
  },
  {
   "cell_type": "markdown",
   "metadata": {},
   "source": [
    "<a id='freqResponseAll'></a>\n",
    "\n",
    "## freqResponseAll\n",
    "\n",
    "Obtain the frequency response of a circuit for all channels\n",
    "Signal is generated at **DAC1** and output is read at all **ADCs**\n",
    "\n",
    ">**freqResponseAll(v1,v2,fvector,npre,maxfs)**  \n",
    ">Required parameters:  \n",
    ">$\\quad$ v1 : min value of signal  \n",
    ">$\\quad$ v2 : max value of signal  \n",
    ">$\\quad$ fvector : vector of frequencies to test  \n",
    ">Optional parameters:    \n",
    ">$\\quad$ npre : number of cycles before measurement (defaults to 5)  \n",
    ">$\\quad$ maxfs : max sample frequency (at least 10*freq)(Defaults to maximum reported by board)  \n",
    ">Returns a list of vectors of complex gains  \n",
    "\n",
    "This command computes the complex gain of a circuit at all ADCs by calling the **sineGain** command for the list of frequencies contained in the **fvector** parameter. \n",
    "So it is similar to **freqResponse** but measurements are performed at all ADCs instead of only using ADC1.\n",
    "Data is returned as a list of complex gains with one element for each ADC.\n"
   ]
  },
  {
   "cell_type": "markdown",
   "metadata": {},
   "source": [
    "<a id='system'></a>\n",
    "\n",
    "<div class=\"alert alert-block alert-info\">\n",
    "<BR>\n",
    "<font size=\"8\"> Frequency Plot Commands </font> \n",
    "<BR>\n",
    "</div>"
   ]
  },
  {
   "cell_type": "markdown",
   "metadata": {},
   "source": [
    "Commands in this section draw plots of magnitude and phase against a horizontal frequency axis."
   ]
  },
  {
   "cell_type": "markdown",
   "metadata": {},
   "source": [
    "<a id='plotBode'></a>\n",
    "\n",
    "## plotBode\n",
    "\n",
    "Draws a bode plot\n",
    "It uses a logarithmic frequency axe\n",
    "By default it uses dB for the magnitude\n",
    "\n",
    ">**plotBode(f,g,labels,linear)**  \n",
    ">Required parameters  \n",
    ">$\\quad$ f : Frequency vector or list of vectors (Hz)  \n",
    ">$\\quad$ g : Gain vector or list of vectors (Complex)  \n",
    ">Optional parameters:  \n",
    ">$\\quad$ labels : Labels for each curve  \n",
    ">$\\quad$ linear : Use linear vertical axis instead of dB  \n",
    ">Returns nothing  \n",
    "\n",
    "Generates a bode plot from frequencies and complex gains.\n",
    "Frequency horizontal axis will feature logarithmic spacing.\n",
    "\n",
    "This function can be called in two modes:\n",
    "\n",
    "In the first mode f and g are lists or numpy arrays that contain frequencies and complex gains. The command will show a bode plot for this data.\n",
    "\n",
    "In the second mode both f and g are lists of several frequency and gain vectors. The command will superpose several bode plots in this case.\n",
    "\n",
    "If we use **linear = True** , magnitudes will show in linear values instead of **dB** so the plot will no longer be “Bode” but “Frequency Response”.\n"
   ]
  },
  {
   "cell_type": "code",
   "execution_count": null,
   "metadata": {},
   "outputs": [],
   "source": [
    "# EXAMPLE : Draw a bode plot of a theoretical 100Hz low pass filter\n",
    "\n",
    "freq = ac.logRange(10.0,10000.0)\n",
    "g1 = 1.0/(1.0+1j*freq/100.0)\n",
    "ac.plotBode(freq,g1)"
   ]
  },
  {
   "cell_type": "code",
   "execution_count": null,
   "metadata": {},
   "outputs": [],
   "source": [
    "# EXAMPLE : Draw a theoretical bode plot of two filters\n",
    "# 100Hz low pass filter\n",
    "#  1kHz low pass filter\n",
    "\n",
    "freq = ac.logRange(10.0,10000.0)\n",
    "g1 = 1.0/(1.0+1j*freq/100.0)\n",
    "g2 = 1.0/(1.0+1j*freq/1000.0)\n",
    "ac.plotBode([freq,freq],[g1,g2],[\"1k\",\"10k\"])"
   ]
  },
  {
   "cell_type": "markdown",
   "metadata": {},
   "source": [
    "<a id='plotFreq'></a>\n",
    "\n",
    "## plotFreq\n",
    "\n",
    "Draws a frequency plot using a linear frequency axis\n",
    "\n",
    ">**plotFreq(f,v,labels)**  \n",
    ">Required parameters  \n",
    ">$\\quad$ f : Frequency vector or list of vectors (Hz)  \n",
    ">$\\quad$ v : Complex vector or list of vectors  \n",
    ">Optional parameters:  \n",
    ">$\\quad$ labels : Labels for each curve  \n",
    ">Returns nothing  \n",
    "\n",
    "This command is similar to the **plotBode** command but the spacing in the frequency horizontal axis will be linear instead of logarithmic.\n",
    "Data in the vertical Y axis will always be linear also."
   ]
  },
  {
   "cell_type": "code",
   "execution_count": null,
   "metadata": {},
   "outputs": [],
   "source": [
    "# EXAMPLE : Draw a linear frequency response plot of two filters\n",
    "# 100Hz low pass filter\n",
    "#  1kHz low pass filter\n",
    "\n",
    "freq = ac.logRange(10.0,10000.0)\n",
    "g1 = 1.0/(1.0+1j*freq/100.0)\n",
    "g2 = 1.0/(1.0+1j*freq/1000.0)\n",
    "ac.plotFreq([freq,freq],[g1,g2],[\"1k\",\"10k\"])"
   ]
  },
  {
   "cell_type": "markdown",
   "metadata": {},
   "source": [
    "<a id='bodeResponse'></a>\n",
    "\n",
    "## bodeResponse\n",
    "\n",
    "Measures and draws a bode plot\n",
    "\n",
    ">**bodeResponse(v1,v2,fmin,fmax,ppd,channel,npre,maxfs,returnData)**   \n",
    ">Required parameters:  \n",
    ">$\\quad$ v1 : min value of signal  \n",
    ">$\\quad$ v2 : max value of signal  \n",
    ">$\\quad$ fmin : minimum frequency  \n",
    ">$\\quad$ fmax : maximum frequency  \n",
    ">Optional parameters:    \n",
    ">$\\quad$ ppd : number of points per decade (defaults to 10)  \n",
    ">$\\quad$ channel : ADC channel to use (defaults to 1)  \n",
    ">$\\quad$ npre : number of cycles before measurement (defaults to 5)  \n",
    ">$\\quad$ maxfs : max sample frequency (at least 10*freq)(Defaults to maximum reported by board)  \n",
    ">$\\quad$ returnData : Enable return of plot data (Defaults to False)  \n",
    ">Returns plot data if enabled (see also setPlotReturnData):  \n",
    ">$\\quad$ Tuple of two elements:  \n",
    ">$\\quad$ Frequencies vector  \n",
    ">$\\quad$ Complex gains vector  \n",
    "\n",
    "This command makes successive calls to **sineGain** to obtain the frequency response of a circuit. After all measurements, results are shown on a bode plot.\n",
    "\n",
    "Parameteres **v1**, **v2**, **npre** and **maxfs** are the same than in the **sineGain** command. Refer to this command for a deeper explanation.  \n",
    "Frequencies are spaced geometricaly (linear in logarithmic space). Parameter **fmin** set the minimum frequency to measure, **fmax** the maximum and **ppd** the number of frequencies to test at each decade. If **ppd** is omitted it defaults to 10.\n",
    "\n",
    "The command returns a tuple of two vectors with the frequency values and the complex gains for the circuit.\n",
    "\n",
    ">$\\quad$fvector, gvector = bodeResponse( .... )\n",
    "\n",
    "Phase measurement is very sensitive to timing errors. Errors in the phase response can be high for frequencies over 1/20 of the maximum sample frequency of the board if signal level is low. \n",
    "In the same way, high attenuation values can get outside of the measurement limits for the SLab system and give wrong results. Special care should be taken for very low frequencies as there could be high levels of low frequency noise,\n",
    "\n",
    "If optional parameter **returnData** is True or **setPlotReturnData(True)** was called previously, this command returns a tuple with two numpy arrays: frequencies and complex gains.\n"
   ]
  },
  {
   "cell_type": "markdown",
   "metadata": {},
   "source": [
    "---\n",
    "\n",
    "**Example**  \n",
    "Show the bode response of a first order low pass filter\n",
    "\n",
    "---\n",
    "\n",
    "We will test the following circuit.\n",
    "\n",
    "![RC-10k](images/ac/RC-10k.png)\n",
    "\n",
    "To obtain the response just execute the following code cell after mounting the circuit.  \n",
    "You can see that we will have measurement errors, specially in the phase, at the higher frequencies.  "
   ]
  },
  {
   "cell_type": "code",
   "execution_count": null,
   "metadata": {},
   "outputs": [],
   "source": [
    "# EXAMPLE : Bode Plot of a first order low pass filter\n",
    "\n",
    "ac.bodeResponse(0.5,2.5,10.0,8000.0,10,npre=5)"
   ]
  },
  {
   "cell_type": "markdown",
   "metadata": {},
   "source": [
    "<a id='system'></a>\n",
    "\n",
    "<div class=\"alert alert-block alert-info\">\n",
    "<BR>\n",
    "<font size=\"8\"> Utility Functions </font> \n",
    "<BR>\n",
    "</div>"
   ]
  },
  {
   "cell_type": "markdown",
   "metadata": {},
   "source": [
    "Functions in this section take a **float** a **complex** value or a **numpy** array and return an object of the same kind with the same size. For floats and complex values, the function is executed once. For numpy arrays, the function is executed for each element of the array returning an array with the same number of elements than the input array.\n",
    "As these commands don't use the hardware board, they are all **auxiliary** so you don't need to connect to use them."
   ]
  },
  {
   "cell_type": "markdown",
   "metadata": {},
   "source": [
    "<a id='logRange'></a>\n",
    "\n",
    "## logRange\n",
    "\n",
    "Generates a logarithmic spaced range of values\n",
    "    \n",
    ">**logRange(start,end,ndec,ppd)**  \n",
    ">Parameters:  \n",
    ">$\\quad$ start : start value  \n",
    ">$\\quad$ end : end value  \n",
    ">$\\quad$ ndec : number of decades  \n",
    ">Optional parameters:    \n",
    ">$\\quad$ ppd : points per decade  (defaults to 10)  \n",
    ">Either the end or the ndec parameters must be supplied      \n",
    ">Returns a vector or values     \n",
    "\n",
    "Creates a geometrically spaced (linear log spaced) numpy array that starts at the given value. The end of the space can be indicated with the **end** parameter or the **ndec** parameter.\n",
    "The **ppd** parameter indicates the number of points per decade which defaults to 10."
   ]
  },
  {
   "cell_type": "code",
   "execution_count": null,
   "metadata": {},
   "outputs": [],
   "source": [
    "# EXAMPLES\n",
    "\n",
    "fstart =  10\n",
    "fend   = 100\n",
    "\n",
    "f = ac.logRange(fstart,fend)           # Range with default 10 ppd\n",
    "print(f)\n",
    "print()\n",
    "\n",
    "f = ac.logRange(fstart,fend,ppd=20)   # Range with 20 ppd\n",
    "print(f)\n",
    "print()\n",
    "\n",
    "f = ac.logRange(fstart,ndec=2)        # 2 decades from fstart with default 10 ppd\n",
    "print(f)\n",
    "print()\n",
    "\n",
    "f = ac.logRange(fstart,ndec=2,ppd=5)   # 2 decades with custom ppd\n",
    "print(f)"
   ]
  },
  {
   "cell_type": "markdown",
   "metadata": {},
   "source": [
    "<a id='f2w'></a>\n",
    "\n",
    "## f2w\n",
    "\n",
    "Converts frequency from Hz to rad/s  \n",
    "Returns frequency in rad/s     "
   ]
  },
  {
   "cell_type": "code",
   "execution_count": null,
   "metadata": {},
   "outputs": [],
   "source": [
    "# EXAMPLE\n",
    "\n",
    "f = 1000\n",
    "w = ac.f2w(f)\n",
    "print(f,'Hz equals',w,'rad/s')"
   ]
  },
  {
   "cell_type": "markdown",
   "metadata": {},
   "source": [
    "<a id='w2f'></a>\n",
    "\n",
    "## w2f\n",
    "\n",
    "Converts frequency from rad/s to Hz  \n",
    "Returns frequency in Hz "
   ]
  },
  {
   "cell_type": "code",
   "execution_count": null,
   "metadata": {},
   "outputs": [],
   "source": [
    "# EXAMPLE\n",
    "\n",
    "w = 6283\n",
    "f = ac.w2f(w)\n",
    "print(w,'rad/s equals',f,'Hz')"
   ]
  },
  {
   "cell_type": "markdown",
   "metadata": {},
   "source": [
    "<a id='dB'></a>\n",
    "\n",
    "## dB\n",
    "\n",
    "Converts gain from linear to dB values  \n",
    "Formula applied is:  \n",
    "\n",
    "$\\qquad dB(value) = 20 \\cdot log_{10}(value)$"
   ]
  },
  {
   "cell_type": "code",
   "execution_count": null,
   "metadata": {},
   "outputs": [],
   "source": [
    "# EXAMPLE\n",
    "\n",
    "g = 20\n",
    "g_dB = ac.dB(g)\n",
    "print('Linear gain of',g,'equals',g_dB,'dB')"
   ]
  },
  {
   "cell_type": "markdown",
   "metadata": {},
   "source": [
    "<a id='magPhase'></a>\n",
    "\n",
    "## magPhase\n",
    "\n",
    "Take one complex value or a numpy array of complex values and generates two floats or arrays that include the magnitude and phase of each input element. \n",
    "Phase is given in degrees (0 to 360).  "
   ]
  },
  {
   "cell_type": "code",
   "execution_count": null,
   "metadata": {},
   "outputs": [],
   "source": [
    "# EXAMPLE\n",
    "\n",
    "value = 1 + 1j\n",
    "magnitude,phase = ac.magPhase(value)\n",
    "print('Complex value',value,'has',magnitude,'magnitude and',phase,'deg phase')"
   ]
  },
  {
   "cell_type": "markdown",
   "metadata": {},
   "source": [
    "<a id='mag'></a>\n",
    "\n",
    "## mag\n",
    "\n",
    "Take one complex or real value or a numpy array of values and generates one float or one array that include the magnitude of each input element. "
   ]
  },
  {
   "cell_type": "code",
   "execution_count": null,
   "metadata": {},
   "outputs": [],
   "source": [
    "# EXAMPLE\n",
    "\n",
    "value = 1 + 1j\n",
    "magnitude = ac.mag(value)\n",
    "print('Complex value',value,'has',magnitude,'magnitude')"
   ]
  },
  {
   "cell_type": "markdown",
   "metadata": {},
   "source": [
    "<a id='phase'></a>\n",
    "\n",
    "## phase\n",
    "\n",
    "Take one complex value or a numpy array of values and generates one float or one array that include the phase value, in degrees, of each input element. "
   ]
  },
  {
   "cell_type": "code",
   "execution_count": null,
   "metadata": {},
   "outputs": [],
   "source": [
    "# EXAMPLE\n",
    "\n",
    "value = 1 + 1j\n",
    "phase = ac.phase(value)\n",
    "print('Complex value',value,'has',phase,'deg phase')"
   ]
  },
  {
   "cell_type": "markdown",
   "metadata": {},
   "source": [
    "## Document license\n",
    "\n",
    "Copyright  ©  Vicente Jiménez (2019)  \n",
    "This work is licensed under a Creative Common Attribution-ShareAlike 4.0 International license.  \n",
    "This license is available at http://creativecommons.org/licenses/by-sa/4.0/\n",
    "\n",
    "<img  src=\"images/cc_sa.png\" width=\"200\">"
   ]
  },
  {
   "cell_type": "code",
   "execution_count": null,
   "metadata": {},
   "outputs": [],
   "source": []
  }
 ],
 "metadata": {
  "kernelspec": {
   "display_name": "Python 3",
   "language": "python",
   "name": "python3"
  },
  "language_info": {
   "codemirror_mode": {
    "name": "ipython",
    "version": 3
   },
   "file_extension": ".py",
   "mimetype": "text/x-python",
   "name": "python",
   "nbconvert_exporter": "python",
   "pygments_lexer": "ipython3",
   "version": "3.7.1"
  }
 },
 "nbformat": 4,
 "nbformat_minor": 2
}
