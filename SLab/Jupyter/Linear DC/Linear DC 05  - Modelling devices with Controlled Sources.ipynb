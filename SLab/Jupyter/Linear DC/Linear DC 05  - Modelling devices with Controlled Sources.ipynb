{
 "cells": [
  {
   "cell_type": "markdown",
   "metadata": {},
   "source": [
    "<img style=\"float: right;\"  src=\"images/LogoP.jpg\" width=\"200\">\n",
    "\n",
    "# Linear DC 05 - Modelling devices with Controlled Sources\n",
    "\n",
    "This document deals with a new kind of component: the **Controlled Sources**. This component is very usefull for modelling other more complex components.\n",
    "\n",
    "Version 1.0 (7/4/2019)  \n",
    "License information is at the end of the document\n",
    "\n",
    "---\n",
    "**Bill Of Materials (BOM):**\n",
    "\n",
    "* 2x $1k\\Omega$ Resistors\n",
    "* One BC547B NPN Transistor\n",
    "\n",
    "---"
   ]
  },
  {
   "cell_type": "markdown",
   "metadata": {},
   "source": [
    "## Controlled Sources\n",
    "\n",
    "Up to this point we have seen three kinds of components: the **resistor** and the two independent **voltage** and **current** sources. As the resistor is a **linear** component, any circuit with only these three kinds of components is **linear**. Remember that the independent supplies are not linear. They are the **input** variables of our circuit. To put it in mathematical terms, all the components, **except the sources**, define the linear function and **the sources** are the function's inputs.\n",
    "\n",
    "In this chapter we will introduce the **controlled sources** They are like the independent souces but they are not **independent** because the **voltage** or **current** they force on the circuit depend on a **voltage** or **current** circuit variable. Note that, as they are not **independent**, they are not inputs to our circuit, they are part of the circuit's function like the resistors. To differentiate them from the **independent** supplies we will draw them as a rhomb shape.\n",
    "\n",
    "![Controlled V Source](images\\Linear_DC_05\\vctrl.png)\n",
    "\n",
    "A **controlled source** can force a **voltage** between its terminals or can force a **current** from one terminal to the other. This forced magnitude can be a function of any set of **voltages** or **currents** on the circuit. The following image shows a generic **Controlled Current Source**.\n",
    "\n",
    "![Controlled I Source](images\\Linear_DC_05\\cctrl.png)\n",
    "\n",
    "The **function** that controls the source can be any function you can imagine that depends on **voltages** or **currents** defined on any place of the circuit."
   ]
  },
  {
   "cell_type": "markdown",
   "metadata": {},
   "source": [
    "## Modelling a device\n",
    "\n",
    "If you search an electronics shop for **controlled sources** you will see that they don't sell them. This is because controlled sources don't exist. They are modelling tools.\n",
    "\n",
    "There are a lot o different electronic components and most of them have a behavior much more complex that the one of a resistor. In order to analyze how they behave inside a circuit we need to know how they modify the circuit's voltages and currents. Just think of a resistor and its **Ohm's Law** equation:\n",
    "\n",
    "![Ohm's Law](images\\Linear_DC_05\\ohm.png)\n",
    "\n",
    "You can model this resistor with a **voltage** or with a **current** dependent source:\n",
    "\n",
    "![Resistor's Models](images\\Linear_DC_05\\rmodel.png)\n",
    "\n",
    "From the circuit solution point of view it makes no difference if we just use the **Ohm's Law** equation or if we model the resistor with the **controlled sources**. The **controlled sources** just make the component equations more explicit.\n",
    "\n",
    "Note that the model only needs to be **good enough** for its intended use. For instance, we usually don't consider the temperature dependence on the resistors because, for most applications, considering the resistors independent on temperature don't change the results too much and ease a lot the solution of the circuits.\n",
    "\n",
    "Let's consider another component, the NPN BJT transistor. It can be modelled with three controlled sources.\n",
    "\n",
    "![NPN BJT Model](images\\Linear_DC_05\\npn_model2.png)\n",
    "\n",
    "The functions that define the operation of the sources are quite complex that's why two of them are not shown in the above figure:\n",
    "\n",
    "$$I_{BE} = \\frac{I_S}{\\beta_F}\\left( e^{V_{BE}/V_T}-1\\right)\n",
    "\\qquad I_{BC} = \\frac{I_S}{\\beta_R}\\left( e^{V_{BC}/V_T}-1\\right)$$\n",
    "\n",
    "Where $V_{BE}$ is the voltage between the $B$ and $E$ terminals and $V_{BC}$ is the voltage between the $B$ and $C$ terminals.\n",
    "\n",
    "Observe that we could just write down the equations for the currents and the transistor terminals:\n",
    "\n",
    "![NPN BJT Model without sources](images\\Linear_DC_05\\npn_model3.png)\n",
    "\n",
    "$$I_{BE} = \\frac{I_S}{\\beta_F}\\left( e^{V_{BE}/V_T}-1\\right)\n",
    "\\qquad I_{BC} = \\frac{I_S}{\\beta_R}\\left( e^{V_{BC}/V_T}-1\\right)$$\n",
    "\n",
    "As you can see we don't really need the **controlled sources**.   \n",
    "Drawing a transistor model using **dependent sources** just makes the model a little more easy to use.\n"
   ]
  },
  {
   "cell_type": "markdown",
   "metadata": {},
   "source": [
    "## Horses for courses\n",
    "\n",
    "The above **BJT** model is quite a complex model and it does not completelly represent the operation of areal transistor. We use models because we want to be able to predict how a circuit will operate before building a prototype. But no model is **perfect**. And, if it was possible to have a perfect model, its complexity will make it impossible to use.\n",
    "\n",
    "So basically, for a given component, we can choose between several **models** with different **restrictions** and **quality**.\n",
    "\n",
    "Model **restrictions** are conditions you must fullfil so that the model gives results that are similar to the real operation of the device. Usually, the simpler the model, the most restricted are the conditions that give good results.\n",
    "\n",
    "Model **quality** refers to the error of the results obtained from the model. The simpler the model, the less **quality** and the more differences we will obtain respect the real operation of the device.\n",
    "\n",
    "The following figure shows an alternative model for our **BJT** transistor.\n",
    "\n",
    "![Simple Model](images\\Linear_DC_05\\active_model.png)\n",
    "\n",
    "This model is much more simple than the previous one, but it only work if the results obtained fulfill several restrictions:\n",
    "\n",
    "* Obtained $I_B$ shall be positive between $1\\mu A$ and $500\\mu A$\n",
    "* Obtained voltage $V_{CE}$ between the $C$ and $E$ terminals shall be more than $0.2V$\n",
    "\n",
    "Also, the quality of the model is not too great as we can easily have errors in the $V_{BE}$ in the order of $0.1V$\n",
    "\n",
    "Depending on the problen you want to solve the second model could be **good enough**.\n",
    "\n",
    "This is a ver important point. One of the most important task of an engineer is to **choose the models** that best suit a particular problem. Too simple models and the results will not match the reality. Too complex models and the problem will be impossible to understand or solve.\n"
   ]
  },
  {
   "cell_type": "markdown",
   "metadata": {},
   "source": [
    "## Linear Controlled Sources\n",
    "\n",
    "If check the last simple model of the **BJT** you will see that it includes a Current controlled Current source that is **proportional** to the $I_B$ current. That is a **linear** function between the current of the source and the variable that controlls it. This model is a **linear** model because it only includes **linear components** and **independent sources**.\n",
    "\n",
    "In the case of linear controlled sources we restrict ourselves to sources controlled by just one **voltage** or **current elsewere on a circuit. So, we can have four kinds of **linear controlled sources**:\n",
    "\n",
    "* Voltage Controlled Voltage Source (VCVS)\n",
    "* Current Controlled Voltage Source (CCVS)\n",
    "* Voltage Controlled Current Source (VCCS)\n",
    "* Current Controlled Current Source (CCCS)\n",
    "\n",
    "As **linear circuits** can benefit for a lot of matematical tools that only work on **linear functions**, we tend to choose **linear models** whenever we can altough they can give some errors on the results. The **linear** benefits are too good to be missed.\n",
    "\n",
    "Enough theory, let's put the model into practice.\n",
    "\n",
    "---\n",
    "\n",
    "![Practical Icon](images/pt.png)\n",
    "\n",
    "---\n"
   ]
  },
  {
   "cell_type": "markdown",
   "metadata": {},
   "source": [
    "## SLab Setup\n",
    "\n",
    "First we will need to import the **SLab** module"
   ]
  },
  {
   "cell_type": "code",
   "execution_count": null,
   "metadata": {},
   "outputs": [],
   "source": [
    "# Import the main SLab module\n",
    "import slab"
   ]
  },
  {
   "cell_type": "markdown",
   "metadata": {},
   "source": [
    "Then we need to connect with the board."
   ]
  },
  {
   "cell_type": "code",
   "execution_count": null,
   "metadata": {},
   "outputs": [],
   "source": [
    "boardFolder = ''                                # Board folder (leave '' if you use only one board)\n",
    "slab.setFilePrefix('../Files/')                 # Set File Prefix\n",
    "slab.setCalPrefix('Calibrations/'+boardFolder)  # Set Calibration Prefix         \n",
    "slab.connect()                                  # Connect to the board"
   ]
  },
  {
   "cell_type": "markdown",
   "metadata": {},
   "source": [
    "It is always a good idea to check the board operation.\n",
    "The following cell checks the calibration for the DAC channels and the first four ADC channels."
   ]
  },
  {
   "cell_type": "code",
   "execution_count": null,
   "metadata": {},
   "outputs": [],
   "source": [
    "# Check the calibration\n",
    "slab.checkCalibration(pause=False,na=4,nm=10)"
   ]
  },
  {
   "cell_type": "markdown",
   "metadata": {},
   "source": [
    "##  BJT Circuit\n",
    "\n",
    "In  section we will use the following circuit.\n",
    "\n",
    "![BJT Circuit](images\\Linear_DC_05\\circuit1.png)\n",
    "\n",
    "This document is about models, not about **BJTs**, there are other tutorials for that. So, we will only ose the model without thinking too much on what is behind it. This is the circuit after we have expanded our **Simple BJT Model**:\n",
    "\n",
    "![Circuit using model](images\\Linear_DC_05\\circuit2.png)\n",
    "\n",
    "In a BJT transistor the $\\beta_F$ parameter change from transistor to transistor even on same model transistors. This is not a problem of the model but of the transistor fabrication process. For this document we have chosen a circuit that don't depend too much on the $\\beta_F$ value. We say that the circuit is **insensitive** to the $\\beta_F$ value. And this is always a good thing when dealing with transistors.\n",
    "\n",
    "The first thing we will do is to obtain the $V_{DD}$ voltage of the board so that we can use it on our calculations."
   ]
  },
  {
   "cell_type": "code",
   "execution_count": null,
   "metadata": {},
   "outputs": [],
   "source": [
    "Vdd = slab.getVariable('vdd')\n",
    "print('Vdd =',Vdd,'V')"
   ]
  },
  {
   "cell_type": "markdown",
   "metadata": {},
   "source": [
    "We can calculate the voltages that will be measured by **ADC2** and **ADC3** as function of the voltage set on **ADC1**.\n",
    "\n",
    "---\n",
    "\n",
    "**CALCULATION TASK**   \n",
    "Using the simple BJT model, obtain $V_{ADC2}$ and $V_{ADC3}$ as function of $V_{DAC\n",
    "1}$. Consider $\\beta_F$ to have a value of about 200.\n",
    "\n",
    "As this is a **linear circuit** we can use **superposition** to solve it. The circuit features three **independent sources**: $V_{DAC1}$, $V_{DD}$ and the model $0.6V$ source so we could have up to two superposition cases. Note that the **controlled source** is a linear component and we don't make superposition on **controlled sources**. Remember that we can include more than one source in each superposition case.   \n",
    "Try to use superposition to get an alternative solution of the circuit.  \n",
    "Does it match the non superposition solution?  \n",
    "What case was easier to solve, the direct method or the superposition one?\n",
    "\n",
    "---\n",
    "\n",
    "The following code cell shows the voltages predicted by the model if we sweep the **DAC1** voltage from $0V$ to $3V$."
   ]
  },
  {
   "cell_type": "code",
   "execution_count": null,
   "metadata": {},
   "outputs": [],
   "source": [
    "# Import the arange function from numpy\n",
    "from numpy import arange\n",
    "\n",
    "betaf = 200 # Beta value we will be using\n",
    "\n",
    "Vdac1C = arange(0,3,0.05)   # Range from 0V to 3V in 50mV increments\n",
    "Vadc3C = Vdac1C - 0.6       # Compute Vadc3\n",
    "IeC    = Vadc3C/1           # Compute Ie (in mA)\n",
    "IbC    = IeC/(betaf+1)      # Compute Ib (in mA)\n",
    "IcC    = betaf*IbC          # Compute Ic (in mA)\n",
    "Vadc2C = Vdd - 1*IcC        # Compute Vadc2\n",
    "\n",
    "# Show calculated values\n",
    "slab.plot1n(Vdac1C,[Vadc2C,Vadc3C],'Calculated ADC Voltages'\n",
    "            ,'Vdac1 [V]','Voltages[V]',['ADC2','ADC3'])"
   ]
  },
  {
   "cell_type": "markdown",
   "metadata": {},
   "source": [
    "Remember that it was a simple but **restrictive** model. We know that it will only provide meaningfull results if we satisfy the restrictions, and those restrictions are not always satisfied in the above graph. Let's write some code to see the range of voltages where the model should fail."
   ]
  },
  {
   "cell_type": "code",
   "execution_count": null,
   "metadata": {},
   "outputs": [],
   "source": [
    "# Show calculated Ib\n",
    "slab.plot11(Vdac1C,1000*IbC,'Calculated Base Ib Current','Vdac1 [V]','Ib [uA]')\n",
    "\n",
    "# Calculate Vce\n",
    "VceC = Vadc2C - Vadc3C\n",
    "\n",
    "# Show calculated Vce\n",
    "slab.plot11(Vdac1C,VceC,'Calculated Vce','Vdac1 [V]','Vce [V]')"
   ]
  },
  {
   "cell_type": "markdown",
   "metadata": {},
   "source": [
    "Remember that our model is only valid for base $I_B$ currents between $1\\mu A$ and $500\\mu A$ and for $V_{CE}$ voltages over $0.2V$. As you can see, the circuit is not always operating between those limits. \n",
    "\n",
    "Determine the range of values where the model is valid, write them down on the following code cell and execute it."
   ]
  },
  {
   "cell_type": "code",
   "execution_count": null,
   "metadata": {},
   "outputs": [],
   "source": [
    "# Limits to be in the model correct range of values\n",
    "Vdac1_min =    # Minimum DAC voltage (in V)\n",
    "Vdac1_max =    # Maximum DAC voltage (inV)"
   ]
  },
  {
   "cell_type": "markdown",
   "metadata": {},
   "source": [
    "Now use the following code cell to see the calculated ADC voltages only for the region where the model is valid."
   ]
  },
  {
   "cell_type": "code",
   "execution_count": null,
   "metadata": {},
   "outputs": [],
   "source": [
    "# Define three empty vectors\n",
    "Vdac1C2 = []\n",
    "Vadc2C2 = []\n",
    "Vadc3C2 = []\n",
    "\n",
    "# Select only the values that use a valid model\n",
    "for Vdac1,Vadc2,Vadc3 in zip(Vdac1C,Vadc2C,Vadc3C):\n",
    "    if Vdac1 > Vdac1_min and Vdac1 < Vdac1_max:\n",
    "        Vdac1C2.append(Vdac1)\n",
    "        Vadc2C2.append(Vadc2)\n",
    "        Vadc3C2.append(Vadc3)\n",
    "        \n",
    "# Show values\n",
    "slab.plot1n(Vdac1C2,[Vadc2C2,Vadc3C2],'ADC Voltages within model restrictions'\n",
    "            ,'Vdac1 [V]','Voltages[V]',['ADC2','ADC3'])        "
   ]
  },
  {
   "cell_type": "markdown",
   "metadata": {},
   "source": [
    "##  Measuring the circuit\n",
    "\n",
    "Now, we can measure the real thing.\n",
    "\n",
    "![BJT Circuit](images\\Linear_DC_05\\circuit1.png)\n",
    "\n",
    "Build the proposed circuit. Remember that in **SLab** we number the transistor pins from left to right in the component markings side.\n",
    "\n",
    "![BC547](images\\Linear_DC_05\\BC547.jpg)\n",
    "\n",
    "Now we can use the following cell to measure the **ADC2** and **ADC3** voltages against the **DAC1** voltage measured by **ADC1**. \n"
   ]
  },
  {
   "cell_type": "code",
   "execution_count": null,
   "metadata": {},
   "outputs": [],
   "source": [
    "data = slab.dcSweep(1,0,3,0.05)  # Sweep DAC1 between 0V and 3V in 50mV increments\n",
    "Vdac1M = data[1]                 # Get real DAC1 voltage as measured by ADC1\n",
    "Vadc2M = data[2]                 # Get measured ADC2 value\n",
    "Vadc3M = data[3]                 # Get measured ADC3 value"
   ]
  },
  {
   "cell_type": "markdown",
   "metadata": {},
   "source": [
    "We can compare this measurement with the results obtained from the BJT model:"
   ]
  },
  {
   "cell_type": "code",
   "execution_count": null,
   "metadata": {},
   "outputs": [],
   "source": [
    "# Compare calculations with measurements\n",
    "\n",
    "slab.plotnn([Vdac1C,Vdac1M,Vdac1C,Vdac1M],[Vadc2C,Vadc2M,Vadc3C,Vadc3M]\n",
    "            ,'Check Calculations against Measurements'\n",
    "            ,'Vdac1 [V]','Voltages[V]'\n",
    "            ,['Calculated ADC2','Measured ADC2','Calculated ADC3','Measured ADC3'])"
   ]
  },
  {
   "cell_type": "markdown",
   "metadata": {},
   "source": [
    "We know that the model only gives correct results for a reduced range of values, if we compare the measurements with the calculations only for the range of values where the model is valid we get the following curves:"
   ]
  },
  {
   "cell_type": "code",
   "execution_count": null,
   "metadata": {},
   "outputs": [],
   "source": [
    "# Compare calculations with measurements only for the valid range for the model\n",
    "\n",
    "slab.plotnn([Vdac1C2,Vdac1C2,Vdac1M,Vdac1M],[Vadc2C2,Vadc3C2,Vadc2M,Vadc3M]\n",
    "            ,'Comparison using the model only in its valida range'\n",
    "            ,'Vdac1 [V]','Voltages[V]'\n",
    "            ,['Calculated ADC2','Calculated ADC3','Measured ADC2','Measured ADC3'])"
   ]
  },
  {
   "cell_type": "markdown",
   "metadata": {},
   "source": [
    "As we can see, the model gives quite good results if we comply with its restrictions. When we are out of range results can be pretty bad."
   ]
  },
  {
   "cell_type": "markdown",
   "metadata": {},
   "source": [
    "## Last Words\n",
    "\n",
    "In this document we have dealt with **controlled sources**. Those are quite powerful components that can be used to construct **component models**. Models are important because enables us to use new components just modelling them with circuits that contains basic circuit elements. \n",
    "\n",
    "Models, however, are tricky. For one particular device we can build multiple models with different degrees of complexity, precission and range of values where the model misbehaves. Always remember that a model usually have **restrictions** you should check. If you use a model outside of its valid domain it will give bogus results.\n",
    "\n",
    "Models are one of the main elements in engineering, no just in electronics. We build a mathematical models of the real world. Then we use mathematics to work on those models to build products. If our models are good and we use them well, the real world products we fabricate will work as we expect. An this is used in all engineering disciplines, let it be electronic products, dam building or flying rockets."
   ]
  },
  {
   "cell_type": "markdown",
   "metadata": {},
   "source": [
    "## References\n",
    "\n",
    "**SLab Python References**    \n",
    "Those are the reference documents for the SLab Python modules. They describe the commands that can be carried out after importing each module.  \n",
    "They should be available in the [Reference](http://localhost:8888/notebooks/Reference) folder.\n",
    "\n",
    "**TinyCad**  \n",
    "Circuit images on this document have been drawn using the free software TinyCad  \n",
    "https://sourceforge.net/projects/tinycad/"
   ]
  },
  {
   "cell_type": "markdown",
   "metadata": {},
   "source": [
    "## Document license\n",
    "\n",
    "Copyright  ©  Vicente Jiménez (2019)  \n",
    "This work is licensed under a Creative Common Attribution-ShareAlike 4.0 International license.  \n",
    "This license is available at http://creativecommons.org/licenses/by-sa/4.0/\n",
    "\n",
    "<img  src=\"images/cc_sa.png\" width=\"200\">"
   ]
  },
  {
   "cell_type": "code",
   "execution_count": null,
   "metadata": {},
   "outputs": [],
   "source": []
  }
 ],
 "metadata": {
  "kernelspec": {
   "display_name": "Python 3",
   "language": "python",
   "name": "python3"
  },
  "language_info": {
   "codemirror_mode": {
    "name": "ipython",
    "version": 3
   },
   "file_extension": ".py",
   "mimetype": "text/x-python",
   "name": "python",
   "nbconvert_exporter": "python",
   "pygments_lexer": "ipython3",
   "version": "3.7.1"
  }
 },
 "nbformat": 4,
 "nbformat_minor": 2
}
