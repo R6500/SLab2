{
 "cells": [
  {
   "cell_type": "markdown",
   "metadata": {},
   "source": [
    "<img style=\"float: right;\"  src=\"images/LogoP.jpg\" width=\"200\">\n",
    "\n",
    "# Demo : Test  MOS Transistor\n",
    "\n",
    "Version 1.0 (20/6/2018)\n",
    "\n",
    "This **notebook** can be used to test **NMOS** transistors\n",
    "\n",
    "\n",
    "## Import and connection"
   ]
  },
  {
   "cell_type": "code",
   "execution_count": null,
   "metadata": {},
   "outputs": [],
   "source": [
    "# Import numpy\n",
    "import numpy as np\n",
    "\n",
    "# Import the main SLab module\n",
    "import slab"
   ]
  },
  {
   "cell_type": "code",
   "execution_count": null,
   "metadata": {},
   "outputs": [],
   "source": [
    "boardFolder = ''                                # Board folder (leave '' if you use only one board)\n",
    "slab.setFilePrefix('../Files/')                 # Set File Prefix\n",
    "slab.setCalPrefix('Calibrations/'+boardFolder)  # Set Calibration Prefix         \n",
    "slab.connect()                                  # Connect to the board"
   ]
  },
  {
   "cell_type": "code",
   "execution_count": null,
   "metadata": {},
   "outputs": [],
   "source": [
    "# Get the Vref value\n",
    "vref = slab.gdata['vref']\n",
    "vdd  = slab.gdata['vdd']"
   ]
  },
  {
   "cell_type": "markdown",
   "metadata": {},
   "source": [
    "Execute the following **code cell** if you want the plots to be interactive."
   ]
  },
  {
   "cell_type": "code",
   "execution_count": null,
   "metadata": {},
   "outputs": [],
   "source": [
    "# Make plots interactive\n",
    "slab.interactivePlots()\n",
    "%matplotlib notebook"
   ]
  },
  {
   "cell_type": "markdown",
   "metadata": {},
   "source": [
    "## Basic NMOS connections\n",
    "\n",
    "The following figure shows the basic connections to perform measurements on a **NMOS** Device Under Test (DUT).\n",
    "\n",
    "![Base NMOS](images/Test_MOS/NMOS_Base.png)\n",
    "\n",
    "The NPN bipolar transistor enables us to have higher currents than the ones available on the **DAC** outputs. Note that we are using a **BC547** transistor that is limited to a maxim $100 mA$ collector current. This is ok because you cannot drain much more current from a typical **SLab hardware board**. If you want to test a transistor at higher currents, you will need to use a more complex setup.\n",
    "\n",
    "The $R_d$ resistor is used to measure the **drain** current. It will be selected for the maximum current we want to measure.\n",
    "\n",
    "The **bias resistor** $R_b$ is included to provide a proper bias to the NPN emitter follower when the **NMOS** is draining no current. This resistor has no efect at all on the measurements so it can have any reasonable value as long as it is much bigger than $R_d$. In general $100 k\\Omega$ is a good value."
   ]
  },
  {
   "cell_type": "markdown",
   "metadata": {},
   "source": [
    "## NMOS Saturation Curve\n",
    "\n",
    "Draw the $I_D(V_{GS})$ saturation curve for a NMOS transistor\n",
    "\n",
    "The $R_D$ resistance needs to be set for the maximum drain current to measure $I_{d\\:Max}$.\n",
    "\n",
    "We can obtain the voltages at **ADC1** and **ADC3**  \n",
    "\n",
    "$\\qquad V_{ADC1} = V_{DD}-V_{be}$\n",
    "\n",
    "$\\qquad V_{ADC2} = V_{DS}$\n",
    "\n",
    "In order to be in the saturation region we need to verify:\n",
    "\n",
    "$\\qquad V_{DS} > V_{GS} - V_{TH}$\n",
    "\n",
    "We can set this limit and obtain the needed resistance:\n",
    "\n",
    "$\\qquad R_d = \\frac{V_{DD}-V_{be}-V_{GS\\: Max}+V_{TH}}{I_{d\\: Max}}$\n",
    "\n",
    "If we set $V_{GS\\: Max}$ to be $V_{DD}$ that simplifies to:\n",
    "\n",
    "$\\qquad R_d = \\frac{V_{TH}-V_{be}}{I_{d\\: Max}}$\n",
    "\n",
    "The typical $V_{be}$ voltage of a NPN transistor is $0.7V$. That's ok because **NMOS** transistors usually have a $V_{TH}$ voltage higher than $0.7V$. For transistors with lower $V_{TH}$ we won't be able to use a $V_{GS}$ value as high as $V_{DD}$.\n",
    "\n",
    "In the **code cell** below you need to indicate the $R_d$ value you are using. \n",
    "\n",
    "After executing it it gives the saturation $I_d(V_{DS})$ curve. The measurement stops when it detects that we are going out of the saturation region.\n",
    "\n",
    "The code also indicates the $V_{GS}$ value that gets an $I_d$ current over $0.5mA$."
   ]
  },
  {
   "cell_type": "code",
   "execution_count": null,
   "metadata": {},
   "outputs": [],
   "source": [
    "# Set Rd value\n",
    "Rd = 15\n",
    "\n",
    "# Set nreadings\n",
    "slab.setDCreadings(400)\n",
    "\n",
    "# Vdac range\n",
    "vdacR = np.arange(0,vref,0.1)\n",
    "\n",
    "# Initialize output\n",
    "vgsR = []\n",
    "idR  = []\n",
    "\n",
    "# Initialize Vth\n",
    "vth = None\n",
    "\n",
    "print('Measurement starts...')\n",
    "\n",
    "# Perform measurement\n",
    "slab.setVoltage(1,vref-0.1)\n",
    "for vdac in vdacR:\n",
    "    slab.setVoltage(2,vdac)           # Set gate voltage\n",
    "    slab.wait(0.1)\n",
    "    vgs = slab.readVoltage(2)         # Read gate voltage\n",
    "    vrp = slab.readVoltage(1)         # Obtain Rd high node voltage\n",
    "    vrn = slab.readVoltage(3)         # Obtain Rd low node voltage\n",
    "    id = 1000.0*(vrp-vrn)/Rd          # Calculate Id (mA)\n",
    "    if vth is None:\n",
    "        # No Vth found yet. Try to find it\n",
    "        if id>0.05:\n",
    "            vth = vgs\n",
    "            print('Vth (@Id=0.5mA) is about',vth,'V')\n",
    "    else:\n",
    "        # Vth is known. Check if we go out of saturation\n",
    "        if vrn < (vgs-vth): \n",
    "            print('Getting out of saturation: Stop measuring')\n",
    "            break\n",
    "    # Store data        \n",
    "    vgsR.append(vgs)        \n",
    "    idR.append(id)\n",
    "\n",
    "# Show graph\n",
    "slab.plot11(vgsR,idR,'NMOS Saturation Curve','Vgs (V)','Id (mA)')\n",
    "\n",
    "# Set DACs to zero\n",
    "slab.zero()"
   ]
  },
  {
   "cell_type": "markdown",
   "metadata": {},
   "source": [
    "## NMOS Drain Current Curves\n",
    "\n",
    "Draw the $I_D(V_{DS})$ curves for several $V_{GS}$ values\n",
    "\n",
    "This time we are not restricted to guarantee saturation, so the $R_d$ resistor just sets the current range you will get.\n",
    "\n",
    "$\\qquad I_d = \\frac{V_{DD}-V_{be}-V_{DS}}{R_d}$\n",
    "\n",
    "The current will be bounded by the limit at $V_{DS} = 0V$ give by:\n",
    "\n",
    "$\\qquad I_{d\\: Max} = \\frac{V_{DD}-V_{be}}{R_d}$\n",
    "\n",
    "So, you can set Rd to be:\n",
    "\n",
    "$\\qquad R_d = \\frac{V_{DD}-V_{be}}{I_{d\\: Max}}$\n",
    "\n",
    "But beware that you will only get this current if $V_{DS}$ is small\n",
    "\n",
    "To run the **code below** you need to set, on the first lines:\n",
    "\n",
    "* Minimum $V_{GS}$ to test\n",
    "* Maximum $V_{GS}$ to test\n",
    "* $V_{GS}$ increment between steps\n",
    "* $R_d$ value\n",
    "\n",
    "You can also change the **DAC1** sweep that sets the $V_{DS}$ voltage. That way you can change the resolution, for instance."
   ]
  },
  {
   "cell_type": "code",
   "execution_count": null,
   "metadata": {},
   "outputs": [],
   "source": [
    "# Parameters to set\n",
    "Vgs_min  = 2.0    # [V]\n",
    "Vgs_max  = 3.0    # [V]\n",
    "Vgs_step = 0.25   # [V]\n",
    "Rd       = 15     # [Ohm]\n",
    "\n",
    "# Vdac1 sweep\n",
    "Vdac1_min  = 0.5         # [V] \n",
    "Vdac1_max  = vref - 0.1  # [V]\n",
    "Vdac1_step = 0.1         # [V]\n",
    "\n",
    "# Set nreadings\n",
    "slab.setDCreadings(400)\n",
    "\n",
    "# Vgs range\n",
    "vgsR = np.arange(Vgs_min,Vgs_max,Vgs_step)\n",
    "\n",
    "# Initialize output lists\n",
    "Vds_list = []\n",
    "Id_list  = []\n",
    "labels   = []\n",
    "for vgs in vgsR:\n",
    "    # Set Vgs\n",
    "    slab.setVoltage(2,vgs)\n",
    "    # Set label for this curve\n",
    "    label = 'vgs = ' + str(int(100*slab.readVoltage(2))/100) + ' V'\n",
    "    labels.append(label)\n",
    "    # Perform dcSweep\n",
    "    data = slab.dcSweep(1,Vdac1_min,Vdac1_max,Vdac1_step)\n",
    "    # Calculate current (in mA)\n",
    "    id = 1000.0*(data[1]-data[3])/Rd\n",
    "    # Add to list\n",
    "    Vds_list.append(data[3])\n",
    "    Id_list.append(id)\n",
    "\n",
    "# Draw all curves\n",
    "slab.plotnn(Vds_list,Id_list,'Drain Current at several Vgs','Vds (V)','Id (mA)',labels)"
   ]
  },
  {
   "cell_type": "markdown",
   "metadata": {},
   "source": [
    "You can use the code below to disconnect from the board when you are done"
   ]
  },
  {
   "cell_type": "code",
   "execution_count": null,
   "metadata": {},
   "outputs": [],
   "source": [
    "# Disconnect from the board\n",
    "slab.disconnect()"
   ]
  },
  {
   "cell_type": "markdown",
   "metadata": {},
   "source": [
    "## Document license\n",
    "\n",
    "Copyright  ©  Vicente Jiménez (2018)  \n",
    "This work is licensed under a Creative Common Attribution-ShareAlike 4.0 International license.  \n",
    "This license is available at http://creativecommons.org/licenses/by-sa/4.0/\n",
    "\n",
    "<img  src=\"images/cc_sa.png\" width=\"200\">"
   ]
  },
  {
   "cell_type": "code",
   "execution_count": null,
   "metadata": {},
   "outputs": [],
   "source": []
  }
 ],
 "metadata": {
  "kernelspec": {
   "display_name": "Python 3",
   "language": "python",
   "name": "python3"
  },
  "language_info": {
   "codemirror_mode": {
    "name": "ipython",
    "version": 3
   },
   "file_extension": ".py",
   "mimetype": "text/x-python",
   "name": "python",
   "nbconvert_exporter": "python",
   "pygments_lexer": "ipython3",
   "version": "3.7.1"
  }
 },
 "nbformat": 4,
 "nbformat_minor": 2
}
