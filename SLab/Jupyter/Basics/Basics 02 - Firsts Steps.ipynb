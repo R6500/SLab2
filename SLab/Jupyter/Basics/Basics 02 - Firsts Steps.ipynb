{
 "cells": [
  {
   "cell_type": "markdown",
   "metadata": {},
   "source": [
    "<img style=\"float: right;\"  src=\"images/LogoP.jpg\" width=\"200\">\n",
    "\n",
    "# Basics 02 : First Steps\n",
    "\n",
    "This document describes the first steps to work with the SLab system. It also gives some information about the **SLab** Python environment.\n",
    "\n",
    "Version 1.2 (18/5/2019)  \n",
    "\n",
    "License information is at the end of the document\n",
    "\n",
    "---"
   ]
  },
  {
   "cell_type": "markdown",
   "metadata": {},
   "source": [
    "## The SLab environment\n",
    "\n",
    "If you are reading this document from the Jupyter application, you will probably have a working **Jupyter - Python** environment that is adequate for SLab.\n",
    "\n",
    "The **SLab** system use a **slab.py** module to communicate with the hardware board. So you need Python to use the board in this environment. From **SLab** version **1.4** onwards, **Python 3.x** is the main test environment. \n",
    "\n",
    "The system relies on several modules, basically [PySerial](https://pythonhosted.org/pyserial/) to communicate with the board [NumPy](http://www.numpy.org/) to make calculations, [matplotlib](https://matplotlib.org/) to show graphs and [Jupyter](http://jupyter.org/) for the interactive documents. \n",
    "\n",
    "You can install Python from [python.org](https://www.python.org/) and add those packages or you can go the easy way and install a bundle that incorporates most needed packages like [Anaconda](https://www.continuum.io/downloads) that is available for Windows, Linux and Mac.\n",
    "\n",
    "![Anaconda](images\\Basics_02\\Anaconda.jpg)\n",
    "\n",
    "For the current **SLab** instalation, Anaconda 3.x is the recommended one.\n",
    "\n",
    "In **Windows** there are two executable file installers, one for 32 bits and other for 64 bits, just download the executable and run it to install **Anaconda** on the computer.\n",
    "\n",
    "In **Linux** there are several versions depending on your **CPU** but they are all related to shell **.sh** files. Just download the proper **.sh** file and run it on your computer:\n",
    "\n",
    "$\\qquad$ `> bash filename.sh`\n",
    "\n",
    "As far as we know, Anaconda can be installed in your user region without needing **root** access.\n",
    "\n",
    "The installer asks if you want to uptdate the user **PATH**. In general it is recommended to say **yes**. That eases future access to Anaconda. The **vscode** integration that you can optionally install is not required at all for **SLab**.\n",
    "\n",
    "In a proper Python installation you shall have the binaries in the path so that you can call the python interpreter from any place. If the installer does not do that for you, you will need to manually update the path information."
   ]
  },
  {
   "cell_type": "markdown",
   "metadata": {},
   "source": [
    "## Checking Pyserial\n",
    "\n",
    "Anaconda always installs **numpy**, **matplotlib** and **Jupyter**, but is quite possible that **pyserial** is not automatically installed. You can check if **pyserial** is installed by opening a python interpreter by executing **python** form a shell prompt and trying to import this module. \n",
    "\n",
    "$\\qquad$ `>>> import serial`\n",
    "\n",
    "If Python goes silent without any error message, that means that **Pyserial** is installed on your system.\n",
    "\n",
    "If you are running this document from **Jupyter**, you can also try to execute following **code** cell by selecting it and hitting the **Run** button."
   ]
  },
  {
   "cell_type": "code",
   "execution_count": null,
   "metadata": {},
   "outputs": [],
   "source": [
    "# Code to check if Pyserial is installed\n",
    "print()\n",
    "try:\n",
    "    import serial\n",
    "except:\n",
    "    print(\"Pyserial is not installed, Use conda to install it: \")\n",
    "    print()\n",
    "    print(\"    conda install -c anaconda pyserial\")\n",
    "else:\n",
    "    print(\"Pyserial is installed. Don't need to install it\")\n",
    "print()    "
   ]
  },
  {
   "cell_type": "markdown",
   "metadata": {},
   "source": [
    "If **pyserial** is not installed, and you have installed **Anaconda**, you can use **conda** to install this module:\n",
    "\n",
    "$\\qquad$ `> conda install -c anaconda pyserial` \n",
    "\n",
    "Try to import the module after that to see if it works.\n",
    "\n",
    "The **pyserial** is really the only **required** package to use **SLab** as it is needed to communicate with the hardware board. You can use SLab without having the **numpy** or **matplotlib** packages installed in Python. In that case the module will have reduced features. No plotting, for instance. You will be informed about that when you import SLab because it will show a message like:\n",
    "\n",
    "$\\qquad$ `Cannot load SciPy modules`    \n",
    "$\\qquad$ `Functionality will be reduced`\n",
    "\n",
    "It is not recommended to run **SLab** that way, however. It loses most of its magic."
   ]
  },
  {
   "cell_type": "markdown",
   "metadata": {},
   "source": [
    "## Serial access in Linux\n",
    "\n",
    "In a Linux machine you can use the screen program to access the serial port. Note, that you usually need to have root privileges to access the serial port. The following command has been tested to work to open the serial channel on a Linux Ubuntu machine:\n",
    "\n",
    "$\\qquad$ `> sudo screen /dev/ttyACM0 38400`\n",
    "\n",
    "After entering the communication program, **reset** the board as in the Windows example and see if it responds with its firmware identification string.\n",
    "\n",
    "Having to be **root** to use the serial port is a hassle. Moreover, it is a security issue because we will need to run **Python** as **root** and the use of **sudo** usually can conflict with your normal environment variables.\n",
    "\n",
    "If you are in a Linux machine, it is recommended to be able to access to the serial ports without using Linux. One way to do that is removing the **modem manager** package and adding your user to the **dialup** group. The following two commands, executed from **bash** take care of that. Note that in the second case you need to replace **username** with your own user name.\n",
    "\n",
    "$\\qquad$ `> sudo apt-get autoremove modemmanager`\n",
    "\n",
    "$\\qquad$ `> sudo adduser username dialout`\n",
    "\n",
    "You will probably need to **reboot** for the changes to take effect, but you should now be able to use the serial ports without **sudo**."
   ]
  },
  {
   "cell_type": "markdown",
   "metadata": {},
   "source": [
    "## Linux on the hard way\n",
    "\n",
    "If you have installed **Anaconda** or you plan to install it to ease your life, you can skip this section, if not, continue reading.\n",
    "\n",
    "**Anaconda** is a really big package.\n",
    "\n",
    "Perhaps you don't want all the packages or you are **geek** enough to do all installations yourself the hard way.\n",
    "\n",
    "If you are running Linux, you probably have python already installed in your system. The rest of this section deals with Python 3.x so, you can test that it is installed by executing from the shell:\n",
    "\n",
    "$\\qquad$ `> python3`\n",
    "\n",
    "Now you can check if the required packages are installed:\n",
    "\n",
    "$\\qquad$ `>>> import serial`  \n",
    "$\\qquad$ `>>> import numpy`  \n",
    "$\\qquad$ `>>> import matplotlib`  \n",
    "$\\qquad$ `>>> import jupyter`  \n",
    "\n",
    "Alternativelly, if you running this document inside **Jupyter** you can check all the needed packages running the following script. Of course, **Jupyter** shall be installed for you to be able run the cell."
   ]
  },
  {
   "cell_type": "code",
   "execution_count": null,
   "metadata": {},
   "outputs": [],
   "source": [
    "import importlib\n",
    "\n",
    "def check(package):\n",
    "    try:\n",
    "        importlib.import_module(package)\n",
    "    except:\n",
    "        print('Package',package,'is not installed (ERROR)')\n",
    "    else:\n",
    "        print('Package',package,'is installed (OK)')\n",
    "        \n",
    "check('serial')\n",
    "check('numpy')\n",
    "check('matplotlib')\n",
    "check('jupyter')"
   ]
  },
  {
   "cell_type": "markdown",
   "metadata": {},
   "source": [
    "If there is no error message on manual imports or all the mesages from the code cell say '(OK)', congratulations!, you don't need to install anything. If there is any import error, you will need to install the affected modules. If you want them that's it. You can, for instance, use **SLab** without **jupyter**, or, in fact **numpy** or **matplotlib**. The only bare minimum required package is **pyserial** for the communication.\n",
    "\n",
    "$\\qquad$ `python -m pip install pyserial`  \n",
    "$\\qquad$ `python -m pip install numpy`  \n",
    "$\\qquad$ `python -m pip install matplotlib`  \n",
    "$\\qquad$ `python -m pip install jupyter`\n",
    "\n",
    "Of course, you need **pip** for that. If it is not installed, you would need to install it, for instance using:\n",
    "\n",
    "$\\qquad$ `sudo apt-get install python3-pip`\n",
    "\n",
    "Having all the packages is not a guarantee for having a full working **SLab** environment. The environment will be tested later, but, as it directly relates to manual instalations, the explanations will be made here.\n",
    "\n",
    "In the case of **matplotlib**, it relies on a [backend](https://matplotlib.org/1.3.0/faq/usage_faq.html#what-is-a-backend) to write the final plots. Depending on the current version of Python and Matplotlib you can have some issues. For instance, if the default backend is **Gtk3Agg** it could conflict with **Python3**.  \n",
    "You know if this is the case if you try to run the following code:"
   ]
  },
  {
   "cell_type": "code",
   "execution_count": null,
   "metadata": {},
   "outputs": [],
   "source": [
    "import numpy as np\n",
    "import matplotlib\n",
    "import pylab as pl\n",
    "x = np.arange(0,1,0.1)\n",
    "pl.plot(x,x)\n",
    "pl.show()"
   ]
  },
  {
   "cell_type": "markdown",
   "metadata": {},
   "source": [
    "On the first execution sometimes you need to execute the cell two times to see the graph.\n",
    "\n",
    "If running the code you obtain to plot and get a message like:\n",
    "\n",
    "`/usr/local/lib/python3.4/dist-packages/matplotlib/backends/backend_gtk3agg.py:16: UserWarning: The Gtk3Agg backend is known to not work on Python 3.x with pycairo. Try installing cairocffi. \"The Gtk3Agg backend is known to not work on Python 3.x with pycairo. \"`\n",
    "\n",
    "Then you have problem that can be solved changing the matplotlib **backend** to pyqt5, for instance. Install it:\n",
    "\n",
    "$\\qquad$ `sudo apt-get install python3-pyqt5`\n",
    "\n",
    "Then you need to instruct **matplotlib** to change the backend.  \n",
    "You need where the configuration file is. The following code just gives this information:"
   ]
  },
  {
   "cell_type": "code",
   "execution_count": null,
   "metadata": {},
   "outputs": [],
   "source": [
    "import matplotlib\n",
    "print(matplotlib.matplotlib_fname())"
   ]
  },
  {
   "cell_type": "markdown",
   "metadata": {},
   "source": [
    "Then edit the file and change the line that starts with **backend :** so that it contains:\n",
    "\n",
    "$\\qquad$ `backend : qt5agg`\n",
    "\n",
    "As you can see, manual instalations can be complex. That's why **Anaconda** is recommeded for using **SLab**."
   ]
  },
  {
   "cell_type": "markdown",
   "metadata": {},
   "source": [
    "## Test the python installation\n",
    "\n",
    "When you run the Python interpreter, for instance by executing python.exe in windows, you should get, in the case of the Anaconda installation, something like:\n",
    "\n",
    "$\\qquad$ `Python 3.5.1 |Anaconda custom (32-bit)| (default, Mar  4 2016, 15:28:01)`  \n",
    "$\\qquad$ `[MSC v.1900 32 bit (Intel)] on win32`    \n",
    "$\\qquad$ `Type \"help\", \"copyright\", \"credits\" or \"license\" for more information.`   \n",
    "$\\qquad$ `>>>`\n",
    "\n",
    "Refer to your preferred Python documentation if you cannot get to this point.\n",
    "\n",
    "The \"\\>\\>\\>\" is the prompt that ask you for commands to send.\n",
    "Note that it says Python 3.5.1 But it could be another version.\n",
    "\n",
    "Now it is time to verify that you have the needed packages. Write those lines (not the \"\\>\\>\\>\" characters as they are written by the interpreter):\n",
    "\n",
    "$\\qquad$ `>>> import serial`  \n",
    "$\\qquad$ `>>> import jupyter`\n",
    "\n",
    "If the interpreter keeps silent it means that both the **pyserial** and the **jupyter** modules are installed, so far, so good. Now we will check two more packages using an special import syntax:\n",
    "\n",
    "$\\qquad$ `>>> import numpy as np`  \n",
    "$\\qquad$ `>>> import pylab as pl`\n",
    "\n",
    "If the interpreter keeps also silent it means that both **numpy** and **pylab**, that is part of **matplotlib**, are also installed, so far, so good. Now write down:\n",
    "\n",
    "$\\qquad$ `>>> x = np.arange(0,1,0.1)`  \n",
    "$\\qquad$ `>>> pl.plot(x,x)`\n",
    "\n",
    "Python will respond with something like:\n",
    "\n",
    "$\\qquad$ `[<matplotlib.lines.Line2D object at 0x04EE6270>]`\n",
    "\n",
    "Now write:\n",
    "\n",
    "$\\qquad$ `>>> pl.show()`  \n",
    "\n",
    "You shall get an image like the one below:\n",
    "\n",
    "![first plot](images\\Basics_02\\first_plot.png)\n",
    "\n",
    "Dismiss the image and you are done.\n",
    "If you have reached to this point, you should be able to use the SLab System.\n",
    "\n",
    "As this is an interactive **Jupyter notebook**, you can also run code from this window, so you can do the previous operations in a code cell instead of using a console.\n",
    "\n",
    "**Run** the following cell to test all the imports and the operation of **NumPy** and **Matplotlib**. You should be able to obtain a figure with a line drawn.\n",
    "\n",
    "If the cell responds with something like:\n",
    "\n",
    "$\\qquad$ `[<matplotlib.lines.Line2D object at 0x04EE6270>]`\n",
    "\n",
    "Run the cell again."
   ]
  },
  {
   "cell_type": "code",
   "execution_count": null,
   "metadata": {},
   "outputs": [],
   "source": [
    "# Check the imports\n",
    "\n",
    "import importlib\n",
    "\n",
    "def check(package):\n",
    "    try:\n",
    "        importlib.import_module(package)\n",
    "    except:\n",
    "        print('Package',package,'is not installed (ERROR)')\n",
    "    else:\n",
    "        print('Package',package,'is installed (OK)')\n",
    "        \n",
    "check('serial')\n",
    "check('numpy')\n",
    "check('matplotlib')\n",
    "check('jupyter')\n",
    "\n",
    "# Check plot draing\n",
    "\n",
    "import numpy as np\n",
    "import pylab as pl\n",
    "x = np.arange(0,1,0.1)\n",
    "pl.plot(x,x)\n",
    "pl.show()"
   ]
  },
  {
   "cell_type": "markdown",
   "metadata": {},
   "source": [
    "## First Steps on SLab\n",
    "\n",
    "If all four imports read '(OK)' and you are able to obtain a plot of a line, then the software requirements for **SLab** are fullfuled.\n",
    "\n",
    "Now it is time to test the **SLab** code itself.\n",
    "\n",
    "The SLab files are provided in a file **“Slab (vX.Y date).zip”** where X and Y are the major and minor versions of the release and **date** is the release date. But you should already know that as you are running an SLab notebook now.\n",
    "\n",
    "The **root SLab folder** contains several subfolders.\n",
    "\n",
    "* **Boards** is the location for information about SLab hardware boards\n",
    "\n",
    "\n",
    "* **Code** is the location where the SLab Python code resides. \n",
    "\n",
    "\n",
    "* **Console** is the location to run SLab in console mode\n",
    "\n",
    "\n",
    "* **Jupyter** is the location for interactive Jupyter notebook documents\n",
    "\n",
    "\n",
    "* **Scripts** is the location for OS scripts for different uses  \n",
    "\n",
    "\n",
    "* **Setup Docs** is the location for **PDFs** about the installation of **SLab**\n",
    "\n",
    "\n",
    "There is a **release info.txt** file in the root SLab folder that describes all folder contents.\n",
    "\n",
    "Currently **SLab** is distributed as a set of **Python** files inside the `SLab/Code` folder, not as an installed Python **package**. That's why, if you want to access to the SLab code from outside of the **Code** folder you need to instruct Python about the SLab code location. This can be done using the **PYTHONPATH** environment variable.\n",
    "\n",
    "So, if `path_to_code` is the path to the `SLab/Code` folder you can instruct Python to search for Python files in this folder in windows using:\n",
    "\n",
    "$\\qquad$ `set PYTHONPATH=path_to_code`\n",
    "\n",
    "Or in Linux:\n",
    "\n",
    "$\\qquad$ `export PYTHONPATH=path_to_code`\n",
    "\n",
    "You can also use relative paths when needed.\n",
    "\n",
    "Using **SLab** you can normally access Python in three ways:\n",
    "\n",
    "* Using the python console\n",
    "\n",
    "* Using Jupyter notebooks\n",
    "\n",
    "* Using Python scripts\n",
    "\n",
    "But we will only deal here with the Jupyter notebooks."
   ]
  },
  {
   "cell_type": "markdown",
   "metadata": {},
   "source": [
    "## Running SLab\n",
    "\n",
    "To use the **SLab** module, you need to import it.\n",
    "\n",
    "You can execute the following **code cell** to import the **SLab** module."
   ]
  },
  {
   "cell_type": "code",
   "execution_count": null,
   "metadata": {},
   "outputs": [],
   "source": [
    "import slab"
   ]
  },
  {
   "cell_type": "markdown",
   "metadata": {},
   "source": [
    "You should get about four lines of text with the current SLab version in one of them.\n",
    "\n",
    "Some SLab commands don't require a **hardware board** to operate.\n",
    "\n",
    "The following code cell draws a graph using the SLab module."
   ]
  },
  {
   "cell_type": "code",
   "execution_count": null,
   "metadata": {},
   "outputs": [],
   "source": [
    "# Import the numpy module\n",
    "import numpy as np\n",
    "\n",
    "# Create a 200 points vector for x values\n",
    "x = np.linspace(0,10,200)\n",
    "# Calculate a sine function\n",
    "y = np.sin(x)\n",
    "\n",
    "# Plot y vs x using SLab\n",
    "slab.plot11(x,y,'Sine Plot','Angle [rad]','Value')"
   ]
  },
  {
   "cell_type": "markdown",
   "metadata": {},
   "source": [
    "As you have seen, and usual in python, we have used the slab module name for the plot command. All commands will have the structure:\n",
    "\n",
    "$\\qquad$ `var = slab.command_name(Arguments)`\n",
    "\n",
    "Where **command_name** is the name of the command and **Arguments** is an optional argument list for the command. Some commands return values. In those cases you can assign the result to a variable **var** or, in some cases, a **list** of variables. For commands that do not return any value, like our **plot11** case, or for the cases that the command returns data you don't need, you can omit the **\"var =\"** part of the call. As this is standard in Python refer to the Python literature for more information about this language.\n",
    "\n",
    "It is not recommended to remove the slab reference by using:\n",
    "\n",
    "$\\qquad$ `>>> from slab import *`\n",
    "\n",
    "It is bad Python practice and can break the operation of the program in unexpected ways. If you want to reduce the number of characters you are writing you'd better use an alias name for the module:\n",
    "\n",
    "$\\qquad$ `>>> import slab as sl`  \n",
    "$\\qquad$ `>>> sl.plot11(x,y,'Sine Plot','Angle [rad]','Value')`  "
   ]
  },
  {
   "cell_type": "markdown",
   "metadata": {},
   "source": [
    "## Getting Help\n",
    "\n",
    "At any time you can ask SLab for help using the help command although it is probably more useful from the console than from a Jupyter notebook. The first **SLab** release used an specific help system. Nowadays, slab used the **standard** Python help system. You ask for information about a command just asking for it:\n",
    "\n",
    ">`>>> help(slab.dcPrint)`\n",
    "\n",
    "Like in the interactive box below:"
   ]
  },
  {
   "cell_type": "code",
   "execution_count": null,
   "metadata": {},
   "outputs": [],
   "source": [
    "help(slab.plot11)"
   ]
  },
  {
   "cell_type": "markdown",
   "metadata": {},
   "source": [
    "Off course, as this is the standard Python help system, you can also ask about Python commands or about other module commands:"
   ]
  },
  {
   "cell_type": "code",
   "execution_count": null,
   "metadata": {},
   "outputs": [],
   "source": [
    "help(print)"
   ]
  },
  {
   "cell_type": "code",
   "execution_count": null,
   "metadata": {},
   "outputs": [],
   "source": [
    "import numpy as np\n",
    "help(np.linspace)"
   ]
  },
  {
   "cell_type": "markdown",
   "metadata": {},
   "source": [
    "If you want, you can also call for help without arguments, that will open an **interactive help system**. Just hit return without specifiying any topic to close it.\n",
    "Using the Python **interactive help** within **Jupyter** is not the best option, but it works."
   ]
  },
  {
   "cell_type": "code",
   "execution_count": null,
   "metadata": {},
   "outputs": [],
   "source": [
    "help()"
   ]
  },
  {
   "cell_type": "markdown",
   "metadata": {},
   "source": [
    "At this point you have a nearly working **SLab system**. Next chapter will deal with building a **SLab system** by connecting a **hardware** board to **test circuit** on a **breadboard**."
   ]
  },
  {
   "cell_type": "markdown",
   "metadata": {},
   "source": [
    "## References\n",
    "\n",
    "**Python page:**  \n",
    "Main page of the Python Software Foundation.  \n",
    "https://www.python.org/\n",
    "\n",
    "**Anaconda page:**  \n",
    "Page where the Anaconda Python distribution can be downloaded.\n",
    "https://www.continuum.io/downloads\n",
    "\n",
    "**SLab Python References**  \n",
    "Those are the [reference documents](/tree/Reference) for the SLab Python modules. They describe the commands that can be carried out after importing each module. \n"
   ]
  },
  {
   "cell_type": "markdown",
   "metadata": {},
   "source": [
    "## Document license\n",
    "\n",
    "Copyright  ©  Vicente Jiménez (2018-2019)\n",
    "This work is licensed under a Creative Common Attribution-ShareAlike 4.0 International license.  \n",
    "This license is available at http://creativecommons.org/licenses/by-sa/4.0/\n",
    "\n",
    "<img  src=\"images/cc_sa.png\" width=\"200\">"
   ]
  },
  {
   "cell_type": "code",
   "execution_count": null,
   "metadata": {},
   "outputs": [],
   "source": []
  }
 ],
 "metadata": {
  "kernelspec": {
   "display_name": "Python 3",
   "language": "python",
   "name": "python3"
  },
  "language_info": {
   "codemirror_mode": {
    "name": "ipython",
    "version": 3
   },
   "file_extension": ".py",
   "mimetype": "text/x-python",
   "name": "python",
   "nbconvert_exporter": "python",
   "pygments_lexer": "ipython3",
   "version": "3.7.1"
  }
 },
 "nbformat": 4,
 "nbformat_minor": 2
}
