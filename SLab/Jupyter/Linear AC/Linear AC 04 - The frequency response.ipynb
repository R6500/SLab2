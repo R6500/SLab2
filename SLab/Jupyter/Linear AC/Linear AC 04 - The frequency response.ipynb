{
 "cells": [
  {
   "cell_type": "markdown",
   "metadata": {},
   "source": [
    "<img style=\"float: right;\"  src=\"images/LogoP.jpg\" width=\"200\">\n",
    "\n",
    "# Linear AC 04 - The frequency response\n",
    "\n",
    "This document deals with the **frequency response** that enables us to obtain the response of a circtuit to any periodic signal.\n",
    "\n",
    "Version 1.0 (11/5/2019)  \n",
    "License information is at the end of the document\n",
    "\n",
    "---\n",
    "**Bill Of Materials (BOM):**\n",
    "\n",
    "* Two capacitors of $10nF$ and $100nF$\n",
    "* Two $47k \\Omega$ Resistors\n",
    "\n",
    "---"
   ]
  },
  {
   "cell_type": "markdown",
   "metadata": {},
   "source": [
    "# Periodic signals\n",
    "\n",
    "Peridic signals are signals that repeat themselves over time.\n",
    "\n",
    "![Periodic Signal](images\\Linear_AC_04\\periodic_signal.png)\n",
    "\n",
    "The time it takes the signal to repeat is the **period** and is usually associated to the $T$ letter. Formally, we can define the **period** $T$ of a signal $x(t)$ as the minimum $T$ value that satisfies:\n",
    "\n",
    "$$x(t)=x(t+n \\cdot T)$$\n",
    "\n",
    "for any integer, positive or negative, $n$ number.\n",
    "\n",
    "We can define **frequency**, usually associated to the letter $f$, as the inverse of the period:\n",
    "\n",
    "$$f=\\frac{1}{T}$$\n",
    "\n",
    "As time has **seconds** ($s$) units, frequency has $s^{-1}$ units.  \n",
    "As the frequency magnitude is used a lot, its unit has its on name **Hertz ($Hz$)**\n",
    "\n",
    "$$Hz=\\frac{1}{s}$$\n",
    "\n",
    "Frequency is very important in sound because our ears are very sensitive to the frequency of the air pressure waves. In music, the [notes](https://en.wikipedia.org/wiki/Musical_note) are related to the frequency of the sound waves and, each time the frequency **doubles** we go up one [octave](https://en.wikipedia.org/wiki/Octave).\n",
    "\n",
    "Of course, no signal is trully periodic as it should go from time $-\\infty$ to time $+\\infty$. In general we analyze **ideal** periodic signals because they are easier to deal with. After we understand them, we can deal with the fact that **real** signals are not trully periodic.\n",
    "\n",
    "Frequency is important because it can be related to information. Let's consider a signal that can be sent to a far place to send information. Suppose also that it can have two levels and it has a period of $1 \\mu s$. Its frequency will be $1MHz$\n",
    "\n",
    "![Square Wave](images\\Linear_AC_04\\square_wave.png)\n",
    "\n",
    "This signal, called a **square** signal, as is trully periodic, does not contain any information. It is always the same. But, if a system can transmit without degradation the above signal it can usually also transmit any similar non periodic signal as long as it does not change faster than the periodic one.\n",
    "\n",
    "![NP Square](images\\Linear_AC_04\\np_square.png)\n",
    "\n",
    "This second signal contains information because each $\\mu s$ it can change its value and we don't know, in advance, the value it will take. As each $\\mu s$ we can have two equally probable outcomes, we get one [bit](https://en.wikipedia.org/wiki/Bit) of information each $\\mu s$, so our information transmision capacity is:\n",
    "\n",
    "$$\\frac{1 bit}{1 \\mu s} = 10^6 \\frac{bit}{s} = 1 M \\frac{b}{s}$$\n",
    "\n",
    "The bigger the signal frequency a system can transmit, the bigger the information we can send.\n",
    "\n",
    "Note that any combination of bits is possible, so, in order to be capable to transmit $1Mb/s$ the system shall be able to transmit not only a $1MHz$ signal but also any signal with less than $1MHz$ down to constant DC as long as it has only two **high** and **low** levels.\n",
    "\n",
    "So, in the end, understanding the capacity of a system to transmit periodic signals is important for **sound** and, in general, for any information transmission system.\n",
    "\n",
    "Ok, let's try some periodic signals in a linear circuit."
   ]
  },
  {
   "cell_type": "markdown",
   "metadata": {},
   "source": [
    "---\n",
    "\n",
    "![Practical Icon](images/pt.png)\n",
    "\n",
    "---"
   ]
  },
  {
   "cell_type": "markdown",
   "metadata": {},
   "source": [
    "## SLab Setup\n",
    "\n",
    "First we will need to import the **SLab** module"
   ]
  },
  {
   "cell_type": "code",
   "execution_count": null,
   "metadata": {},
   "outputs": [],
   "source": [
    "# Import the main SLab module\n",
    "import slab"
   ]
  },
  {
   "cell_type": "markdown",
   "metadata": {},
   "source": [
    "Then we need to connect with the board."
   ]
  },
  {
   "cell_type": "code",
   "execution_count": null,
   "metadata": {},
   "outputs": [],
   "source": [
    "boardFolder = ''                                # Board folder (leave '' if you use only one board)\n",
    "slab.setFilePrefix('../Files/')                 # Set File Prefix\n",
    "slab.setCalPrefix('Calibrations/'+boardFolder)  # Set Calibration Prefix         \n",
    "slab.connect()                                  # Connect to the board"
   ]
  },
  {
   "cell_type": "markdown",
   "metadata": {},
   "source": [
    "It is always a good idea to check the board operation.\n",
    "The following cell checks the calibration for the DAC channels and the first four ADC channels."
   ]
  },
  {
   "cell_type": "code",
   "execution_count": null,
   "metadata": {},
   "outputs": [],
   "source": [
    "# Check the calibration\n",
    "slab.checkCalibration(pause=False,na=4,nm=10)"
   ]
  },
  {
   "cell_type": "markdown",
   "metadata": {},
   "source": [
    "## Unipolar woes\n",
    "\n",
    "Mount the following **linear** circuit and connect it to the **SLab** board.\n",
    "\n",
    "![Circuit](images\\Linear_AC_04\\circuit.png)\n",
    "\n",
    "You should remember it from the previous tutorial although this is not exactly the same circuit. One problem associated to the **SLab** system is that it is **unipolar**, it can only generate or read **positive** signals.\n",
    "\n",
    "In order to work with **negative** signals we need to create our own **ground** instead of using the **SLab ground**. We will use **DAC 2** set to $1.5V$ for that. Fron now, to the end of this tutorial, our ground will be the $1.5V$ output of **DAC1**. Measured and generated voltages use the **SLab ground** as reference, the voltages $V_x'$ respect to our **ground refernce** will be different than the measured voltages $V_x$ respect to the **SLab ground reference**.\n",
    "\n",
    "$$V_x' = V_x - V_{DAC2}$$\n",
    "\n",
    "So we will need to substract the **DAC2** voltage to any voltage we measure.\n",
    "\n",
    "In a similar way, when we use **DAC1** to inject a signal on our circuit, the signal in our new reference $V_{DAC1}'$ can be calculated:\n",
    "\n",
    "$$V_{DAC1}' = V_{DAC1} - V_{DAC2} = V_{DAC1} - 1.5V$$ \n",
    "\n",
    "So, the value we will need to set when using the **SLab reference** $V_{DAC1}$ will be:\n",
    "\n",
    "$$V_{DAC1} = V_{DAC1}' + V_{DAC2} = V_{DAC1}' + 1.5V$$"
   ]
  },
  {
   "cell_type": "markdown",
   "metadata": {},
   "source": [
    "## Response against periodic signals\n",
    "\n",
    "After all explanations in how to turn an **unipolar** system in a **bipolar** one, now it is time to perform some measurements.\n",
    "\n",
    "Now we will apply a **square** signal and see how the circuit responds.\n",
    "\n",
    "As, for now, we only want to see the response to **periodic** signals, we will start the measurement after 200 waves have been generated on **DAC1**."
   ]
  },
  {
   "cell_type": "code",
   "execution_count": null,
   "metadata": {},
   "outputs": [],
   "source": [
    "# Set DAC2 to 1.5V\n",
    "slab.setVoltage(2,1.5)\n",
    "\n",
    "# Load a 50 point square wave with 1V low value and 2V high value\n",
    "slab.waveSquare(1.0,2.0,50)\n",
    "\n",
    "# Set wave frequency of 1kHz\n",
    "slab.setWaveFrequency(1000)\n",
    "# Set storage for 250 samples of ADC1, ADC2 and ADC3 (5 waves)\n",
    "slab.setTransientStorage(250,3)\n",
    "\n",
    "# Generate and plot the wave and return the obtained data\n",
    "# We will start the measurement after 200 waves have been generated\n",
    "data=slab.wavePlot(200,returnData=True)"
   ]
  },
  {
   "cell_type": "markdown",
   "metadata": {},
   "source": [
    "The above plot, as is generated by a **SLab** command, uses the **SLab ground** reference. In order to use our new reference we need to execute the following code cell:"
   ]
  },
  {
   "cell_type": "code",
   "execution_count": null,
   "metadata": {
    "scrolled": false
   },
   "outputs": [],
   "source": [
    "t    = data[0]           # Get the time vector\n",
    "vref = data[3]           # Get the reference DAC2 vector in SLab reference\n",
    "vi   = data[1] - vref    # Compute vi (ADC1) in the new reference\n",
    "vo   = data[2] - vref    # Compute vo (ADC2) in the new reference\n",
    "\n",
    "# Plot vi and vo in \n",
    "slab.plot1n(t,[vi,vo],'Response to square','time [s]','vi, vo [V]',['vi','vo'])"
   ]
  },
  {
   "cell_type": "markdown",
   "metadata": {},
   "source": [
    "You can see that the output signal has the same frequency as the input but different shape.\n",
    "\n",
    "Let's try with another signal. This time a **triangle** one.\n",
    "\n",
    "This time, we will only show the signals in our $1.5V$ reference. We will also define a function to do all the repetitive plotting."
   ]
  },
  {
   "cell_type": "code",
   "execution_count": null,
   "metadata": {},
   "outputs": [],
   "source": [
    "# Define a function to do the plotting\n",
    "def plotRef15(data,title):\n",
    "    t    = data[0]           # Get the time vector\n",
    "    vref = data[3]           # Get the reference DAC2 vector in SLab reference\n",
    "    vi   = data[1] - vref    # Compute vi (ADC1) in the new reference\n",
    "    vo   = data[2] - vref    # Compute vo (ADC2) in the new reference\n",
    "    # Plot vi and vo in \n",
    "    slab.plot1n(t,[vi,vo],title,'time [s]','vi, vo [V]',['vi','vo'])\n",
    "\n",
    "# VDAC2 should be already at 1.5V    \n",
    "    \n",
    "# Load a 50 point triangle wave with 1V low value and 2V high value\n",
    "slab.waveTriangle(1.0,2.0,50)\n",
    "\n",
    "# Set wave frequency of 1kHz\n",
    "slab.setWaveFrequency(1000)\n",
    "# Set storage for 250 samples of ADC1, ADC2 and ADC3 (5 waves)\n",
    "slab.setTransientStorage(250,3)\n",
    "\n",
    "# Get measurements without plotting\n",
    "# We will start the measurement after 200 waves have been generated\n",
    "data=slab.waveResponse(200)\n",
    "\n",
    "# Plot results in our 1.5V reference\n",
    "plotRef15(data,'Response to triangle')"
   ]
  },
  {
   "cell_type": "markdown",
   "metadata": {},
   "source": [
    "You should also see that the output, again, has the same frequency but also different shape. Note that although in both cases we have outputs with the same frequency as the input, it is dangerous to generalize this result as we will see later.\n",
    "\n",
    "Now, let's try a **sine** signal."
   ]
  },
  {
   "cell_type": "code",
   "execution_count": null,
   "metadata": {},
   "outputs": [],
   "source": [
    "# Load a 50 point sine wave with 1V low value and 2V high value\n",
    "slab.waveSine(1.0,2.0,50)\n",
    "\n",
    "# Set wave frequency of 1kHz\n",
    "slab.setWaveFrequency(1000)\n",
    "# Set storage for 250 samples of ADC1, ADC2 and ADC3 (5 waves)\n",
    "slab.setTransientStorage(250,3)\n",
    "\n",
    "# Get measurements without plotting\n",
    "# We will start the measurement after 200 waves have been generated\n",
    "data=slab.waveResponse(200)\n",
    "\n",
    "# Plot results in our 1.5V reference\n",
    "plotRef15(data,'Response to 1kHz sine')"
   ]
  },
  {
   "cell_type": "markdown",
   "metadata": {},
   "source": [
    "This is interesting. The output not only has the same frequency as the input but also the same shape. You can try again using a different **sine** frequency."
   ]
  },
  {
   "cell_type": "code",
   "execution_count": null,
   "metadata": {},
   "outputs": [],
   "source": [
    "# Load a 50 point sine wave with 1V low value and 2V high value\n",
    "slab.waveSine(1.0,2.0,50)\n",
    "\n",
    "# Set wave frequency of 100Hz\n",
    "slab.setWaveFrequency(100)\n",
    "# Set storage for 250 samples of ADC1, ADC2 and ADC3 (5 waves)\n",
    "slab.setTransientStorage(250,3)\n",
    "\n",
    "# Get measurements without plotting\n",
    "# We will start the measurement after 200 waves have been generated\n",
    "data=slab.waveResponse(200)\n",
    "\n",
    "# Plot results in our 1.5V reference\n",
    "plotRef15(data,'Response to 100 Hz sine')"
   ]
  },
  {
   "cell_type": "markdown",
   "metadata": {},
   "source": [
    "Again, we conserve both the shape and the frequency. Note that the **amplitude** and **phase** changes compared to the previous measurement."
   ]
  },
  {
   "cell_type": "markdown",
   "metadata": {},
   "source": [
    "## It's all about exponentials\n",
    "\n",
    "Conserving the shape is not strange. We know that exponentials are autofunctions of **Linear Time- Independent (LTI)** systems, so, when we enter an exponential $x(t)$ to an **LTI** system we get an output $y(t)$ with the same exponential, multiplied by a constant, on the output.\n",
    "\n",
    "$$x(t) \\overset{LTI}{\\longrightarrow} y(t)$$\n",
    "\n",
    "$$e^{a \\cdot t} \\overset{LTI}{\\longrightarrow} B \\cdot e^{a \\cdot t}$$\n",
    "\n",
    "As we know from the [Euler Formula](https://en.wikipedia.org/wiki/Euler%27s_formula), **sine** functions are composed of two exponentials with **imaginary** exponents. So it is normal for them to conserve the shape when going through a **LTI** system. \n",
    "\n",
    "Let's consider that we enter a sine $x(t)$ to a **LTI** system:\n",
    "\n",
    "$$x(t) = sin(\\omega t) = \\frac{e^{j \\omega t}-e^{-j\\omega t}}{2j} \n",
    "=  \\frac{e^{j \\omega t}}{2j} - \\frac{e^{-j\\omega t}}{2j}$$\n",
    "\n",
    "The output $y(t)$ will get each exponential by a constant:\n",
    "\n",
    "$$y(t) = z_1 \\frac{e^{j \\omega t}}{2i} - z_2 \\frac{e^{-j \\omega t}}{2j}$$\n",
    "\n",
    "And we chose $z_1$ and $z_2$ so that:\n",
    "\n",
    "$$z_1 = a + jb \\qquad z_2 = a - jb$$\n",
    "\n",
    "We need to do that so that the output is a real number. More about that later.  \n",
    "\n",
    "Then we get:\n",
    "\n",
    "$$y(t) = (a + jb)\\frac{e^{j \\omega t}}{2j} - (a - jb) \\frac{e^{-j \\omega t}}{2j}$$\n",
    "\n",
    "We get:\n",
    "\n",
    "$$y(t) = a \\frac{e^{j \\omega t}-e^{-j \\omega t}}{2j} \n",
    "+ b \\frac{e^{j \\omega t}+e^{-j \\omega t}}{2}$$\n",
    "\n",
    "And that is equal to:\n",
    "\n",
    "$$y(t) = a \\cdot sin(\\omega t) + b \\cdot cos(\\omega t)$$\n",
    "\n",
    "And that is equal to:\n",
    "\n",
    "$$y(t) = \\sqrt{a^2+b^2} sin(\\omega t+tan^{-1}\\frac{a}{b}) = D \\cdot sin(\\omega t+ \\theta)$$\n",
    "\n",
    "With:\n",
    "\n",
    "$$D = \\sqrt{a^2+b^2} \\qquad \\theta = tan^{-1}\\frac{a}{b}$$\n",
    "\n",
    "So when we multiply the two exponentials that compose a **sine** wave by two constants, we get a **sine wave** with the same **frequency** although it can have different **amplitude** and **phase**.\n",
    "\n",
    "Rememeber the two constants we are using:\n",
    "\n",
    "$$z_1=a+jb \\qquad z_2=a-jb$$\n",
    "\n",
    "The two  constants need to be **complex conjugate**  to each other so that when a **Real** sine enters the system, the output is also **Real** with no imaginary components.  \n",
    "\n",
    "The **complex conjugate** is associated to the $^*$ unary operator:\n",
    "\n",
    "$$(a+jb)^* =  a-jb$$\n",
    "\n",
    "As **LTI** systems don't generate imaginary outputs, the constants will always be **complex conjugates** to each other and we can always deduce one constant from the other just by changing the sign of the imaginary component."
   ]
  },
  {
   "cell_type": "markdown",
   "metadata": {},
   "source": [
    "## Response to non sinusoidal periodic signals\n",
    "\n",
    "We explained in previous documents that any signal can be obtained by adding exponentials together. In fact, that gives us the **Laplace** transform. In the case of **periodic** signals, if we add exponentials to obtain a **periodic** signal, the exponentials shall also be **periodic**. And the only exponentials that are periodic are the ones that feature a full imaginary exponent without any real component. \n",
    "\n",
    "$$z = j\\omega$$\n",
    "\n",
    "Note that we are not talking about how many exponentials we shall add to match a particular signal. The number of exponentials to add to obtain a perfect match of, for instance, a square wave, could be infinite. The [Fourier Series](https://en.wikipedia.org/wiki/Fourier_series) give just that: a series of sine waves that compose any particular periodic signal.\n",
    "\n",
    "In the end, any **periodic** signal can be obtained as the sum of **sine** waves with different **frequencies**, **amplitudes** and **phases**. The frequency of the **sine** waves are restricted because only full sine waves can be included in one period of the original signal. That means that the frequency of the sine waves need to be an integer multiple of the original wave frequency. \n",
    "\n",
    "$$f = n\\cdot f_0$$\n",
    "\n",
    "Joining all the previous explanations we can see that any periodic signal can be created just adding sine waves. We also know that those sine waves don't change shape nor frequency when going through a **LTI** system, they only change in **amplitude** and **phase**.\n",
    "\n",
    "So, we can obtain the response of any **LTI** system to periodic signals by knowing its response to sine waves of different frequencies. This response to sine waves is called the **Frequency Response** of the **LTI** system.\n"
   ]
  },
  {
   "cell_type": "markdown",
   "metadata": {},
   "source": [
    "## Measuring the frequency response\n",
    "\n",
    "To measure the frequency response of a **LTI** system we just need to obtain how sinewaves of any frequency change in amplitude and phase.\n",
    "\n",
    "We will use the already mounted circuit to measure its response to a $1000 Hz$ sine wave. In fact we have done that before. But this time, instead of starting the measurement after 200 sine waves have been generated, we will measure just from the beginning."
   ]
  },
  {
   "cell_type": "code",
   "execution_count": null,
   "metadata": {},
   "outputs": [],
   "source": [
    "# Set wave frequency of 1000Hz\n",
    "slab.setWaveFrequency(1000)\n",
    "# Set storage for 250 samples of ADC1, ADC2 and ADC3 (5 waves)\n",
    "slab.setTransientStorage(250,3)\n",
    "\n",
    "# Set storage for 250 samples of ADC1, ADC2 and ADC3 (5 waves)\n",
    "slab.setTransientStorage(250,3)\n",
    "\n",
    "# Get measurements without plotting\n",
    "# We will start the measurement at time zero\n",
    "data=slab.waveResponse()\n",
    "\n",
    "# Plot results in our 1.5V reference\n",
    "plotRef15(data,'Response to 1 kHz sine')"
   ]
  },
  {
   "cell_type": "markdown",
   "metadata": {},
   "source": [
    "The input signal is not really periodic as we apply it only from time $t=0$. As you can see you have two time phases in the output:\n",
    "\n",
    "* In the first **transient phase** the sine wave changes with time\n",
    "\n",
    "* In the second **stationary phase** the sine wave always feature the same amplitude and phase\n",
    "\n",
    "Only the second **stationary phase** is the response to a **periodic** sine wave. The first phase is only a transition due to the fact that the input is not trully periodic. Note that, as the first phase does not repeat, we cannot really talk about **frequency** in this phase.\n",
    "\n",
    "You can instruct **SLab** to apply several periods of the input wave, as we have done before, before starting the measurements. That way you can skip the **transient phase** and see only the **stationary phase**."
   ]
  },
  {
   "cell_type": "code",
   "execution_count": null,
   "metadata": {},
   "outputs": [],
   "source": [
    "# Get measurements without plotting\n",
    "# We will start the measurement after 10 sine waves\n",
    "data=slab.waveResponse(10)\n",
    "\n",
    "# Plot results in our 1.5V reference\n",
    "plotRef15(data,'Response to 1 kHz sine')"
   ]
  },
  {
   "cell_type": "markdown",
   "metadata": {},
   "source": [
    "The **SLab AC module** includes functions to extrat the amplitude an phase information from sinewave measurements. In particular the **sineGain** function obtain the **complex gain** of the circuit against a sine wave.\n",
    "\n",
    "$$gain = \\frac{y(t)}{x(t)}$$\n",
    "\n",
    "This is a **complex gain** its **modulus** give the **Amplitude gain** and its  **phase** gives the **phase change**.\n",
    "\n",
    "The following code cell imports the **AC module** and uses it to obtain the **complex gain** of our circuit agains a $100Hz$ sine wave."
   ]
  },
  {
   "cell_type": "code",
   "execution_count": null,
   "metadata": {},
   "outputs": [],
   "source": [
    "# Import the slab AC module\n",
    "import slab.ac as ac\n",
    "\n",
    "# Compute the complex gain\n",
    "# Sine wave goes from 1.5V to 2V and has 1000Hz frequency\n",
    "# We measure output on channel 2 \n",
    "# We apply 10 input wave cycles before measuring\n",
    "gain = ac.sineGain(1.0,2.0,1000,2,10)\n",
    "\n",
    "# Show the complex gain\n",
    "print('Gain at 1000Hz =',gain)"
   ]
  },
  {
   "cell_type": "markdown",
   "metadata": {},
   "source": [
    "It is difficult to make sense of a **complex gain** so let's convert it to **Amplitude gain** and **Phase change**"
   ]
  },
  {
   "cell_type": "code",
   "execution_count": null,
   "metadata": {},
   "outputs": [],
   "source": [
    "# Convert complex to modulus and phase\n",
    "AGain,phase = ac.magPhase(gain)\n",
    "\n",
    "# Show it\n",
    "print('Amplitude gain =',AGain)\n",
    "print('Phase change =',phase)"
   ]
  },
  {
   "cell_type": "markdown",
   "metadata": {},
   "source": [
    "You can see that the output is about 1/3 of the input and that it lags about 70 degrees. The output is close to be in [quadrature](https://en.wikipedia.org/wiki/In-phase_and_quadrature_components) respect to the input.\n",
    "\n",
    "You can check that the numbers are right by excecuting the code below.\n",
    "\n",
    "This code compares the measured output signal agains a sinewave that has the obtained **Amplitude gain** and **Phase change**."
   ]
  },
  {
   "cell_type": "code",
   "execution_count": null,
   "metadata": {},
   "outputs": [],
   "source": [
    "# Impor the numpy module to use some of its functions\n",
    "import numpy as np\n",
    "\n",
    "# Extract measurement information\n",
    "t    = data[0]           # Get the time vector\n",
    "vref = data[3]           # Get the reference DAC2 vector in SLab reference\n",
    "vo   = data[2] - vref    # Compute vo (ADC2) in the new reference\n",
    "\n",
    "w  = 2*np.pi*1000        # Compute frequency in rad/s\n",
    "ph = phase*np.pi/180.0   # Compute phase in radians\n",
    "\n",
    "# Generate a signal with the calculated amplitude and phase changes\n",
    "vo2 = 0.5*AGain*np.sin(w*t+ph)\n",
    "\n",
    "# Plot the measured signal against the calculated signal\n",
    "slab.plot1n(t,[vo,vo2],'','time [s]','vo [Volt]',['Measured','Calculated'])"
   ]
  },
  {
   "cell_type": "markdown",
   "metadata": {},
   "source": [
    "If you measure the **stationary phase** for several frequencies you can plot how the amplitude and phase change at each frequency. We can use the **AC module** **freqResponse** function for that."
   ]
  },
  {
   "cell_type": "code",
   "execution_count": null,
   "metadata": {},
   "outputs": [],
   "source": [
    "# Define a vector with a list of frequencies to measure\n",
    "fvector = np.linspace(10,3000,40)\n",
    "\n",
    "# Perform the measurement at each frequency an get its complex gain\n",
    "# Input signal in DAC1 will go from 1V to 2V\n",
    "# We will measure on ADC2 and wait 20 cycles before measuring\n",
    "g = ac.freqResponse(1.0,2.0,fvector,2,20)\n",
    "\n",
    "# Plot the complex gain in modulus and phase\n",
    "\n",
    "ac.plotFreq(fvector,g)"
   ]
  },
  {
   "cell_type": "markdown",
   "metadata": {},
   "source": [
    "And this is the frequency response of our system.\n",
    "\n",
    "You can see that, at $1000 Hz$ we get the same result we have obtained before.\n",
    "\n",
    "Note that the phase is negative because it always lags the input. It is an expected result. The output shall be [causal](https://en.wikipedia.org/wiki/Causality), so an **LTI** shall always respod **after** an input chanfe, never **before** it."
   ]
  },
  {
   "cell_type": "markdown",
   "metadata": {},
   "source": [
    "## Calculating the frequency response\n",
    "\n",
    "Measuring the **frequency response** is quite easy. Obtaining that from a circuit description, by performing calculations, is a different thing.\n",
    "\n",
    "As we know, any **LTI** system can be described by its **Impulsional Response** $h(t)$. The response to a sine wave can be obtained by convolution of the **Impulsional Response** and the sine wave:\n",
    "\n",
    "$$y(t) = h(t) * sin(\\omega \\cdot t)$$\n",
    "\n",
    "But we can do that also in the **Laplace S domain:**\n",
    "\n",
    "$$Y(s) = H(s) \\: \\mathcal{L}(sin(\\omega \\cdot t))$$\n",
    "\n",
    "As we remember, $H(s)$ **poles** correspond to **exponentials** in the time domain. Poles in the $i\\omega$ axis correspond to sinewaves whereas poles with **negative real** values correspond to decaying exponentials. Poles with **positive real** values correspond to unstable systems so we won't deal with them.\n",
    "\n",
    "The **Laplace** transform of a sine wave is:\n",
    "\n",
    "$$sin(\\omega \\cdot t) \\: u(t) \\overset{\\mathcal{L}}{\\longrightarrow} \\frac{\\omega}{s^2+\\omega ^2}$$\n",
    "\n",
    "As you can see it has two poles in the imaginary axis.\n",
    "\n",
    "$$s^2+\\omega ^2=0 \\quad \\rightarrow \\quad s = \\pm j\\omega$$\n",
    "\n",
    "And you can separate them in two fractions:\n",
    "\n",
    "$$\\frac{\\omega}{s^2+\\omega ^2}\n",
    "= \\frac{1/2j}{s-jw} - \\frac{1/2j}{s+jw}$$\n",
    "\n",
    "When we multiply $H(s)$ and the transform of the sine waves we obtain for $Y(s)$ all the poles of $H(s)$ and the two new **imaginary** poles assosiated to the sine wave. We could now use the **Inverse Laplace** transform to obtain $y(t)$.\n",
    "\n",
    "This could be quite complicated so we won't do that. We won't do that  because we don't need $y(t)$ with the **transient** and **stationary** phases. We only need the last **stationary** phase.\n",
    "\n",
    "$H(s)$ is a polynomial fraction. By factoring $H(s)$ in all its **poles** (denominator **roots**) you get one exponential in the time domain for each pole. Each pole will relate to one exponential in the time domain.\n",
    "\n",
    "$H(s)$ don't have poles with positive real values or the system won't be stable. Poles with negative real values relate to exponentials that will decay over time, so they are part of the **transient** phase. We won't consider, for now, $H(s)$ functions with poles in the **imaginary** axis. Those functions correspond to **linear oscilators** and are a matter of another tutorial.\n",
    "\n",
    "In the end, the only poles that will remain in the **stationary** phase of $Y(s)$ are the ones in the **imaginary** axis and those are the ones associated to the input **sine** wave. All poles in $H(s)$ have negative **real** components and will decay inside the **transient phase**. \n",
    "\n",
    "The two **complex poles** poles that remain in the **stationary phase (ST)** will be affected by the value of $H(s)$ at their position, however:\n",
    "\n",
    "$$Y_{ST}(s) = H(jw)\\frac{1/2j}{s-jw} - H(-jw)\\frac{1/2j}{s+jw}$$\n",
    "\n",
    "You can argue that the above functions are defined for all the **s plane** not just for the $\\pm \\omega$ pole positions and you should use $H(s)$ instead. This is true, but those functions correspond to exponentials that are zero for negative times, for periodic signals, only the asymptote is important.\n",
    "\n",
    "Note also that in every **LTI** system $H(-j\\omega)$ is the complex conjugate of $H(j\\omega)$, so we can obtain:\n",
    "\n",
    "$$Y_{ST}(s) = H(jw)\\frac{1/2j}{s-jw} - H(jw)^*\\frac{1/2j}{s+jw}$$\n",
    "\n",
    "Returning to the time domain is easy because we have the same poles associated to a sine wave that we started with. The only difference is the $H(s)$ multiplication at the position of the poles that generate a change in **amplitude** and **phase** on the sinewave.\n",
    "\n",
    "$$y_{ST}(t) = H(jw) \\: \\frac{e^{j \\omega t}}{2j} - H(jw)^* \\: \\frac{e^{-j \\omega t}}{2j}$$\n",
    "\n",
    "We have done that before. We know that this is gives an **Amplitude gain** equal to the modulus of $H(jw)$ and a phase change equal to the phase of $H(jw)$."
   ]
  },
  {
   "cell_type": "markdown",
   "metadata": {},
   "source": [
    "## Circuit's frequency response\n",
    "\n",
    "Let's apply that to our circuit. In order to obtain $H(s)$ we will sustitute each linear component by its **s impedance**.\n",
    "\n",
    "![Circuit Z](images\\Linear_AC_04\\circuit3z.png)\n",
    "\n",
    "Note that using **DAC2** to generate a **new ground reference** does not change the behavior of the circuit.\n",
    "\n",
    "We have dealt with this circuit in the previous tutorial, so we known its $H(s)$ **Transfer function**:\n",
    "\n",
    "$$H(s)=\\frac{R_1 \\; C_1 \\; s}\n",
    "{1+s(R_2 \\; C_1 + (R_1+R_2)C_2) + C_1 \\; C_2 \\; R_1 \\; R_2 \\; s^2}$$\n",
    "\n",
    "And we know that it features one **zero** and two **poles**:\n",
    "\n",
    "$$s_z = 0 \\qquad s_{p1} = -192 \\qquad s_{p1} = -2361$$ \n",
    "\n",
    "We can plot the **modulus** of the **Transfer function** $H(s)$ in the **s plane**"
   ]
  },
  {
   "cell_type": "code",
   "execution_count": null,
   "metadata": {},
   "outputs": [],
   "source": [
    "import numpy as np  # Import the numpy module\n",
    "\n",
    "# Component values in Ohm and Farads\n",
    "R1 = 47000  \n",
    "R2 = 47000\n",
    "C1 = 100E-9\n",
    "C2 = 10E-9\n",
    "\n",
    "# 3D function to plot\n",
    "def H(x,y):\n",
    "    z = x+y*1j\n",
    "    return R1*C1*z/(1+z*(R2*C1+(R1+R2)*C2)+C1*C2*R1*R2*z*z)\n",
    "\n",
    "# Modulus (clipped at 10)\n",
    "slab.plotFunc3D(H,(-3000,0),(-1500,1500),'','$\\sigma$','$\\omega$','H(s) Modulus'\n",
    "                 ,clip=(-10,10),fpost=np.absolute)"
   ]
  },
  {
   "cell_type": "markdown",
   "metadata": {},
   "source": [
    "In the figure you should be able to se the **zero** and the two **real poles**.\n",
    "\n",
    "As the most intereting region is the **imaginary axis**, lets rotate the plot to see it better. Also we will change the z limits and the plot range."
   ]
  },
  {
   "cell_type": "code",
   "execution_count": null,
   "metadata": {},
   "outputs": [],
   "source": [
    "# Modulus (clipped at 5)\n",
    "# Set an elevation angle of 20 deg and an azimut angle of 10 deg\n",
    "slab.plotFunc3D(H,(-3000,0),(-6000,6000),'','$\\sigma$','$\\omega$','H(s) Modulus'\n",
    "                 ,clip=(-5,5),fpost=np.absolute,angles=(20,10))"
   ]
  },
  {
   "cell_type": "markdown",
   "metadata": {},
   "source": [
    "As explained before, the **steady phase** response to a sine wave depends only on $H(i\\omega)$ not on the rest of the **s plane**. The following code shows the **modulus** and **phase** of $H(i\\omega)$. As you can check the modulus can be seen at the front of the 3D plots.\n",
    "\n",
    "At the start of this chapter we applied a $1000 Hz$ $1V$ sine wave to our circuit. We can now obtain $H(s)$ at this frequency on the **s domain** over the imaginary axis.\n",
    "\n",
    "$$z = H(j\\cdot 1000 Hz \\cdot 2 \\pi)$$\n",
    "\n",
    "So, the output sine will have an amplitude gain and phase change:\n",
    "\n",
    "$$A_G = |z| \\qquad \\theta = \\varphi_z$$\n",
    "\n",
    "Use the following code cell to calculate the above values:"
   ]
  },
  {
   "cell_type": "code",
   "execution_count": null,
   "metadata": {},
   "outputs": [],
   "source": [
    "w = 1000.0*2.0*np.pi\n",
    "z = H(0.0,w)\n",
    "print('z =',z)\n",
    "\n",
    "# Convert complex to modulus and phase\n",
    "AGain,phase = ac.magPhase(gain)\n",
    "\n",
    "# Show it\n",
    "print('Amplitude gain =',AGain)\n",
    "print('Phase change =',phase)"
   ]
  },
  {
   "cell_type": "markdown",
   "metadata": {},
   "source": [
    "So, in the end, if we have a **Transfer function** $H(s)$ that describes one **LTI** system, and we feed it with an input sine periodic signal:\n",
    "\n",
    "$$x(t) = A \\cdot sin(\\omega \\cdot t)$$\n",
    "\n",
    "The output of the system can be calculated as:\n",
    "\n",
    "$$y(t) = |H(j\\omega)| \\cdot A \\cdot sin(\\omega \\cdot t + \\varphi_{H(j\\omega)})$$\n",
    "\n",
    "So, for each angular frequency $\\omega$ we get:\n",
    "\n",
    "* $|H(j\\omega)|$ as the amplitude **gain**\n",
    "\n",
    "* $\\varphi_{H(j\\omega)}$ as the **phase** change \n",
    "\n",
    "We can represent both in two curves. For instance for our example circuit. As we have measured this information previously, we will also compare the calculations with the measurements."
   ]
  },
  {
   "cell_type": "code",
   "execution_count": null,
   "metadata": {},
   "outputs": [],
   "source": [
    "# Calculation of complex gain from H(s)\n",
    "g2 = H(0.0,2.0*np.pi*fvector)\n",
    "\n",
    "# Plot the frequency response both for the measuremnt and the calculations\n",
    "ac.plotFreq([fvector,fvector],[g,g2],['Measured','Calculated'])"
   ]
  },
  {
   "cell_type": "markdown",
   "metadata": {},
   "source": [
    "You should get a good match between the measurements and the results obtained from the computed $H(s)$ **Transfer function**. A perfect match is impossible as resistors and capacitors have some tolerances.\n",
    "\n",
    "Those two curves can be used to calculate how the system responds to any perodic signal.  \n",
    "Any periodic signal we can decompose it in a series of sine waves.\n",
    "\n",
    "$$x(t)=\\sum_{k=1}^n A_k sin(\\omega_k t + \\theta_k)$$\n",
    "\n",
    "Every sine frequency is affected by the **amplitude** and **phase** values  from the curves in the point that correspond to this frequency. After computing how the **LTI** system affects each sinewave we can join the waves again to obtain the final response to the periodic signal.\n",
    "\n",
    "$$y(t)=\\sum_{k=1}^n |H(j\\omega_k)| A_k  sin(\\omega_k t + \\theta_k + \\varphi_{H(j\\omega)})$$"
   ]
  },
  {
   "cell_type": "markdown",
   "metadata": {},
   "source": [
    "## Bode plots\n",
    "\n",
    "## Bode Plots\n",
    "\n",
    "Signals that we use in **LTI** systems can have a big [dynamic range](https://en.wikipedia.org/wiki/Dynamic_range). Using linear values for the amplitudes make the amplitude curve too close to the horizontal axis when the gain is much lower than the maximum gain. You can see that in our example circuit for frequencies above $6000Hz$"
   ]
  },
  {
   "cell_type": "code",
   "execution_count": null,
   "metadata": {},
   "outputs": [],
   "source": [
    "# Vector or frequencies from 1Hz to 10kHz\n",
    "fvect3 = np.linspace(1,10000,400)\n",
    "\n",
    "# Calculation of complex gain from H(s)\n",
    "g3 = H(0.0,2.0*np.pi*fvect3)\n",
    "\n",
    "# Plot the frequency response both for the measuremnt and the calculations\n",
    "ac.plotFreq(fvect3,g3)"
   ]
  },
  {
   "cell_type": "markdown",
   "metadata": {},
   "source": [
    "In order to **compress** the **amplitude** information we use $dB$ units for gain.\n",
    "\n",
    "$$gain[dB] = 20 \\: log_{10} \\: gain[linear] $$\n",
    "\n",
    "A gain of one equals to zero $dB$. Each time the gain increases 10 times we increase in $20 dB$. So, for instance a gain of $1000$ equals $60 dB$ and a gain of $0.01$, or $1/100$ attenuation, equals $-40 dB$.\n",
    "\n",
    "It is important to note that $dB$ does not directly relate to any unit like **Volt** or **Ampere** it just relates two magnitudes.\n",
    "\n",
    "Formally, $dB$ units compare **powers**. In fact, the proper definition of $dB$ is:\n",
    "\n",
    "$$Power Ratio[dB] = 10 \\: log_{10} \\frac{P_2}{P_1}$$\n",
    "\n",
    "In electric circuits, when using a resistive load, power is proportional to the **square** of **voltage** or **current**.\n",
    "\n",
    "$$P_R = \\frac{V_R^2}{R} = I^2 \\cdot R$$ \n",
    "\n",
    "So, if, we define our gain as voltage gain.\n",
    "\n",
    "$$gain_V = \\frac{V_2}{V_1}$$\n",
    "\n",
    "The power gain will be:\n",
    "\n",
    "$$gain_P = \\frac{V_2^2}{V_1^2}$$\n",
    "\n",
    "So, the **dB** power ratio will be.\n",
    "\n",
    "$$Power Ratio[dB] = 10 \\: log_{10} \\frac{P_2}{P_1} \n",
    "= 10 \\: log_{10} \\frac{V_2^2}{V_1^2} \n",
    "= 20 \\: log_{10} \\frac{V_2}{V_1} = 20 \\: log_{10} \\: gain_V$$\n",
    "\n",
    "Another problem with the frequency response curves is using **linear** horizontal frequency axes. The hearing response in humans is logarithmic. In music, as explained before, we go up one **octave** each time we **double** the frequency. So, for instance 4 **octaves** correspond to a $2^4 = 16$ frequency ratio.\n",
    "\n",
    "Also using **logarithmic** units for frequency compress the values so, in general, it is good when the maximum frequency to show is several [orders of magnitude](https://en.wikipedia.org/wiki/Order_of_magnitude) over the minimum frequency to show.\n",
    "\n",
    "So, in general, it is normal to also use a logarithmic scale for frequencies.\n",
    "\n",
    "In the end, we represent the frequency response using a double logarithmic plot for gains:\n",
    "\n",
    "* Vertical logarithmic axis due to the use of $dB$ units\n",
    "* Horizontal logarithmic frequency axis \n",
    "\n",
    "The phase plot also uses logarithmic horizontal frequency axis but linear vertical **degree** or **radian** values.\n",
    "\n",
    "The pair of amplitude log-log and phase log-linear plots compose what is called a **Bode Plot**. The following code shows the bode plot for our circuit.\n"
   ]
  },
  {
   "cell_type": "code",
   "execution_count": null,
   "metadata": {},
   "outputs": [],
   "source": [
    "# Bode plot from the previous data\n",
    "ac.plotBode(fvect3,g3)"
   ]
  },
  {
   "cell_type": "markdown",
   "metadata": {},
   "source": [
    "To obtain a proper bode plot, the data used to generate it should also be spaced in a log space, so, let's recalculate the above plot."
   ]
  },
  {
   "cell_type": "code",
   "execution_count": null,
   "metadata": {},
   "outputs": [],
   "source": [
    "# Vector or frequencies from 1Hz to 10kHz\n",
    "fvect3 = ac.logRange(1,10000) \n",
    "\n",
    "# Calculation of complex gain from H(s)\n",
    "g3 = H(0.0,2.0*np.pi*fvect3)\n",
    "\n",
    "# Bode plot from the previous data\n",
    "ac.plotBode(fvect3,g3)"
   ]
  },
  {
   "cell_type": "markdown",
   "metadata": {},
   "source": [
    "That's way better.\n",
    "\n",
    "Usually the major tick divisions in the frequency axis are marked in **Hz decades**, that is, each time the frequency multiplies by $10$. **Octave** and **radian/s** markings can also be used by they are not so common.\n",
    "\n",
    "An inconvenient of the **bode plot** is that we cannot locate the **DC** zero frequency point as $log_{10}(0)$ is not a real number.\n",
    "\n",
    "The bode plot contain all needed information to obtain the response of a **LTI** system to periodic signals in the **stationary** phase. Note, however, that it does not give information on the **transient** phase. For this phase you will need all the $H(s)$ information, not just the $H(i \\omega)$ information in the imaginary axis."
   ]
  },
  {
   "cell_type": "markdown",
   "metadata": {},
   "source": [
    "## Last words\n",
    "\n",
    "In this chapter we have dealt with the **frequency response** of AC circuits. This is the base of all frequency selective circuits like [filters](https://en.wikipedia.org/wiki/Filter_(signal_processing)), for instance.\n",
    "\n",
    "As we have explained, the frequency response also can be related to the capacity of a **LTI** system to transmit information.\n",
    "\n",
    "This was a long and quite theoretical tutorial so we should leave it now. In the next tutorial we will continue dealing with the **Bode plots** because they feature a lot of information that is very important to understand."
   ]
  },
  {
   "cell_type": "markdown",
   "metadata": {},
   "source": [
    "## Document license\n",
    "\n",
    "Copyright  ©  Vicente Jiménez (2019)  \n",
    "This work is licensed under a Creative Common Attribution-ShareAlike 4.0 International license.  \n",
    "This license is available at http://creativecommons.org/licenses/by-sa/4.0/\n",
    "\n",
    "<img  src=\"images/cc_sa.png\" width=\"200\">"
   ]
  },
  {
   "cell_type": "code",
   "execution_count": null,
   "metadata": {},
   "outputs": [],
   "source": []
  }
 ],
 "metadata": {
  "kernelspec": {
   "display_name": "Python 3",
   "language": "python",
   "name": "python3"
  },
  "language_info": {
   "codemirror_mode": {
    "name": "ipython",
    "version": 3
   },
   "file_extension": ".py",
   "mimetype": "text/x-python",
   "name": "python",
   "nbconvert_exporter": "python",
   "pygments_lexer": "ipython3",
   "version": "3.7.1"
  }
 },
 "nbformat": 4,
 "nbformat_minor": 2
}
