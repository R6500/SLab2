{
 "cells": [
  {
   "cell_type": "markdown",
   "metadata": {},
   "source": [
    "# <img style=\"float: right;\"  src=\"images/LogoP.jpg\" width=\"200\">\n",
    "\n",
    "# Basics 05 : The SLab Workflow\n",
    "\n",
    "This document describes the basic workflow in the **SLab experiments**.\n",
    "\n",
    "Version 1.2 (12/3/2019)\n",
    "License information is at the end of the document\n",
    "\n",
    "---\n",
    "**Bill Of Materials (BOM):**\n",
    "\n",
    "* 1x 1N4148 diode\n",
    "* 1x $1 k\\Omega$ resistor\n",
    "\n",
    "---"
   ]
  },
  {
   "cell_type": "markdown",
   "metadata": {},
   "source": [
    "## Introduction\n",
    "\n",
    "This is the last document in the SLab Basics series. Here, the basic **workflow** in the SLab experiments will be described together with some common semantics.\n",
    "The SLab project is about learning electronics by building circuits and performing measurements on them. Each document will pivot around a particular concept to be developed by performing **experiments**.\n",
    "\n",
    "In order to learn, you need to work,in the document there will be several kinds of tasks, mainly:\n",
    "\n",
    "* Search for information tasks\n",
    "* Theoretical/Calculation tasks\n",
    "* Numerical calculation tasks\n",
    "* Circuit implementation tasks\n",
    "* Measurement tasks\n",
    "\n",
    "In **Search for information tasks** you will be asked to obtain data you need for some calculation. It would be mainly to obtain the [datasheets](https://en.wikipedia.org/wiki/Datasheet) for the components you are using. \n",
    "\n",
    "**Theoretical tasks** or **Calculation tasks** require you to perform hand calculations without interacting with any circuit. This could be analyzing a circuit to know in advance what to expect when you measure it.\n",
    "\n",
    "**Numerical calculation tasks** use the Python engine to perform calculation that don't involve any direct measurement. This could be done before measuring a circuit to know what to expect or after some measurements to do some post processing on the obtained data. In general, as we will see later, those kinds of tasks will be associated to python code cells. \n",
    "\n",
    "In some cases the search for information, theoretical or nummerical tasks will be marked with a symbol like the one below, but it is not mandatory. This will only be used when we want to have a strong separation between theory and practice.\n",
    "\n",
    "---\n",
    "\n",
    "![Theoretical Icon](images/tt.png)\n",
    "\n",
    "---\n",
    "\n",
    "The previosly defined tasks don't require to interact with any circuit. But as **SLab** is about hands-on electronics, mosr documents will include some circuit measurements.\n",
    "\n",
    "**Circuit implementation tasks** will ask you to mount a circuit on a solderless breadboard so that you can perform some measurements. \n",
    "\n",
    "**Measurement tasks** use the SLab engine to do some measurements on the implemented circuit. Most times the Python code will be written for you buy in some cases you could be required to create your own code or modify the existing one.\n",
    "\n",
    "In some cases when circuit implementation or measurement tasks follow theoretical tasks, it will be marked with an icon like the one below, but, like with the theoretical icon, it is not mandatory.\n",
    "\n",
    "---\n",
    "\n",
    "![Practical Icon](images/pt.png)\n",
    "\n",
    "---\n",
    "\n",
    "Now we will develop the full workflow for an example associate to obtaining the **DC I(V) curve of a diode**. As this document is about the workflow, not about analyzing a diode, you don't need to fully understand what you are doing. Just do what are you instructed to do."
   ]
  },
  {
   "cell_type": "markdown",
   "metadata": {},
   "source": [
    "## Gathering the components\n",
    "\n",
    "At the start of the document, just below the tittle, there will be a **Bill Of Materials (BOM)** list. This list will indicate which are the components you will need to use to build the proposed circuits.  \n",
    "Always check that you have them in order to proceed.  \n",
    "In our particular case we need a **1N4148** diode and a **1k resistor** like the ones below:\n",
    "\n",
    "![Diode and Resistor](images/Basics_05/Diode_Resistor.jpg)\n",
    "\n",
    "The component at the top is the diode. Depending on the manufacturer, the package can be different in size and color. As long as it is a **1N4148** diode that's ok.\n",
    "\n",
    "The component at the bottom is the resistor. In electrical components it is quite normal to use [color codings](https://en.wikipedia.org/wiki/Electronic_color_code) to identify components. We know that it is a $1 k\\Omega$ resistor because the colors are **Brown** - **Black** - **Red**.  \n",
    "The final **Gold** ring indicates that the component resistance value can have a 5% error.\n",
    "\n",
    "Before performing any measurement we will need to understand what we will do and understand what we should obtain on the measurements, so some theoretical tasks will follow.\n",
    "\n",
    "---\n",
    "\n",
    "![Theoretical Icon](images/tt.png)\n",
    "\n",
    "---"
   ]
  },
  {
   "cell_type": "markdown",
   "metadata": {},
   "source": [
    "## Obtaining information\n",
    "\n",
    "The first thing we will need is the diode **datasheet**. You can just use **Google** to find the datasheet if you put **\"1N4148 datasheet** in the search box. The desired result will probably be the first **PDF** document you find in the list. The image below is from a [Vishay](https://www.vishay.com/) manufacturer datasheet. If you have data from another manufacturer the document will be different but the included data, as long as it is for a **1N4148** diode, will be more or less the same. \n",
    "\n",
    "![Diode Datasheet](images/Basics_05/1N4148.png)\n",
    "\n",
    "In our particular case we want to know the diode $I_F(V_F)$ curve, so we locate it on the datasheet:\n",
    "\n",
    "![Diode I(V) Curve](images/Basics_05/diode_IV.png)\n",
    "\n",
    "Now we know that for $1mA$ forward current $I_F$ we can expect to have about $0.6V$ forward voltage $V_F$.\n",
    "\n",
    "We will also use the datasheet to be able to identify the diode terminals.\n",
    "\n",
    "![Diode Identification](images/Basics_05/Diode_Identification.png)\n",
    "\n",
    "A diode has two components: **Anode** and **Cathode**, in our diode we know that the **Cathode** is marked with a line on one of its ends. Your diode will be probably marked in a similar way. "
   ]
  },
  {
   "cell_type": "markdown",
   "metadata": {},
   "source": [
    "## Theoretical calculations\n",
    "\n",
    "After we know some information about our diode, we can build a **theoretical model** for it.\n",
    "\n",
    "A diode $I_F(V_F)$ curve can be modelled by an exponential equation:\n",
    "\n",
    "$\\qquad I_F = I_S \\left( e^\\frac{V_F}{\\eta V_T} -1 \\right)$\n",
    "\n",
    "This equation depends on three parameters:\n",
    "\n",
    "$I_S$ is the **Reverse Saturation Current** and is very small but different for all diodes.\n",
    "\n",
    "$\\eta$ is an **Ideality Factor** that is about 2 for normal silicon diodes.\n",
    "\n",
    "$V_T$ is the thermal voltage that can be calculated as:\n",
    "\n",
    "$\\qquad V_T = \\frac{k \\cdot T}{q}$\n",
    "\n",
    "As this document is about the workflow, not about the diodes themselves, we just need to know that $V_T$ is about $26mV$ for all diodes at normal room temperature (about 25C).\n",
    "\n",
    "As the equation has only one unknown ($I_S$), we can calculate it from the data we got from the datasheet:\n",
    "\n",
    "$\\qquad I_S = \\frac{I_F}{e^\\frac{V_F}{\\eta V_T} -1} = \\frac{1mA}{e^\\frac{0.6V}{2 \\cdot 25mV} -1}$\n",
    "\n",
    "We can use a calculator, but as we have Pythn, we can use a code cell too. Just select it and click the run button at the top of the window."
   ]
  },
  {
   "cell_type": "code",
   "execution_count": null,
   "metadata": {},
   "outputs": [],
   "source": [
    "# Is calculation\n",
    "\n",
    "# Import the numpy module for the formulas\n",
    "import numpy as np  \n",
    "\n",
    "If = 0.001 # 1mA\n",
    "Vf = 0.6   # 0.6V\n",
    "\n",
    "n  = 2.0   # Ideality factor\n",
    "Vt = 0.026 # Thermal Voltage of 26mV at room temperature\n",
    "\n",
    "Is = If/np.exp(Vf/(n*Vt)) # Calculate Is\n",
    "\n",
    "Is_nA = 1e9 * Is # Convert to nA\n",
    "\n",
    "print('Is is',Is_nA,'nA')"
   ]
  },
  {
   "cell_type": "markdown",
   "metadata": {},
   "source": [
    "When the cell is running you should see something like **`In [*]:`**. The asterisk $*$ indicates that the cell is running.\n",
    "\n",
    "After running the cell you should see the the output response from the cell just below it.\n",
    "Now the text on the left margin should read **`In [1]:`**. Run the cell again and it should read **`In [2]:`**. The number on the cell enables us to see the order in which the code cells have been executed.\n",
    "The execution environment is common to all code tasks so any variables you create o modify can have [side efects](https://en.wikipedia.org/wiki/Side_effect_(computer_science)) on the execution of the next cells.\n",
    "\n",
    "As the above cell don't use the results of any other cell, it will always give the same results upon execution. This won't always be the case.\n",
    "\n",
    "As an example the following code cell has no side effects and always print the same $1$ value.\n",
    "\n",
    "The next cell, however, as it increases a variable, will return a different value at every execution. Try it."
   ]
  },
  {
   "cell_type": "code",
   "execution_count": null,
   "metadata": {},
   "outputs": [],
   "source": [
    "# It creates a variable\n",
    "a = 1\n",
    "# And prints some text \n",
    "print('The value of a is',a)"
   ]
  },
  {
   "cell_type": "code",
   "execution_count": null,
   "metadata": {},
   "outputs": [],
   "source": [
    "a += 1\n",
    "print('The value of a is',a)"
   ]
  },
  {
   "cell_type": "markdown",
   "metadata": {},
   "source": [
    "## Theoretical curve\n",
    "\n",
    "Once we know all the paramters for the diode model, we can draw the theoretical $I_F(V_F)$ curve. This curve is always drawn with linear $V_F$ axis but it can be drawn with linear or logarithmic $I_F$ axis.\n",
    "\n",
    "In the following cell we will show both options.\n",
    "\n",
    "Note that you are supposed to execute all code cells in order, so we won't need to import the numpy module again."
   ]
  },
  {
   "cell_type": "code",
   "execution_count": null,
   "metadata": {},
   "outputs": [],
   "source": [
    "# Obtain the theoretical curve of a diode\n",
    "\n",
    "import slab         # Import the SLab module for graphs\n",
    "\n",
    "Vf = np.arange(0,0.72,0.02)          # Voltage range in V\n",
    "If = 1000.0*Is*np.exp(Vf/(n*Vt))    # Calculated current in mA\n",
    "\n",
    "# Show curves as graphs\n",
    "slab.plot11(Vf,If,\"Diode Curve with linear If\",\"Vf[V]\",\"If[mA]\")\n",
    "slab.plot11(Vf,If,\"Diode Curve with logarithmic If\",\"Vf[V]\",\"If[mA]\",logy=True)"
   ]
  },
  {
   "cell_type": "markdown",
   "metadata": {},
   "source": [
    "The above curves shall be similar to the ones obtained in the datasheet. Note that those curves don't include high current effects, so they will start to be wrong for currents above $20mA$.\n",
    "\n",
    "In our particula case we can check that the model predicts a current of about $0.1mA$ for a voltage of about $0.5V$ and $7mA$ for $0.7V$ and that is also about what the manufacture shows in its curve.\n",
    "\n",
    "Well, theoretical calculations are good, but **SLab** is about practice, so let's perform some measurements.\n",
    "\n",
    "---\n",
    "\n",
    "![Practical Icon](images/pt.png)\n",
    "\n",
    "---"
   ]
  },
  {
   "cell_type": "markdown",
   "metadata": {},
   "source": [
    "## Checking the Setup\n",
    "\n",
    "In order to perform the next experiments you need to have a working SLab environment. That includes:\n",
    "\n",
    "* A **hardware board**, like the STM32 Nucleo64 F303RE, with the SLab firmware loaded and connected to a PC.\n",
    "* The **SLab root folder** and its subfolders.\n",
    "* A working **Python** enviroment that includes **SciPy**.\n",
    "* **Jump wires** for all needed connections.\n",
    "* The **components** listed in the **Bill of Materials** (BOM) at the start of the document\n",
    "\n",
    "The first action we will perform is to check the board **calibration**. In the **F303 Zero** setup that means connecting the DAC outputs to the ADC inputs as shown in the figure. In general, it is good to check the calibration for all the channels you will use. As for normal **SLab** documents we don't use more than four ADC channels, channels over **ADC4** won't be tested.\n",
    "\n",
    "![cal3](images/Basics_05/calibration.png)\n",
    "\n",
    "As we recall from the board description and calibration documents this relates to the **SLab Standard Docking**\n",
    "\n",
    "![Docking](images/Basics_05/docking.jpg)\n",
    "\n",
    "Observe in the figure that the **red LED** is ON. That means that the **Hardware Board** is powered and that the power rails on the breadboard are live.\n",
    "\n",
    "The schematic defines the **DACs** as **inputs** to the circuit and the **ADCs** as **outputs** from it. As DACs force voltages on the circuits, they are shown as **voltage sources**. \n",
    "\n",
    "Note the **ground** symbol. In the above schematic the connect of the DACs to **ground** in inside of the **hardware board**. When we need to make explicit connections to **ground** we will use an specific ground simbol, with a **black box**, like the one below:\n",
    "\n",
    "![ground](images/Basics_05/ground.png)\n",
    "\n",
    "All connections to the ground symbol should go to the negative GND rail at either side of the breadboard, blue in the breadboard photograph. We can always consider that all ground symbols correspond to the same node so they have the same voltage. It is possible that in some schematics the ground connection is not made explicit with the **black box** symbol. Remember that any ground connection external to the board need to be routed to the **ground** terminal.\n",
    "\n",
    "The following **code cells** import the **SLab** module, set the **path** for the calibration files, **connect** with the board and run the **calibration test** limited to four ADCs.\n",
    "\n",
    "We use three code cells instead of grouping all the code in a single cell to give more versatility. For instance, if you reload the document and you have already performed some tasks, perhaps you only want to connect and not perform any calibration."
   ]
  },
  {
   "cell_type": "code",
   "execution_count": null,
   "metadata": {},
   "outputs": [],
   "source": [
    "# Import of the SLab module\n",
    "# As we imported slab before, you don't really require to run this cell\n",
    "import slab"
   ]
  },
  {
   "cell_type": "code",
   "execution_count": null,
   "metadata": {},
   "outputs": [],
   "source": [
    "boardFolder = ''                                # Board folder (leave '' if you use only one board)\n",
    "slab.setFilePrefix('../Files/')                 # Set File Prefix\n",
    "slab.setCalPrefix('Calibrations/'+boardFolder)  # Set Calibration Prefix         \n",
    "slab.connect()                                  # Connect to the board"
   ]
  },
  {
   "cell_type": "code",
   "execution_count": null,
   "metadata": {},
   "outputs": [],
   "source": [
    "# Check the calibration\n",
    "slab.checkCalibration(pause=False,na=4,nm=10)"
   ]
  },
  {
   "cell_type": "markdown",
   "metadata": {},
   "source": [
    "On a properly calibrated board you should one line for each ADC with all of them having **equal** DAC and ADC voltages for each point. The lines can degrade at the extremes of the range, this is normal.\n",
    "\n",
    "Don't continue if the calibration result is wrong. If you don't get the calibration image **run again** the code. Return to the previous calibration document if the **curves are wrong**."
   ]
  },
  {
   "cell_type": "markdown",
   "metadata": {},
   "source": [
    "## Mounting the circuit\n",
    "\n",
    "After checking that the board works as it should, we can implement a circuit to measure the diode curve.\n",
    "\n",
    "![Circuit](images/Basics_05/circuit.png)\n",
    "\n",
    "The following image shows the implementation of the above schematic in a breadboard connected to a Nucleo F303 board.\n",
    "\n",
    "![Circuit](images/Basics_05/circuit.jpg)\n",
    "\n",
    "Note how the **DAC1** yellow wire and the **ADC1** blue wire connects to one **R1** terminal.  \n",
    "The other **R1** terminal connects with the **1N4148** diode **Anode** and the **ADC2** green wire.  \n",
    "Finally, the diode **Cathode** connects with one of the two blue breadboard ground lines.  \n",
    "Observe that the unused **DAC2**, **ADC3** and **ADC4** wires remain at their docking positions.  \n"
   ]
  },
  {
   "cell_type": "markdown",
   "metadata": {},
   "source": [
    "## Measuring the circuit\n",
    "\n",
    "Now we can measure the circuit.  \n",
    "What we will do is to measure the **ADC1** and **ADC2** inputs for several **DAC1** voltage values between 0V and 3V. \n",
    "\n",
    "The code below does just that by calling the **dcSweepPlot** function that measures **ADC** voltages by a sweep range of **DAC1** voltages."
   ]
  },
  {
   "cell_type": "code",
   "execution_count": null,
   "metadata": {},
   "outputs": [],
   "source": [
    "# Code to perform the diode measurement\n",
    "\n",
    "# Required parameters are as follow:\n",
    "#   DAC to sweep is 1\n",
    "#   Start voltage is 0.0V\n",
    "#   End voltage is 3.0V\n",
    "#   Sweep step is 0.1V\n",
    "\n",
    "# Optional parameters are as follow:\n",
    "#   We only store information for 2 ADCs\n",
    "#   We return data in a vector\n",
    "\n",
    "data = slab.dcSweepPlot(1,0.0,3.0,0.1,2,returnData=True)"
   ]
  },
  {
   "cell_type": "markdown",
   "metadata": {},
   "source": [
    "The above code shows **ADC1** and **ADC2** values as function of the **DAC1** voltage and stores the results in the **data** vector. But we don't want this curve, we want the $I(V)$ curve.\n",
    "\n",
    "In order not to destroy the information on the previously defined $V_F$ and $I_F$ variables we define two new variables. $V_M$ will hold the **measured** diode voltage, in $V$, and $I_M$ will hold the **measured** diode current, in $mA$.\n",
    "\n",
    "As with the theoretical case, we will draw the curves both in linear and logarithmic current axis."
   ]
  },
  {
   "cell_type": "code",
   "execution_count": null,
   "metadata": {},
   "outputs": [],
   "source": [
    "# Compute the diode voltage and current\n",
    "\n",
    "Vm = data[2]           # Diode voltage is measured at ADC2 \n",
    "Im = data[1]-data[2]   # Diode current, in mA, equals the R1 voltage, in Volt, as this resistor has 1k value\n",
    "\n",
    "# Draw the I(V) plots\n",
    "\n",
    "# Plot with linear current\n",
    "slab.plot11(Vm,Im,'Im(Vm) curve with linear Im','Vm[V]','Im[mA]') \n",
    "\n",
    "# Plot with logarithmic current\n",
    "slab.plot11(Vm,Im,'Im(Vm) curve with logarithmic Im','Vm[V]','Im[mA]',logy=True)"
   ]
  },
  {
   "cell_type": "markdown",
   "metadata": {},
   "source": [
    "Observe that at low voltages the current is so small that it cannot be measured with enough precission using a $1k\\Omega$ series resistor."
   ]
  },
  {
   "cell_type": "markdown",
   "metadata": {},
   "source": [
    "## Comparing Theory and Practice\n",
    "\n",
    "One of the **SLab** strenghts is that it combines the Python calculations with automated measurements, so we can easily compare the theory and the practice.\n",
    "\n",
    "The following code cell compares the curves obtained using theory with the ones obtained in the measurements."
   ]
  },
  {
   "cell_type": "code",
   "execution_count": null,
   "metadata": {},
   "outputs": [],
   "source": [
    "# Compare theory and practice\n",
    "\n",
    "# Curves with linear current\n",
    "slab.plotnn([Vf,Vm],[If,Im],'Im(Vm) curve with linear current','Vm[V]','Im[mA]',['Theory','Measurement'])\n",
    "\n",
    "# Curves with logarithmic current\n",
    "slab.plotnn([Vf,Vm],[If,Im],'Im(Vm) curve with logarithmic current','Vm[V]','Im[mA]',['Theory','Measurement'],logy=True)"
   ]
  },
  {
   "cell_type": "markdown",
   "metadata": {},
   "source": [
    "Note that, for low voltages the current is so small, near the $\\mu A$ range, that it cannot be correctly measured by using a $1k\\Omega$ resistor. This is because a 12 bit ADCs give us a resolutions of about $1mV$. That translates to $1 \\mu A$ current on the resistor. If you have a **Hardware Board** with better ADCs, perhaps you will be able to go to lower currents.\n",
    "\n",
    "Of course the theoretical curves are not exact to the measured ones even for good current values. This is perfectly normal because real components have not exact values for their properties and there can be some measurement errors.\n",
    "\n",
    "That ends up our workflow example. Only a pair of more general SLab sections follow."
   ]
  },
  {
   "cell_type": "markdown",
   "metadata": {},
   "source": [
    "## Default SLab pin numbering\n",
    "\n",
    "At **SLab** we will work with circuits that use components more complex than simple resistors. For components with three or more pins, we will usually number them. In the case of three terminal devices, like transistors, the pin numbering we will choose is to number the pins, from **left** to **right** in the side that contains the component markings.\n",
    "\n",
    "For instance, in the bipolar NPN transistor **BC547** pins will be numbered:\n",
    "\n",
    "![BC547](images/Basics_05/BC547.jpg)\n",
    "\n",
    "In the circuit schematic we will show the pin numbers as a reference:\n",
    "\n",
    "![BC547 Schematic](images/Basics_05/BC547_Sch.png)\n",
    "\n",
    "Note that the component datasheets don't allways follow the same rules, so you can find, for the devices we use on SLab, datasheets that use other number criteria.\n",
    "\n",
    "In the case of integrated circuits with **Dual In Line** (DIL) packages, the pin numbering is quite standard following an anticlockwise ordering starting at the top of the package. The following figure shows how this numbering works on the dual operational amplifier MCP6002.\n",
    "\n",
    "![MCP6002](images/Basics_05/MCP6002.png)\n",
    "\n",
    "In the schematics we will show the same pin numbering.\n",
    "\n",
    "![MCP6002 Schematic](images/Basics_05/MCP6002_Sch.png)\n",
    "\n",
    "Note that this integrated circuit features two identical operational amplifiers, so you can swap pins 3-5, 2-6 and 1-7 and the circuit will be the same.\n",
    "\n",
    "Note also that, on integrated circuits that include more than one identical device, power pins, like 4 and 8 in the schematic, are only shown once."
   ]
  },
  {
   "cell_type": "markdown",
   "metadata": {},
   "source": [
    "## What if something goes wrong?\n",
    "\n",
    "Sometimes the system won’t work as expected. In can be due to user errors, electrical glitches or bugs in the board firmware or the SLab Python code. If the system is unresponsive or you cannot get back the Python prompt, this section will give some options to try.\n",
    "\n",
    "**Problems at the Python level**\n",
    "\n",
    "Sometimes things go wrong on the Python SLab software layer. If you cannot get back the prompt, try these options:\n",
    "\n",
    "* Check if there is a drawing generated by Python. When Python generates a graph in interactive mode, it shifts the focus to this graph so you can interact with it. You won’t recover the prompt until you close the graph. This does not apply to Jupyter documents.\n",
    "\n",
    "\n",
    "* Use CTRL+C to stop the Python script. This should be enough to stop any problem associated to the SLab Python code. Most times you could continue working after recovering the control but, in the worst cases, perhaps you need to reconnect to the board. Alternatively, in **Jupyter** you can use **Interrupt** form the **Kernel** menu.\n",
    "\n",
    "\n",
    "* If the above does not work, in **Jupyter** you can use **Restart** from the **Kernel** menú. This will restart the **Python Kernel**, so you will need to repeat the **import** and **connect** actions.\n",
    "\n",
    "You can try to lock SLab generating a code, like the one below, that takes too much time to complete. Disconnect the board DACs and ADCs from the circuit and execute the following command. Don’t worry, you don’t need to understand it.  \n",
    "Sometimes, in **Jupyter** it is not easy to get out of this kind of lock, so don't try if if you don't want."
   ]
  },
  {
   "cell_type": "code",
   "execution_count": null,
   "metadata": {},
   "outputs": [],
   "source": [
    "slab.dcSweep(1,1,2,0.1,60)"
   ]
  },
  {
   "cell_type": "markdown",
   "metadata": {},
   "source": [
    "If you don't interrupt the Python operation you won’t recover the prompt until about 10 minutes. This is because the previous command instructs SLab to obtain several DC readings taken 100 seconds apart from each other. As the wait is generated inside the SLab Python code, you can interrupt the command issuing **CTRL+C** if you are in an **interactive** Python console. Inside **Jupyter** you can select **Interrupt** from the **Kernel** menu or hit the **\"i\"** key twice. Sometimes it requires several tries to work. Sometimes it could be hard to stop the script and you will need to **Restart** the **Kernel**. Try it if you want to know.\n",
    "\n",
    "You should recover the prompt with a message like:\n",
    "\n",
    "$\\qquad$ `KeyboardInterrupt`\n",
    "\n",
    "And usually some more text.\n",
    "\n",
    "**Problems at the board firmware level**\n",
    "\n",
    "Things can also go wrong at the board firmware level too. If CTRL+C don’t work, that usually means that the problem lies on the board. Things that you can try in this case:\n",
    "\n",
    "* Push the **HALT** button if it is implemented in your hardware board. In the case of the **303RE board**, the HALT button is the **blue** user one. This button instructs the firmware to stop what it is doing, send an abort error code, and wait for new commands. That is mostly useful against user errors like, for instance, asking to wait for a condition that never takes place or asking for a too long transient measurement. Usually you can continue with what you were doing before aborting the current command.\n",
    "\n",
    "\n",
    "* Push the **RESET** button if it is implemented on your hardware board. In the case of the **303RE board**, the RESET button is **black** one. This button restarts the firmware on the board. It is similar to unplug and plug again the board. That means any configuration will be lost and you would need to reconnect to the board. \n",
    "\n",
    "\n",
    "* Connect and disconnect the board. Sometimes things can go really wrong. In those cases a **RESET** won’t do. Disconnect the board from the computer and connect again. Sometimes the problem can be related to the circuit under test, so, is best to disconnect any circuit from the board before reconnecting.\n",
    "\n",
    "Let’s try the **HALT** button.\n",
    "\n",
    "Connect to **ground** the ADC1 input and execute the following code:"
   ]
  },
  {
   "cell_type": "code",
   "execution_count": null,
   "metadata": {},
   "outputs": [],
   "source": [
    "result = slab.transientTriggered(1)"
   ]
  },
  {
   "cell_type": "markdown",
   "metadata": {},
   "source": [
    "SLab will respond with something like:\n",
    "\n",
    ">`Performing transient triggered measurement...`\n",
    "\n",
    "But you won’t recover the prompt because this command instruct the board to wait for a condition that never takes place.\n",
    "To recover the board, just push the **HALT** button (blue one in the F303 board).\n",
    "You will get something like:\n",
    "\n",
    ">`** SLab exception`  \n",
    ">`** Halt from board`\n",
    "\n",
    "And some trace text but you will recover the board."
   ]
  },
  {
   "cell_type": "markdown",
   "metadata": {},
   "source": [
    "## Commands learned so far\n",
    "\n",
    "Before this document we knew about **connect** and **disconnect** commands. In this document we have learned about other commands:\n",
    "\n",
    "* readVoltage\n",
    "* dcPrint\n",
    "* rCurrent\n",
    "\n",
    "We have also learned about the internal **vdd** variable that holds the calibrated supply voltage value and some ways to recover from a unresponsive SLab system.\n",
    "\n",
    "You can find more information about the commands in the SLab Python reference document located in the **SLab/Docs** folder or from the **Reference** notebooks on the **SLab/Jupyter/Reference** folder.\n",
    "\n",
    "As this ends this document you can now disconnect from the board."
   ]
  },
  {
   "cell_type": "code",
   "execution_count": null,
   "metadata": {},
   "outputs": [],
   "source": [
    "# Disconnect from the board\n",
    "slab.disconnect()"
   ]
  },
  {
   "cell_type": "markdown",
   "metadata": {},
   "source": [
    "## References\n",
    "\n",
    "**SLab Python References**    \n",
    "Those are the reference documents for the SLab Python modules. They describe the commands that can be carried out after importing each module.  \n",
    "They should be available in the **SLab/Doc** folder.\n",
    "\n",
    "**TinyCad**  \n",
    "Circuit images on this document have been drawn using the free software TinyCad  \n",
    "https://sourceforge.net/projects/tinycad/\n",
    "\n",
    "**Matplotlib**  \n",
    "All the functions plots have been generated using the Matplotlib package.  \n",
    "https://matplotlib.org/"
   ]
  },
  {
   "cell_type": "markdown",
   "metadata": {},
   "source": [
    "## Document license\n",
    "\n",
    "Copyright  ©  Vicente Jiménez (2018-2019)  \n",
    "This work is licensed under a Creative Common Attribution-ShareAlike 4.0 International license.   \n",
    "This license is available at http://creativecommons.org/licenses/by-sa/4.0/\n",
    "\n",
    "<img  src=\"images/cc_sa.png\" width=\"200\">"
   ]
  },
  {
   "cell_type": "code",
   "execution_count": null,
   "metadata": {},
   "outputs": [],
   "source": []
  }
 ],
 "metadata": {
  "kernelspec": {
   "display_name": "Python 3",
   "language": "python",
   "name": "python3"
  },
  "language_info": {
   "codemirror_mode": {
    "name": "ipython",
    "version": 3
   },
   "file_extension": ".py",
   "mimetype": "text/x-python",
   "name": "python",
   "nbconvert_exporter": "python",
   "pygments_lexer": "ipython3",
   "version": "3.7.1"
  }
 },
 "nbformat": 4,
 "nbformat_minor": 2
}
