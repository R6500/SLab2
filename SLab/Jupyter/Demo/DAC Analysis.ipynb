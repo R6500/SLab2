{
 "cells": [
  {
   "cell_type": "markdown",
   "metadata": {},
   "source": [
    "<img style=\"float: right;\"  src=\"images/LogoP.jpg\" width=\"200\">\n",
    "\n",
    "# SLab Demo : DAC Analysis\n",
    "\n",
    "This a **demo** Jupyter Notebook for the SLab projects\n",
    "\n",
    "Version 1.0 (29/5/2018) License information is at the end of the document\n",
    "\n",
    "---"
   ]
  },
  {
   "cell_type": "markdown",
   "metadata": {},
   "source": [
    "## Introduction\n",
    "\n",
    "This document analyzes the operation of **hardware board** DACs\n",
    "\n",
    "You can apply the measurements to any harware board, but the comments about the measurements are only guaranteed to be valid when a **STM32 Nucleo64 F303RE** board is used. The comments also assume that you are using an **uncalibrated** board.\n",
    "\n",
    "The **SLab** system uses, at least two DACs. In circuit schematics they are shown as in the figure below:\n",
    "\n",
    "![Image01](images\\DAC_Analysis\\Image01.png)\n",
    "\n",
    "In the examples we use a yellow jumper wire for DAC1 and an orange wire for DAC2, so the symbols are colored in the same way.\n",
    "\n",
    "We show and model the DACs as if they were ideal sources but they are not ideal. No real component can ever be ideal. This document explores the operation limits of the DACs at DC or low frequency operation.\n",
    "\n",
    "From measurements performed on the **hardware board**, a model that describes the real DAC operation will be obtained."
   ]
  },
  {
   "cell_type": "markdown",
   "metadata": {},
   "source": [
    "## Import and Connect\n",
    "\n",
    "As always, in order to use the **SLab** system, we need to import the **SLab** module and **connect** to the board.\n",
    "\n",
    "As we will use the [numpy](http://www.numpy.org/) module for calculations, we will also import it."
   ]
  },
  {
   "cell_type": "code",
   "execution_count": null,
   "metadata": {},
   "outputs": [],
   "source": [
    "# Import Numpy\n",
    "import numpy as np\n",
    "\n",
    "# Import all slab modules\n",
    "import slab"
   ]
  },
  {
   "cell_type": "code",
   "execution_count": null,
   "metadata": {},
   "outputs": [],
   "source": [
    "boardFolder = ''                                # Board folder (leave '' if you use only one board)\n",
    "slab.setFilePrefix('../Files/')                 # Set File Prefix\n",
    "slab.setCalPrefix('Calibrations/'+boardFolder)  # Set Calibration Prefix         \n",
    "slab.connect()                                  # Connect to the board"
   ]
  },
  {
   "cell_type": "markdown",
   "metadata": {},
   "source": [
    "## Measure and Calculate Cells \n",
    "\n",
    "This is Jupyter Python Notebook, as that, it includes both **Text Cells** that are like this one, only to be read, and **Code Cells** that include Python code.  \n",
    "We will divide the **Code Cells** in two kinds:\n",
    "\n",
    "* Measure Cells\n",
    "* Calculate Cells\n",
    "\n",
    "In the **Measure Cells** we will perform measurements on the hardware board. That means that you will be required to set the proper circuit connections and perform the measurement by executing the code cell.\n",
    "\n",
    "In the **Calculate Cells** we will perform calculations on measurements. That means that we don't interact with the board or the circuit on those cells.\n",
    "\n",
    "Separating those two kinds of cells eases the change of the calculation without needing to perform new measurements."
   ]
  },
  {
   "cell_type": "markdown",
   "metadata": {},
   "source": [
    "## Interactive plots\n",
    "\n",
    "Executing the following code we can make our plots interactive. That way you can zoom and pan on the plot.\n",
    "\n",
    "When you are done with the interaction, just hit the close interaction button to reduce the computing load.\n",
    "\n",
    "If you don't like the interaction, just don't execute this code."
   ]
  },
  {
   "cell_type": "code",
   "execution_count": null,
   "metadata": {},
   "outputs": [],
   "source": [
    "# Make plots interactive\n",
    "slab.interactivePlots()\n",
    "%matplotlib notebook"
   ]
  },
  {
   "cell_type": "markdown",
   "metadata": {},
   "source": [
    "## Open Circuit\n",
    "\n",
    "The first thing we will do is to show the open circuit operation of the DAC. To do that, we will just connect the **DAC1** output to the **ADC2** input.\n",
    "\n",
    "![Image03](images\\DAC_Analysis\\Image02.png)\n",
    "\n",
    "In all this document we only use one **ADC**. For historical reasons that don't relate to this particular demo we use **ADC2**, but we could use any other **ADC**. In the F303RE board it is best no to use **ADC4** or **ADC8** because they are not buffered. That means that they have higher equivalent input resistance.\n",
    "\n",
    "From the measurements we will obtain the **open circuit** DAC1 voltage **Voc** for all programming voltages **Vset** from 0.1V to 3.3V. Then we will compare the measurements against the program voltage.\n",
    "\n",
    "We don't include the 0.0V in the input range to prevent a divide by zero later when we process the measurement data."
   ]
  },
  {
   "cell_type": "code",
   "execution_count": null,
   "metadata": {},
   "outputs": [],
   "source": [
    "# MEASURE\n",
    "\n",
    "# Perform a DC sweep measurement \n",
    "dataOC = slab.dcSweep(1,0.1,3.3,0.1)"
   ]
  },
  {
   "cell_type": "code",
   "execution_count": null,
   "metadata": {},
   "outputs": [],
   "source": [
    "# CALCULATE\n",
    "\n",
    "# Define Vset and Voc from the obtained data\n",
    "Vset = dataOC[0]  # DAC Goal\n",
    "Voc  = dataOC[2]  # ADC2\n",
    "\n",
    "# Plot Vset and Voc against Vset\n",
    "slab.plot1n(Vset,[Vset,Voc],'Open circuit measurement','Vset (V)','Vset and Voc (V)'\n",
    "        ,['Vset','Voc'])\n",
    "\n",
    "# Calculate and plot the voltage difference\n",
    "Vdif = Vset - Voc\n",
    "slab.plot11(Vset,Vdif,'Voltage difference','Vset (V)','Vset - Voc (V)')"
   ]
  },
  {
   "cell_type": "markdown",
   "metadata": {},
   "source": [
    "As you can see there is constant difference between **Vset** and the **Voc** output of DAC1. In my particular case it was about 50mV. That means that the DAC output is always 50mV below the programmed value.\n",
    "\n",
    "As in the **SLab** experiments we always try to measure the DAC outputs, this error is not really a problem in most cases."
   ]
  },
  {
   "cell_type": "markdown",
   "metadata": {},
   "source": [
    "## Loaded Measurement\n",
    "\n",
    "Now we will add a load to the DAC1 output.\n",
    "\n",
    "![Image03](images\\DAC_Analysis\\Image03.png)\n",
    "\n",
    "We use a $330\\Omega$ value because it suits the **F303** board. For other boards, other values could be better.\n",
    "\n",
    "Then we repeat the measurement and show again the **Vr** loaded DAC1 voltage against the **Vset** programmed voltage.\n",
    "\n",
    "Afte the DC sweep we use the **slab.zero** function to set the DACs to zero and prevent stressing the loade DAC outputs."
   ]
  },
  {
   "cell_type": "code",
   "execution_count": null,
   "metadata": {},
   "outputs": [],
   "source": [
    "# MEASURE\n",
    "\n",
    "# Repeat the DC sweep with the loaded DAC1\n",
    "dataR = slab.dcSweep(1,0.1,3.3,0.1)\n",
    "\n",
    "# Set DACs to zero\n",
    "slab.zero()"
   ]
  },
  {
   "cell_type": "code",
   "execution_count": null,
   "metadata": {},
   "outputs": [],
   "source": [
    "# CALCULATE\n",
    "\n",
    "# Value of the resistor we use\n",
    "Rvalue = 330\n",
    "\n",
    "# Obtain loaded output Vr as a variable\n",
    "# We convert the list to a numpy array to ease future calculations\n",
    "Vr = np.array(dataR[2])\n",
    "\n",
    "# Plot Vset and Vr against Vset\n",
    "slab.plot1n(Vset,[Vset,Vr],'Loaded DAC measurement','Vset (V)','Vset and Vr (V)'\n",
    "        ,['Vset','Vr'])"
   ]
  },
  {
   "cell_type": "markdown",
   "metadata": {},
   "source": [
    "You can see that, for voltages below 2V, there is a constant difference between the loaded DAC output and the programmed voltage.\n",
    "\n",
    "The difference is in the same range of the unloaded **Voc** measurement. About 50mV in my case.\n",
    "\n",
    "For voltages above 2V we can see that the DAC voltage don't go up any further and is kept constant regardless of the **Vset** voltage.\n",
    "\n",
    "We see that DAC voltage is limited at high voltages. Perhaps there is a limit on the DAC current output?"
   ]
  },
  {
   "cell_type": "markdown",
   "metadata": {},
   "source": [
    "## DAC Current Limit\n",
    "\n",
    "In order to obatin a better insight on the DAC limits, we can obtain and plot the current provided by the DAC:\n",
    "\n",
    "$\\qquad I_{DAC} = \\frac{V_r}{R_1}$\n"
   ]
  },
  {
   "cell_type": "code",
   "execution_count": null,
   "metadata": {},
   "outputs": [],
   "source": [
    "# CALCULATE\n",
    "\n",
    "# Current calculation\n",
    "i = Vr/Rvalue\n",
    "\n",
    "# Current plot\n",
    "slab.plot11(Vset,1000*i,'Current calculation','Vset (V)','I (mA)')"
   ]
  },
  {
   "cell_type": "markdown",
   "metadata": {},
   "source": [
    "We can see that the current goes up until about 6.5mA and then it becomes constant.\n",
    "\n",
    "One hypothesis will be that DAC1 has a 6.5mA current output limit.\n",
    "\n",
    "To verify the hypothesis, we will repeat the measurements changing the resistance for one with a $470\\Omega$ value.\n",
    "\n",
    "![Image04](images\\DAC_Analysis\\Image04.png)\n"
   ]
  },
  {
   "cell_type": "code",
   "execution_count": null,
   "metadata": {},
   "outputs": [],
   "source": [
    "# MEASURE\n",
    "\n",
    "# Repeat the DC sweep with the new resistor\n",
    "dataR2 = slab.dcSweep(1,0.1,3.3,0.1)\n",
    "\n",
    "# Set DACs to zero\n",
    "slab.zero()"
   ]
  },
  {
   "cell_type": "code",
   "execution_count": null,
   "metadata": {},
   "outputs": [],
   "source": [
    "# CALCULATE\n",
    "\n",
    "# Value of the new resistor\n",
    "Rvalue2 = 470\n",
    "\n",
    "# Obtain the new Vr2 as a variable\n",
    "Vr2 = np.array(dataR2[2])\n",
    "\n",
    "# New current calculation\n",
    "i2 = Vr2/Rvalue2\n",
    "\n",
    "# Plot Vset, Vr and Vr2 against Vset\n",
    "slab.plot1n(Vset,[Vset,Vr,Vr2],'Loaded DAC measurement','Vset (V)','Vset, Vr2 (V)'\n",
    "        ,['OC','330R','470R'])\n",
    "\n",
    "# Plot both currents\n",
    "slab.plot1n(Vset,[1000*i,1000*i2],'Current comparison','Vset (V)','I (mA)',['330R','470R'])"
   ]
  },
  {
   "cell_type": "markdown",
   "metadata": {},
   "source": [
    "We can see that the maximum current for the $330\\Omega$ resistor is not the same than for the $470\\Omega$ resistor.\n",
    "\n",
    "That means that the saturation of the DAC output voltage cannot be modelled by a current limitation on the DAC output."
   ]
  },
  {
   "cell_type": "markdown",
   "metadata": {},
   "source": [
    "## Model Proposal\n",
    "\n",
    "We know that the F303 microcontroller (MCU) includes **drivers** for the DAC outputs. We don't know what kind of **drivers** are they, but we know that this MCU includes several operational amplifiers  (opamps) because we use them to drive the ADCs.\n",
    "\n",
    "An hypothesis is that an opamp follower circuit is used to drive the **buffered** output from the internal **unbuffered** DAC.\n",
    "\n",
    "![Image05](images\\DAC_Analysis\\Image05.png)\n",
    "\n",
    "The opamp can be limited by its maximum output current of by its output resistance. We know that we are not, in this case, current limited because we know that the two used resistors give different output current limits. That's why we consider the output resistance of the opamp $R_{OUT}$ as the main source of non ideality for the opamp.\n",
    "\n",
    "As we know that, for small loads, there is a $50mV$ difference between the DAC programmed value and the ADC measured value, we model that as an **offset voltage** $V_{OFFS}$\n",
    "\n",
    "Now it is time to obtain the parameters of this model. The offset voltage is easy, as we have obtained it from the unloaded measurement:\n",
    "\n",
    "$\\qquad V_{OFFS} = 50 mV$\n",
    "\n",
    "The output resistance can be calculated from the saturated region of the curves. The maximum opamp voltage is Vdd ($3.3 V$ in the F303 board). So the current in the saturation region is:\n",
    "\n",
    "$\\qquad I_{MAX} = \\frac{V_{DD}}{R_{OUT}+R_{EXT}}$\n",
    "\n",
    "Where $R_{EXT}$ is the $330\\Omega$ or $470\\Omega$ external resitor we are using.\n",
    "\n",
    "We can calculate the internal resistance from the above formmula:\n",
    "\n",
    "$\\qquad R_{OUT} = \\frac{V_{DD}}{I_{MAX}} - R_{EXT}$\n",
    "\n",
    "Let's calculate this resistor from the measurement data."
   ]
  },
  {
   "cell_type": "code",
   "execution_count": null,
   "metadata": {},
   "outputs": [],
   "source": [
    "# Vdd value\n",
    "Vdd = 3.3\n",
    "\n",
    "# For the 330R case\n",
    "Rout = Vdd/i - Rvalue\n",
    "\n",
    "# For the 470R case\n",
    "Rout2 = Vdd/i2 - Rvalue2\n",
    "\n",
    "# As we need only the saturated regions\n",
    "# we will only use data from Vset over 2.5V \n",
    "\n",
    "Vs   =  [V for R,V in zip(Rout,Vset) if V > 2.5]\n",
    "Rout =  [R for R,V in zip(Rout,Vset) if V > 2.5]\n",
    "Rout2 = [R for R,V in zip(Rout2,Vset) if V > 2.5]\n",
    "\n",
    "# Show both calculations\n",
    "slab.plot1n(Vs,[Rout,Rout2],'Internal Opamp Resistance'\n",
    "              ,'Vset (V)','Rout (Ohm)',['330R','470R'])"
   ]
  },
  {
   "cell_type": "markdown",
   "metadata": {},
   "source": [
    "We don't get a constant result, but the $5\\Omega$ variation we see is only a 3% of the mean $170\\Omega$ value.  \n",
    "So, we set this value for our model:\n",
    "\n",
    "$\\qquad R_{OUT} = 170 \\Omega$"
   ]
  },
  {
   "cell_type": "markdown",
   "metadata": {},
   "source": [
    "## Check of the model\n",
    "\n",
    "We can now check the model against our measurement data.\n",
    "In order to do that we can write a function that obtains the DAC output from the programmed value and the output resistance $R_{EXT}$:\n",
    "\n",
    "The voltage at the non inverting input of the opamp will be:\n",
    "\n",
    "$\\qquad Vnii = V_{SET} - V_{OFFS}$\n",
    "\n",
    "The current output, if the opamp behaves as a follower will be:\n",
    "\n",
    "$\\qquad I_{OUT} = \\frac{Vnii}{R_{EXT}}$\n",
    "\n",
    "The voltage at the opamp output takes into account the internal opamp resitance:\n",
    "\n",
    "$\\qquad V_{OA} = I_{OUT} \\; (R_{OUT}+R_{EXT})$\n",
    "\n",
    "But it is limited to $V_{DD}$.\n",
    "\n",
    "If the above $V_{OA}$ is less than $V_{DD}$, we get $Vnii$ as the DAC output. Otherwise, the DAC output can be calculated:\n",
    "\n",
    "$\\qquad V_{DAC} = \\frac{V_{DD} \\cdot R_{EXT}}{R_{OUT}+R_{EXT}}$\n",
    "\n",
    "We will first develop this model and then we will compare it to the real measurements"
   ]
  },
  {
   "cell_type": "code",
   "execution_count": null,
   "metadata": {},
   "outputs": [],
   "source": [
    "# DAC model parameters\n",
    "Vdd   = 3.3\n",
    "Voffs = 0.05\n",
    "Rout  = 170\n",
    "\n",
    "# DAC model\n",
    "# Gives the DAC voltage from Vset and Rext\n",
    "def DACmodel(Vset,Rext):\n",
    "    Vnii = Vset - Voffs\n",
    "    Iout = Vnii/Rext\n",
    "    Voa = Iout*(Rext+170)\n",
    "    if Voa < Vdd:\n",
    "        return Vnii \n",
    "    return Vdd*Rext/(Rout+Rext)\n",
    "\n",
    "# Apply the model to the 330R case\n",
    "VrM = [DACmodel(V,Rvalue) for V in Vset]\n",
    "\n",
    "# Apply the model to the 470R case\n",
    "Vr2M = [DACmodel(V,Rvalue2) for V in Vset]\n",
    "\n",
    "# Plot Vr and Vr2 and the model results against Vset\n",
    "slab.plot1n(Vset,[Vr,Vr2,VrM,Vr2M],'Loaded DAC measurement','Vset (V)','Vset, Vr2 (V)'\n",
    "        ,['330R Meas','470R Meas','330R Model','470R Model'])"
   ]
  },
  {
   "cell_type": "markdown",
   "metadata": {},
   "source": [
    "We can **zoom** in the upper region of the graph, in interactive mode, to see it better"
   ]
  },
  {
   "cell_type": "markdown",
   "metadata": {},
   "source": [
    "From the graph it seems that the model agrees with the measurement data.  \n",
    "We can obtain a better assess the match by calculating the the model error."
   ]
  },
  {
   "cell_type": "code",
   "execution_count": null,
   "metadata": {},
   "outputs": [],
   "source": [
    "Error  = Vr  - VrM   # 330R\n",
    "Error2 = Vr2 - Vr2M  # 470R\n",
    "\n",
    "# Plot the errors\n",
    "slab.plot1n(Vset,[Error,Error2],'Model error','Vset (V)','Error (V)',['330R','470R'])"
   ]
  },
  {
   "cell_type": "markdown",
   "metadata": {},
   "source": [
    "As we can see the error is below $50 mV$"
   ]
  },
  {
   "cell_type": "markdown",
   "metadata": {},
   "source": [
    "## DAC2 Operation\n",
    "\n",
    "We can assume that the second DAC is similar to the first one.\n",
    "\n",
    "This DAC, available on the MCU pin **PA5**, is connected, as the Nucleo64 manual shows in its schematics, to the **user LED**.\n",
    "\n",
    "![Schematic](images\\DAC_Analysis\\Schematic.png)\n",
    "\n",
    "That means that a proper model of this DAC will be:\n",
    "\n",
    "![Image06](images\\DAC_Analysis\\Image06.png)\n",
    "\n",
    "As some current is needed to drive the LED, the current available to external resistances will be lower."
   ]
  },
  {
   "cell_type": "markdown",
   "metadata": {},
   "source": [
    "## DAC2 Open Circuit\n",
    "\n",
    "We can first obtain the measurement data in open circuit.\n",
    "\n",
    "![Image07](images\\DAC_Analysis\\Image07.png)\n",
    "\n",
    "As the green **user LED** is connected to DAC2 output, you will se it turn on during the DC sweep."
   ]
  },
  {
   "cell_type": "code",
   "execution_count": null,
   "metadata": {},
   "outputs": [],
   "source": [
    "# MEASURE Open Circuit\n",
    "\n",
    "# Repeat the DC sweep with the unloaded DAC2\n",
    "dataOC_II = slab.dcSweep(2,0.1,3.3,0.1)\n",
    "\n",
    "# Set DACs to zero\n",
    "slab.zero()\n",
    "\n",
    "# Obtain the output vector\n",
    "VocII = dataOC_II[2];\n",
    "\n",
    "# Response curve\n",
    "slab.plot11(Vset,VocII,'Unloaded DAC2','Vset (V)','Vdac2 (V)')"
   ]
  },
  {
   "cell_type": "markdown",
   "metadata": {},
   "source": [
    "We observe that we cannot reach $3.3 V$ due to the **LED** loading on DAC2.\n",
    "\n",
    "So, even on unloaded condition, we cannot go over $3 V$.\n",
    "\n",
    "We can now try to model this DAC using a modification of the previous model"
   ]
  },
  {
   "cell_type": "code",
   "execution_count": null,
   "metadata": {},
   "outputs": [],
   "source": [
    "Rled = 510  # LED Resistance\n",
    "Vled = 2    # We assume this ON Green LED voltage\n",
    "\n",
    "# DAC2 unloaded model\n",
    "# Gives the DAC2 voltage from Vset\n",
    "def DAC2model(Vset):\n",
    "    Vnii = Vset - Voffs\n",
    "    if Vnii > Vled:\n",
    "        Iout = (Vnii-Vled)/Rled\n",
    "        Voa = Vled + Iout*(Rout+Rled)\n",
    "        if Voa < Vdd:\n",
    "            return Vnii \n",
    "        Iout = (Vdd-Vled)/(Rout+Rled)\n",
    "        return Vled + Iout*Rled\n",
    "    else:\n",
    "        Voa = Vnii\n",
    "        return Voa\n",
    "\n",
    "# Apply the model to OC case\n",
    "VocIIM = [DAC2model(V) for V in Vset]\n",
    "\n",
    "# Plot VocII and VocIIM against Vset\n",
    "slab.plot1n(Vset,[VocII,VocIIM],'Unloaded DAC2','Vset (V)','Vdac (V)',['Meas','Model'])"
   ]
  },
  {
   "cell_type": "markdown",
   "metadata": {},
   "source": [
    "We can zoom in interactive mode to better see the graph details."
   ]
  },
  {
   "cell_type": "markdown",
   "metadata": {},
   "source": [
    "There is some error in the model, but it will probably mostly due to the LED voltage modelling."
   ]
  },
  {
   "cell_type": "markdown",
   "metadata": {},
   "source": [
    "## DAC2 Loaded\n",
    "\n",
    "We can now repeat the measurements on DAC2 for the two load resistors.\n",
    "\n",
    "![Image08](images\\DAC_Analysis\\Image08.png)"
   ]
  },
  {
   "cell_type": "code",
   "execution_count": null,
   "metadata": {},
   "outputs": [],
   "source": [
    "# MEASURE with 330R\n",
    "\n",
    "# Repeat the DC sweep with DAC2 loaded with 330R\n",
    "dataR_II = slab.dcSweep(2,0.1,3.3,0.1)\n",
    "\n",
    "# Set DACs to zero\n",
    "slab.zero()\n",
    "\n",
    "# Obtain the output vector\n",
    "VrII = dataR_II[2];\n",
    "\n",
    "# Response curve\n",
    "slab.plot11(Vset,VrII,'DAC2 with 330R load','Vset (V)','Vdac2 (V)')"
   ]
  },
  {
   "cell_type": "code",
   "execution_count": null,
   "metadata": {},
   "outputs": [],
   "source": [
    "# MEASURE with 470R\n",
    "\n",
    "# Repeat the DC sweep with DAC2 loaded with 4700R\n",
    "dataR2_II = slab.dcSweep(2,0.1,3.3,0.1)\n",
    "\n",
    "# Set DACs to zero\n",
    "slab.zero()\n",
    "\n",
    "# Obtain the output vector\n",
    "Vr2II = dataR2_II[2];\n",
    "\n",
    "# Response curve\n",
    "slab.plot11(Vset,Vr2II,'DAC2 with 470R load','Vset (V)','Vdac2 (V)')"
   ]
  },
  {
   "cell_type": "markdown",
   "metadata": {},
   "source": [
    "## Curve Comparison\n",
    "\n",
    "We can compare the DAC1 and DAC2 curves for the same load resistances"
   ]
  },
  {
   "cell_type": "code",
   "execution_count": null,
   "metadata": {},
   "outputs": [],
   "source": [
    "# Compare DAC1 and DAC2 for 330R\n",
    "slab.plot1n(Vset,[Vr,VrII],'DAC1 vs DAC2 for 330R','Vset (V)','Vdac (V)',['DAC1','DAC2'])\n",
    "\n",
    "# Compare DAC1 and DAC2 for 470R\n",
    "slab.plot1n(Vset,[Vr2,Vr2II],'DAC1 vs DAC2 for 470R','Vset (V)','Vdac (V)',['DAC1','DAC2'])"
   ]
  },
  {
   "cell_type": "markdown",
   "metadata": {},
   "source": [
    "We can zoom in those curves to better see the details."
   ]
  },
  {
   "cell_type": "markdown",
   "metadata": {},
   "source": [
    "We can see that DAC2 has less drive capability, for both resistor values, due to the added load of the **user LED**. We could model DAC2 taking into account both the user LED and the external resistance but this is left as an exercise for the reader.\n",
    "\n",
    "For now, you can just disconnect from the board"
   ]
  },
  {
   "cell_type": "code",
   "execution_count": null,
   "metadata": {},
   "outputs": [],
   "source": [
    "# Disconnect from the board\n",
    "slab.disconnect()"
   ]
  },
  {
   "cell_type": "markdown",
   "metadata": {},
   "source": [
    "## Conclusion\n",
    "\n",
    "In this **demo** project we have studied the DAC output curves and created a model for the DACs  \n",
    "The model can be usefull to know when the DACs can be considered as ideal and when they need a proper non ideal modelling"
   ]
  },
  {
   "cell_type": "markdown",
   "metadata": {},
   "source": [
    "## Document license\n",
    "\n",
    "Copyright  ©  Vicente Jiménez (2018)  \n",
    "This work is licensed under a Creative Common Attribution-ShareAlike 4.0 International license.  \n",
    "This license is available at http://creativecommons.org/licenses/by-sa/4.0/\n",
    "\n",
    "<img  src=\"images/cc_sa.png\" width=\"200\">"
   ]
  },
  {
   "cell_type": "code",
   "execution_count": null,
   "metadata": {},
   "outputs": [],
   "source": []
  }
 ],
 "metadata": {
  "kernelspec": {
   "display_name": "Python 3",
   "language": "python",
   "name": "python3"
  },
  "language_info": {
   "codemirror_mode": {
    "name": "ipython",
    "version": 3
   },
   "file_extension": ".py",
   "mimetype": "text/x-python",
   "name": "python",
   "nbconvert_exporter": "python",
   "pygments_lexer": "ipython3",
   "version": "3.7.1"
  }
 },
 "nbformat": 4,
 "nbformat_minor": 2
}
