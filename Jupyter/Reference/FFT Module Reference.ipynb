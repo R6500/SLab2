{
 "cells": [
  {
   "cell_type": "markdown",
   "metadata": {},
   "source": [
    "<img style=\"float: right;\"  src=\"images/LogoP.jpg\" width=\"200\">\n",
    "\n",
    "# FFT Module Reference\n",
    "\n",
    "This a Jupyter Notebook Reference document for the SLab projects\n",
    "\n",
    "Version 1.0 (7/3/2019) License information is at the end of the document\n",
    "\n",
    "---"
   ]
  },
  {
   "cell_type": "markdown",
   "metadata": {},
   "source": [
    "This **FFT Module Reference Notebook** describes the **FFT Module** commands.  \n",
    "Those are the commands contained in the **fft.py** source file."
   ]
  },
  {
   "cell_type": "markdown",
   "metadata": {},
   "source": [
    "\n",
    "## Module Import\n",
    "\n",
    "In order to use the **fft** commands, we first need to import the fft module. This is an interactive módule, so, in order to execute the code examples, you should import it executing the cell below.\n",
    "\n",
    "We will also import the main **SLab** module as it includes some needed commands."
   ]
  },
  {
   "cell_type": "code",
   "execution_count": null,
   "metadata": {},
   "outputs": [],
   "source": [
    "# Import the main SLab module\n",
    "import slab\n",
    "\n",
    "# Import the Meas module\n",
    "import slab.fft as fft"
   ]
  },
  {
   "cell_type": "markdown",
   "metadata": {},
   "source": [
    "If you want to try commands that interact with the **hardware board** using the examples in this document, you will need to connect to the board. You can use the following code cell for that. Note, however, that if you are using this document as reference while working on another SLab document, you can only have one connection, at the same time, with the board."
   ]
  },
  {
   "cell_type": "code",
   "execution_count": null,
   "metadata": {},
   "outputs": [],
   "source": [
    "boardFolder = ''                                # Board folder (leave '' if you use only one board)\n",
    "slab.setFilePrefix('../Files/')                 # Set File Prefix\n",
    "slab.setCalPrefix('Calibrations/'+boardFolder)  # Set Calibration Prefix         \n",
    "slab.connect()                                  # Connect to the board"
   ]
  },
  {
   "cell_type": "markdown",
   "metadata": {},
   "source": [
    "When you finish interacting with the board you can disconnect from it using the following code."
   ]
  },
  {
   "cell_type": "code",
   "execution_count": null,
   "metadata": {},
   "outputs": [],
   "source": [
    "# Disconnect from the board\n",
    "slab.disconnect()"
   ]
  },
  {
   "cell_type": "markdown",
   "metadata": {},
   "source": [
    "<a id='ftransform'></a>\n",
    "\n",
    "## ftransform\n",
    "\n",
    "Transforms from time to frequency domain \n",
    "    \n",
    ">**ftransform(signal,time,ts)**  \n",
    ">Parameters:  \n",
    ">$\\quad$ signal : Signal to transform  \n",
    ">$\\quad$ time : Time vector  \n",
    ">$\\quad$ ts : Sample time  \n",
    ">If neither time nor ts is provided, the command will use the current sample time  \n",
    ">Returns a tuple with:  \n",
    ">$\\quad$ Complex amplitude vector  \n",
    ">$\\quad$ Frequency vector      \n",
    "\n",
    "Transforms from time to frequency domain. Uses the FFT of the signal and performs several corrections:\n",
    "\n",
    " 1) Only positive frequencies are provided  \n",
    " 2) Factor 2/N applied except for DC that use 1/N  \n",
    "\n",
    "In order to generate the frequency vector, **sample time** of signal is needed. It can be obtained from the **time** vector or from the sample time **ts**. If neither **time** nor **ts** is provided, the command will use the current sample time\n",
    "\n",
    "Returns a tuple with:\n",
    "\n",
    "1) Complex amplitude vector  \n",
    "2) Frequency vector  \n"
   ]
  },
  {
   "cell_type": "code",
   "execution_count": null,
   "metadata": {},
   "outputs": [],
   "source": [
    "# EXAMPLE : Show a two sine wave sum in the frequency domain\n",
    "\n",
    "# Import the numpy module\n",
    "import numpy as np\n",
    "\n",
    "# Import the AC module \n",
    "import slab.ac as ac\n",
    "\n",
    "# Create a sinewave sum signal\n",
    "time  = []\n",
    "value = []\n",
    "for i in range(0,500):\n",
    "    t  = i/100.0\n",
    "    v1 = 1    +      np.sin(2*np.pi*t) # 1 Hz signal with 1.00 amplitude\n",
    "    v2 = 0.75 + 0.25*np.sin(8*np.pi*t) # 4 Hz signal with 0.25 amplitude\n",
    "    time.append(t)\n",
    "    value.append(v1+v2)\n",
    "    \n",
    "# Show the signals\n",
    "slab.plot11(time,value,'Signal','t(s)','Value')\n",
    "    \n",
    "# Go to the frequency domain\n",
    "value,frequency = fft.ftransform(value,time)\n",
    "# Compute the magnitude\n",
    "magnitude = ac.mag(value)\n",
    "\n",
    "# Plot the magnitude in the frequency domain\n",
    "# We zoom at low frequencies (first 50 points instead of the full 500 point vector)\n",
    "slab.plot11(frequency[0:50],magnitude[0:50],'Frequency Domain','f(Hz)','Magnitude')"
   ]
  },
  {
   "cell_type": "markdown",
   "metadata": {},
   "source": [
    "<a id='distortion'></a>\n",
    "\n",
    "## distortion\n",
    "\n",
    "Measures distortion induced by a circuit \n",
    "    \n",
    ">**distortion(v1,v2,freq,show)**  \n",
    ">Required parameters:  \n",
    ">$\\quad$ v1 : Minimum value of sine  \n",
    ">$\\quad$ v2 : Maximum value of sine  \n",
    ">$\\quad$ freq : Sine frequency  \n",
    ">Optional parameters:  \n",
    ">$\\quad$ show : Select if plots and text are shown (Defaults to True)  \n",
    ">Returs a four element tuple:  \n",
    ">$\\quad$ 1) THD          (%)  \n",
    ">$\\quad$ 2) THD+ N       (%)     \n",
    ">$\\quad$ 3) 2nd Harmonic (dBc)  \n",
    ">$\\quad$ 4) 3rd Harmonic (dBc)      \n",
    "\n",
    "Generates sine wave tone at **DAC1** at the indicated frequency and peaks and reads a circuit output at **ADC1**. Calculates four values related to distortion.\n",
    "Noise floor limits measurements. A limit in THD and THD+N of 0.2% and a limit of -60 dBc on 2nd and 3rd harmonics are expected when using a Nucleo board, for instance.\n",
    "Connect **DAC1** to **ADC1** to obtain the floor limits for the hardware board.\n",
    "\n",
    "If the show parameter is **true** (default case), the obtained signal in the time and frequency domain is shown together with some text that gives the four reported distortion values.\n",
    "\n",
    "Returns a four element tuple with the following distortion values:\n",
    "\n",
    "1) THD (%)  \n",
    "2) THD+ N  (%)  \n",
    "3) 2nd Harmonic (dBc)  \n",
    "4) 3rd Harmonic (dBc)  \n"
   ]
  },
  {
   "cell_type": "markdown",
   "metadata": {},
   "source": [
    "---\n",
    "\n",
    "**Example**  \n",
    "Obtain the distortion iduced by a non linear circuit.\n",
    "\n",
    "---\n",
    "\n",
    "We will test the following circuit.\n",
    "\n",
    "![non linear](images/fft/nonlinear.png)\n",
    "\n",
    "Executing line of code shown below, a 100Hz sinewave with minimum at 1V and maximum at 3V will be applied to the **DAC1** output. The measured signal on **ADC1** will be transformed to the frequency domain where the distotion will be computed.\n",
    "\n",
    "In the magnitude frequency plot we will see a big peak at DC followed by a peak at the 100Hz signal frequency. After that, we will ser smaller peaks at multiples of 100Hz.\n",
    "\n",
    "Total Harmonic Distortion (THD) compares the power associated to the peaks at the harmonics compared to the power associated to the 100Hz signal.\n",
    "\n",
    "Total Harmonic Distortion plus Noise (THD+N) compares the power associated to all the signal that is not at DC or 100Hz with  the power at 100Hz.\n",
    "\n",
    "The 2nd and 3rd harmonic distortion values just compares the power at those harmonics, with the power at 100Hz.\n",
    "\n",
    "As this is quite non linear circuit, the harmonic distortion dominates over the noise."
   ]
  },
  {
   "cell_type": "code",
   "execution_count": null,
   "metadata": {},
   "outputs": [],
   "source": [
    "# EXAMPLE : Distortion on a non linear circuit\n",
    "\n",
    "# Measure distortion\n",
    "result = fft.distortion(1,3,100.0)"
   ]
  },
  {
   "cell_type": "markdown",
   "metadata": {},
   "source": [
    "## Document license\n",
    "\n",
    "Copyright  ©  Vicente Jiménez (2019)  \n",
    "This work is licensed under a Creative Common Attribution-ShareAlike 4.0 International license.  \n",
    "This license is available at http://creativecommons.org/licenses/by-sa/4.0/\n",
    "\n",
    "<img  src=\"images/cc_sa.png\" width=\"200\">"
   ]
  },
  {
   "cell_type": "markdown",
   "metadata": {},
   "source": []
  }
 ],
 "metadata": {
  "kernelspec": {
   "display_name": "Python 3",
   "language": "python",
   "name": "python3"
  },
  "language_info": {
   "codemirror_mode": {
    "name": "ipython",
    "version": 3
   },
   "file_extension": ".py",
   "mimetype": "text/x-python",
   "name": "python",
   "nbconvert_exporter": "python",
   "pygments_lexer": "ipython3",
   "version": "3.7.1"
  }
 },
 "nbformat": 4,
 "nbformat_minor": 2
}
