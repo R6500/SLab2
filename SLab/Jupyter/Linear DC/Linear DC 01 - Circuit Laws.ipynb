{
 "cells": [
  {
   "cell_type": "markdown",
   "metadata": {},
   "source": [
    "<img style=\"float: right;\"  src=\"images/LogoP.jpg\" width=\"200\">\n",
    "\n",
    "# Linear DC 01 : Circuit Laws\n",
    "\n",
    "This project describes the **Voltage**, **Current** and **Power** variables that operate on a circuit.\n",
    "\n",
    "Version 1.1 (25/3/2019)  \n",
    "License information is at the end of the document\n",
    "\n",
    "---\n",
    "**Bill Of Materials (BOM):**\n",
    "\n",
    "* 5 Resistors, one of each: $100\\Omega$, $1k$, $1.2k\\Omega$, $1.5k\\Omega$, $2.2k\\Omega$ and $3.3k\\Omega$\n",
    "\n",
    "---"
   ]
  },
  {
   "cell_type": "markdown",
   "metadata": {},
   "source": [
    "## Circuit definition\n",
    "\n",
    "In electronics we deal with **circuits**, so it is a good idea to define what is a circuit. This is an interesting question because the definition depends on where it is used.\n",
    "\n",
    "In a broad sense, a **circuit** can be considered as a set of **components** connected together using **conductors**. \n",
    "\n",
    "The **components** we are refering to are **electrical components**. They can have any shape buy they all share the fact that they feature two or more metalic terminals.\n",
    "\n",
    "In the figure below we see four examples of components. Nottice that we can have components with different number of terminals: 2 in the case of the resistor, diode and capacitor and three in the case of the transistor. In general, a component can have any number of terminals greater or equal than two.\n",
    "\n",
    "![Components](images\\Linear_DC_01\\components.jpg)\n",
    "\n",
    "Note also that terminals can go at different sides of the component or all from the same side of the component. For two terminal components those are called [axial and radial](https://en.wikipedia.org/wiki/Through-hole_technology#Axial_and_radial_leads) lead distributions.\n",
    "\n",
    "The **conductors** can be any piece of material that easily conducts electric charge. Typical metals like aluminium, copper, silver and gold make good conductors.\n",
    "\n",
    "In order to connect several **components** between them, we join the terminals of the devices with the terminals of other devices using conductors. That can be done in several ways. The following figure shows two examples of circuit implementation. At the left side we see a complex circuit implemented using [Printed Circuit Board](https://en.wikipedia.org/wiki/Printed_circuit_board) (PCB) technology whereas at the righth we see a much simpler circuit implemented using Solderless [Bread Board](https://en.wikipedia.org/wiki/Breadboard) Technology.\n",
    "\n",
    "![PCB & BB](images\\Linear_DC_01\\pcb_bb.jpg)\n",
    "\n",
    "The study of electronic circuits is related to the **Circuit Theory** subject. Under this subject, the circuit definition is more restricted. Under circuit theory we define a **circuit** as a set of **components** connected together using **ideal conductors**. \n",
    "\n",
    "An **ideal conductor** is a conductor that allows the movement of charge without requiring any work at all. That means that the [electric field](https://en.wikipedia.org/wiki/Electric_field) inside the conductor is always zero. \n",
    "\n",
    "As circuit theory require **ideal conductors** and there are no ideal conductors in the real world (the closer real deal are superconductors), it follows that no real circuit behaves like circuit theory predicts. Fortunatelly, a lot of circuits behave so close to the ideal behaviour that having non ideal conductors don't matter too much. That's the kind of circuits we will deal with in the SLab tutorials.\n",
    "\n",
    "So, in the end, circuit theory deals with **components** and **ideal conductors**. Electric charge can move inside the ideal conductors and the components but no net charge can be accummulated on any component or any part of a conductor. That means that if one electron enters one conductor or component, another electron needs to go out of the conductor or component at the same time. We can say that the number of electrons in each component or piece of conductor shall be constant. If that does not hold true in a real circuit, then we cannot apply circuit theory to it. The following figure shows an example of the reperesentation of one circuit that features 5 components A, B, C, D and E. Every component features two terminals and the different components are connected together using ideal conductors (in blue).\n",
    "\n",
    "![circuit1](images\\Linear_DC_01\\circuit1.png)\n",
    "\n",
    "Observe that, when we draw a circuit, we don't need to draw the components as they are in the real world. We just use some simbols that represent the components. Don't worry about what kind of components are A, B, C, D or E. We don't need to know that for the explanations that follow.\n",
    "\n",
    "In the above example, all components feature two terminals, but that don't need to be always the same. Remember that we can have components with any number of terminals greater or equal to two.\n",
    "\n",
    "In a circuit we can define define **nodes**. In circuit theory a **node** is all the region connected in a path that only involves ideal conductors. As you can see, we have 4 nodes in the example circuit shown above.\n",
    "\n",
    "Remember that the node is not a point but a **region**. The following figure shows the 4 nodes in yellow. As you can see any part of any idel conductor is inside a node.\n",
    "\n",
    "![circuit2](images\\Linear_DC_01\\circuit2.png)\n"
   ]
  },
  {
   "cell_type": "markdown",
   "metadata": {},
   "source": [
    "\n",
    "## Charge, Current and Kirchoff's Current Law\n",
    "\n",
    "[Charge](https://en.wikipedia.org/wiki/Electric_charge) is, like mass, an intrinsec property of matter. There are two kinds of charge: positive and negative. In any electrical circuit or in each part of an ideal conductor, the positive and negative charge has the exact same value so the total net charge is zero at any point of time. Charge can move but we must keep the neutrality. That means that if some charge enters one component trough one terminal the very same change needs to go out at other terminal. In the same way, if some charge enters one **node** the very same charge need to exit the node at the same time.\n",
    "\n",
    "As total net charge in the components and the nodes is always the same, it makes a very bad circuit variable. The interesting property of charge is its movement, no its total quantity. We use the **current intensity** magnitude to describe the charge movement. This property is usually defined at the component terminals and accounts for the total charge that enters or exits one component terminal each time unit (typically each second).\n",
    "\n",
    "If we measure the charge $Q$ in **Coulomb** $[C]$ and the time $t$ in **seconds** $[s]$, then the current intensity $I$ is given in **Ampere** $[A]$.\n",
    "\n",
    "$$I[A] = \\frac{\\Delta Q [C]}{\\Delta t [s]}$$\n",
    "\n",
    "As the conductors need to be kept neutral, that implies that all the current that enters one node needs to be compensated with the current that exits the node at the same time, so, the net current entering a node is always zero. That is the [Kirchoff's Current Law](https://en.wikipedia.org/wiki/Kirchhoff%27s_circuit_laws) (KCL).\n",
    "\n",
    "$\\qquad \\sum I_i = 0 \\qquad i = 1...n_{N}\\qquad n_{N}$ : Terminals in node\n",
    "\n",
    "So for each node, the sum of all the currents entering this node from the component terminals shall be zero. In the example below, all currents entering node 1 through components A, B and C shall add to zero.\n",
    "\n",
    "![circuit4](images\\Linear_DC_01\\circuit4.png)\n",
    "\n",
    "Note that, as the components also need to be kept neutral, the same rule applies to each component. That is, the sum of currents entering the component through all its terminals is always zero at any time:\n",
    "\n",
    "$\\qquad \\sum I_i = 0 \\qquad i = 1...n_{C}\\qquad n_{C}$ : Terminals in component\n",
    "\n",
    "In the example below, the two currents entering component C from nodes 1 and 2 shall add to zero. That means that both currents shall be equal but with different sign.\n",
    "\n",
    "![circuit5](images\\Linear_DC_01\\circuit5.png)\n",
    "\n",
    "In fact, as all the components and all the sections of the ideal conductors need to be neutral, the same rule applies also to every possible closed region that crosses the circuit only on the conductors.\n",
    "\n",
    "$\\qquad \\sum I_i = 0 \\qquad i = 1...n_{I}\\qquad n_{I}$ : Conductor intersects with region border\n",
    "\n",
    "In the circuit below we have defined a yellow region. It intersects the circuit at three ideal conductors. That means that the sum of currents entering this region on the three intersects 1, 2 and 3 that go to components C, A and B shall be zero.\n",
    "\n",
    "![circuit6](images\\Linear_DC_01\\circuit6.png)\n",
    "\n",
    "$$I_{Int1} + I_{Int2} + I_{Int3} = 0$$\n",
    "\n",
    "In the above example we have defined all currents as entering the node, component or region but, if all currents are not zero, some shall enter and some shall exit. In genera we will **add** the currents that go in and we will **sustract** the currents that go out. In the following example, two currents enter node 1 while one current exits this node:\n",
    "\n",
    "![circuit8](images\\Linear_DC_01\\circuit8.png)\n",
    "\n",
    "\n",
    "### Movement charge polarity does not matter\n",
    "\n",
    "In a circuit, it is important to know how the charge moves, but knowing if the moving charges are positive or negative does not matter in most cases. The following example shows three images of charge movement in a conductor.\n",
    "\n",
    "![Charge Movement](images\\Linear_DC_01\\charges.png)\n",
    "\n",
    "Inside a conductor, charges can be fixed (unable to move) or be movable **charge carriers**. In normal solid conductors, like copper, most of the charged particles like protons and electrons are fixed. Only some of the electrons on the outer shells of the atoms can freely move as charge carriers. Let's say, for simplicity that in the above figure all charges, fixed and movable have a value of 1 Coulomb (positive or negative). As therere are at a given time, the same quantity of positive and negative charges, the conductors are neutral.\n",
    "\n",
    "Copper can be represented by the left image. It has some free negative charge carriers that can freely move and the same number of fixed positive charges that keep the conductor neutral. If each second two negative 1 Coulomb charges exit the left side of the conductor, the net **positive** charge flow is 1 Ampere going right. Note that, to keep the conductor neutral, two charges need to also enter from the right side.\n",
    "\n",
    "The center image shows one alternative example where the fixed charge is negative and the charge carriers are positive. From a circuit theory point of view there is no difference respect to the previous case.\n",
    "\n",
    "The right and center cases are called unipolar because there is only one kind of charge carrier.\n",
    "\n",
    "Observe also the right image where we have both positive and negative charge carriers going in opposite directions. As there are two polarities of charge carriers we call this a bipolar conductor. The net current in this case is also 2 Ampere because both charges contribute 1 Ampere to the total current flow that is going right."
   ]
  },
  {
   "cell_type": "markdown",
   "metadata": {},
   "source": [
    "## Voltage and Kirchoff's Voltage Law\n",
    "\n",
    "As we recall, charge does not require any work or energy to move inside an ideal conductor. This, however, is not always true for  a component. When a charge moves inside a component it can require the consumption of energy. \n",
    "\n",
    "We can compare the energy of a charged particle with the energy that gravity gives to objects with mass. See the following figure where we have tree platforms 1, 2 and 3 and two objects A and B. \n",
    "\n",
    "![Gravity](images\\Linear_DC_01\\gravity.png)\n",
    "\n",
    "The energy needed to lift object B from platform 2 to platform 3 will be the same energy that will be released if object A rolls down and impacts platform 2.\n",
    "\n",
    "The gravity field is **conservative** because the potential energy an object accumulates depends only on its height and does not depende on how it has reached its current position. Observe also that we don't need to know the distances to the center of the earth, where the energy is zero, to make calculations, we just need to know the height differences.\n",
    "\n",
    "Charged particles, in an electric field behave like objects with mass in a gravity field. As ideal conductors have zero field it is equivalent to have same height. That means that all carriers that are inside a conductor and have the same charge will have also the same potential energy.\n",
    "\n",
    "Field shall be zero on the conductors, but it can be non zero inside the components. That means that a charged particle, when travels inside a component can gain or loose energy.\n",
    "\n",
    "We define **Voltage Difference** as the electric field equivalent of **Height Difference** in a gravity field. If a **positive** charge gains energy when it goes from one side of the component to the other side of the component we say that the voltage has increased from one terminal to the other.\n",
    "\n",
    "The **voltage** across a component gives us a measurement of the gain or loss of energy (depends on direction) for a charge that travels trough a component. By definition, there is a 1 **Volt** voltage increase when 1 **Coulomb** of charge gains 1 **Joule** of energy and there is a 1 **Volt** voltage drop when 1 **Coulomb** of charge losses 1 **Joule** of energy.\n",
    "\n",
    "$$\\Delta Voltage[V] = \\frac{\\Delta Energy[J]}{Charge[C]}$$\n",
    "\n",
    "As the electric field is **conservative**, and the components operate on electric fields, the energy of a charged particle inside or a conductor, or node, does not depend on how it has arrived to this conductor but in which conductor, or node, is located. Let's make an example with our previous circuit:\n",
    "\n",
    "![circuit7](images\\Linear_DC_01\\circuit7.png)\n",
    "\n",
    "If one charge goes from node 3 to node to node 1 through component B, then goes to node 2 through component C, then to node 4 trough component D and finally returns to node 3 through component E, the total gain of energy shall be zero as we are in the same place where we started. That means that the total sum of voltage increases on components B, C, D and E adds to zero. Note also that the same applies if the charge goes through component A instead of component B. \n",
    "\n",
    "We can write that as an equation:\n",
    "\n",
    "$\\qquad V_B + V_C + V_D + V_E = 0$\n",
    "\n",
    "This is the [Kirchoff's Voltage Law](https://en.wikipedia.org/wiki/Kirchhoff%27s_circuit_laws) (KVL). In a closed path inside a circuit the sum of all voltage contributions shall be zero.\n",
    "\n",
    "$\\qquad \\sum V_i = 0 \\qquad i = 1...n_{V}\\qquad n_{V}$ : Voltages in closed path\n"
   ]
  },
  {
   "cell_type": "markdown",
   "metadata": {},
   "source": [
    "## Two ways to skin a cat\n",
    "\n",
    "All is good about currents and voltages when we know in which direction the current moves and we know in which direction the voltage increases. The problem is that in most cases we need to **solve** a circuit to know its currents and voltages. \n",
    "\n",
    "In general we don't know the value of the currents or voltages nor their direction before solving the circuit, but,when we define the current and circuit variables we need to define a direction. The final solution of the circuit shall not depend on the direction of the unknown variables definitions. It shall be consistent in any case.\n",
    "\n",
    "The following image shows two circuits, with different variable definitions, for which one equation for currents (KCL) and one equation for voltages has been defined (KVL). The result shall be independent of the definition made to the unknown variables.\n",
    "\n",
    "![Circuit Equations](images\\Linear_DC_01\\circuit_equations.png)\n",
    "\n",
    "As we can see, variables that have been defined in opposite directions shall obtain a final results that is also opposite in sign. For instance on the left, current $I_B$ is $2A$ going down. On the right, $I_B$ is $-2A$ going up that is exactly the same as $+2A$ going down.  \n",
    "In a similar way on the left voltage increase $V_C$ is $3V$ going right whereas on the right $V_C$ is $-3V$ going left that is exactly equivalent to $+3V$ going right.\n",
    "\n",
    "It is important to understand that both circuits have the **same** solution."
   ]
  },
  {
   "cell_type": "markdown",
   "metadata": {},
   "source": [
    "## Energy and Power\n",
    "\n",
    "As we have defined, voltage is a measure of the energy of the charge carriers on the nodes. Observe that:\n",
    "\n",
    "$$\\Delta Energy[J] = Charge[C] \\cdot \\Delta Voltage[V]$$\n",
    "\n",
    "Remember that we have defined current as charge movement as function of time:\n",
    "\n",
    "$$Intensity[A] = \\frac{\\Delta Charge [C]}{\\Delta time [s]} \\qquad \\qquad \\Delta Energy[J] = Intensity[A] \\cdot \\Delta time[s] \\cdot \\Delta Voltage[V]$$\n",
    "\n",
    "That gives:\n",
    "\n",
    "$$\\frac{\\Delta Energy[J]}{\\Delta t[s]} = Power [W] = Intensity[A] \\cdot \\Delta Voltage[V]$$\n",
    "\n",
    "So, we need to provide a 1 Watt of power to keep 1 Ampere of current going trough a component gaining 1 Volt.\n",
    "\n",
    "When we measure **Energy** and **Power** we need to define what are we measuring. In general we can measure energy **gained** by the carriers or we can define energy **lost** by the carriers. \n",
    "\n",
    "In electronics, the typical convention is to define the energy values as **lost energy**. That means that a **loss** of energy or power will give **positive** values and a **gain** of energy or power will give **negative** values.\n",
    "\n",
    "As we are measuring the **lost** power, it wil be positive if positive charge moves from higher voltage to lower voltage. When we multiply voltage and current we need to define the current so that it enters the positive terminal or so that it exits the negative terminal. This is called the **Passive** convention because pasive components can only loose power.\n",
    "\n",
    "$$P_{Lost}=V\\cdot I_{Enter\\_V+} \\qquad \\qquad P_{Lost}=V\\cdot I_{Exit\\_V-}$$\n",
    "\n",
    "If you have defined the curren in another way, you will be measuring **gained** power and you will need to compensate to obtain the **lost** power.\n",
    "\n",
    "$$P_{Lost}=-V\\cdot I_{Exit\\_V+} \\qquad \\qquad P_{Lost}=-V\\cdot I_{Enter\\_V-}$$\n",
    "\n",
    "As an example we have the previous circuit where all voltages and currents are defined. Note that as components A y B share the same nodes they have the same voltages. Note also that as components C, D and E are following each other, they have the same current as the current exiting each compont can only go entering the following component.\n",
    "\n",
    "![Power](images\\Linear_DC_01\\power.png)\n",
    "\n",
    "If we add all the power values for all the components we can see that the total power is zero. Due to the conservation of energy, all the power lost in components shall be compensated with the power delivered by other components.\n",
    "\n",
    "$\\qquad \\sum P_i = 0 \\qquad i = 1...n_{C}\\qquad n_{C}$ : Components in the circuit\n",
    "\n",
    "This equation is redundat in some way. That means that you can solve a circuit using only the Kirchoff's current (KCL) and voltage (KVL) laws and the final result will always agree with the power equation."
   ]
  },
  {
   "cell_type": "markdown",
   "metadata": {},
   "source": [
    "## Node Voltages\n",
    "\n",
    "As voltage differences are measured between component terminals and as component terminals need to be associated to **nodes**, we can define **Node Voltages** as the voltage difference between this node and a special node called **Reference Node**.\n",
    "\n",
    "In our example circuit we can define node 3 as reference node and define the voltages on the other three nodes $V_1$, $V_2$ and $V_4$ as the voltage difference between nodes $1$, $2$ and $4$ to the reference node.\n",
    "\n",
    "![Node Voltages](images\\Linear_DC_01\\node_voltages.png)\n",
    "\n",
    "Observe that we can deduce the voltages on all components from the node voltages.\n",
    "\n",
    "It is important to remember that there is no point in talking about the voltage at one point in space. Voltage is always a difference measurement. We only talk about node voltages because they all are **differences** to a common reference node.\n",
    "\n",
    "Is interesting to note that the existence of node voltages imply the existence of the **KVL** equations. That is, we can demonstrate the **KVL** equations by knowing that node voltages exist.\n",
    "\n",
    "Node voltages are usefull because they are the maximum number of **independent** voltage variables that can happen in a circuit. In the above circuit, there are four different component voltage values $V_B$, $V_C$, $V_D$ and $V_E$ but there are only three mode voltages. We know then that there only exists three **independent** voltages. That means that we can obtain one component voltage, for instance $V_D$, from the other three:\n",
    "\n",
    "$$V_D = V_B+V_C-V_E$$\n",
    "\n",
    "Node voltages are also important because most measurement systems measure voltages respect to a common reference node. In the **SLab** system, all the voltages we will measure with the **ADCs** will refer to the board ground **GND** node. **DAC** generated voltages will also refer to the **GND** node.   \n",
    "So, in **SLab**, reference will always be the **GND** node and we will be able to set node voltages, using the **DACs** or measure node voltages, using the **ADCs**.\n",
    "\n",
    "As a side note, if the board is connected to a **desktop PC** and the PC is connected to the electical grid, it is most probably that the SLab **GND** node will also be [Earth Ground](https://en.wikipedia.org/wiki/Ground_(electricity))."
   ]
  },
  {
   "cell_type": "markdown",
   "metadata": {},
   "source": [
    "## Voltage Sources and Resistors\n",
    "\n",
    "In order to go out of the theoretical concepts we need to use real circuits, and for that, we need read components. In this document we will deal will **voltage sources** and **resistors**. Both components are **two terminal** components. That means that those components relate two nodes together.\n",
    "\n",
    "![V source and R](images\\Linear_DC_01\\vs_r.png)\n",
    "\n",
    "A voltage source, as seen on the left on the previous figure, is a component that sets the voltage difference between two nodes. So it forces this equation:\n",
    "\n",
    "$\\qquad V(n_1)-V(n_2)=V_S$\n",
    "\n",
    "The current $I_S$ in a voltage source is not directly related in any way with the voltage set. The current will always depend on what we connect to this component.\n",
    "\n",
    "The second component we will deal with is the resistor. This component will be explained in depth in following tutorials and, in fact, we don't need to know its equation for this document. But, if you want to know it is the following one:\n",
    "\n",
    "$\\qquad V(n_1)-V(n_2) = I_R R$\n",
    "\n",
    "So, the voltage between the two nodes where the resistor is connected is proportional to the current traveling through the resistor and to one parameter $R$ named **resistance** give in **Ohm** ($\\Omega$) units.\n",
    "\n",
    "Resistors are discrete components you can buy at cheap price. You can put any resistor between any pair of nodes in the circuit.\n",
    "\n",
    "Voltage sources are a little more complex. In **SLab** they are provided as part of the **Hardware Board** and we only are guaranteed to have three of them.\n",
    "\n",
    "![Voltage Sources](images\\Linear_DC_01\\vsources.png)\n",
    "\n",
    "The one on the right, $V_{DD}$, is called the **Voltage Supply** and provide a constant voltage of $V_{DD}$ value. As an example, this value is about $3.3 V$ if you are using a **Nucleo Board**.\n",
    "\n",
    "The two ones on the left, **DAC1** and **DAC2**, are voltage sources whose value can be selected to be any value between zero and $V_{DD}$ so they are more versatile than the **Voltage Supply**.\n",
    "\n",
    "Observe that in all supplies, only the positive node (the one where the voltage is bigger) is freely available. The other node will always be connected to a common **ground** node.\n",
    "\n",
    "In this document we will only use resistors and one **DAC** source. More sources will be used in later tutorials.\n",
    "\n",
    "---\n",
    "\n",
    "![Practical Icon](images/pt.png)\n",
    "\n",
    "---"
   ]
  },
  {
   "cell_type": "markdown",
   "metadata": {},
   "source": [
    "## Circuit Measurements\n",
    "\n",
    "Now we can turn theory into practice by working with a real circuit.\n",
    "\n",
    "First we will need to import the **SLab** module"
   ]
  },
  {
   "cell_type": "code",
   "execution_count": null,
   "metadata": {},
   "outputs": [],
   "source": [
    "# Import the main SLab module\n",
    "import slab"
   ]
  },
  {
   "cell_type": "markdown",
   "metadata": {},
   "source": [
    "Then we need to connect with the board."
   ]
  },
  {
   "cell_type": "code",
   "execution_count": null,
   "metadata": {},
   "outputs": [],
   "source": [
    "boardFolder = ''                                # Board folder (leave '' if you use only one board)\n",
    "slab.setFilePrefix('../Files/')                 # Set File Prefix\n",
    "slab.setCalPrefix('Calibrations/'+boardFolder)  # Set Calibration Prefix         \n",
    "slab.connect()                                  # Connect to the board"
   ]
  },
  {
   "cell_type": "markdown",
   "metadata": {},
   "source": [
    "It is always a good idea to check the board operation.  \n",
    "The following cell checks the calibration for the **DAC** channels and the first four **ADC** channels. "
   ]
  },
  {
   "cell_type": "code",
   "execution_count": null,
   "metadata": {},
   "outputs": [],
   "source": [
    "# Check the calibration\n",
    "slab.checkCalibration(pause=False,na=4,nm=10)"
   ]
  },
  {
   "cell_type": "markdown",
   "metadata": {},
   "source": [
    "After checkin the board we can build the test circuit that will be as follows:\n",
    "\n",
    "![Measurement Circuit](images\\Linear_DC_01\\meas_circuit.png)\n",
    "\n",
    "The circuit has 5 nodes, one of them is the **zero** number **Ground** reference node. We have included one **ADC** input for each node that is not the reference one. That way we can measure all **independent** circuit voltages. \n",
    "The circuit also includes 6 components: One DAC source voltage and five resistors.  \n",
    "\n",
    "Observe that there is only one **ground** node with number **zero**. The **black** ground terminal and the **DAC** ground terminal are connected inside the **SLab board**. We will always assume that all **ground** terminals are connected together, so we wont make this connection explicit. The following figure shows a how wil will usually draw the previous circuit in **SLab**.\n",
    "\n",
    "![Measurement Circuit 2](images\\Linear_DC_01\\meas_circuit2.png)\n",
    "\n",
    "---\n",
    "\n",
    "**BUILD TASK**  \n",
    "Build the above circuit.  \n",
    "\n",
    "---\n",
    "\n",
    "After mounting the circuit the **Bread Board** can be something like the image shown below.\n",
    "\n",
    "![Measurement Circuit](images\\Linear_DC_01\\bread_board.jpg)\n",
    "\n",
    "The **DAC1** source, associated to the yellow wire, can be set to any voltage between $0V$ and the **Hardware Board** supply. In our case we will set it to $2V$\n",
    "\n",
    "\n",
    "## Node Voltages\n",
    "\n",
    "We can start the measurements by setting the **DAC** voltage and obtaining the **node** voltages."
   ]
  },
  {
   "cell_type": "code",
   "execution_count": null,
   "metadata": {},
   "outputs": [],
   "source": [
    "slab.setVoltage(1,2)        # Set DAC1 voltage\n",
    "\n",
    "v1 = slab.readVoltage(1)    # Get ADC1 voltage\n",
    "v2 = slab.readVoltage(2)    # Get ADC2 voltage\n",
    "v3 = slab.readVoltage(3)    # Get ADC3 voltage\n",
    "v4 = slab.readVoltage(4)    # Get ADC4 voltage\n",
    "\n",
    "print('V1 =',v1,'V') # Show ADC1 voltage\n",
    "print('V2 =',v2,'V') # Show ADC2 voltage\n",
    "print('V3 =',v3,'V') # Show ADC3 voltage\n",
    "print('V4 =',v4,'V') # Show ADC4 voltage"
   ]
  },
  {
   "cell_type": "markdown",
   "metadata": {},
   "source": [
    "As $V_4$ is the **DAC** voltage, it should be close to $2V$  \n",
    "\n",
    "\n",
    "## Component Voltages\n",
    "\n",
    "We can now obtain the 5 resistor voltages and the DAC voltage using the node voltages.  \n",
    "In fact, the **SLab** system, by using the **ADCs** can only measure voltages respect to the **GND** so you can only measure node voltages and you cannot select which is the reference node as it will always be **GND**."
   ]
  },
  {
   "cell_type": "code",
   "execution_count": null,
   "metadata": {},
   "outputs": [],
   "source": [
    "# Calculate resistor voltages\n",
    "vr1 = v4 - v1\n",
    "vr2 = v2 - v1\n",
    "vr3 = v1\n",
    "vr4 = v2 - v3\n",
    "vr5 = v3\n",
    "\n",
    "# Calculate DAC voltage\n",
    "vdac = v4\n",
    "\n",
    "# Show the voltages\n",
    "print('VR1 = ',vr1,'V')\n",
    "print('VR2 = ',vr2,'V')\n",
    "print('VR3 = ',vr3,'V')\n",
    "print('VR4 = ',vr4,'V')\n",
    "print('VR5 = ',vr5,'V')\n",
    "print('VDAC = ',vdac,'V')"
   ]
  },
  {
   "cell_type": "markdown",
   "metadata": {},
   "source": [
    "## KVL Verification\n",
    "\n",
    "The **KVL** on the $R3-R2-R4-R4$ resistor path shall give zero.\n",
    "\n",
    "$\\qquad V_{R3}+V_{R2}-V_{R4}-V_{R5}=0$\n",
    "\n",
    "We can check that with the following code cell"
   ]
  },
  {
   "cell_type": "code",
   "execution_count": null,
   "metadata": {},
   "outputs": [],
   "source": [
    "# Check one KCL closed loop\n",
    "print('KVL voltage =',vr3+vr2-vr4-vr5,'V')"
   ]
  },
  {
   "cell_type": "markdown",
   "metadata": {},
   "source": [
    "The same applies for any other closed path.   \n",
    "Try that on the cell below.  "
   ]
  },
  {
   "cell_type": "code",
   "execution_count": null,
   "metadata": {},
   "outputs": [],
   "source": [
    "# Write your own code on this cell\n",
    "\n"
   ]
  },
  {
   "cell_type": "markdown",
   "metadata": {},
   "source": [
    "Observe that all **KVL** give an exact zero result. This cannot be a coincidence, off course.  \n",
    "AS we are deriving all component voltages from the node voltages that are the minimum set of independent voltages, all **KVL** equations shall give an exact zero solution.  \n",
    "\n",
    "This won't be the case is we make independent measurments of all resistor voltages.\n",
    "\n",
    "As an example, we will repeat the measurement of $_{R2}$ and check again the **KVL**"
   ]
  },
  {
   "cell_type": "code",
   "execution_count": null,
   "metadata": {},
   "outputs": [],
   "source": [
    "vr2_new = slab.readVoltage(2,1)                 # Repeat the Vr2 measurement (between nodes 2(+) and 1(-))\n",
    "print('New Vr2 =',vr2_new,'V')                  # Show voltage\n",
    "print('KVL voltage =',vr3+vr2_new-vr4-vr5,'V')  # Check KVL"
   ]
  },
  {
   "cell_type": "markdown",
   "metadata": {},
   "source": [
    "Due to measurement noise, it is difficult to get the exact same measuement two times.  \n",
    "Note, however, that as the measument is [quantized](https://en.wikipedia.org/wiki/Quantization_(signal_processing)) by the ADC, there is a finite number of voltage values we can get from any measurement. So, it is, in fact, possible but improbable, to obtain two exactly equal measurements.  \n",
    "\n",
    "In particular, for a 12 bit ADC, there are $2^{12}=4096$ single possible measurement results.  \n",
    "But we don't use single measurements in DC on **SLab**. Each DC voltage read is the average of several measurements. That means that the measurement error can be below one quantization step."
   ]
  },
  {
   "cell_type": "markdown",
   "metadata": {},
   "source": [
    "## Component Currents\n",
    "\n",
    "We can also get the currents on the resistors as **SLab** knows how to calculate them.  \n",
    "We will use the **rCurrent** function for that. This function takes three arguments:\n",
    "\n",
    "* Resistor value\n",
    "* ADC connected to the resistor terminal where current enters\n",
    "* ADC connected to the resistor terminal where current exits\n",
    "\n",
    "The function applies [ohm's law](https://en.wikipedia.org/wiki/Ohm%27s_law) to compute the current from the node voltages and the resistance value. But you don't need to know that to make the measurements.\n",
    "\n",
    "$$I_R = \\frac{V_{(+)}-V_{(-)}}{R}$$\n",
    "\n",
    "If the resistor value is given in $\\Omega$ the current is given in $A$. If the resistor is given in $k\\Omega$ the current is given in $mA$. \n",
    "\n",
    "**SLab** cannot directly measure any current, so we cannot measure the **DAC** output current. In this case we know that it has to be the same current as in the $R_1$ resistor.\n",
    "\n",
    "Execute the following code cell to obtain all component currents."
   ]
  },
  {
   "cell_type": "code",
   "execution_count": null,
   "metadata": {},
   "outputs": [],
   "source": [
    "# Calculate resistor currents from reistance values and node positions\n",
    "# Note that we give resistances in kOhm to obtain current in mA\n",
    "ir1 = slab.rCurrent(1,4,1)\n",
    "ir2 = slab.rCurrent(2.2,1,2)\n",
    "ir3 = slab.rCurrent(3.3,0,1)\n",
    "ir4 = slab.rCurrent(1.2,2,3)\n",
    "ir5 = slab.rCurrent(1.5,3,0)\n",
    "\n",
    "# In SLAB we cannot measure DAC currents\n",
    "# In this circuit we know that it is the same as IR1\n",
    "idac = ir1\n",
    "\n",
    "# Show the current values\n",
    "print('IR1 =',ir1,'mA')\n",
    "print('IR2 =',ir2,'mA')\n",
    "print('IR3 =',ir3,'mA')\n",
    "print('IR4 =',ir4,'mA')\n",
    "print('IR5 =',ir5,'mA')\n",
    "print('IDAC =',idac,'mA')"
   ]
  },
  {
   "cell_type": "markdown",
   "metadata": {},
   "source": [
    "The **KCL** on node 1 shall give zero.\n",
    "\n",
    "$\\qquad I_{R1}-I_{R2}+I_{R3}=0$\n",
    "\n",
    "We can check that with the following code cell"
   ]
  },
  {
   "cell_type": "code",
   "execution_count": null,
   "metadata": {},
   "outputs": [],
   "source": [
    "# Check one nodal KCL equation\n",
    "print('KCL current =',ir1-ir2+ir3,'mA')"
   ]
  },
  {
   "cell_type": "markdown",
   "metadata": {},
   "source": [
    "It is normal that the **KCL** summ does not give exactly zero. This is because we are deducing the currents from the voltages and the resistances and those have some error in their values. It is normal for a resistance to have a 5% maximum error in its value, so you can expect errors in this porcentual range.\n",
    "\n",
    "The **KCL** can also be applied to components instead of nodes if we consider all its terminals, for instance, in the case of $R_4$:\n",
    "\n",
    "$\\qquad I_{R4} - I_{R5} = 0$\n",
    "\n",
    "We can check that in the cell below"
   ]
  },
  {
   "cell_type": "code",
   "execution_count": null,
   "metadata": {},
   "outputs": [],
   "source": [
    "# Check the R4 resistor KCL equation\n",
    "print('KCL current =',ir4-ir5,'mA')\n",
    "print('Error in thre result is',100*(ir4-ir5)/ir4,'%')"
   ]
  },
  {
   "cell_type": "markdown",
   "metadata": {},
   "source": [
    "If voltage measurements are perfect and resistor tolerances are $5\\%$ the maxim error is $10\\%$ as we need to take into account the error of the two currents.  \n",
    "\n",
    "You can use the following code cell to check any other **KCL** you please"
   ]
  },
  {
   "cell_type": "code",
   "execution_count": null,
   "metadata": {},
   "outputs": [],
   "source": [
    "# Write your own code on this cell\n",
    "\n"
   ]
  },
  {
   "cell_type": "markdown",
   "metadata": {},
   "source": [
    "## Power Calculations\n",
    "\n",
    "After checking the Kirchoff's Laws, we want also to check the energy conservation law.  \n",
    "First, we will obtain the **power lost** on each component. Remember that a negative value means **delivered power**. Remember also that you need to change sign is the current is entering the negative terminal."
   ]
  },
  {
   "cell_type": "code",
   "execution_count": null,
   "metadata": {},
   "outputs": [],
   "source": [
    "# Power at each component\n",
    "pr1  =  vr1*ir1\n",
    "pr2  = -vr2*ir2\n",
    "pr3  = -vr3*ir3\n",
    "pr4  =  vr4*ir4\n",
    "pr5  =  vr5*ir5\n",
    "pdac = -vdac*idac\n",
    "\n",
    "# Show power values\n",
    "print(\"P lost on R1 =\",pr1,\"mW\")\n",
    "print(\"P lost on R2 =\",pr2,\"mW\")\n",
    "print(\"P lost on R3 =\",pr3,\"mW\")\n",
    "print(\"P lost on R4 =\",pr4,\"mW\")\n",
    "print(\"P lost on R5 =\",pr5,\"mW\")\n",
    "print(\"P lost on DAC1 =\",pdac,\"mW\")"
   ]
  },
  {
   "cell_type": "markdown",
   "metadata": {},
   "source": [
    "Observe that **lost power** is always positive on the resistors. That can't be any other way as resistors are pasive and cannot generate nor store power.  \n",
    "Power on voltage supplies can be positive or negative, but as all other power values are positive, the DAC power needs to be negative to compensate.\n",
    "\n",
    "Typical, normal sized, [through hole](https://en.wikipedia.org/wiki/Through-hole_technology) resistors have a power limit of $1/4W (250mW)$ or $1/8W (125mW)$. We can see that we are quite far from this limit.\n",
    "\n",
    "We can now check that the total power on the circuit is zero.\n",
    "\n",
    "$$P_{R1}+P_{R2}+P_{R3}+P_{R4}+P_{R5}+P_{DAC}=0$$"
   ]
  },
  {
   "cell_type": "code",
   "execution_count": null,
   "metadata": {},
   "outputs": [],
   "source": [
    "# Power check\n",
    "ptot = pr1+pr2+pr3+pr4+pr5+pdac\n",
    "print('Total power =',ptot,'mW')"
   ]
  },
  {
   "cell_type": "markdown",
   "metadata": {},
   "source": [
    "As the current values that we use to compute power are affected from resistance value errors, the total power computation will have some errors and won't exactly add up to zero."
   ]
  },
  {
   "cell_type": "markdown",
   "metadata": {},
   "source": [
    "## DAC Compliance\n",
    "\n",
    "You should have nottice that we usually connect one of the **ADC** inputs to the **DAC** output. If the board has been properly calibrated, the **ADC** reading should match the **ADC** preset value. So, you may ask, why do we spend an **ADC** input on measuring something we already know.\n",
    "\n",
    "The reason is that the **ADC** measures the **current** voltage in the node respect to ground whereas the **DAC** setting is the voltage we would like to have on one node. It is not guaranteed. Let's consider the following circuit:\n",
    "\n",
    "![One Resistor Circuit](images\\Linear_DC_01\\one_resistor.png)\n",
    "\n",
    "Resistor $R_1$ can have any value. Imagine that you set the **DAC** voltage to $2V$ and use a $4\\Omega$ resistor. The current on the output **DAC** shall be:\n",
    "\n",
    "$\\qquad I_{DAC1} = \\frac{2V}{4\\Omega} = 0.5A$\n",
    "\n",
    "This won't happen as the **DAC** is not capable to provide that much current. Not even close. We say that we are out of the **compliance limits** for the **DAC**. Having an **ADC** input connected to the **DAC** output enables us to check that the voltage in the node is really the one we want.\n",
    "\n",
    "To test that in action, mount the above circuit selecting a $100\\Omega$ value for $R_1$. Now execute the following code that sweeps the **DAC1** voltage between $0 V$ and $3 V$. "
   ]
  },
  {
   "cell_type": "code",
   "execution_count": null,
   "metadata": {},
   "outputs": [],
   "source": [
    "# Sweep DAC1 between 0V and 3V in 50mV increments\n",
    "data = slab.dcSweep(1,0.0,3.0,0.05)\n",
    "# Set DACs to zero\n",
    "slab.zero() \n",
    "\n",
    "# Plot desired DAC1 voltage and real voltage measured by ADC1\n",
    "slab.plot1n(data[0],[data[0],data[1]],'','DAC Setting[V]','Voltage [V]',['DAC1 Setting','ADC1 Reading'])"
   ]
  },
  {
   "cell_type": "markdown",
   "metadata": {},
   "source": [
    "The following coment is correct if you are using a **Nucleo F303RE Board**. For other boards you can get different results.\n",
    "\n",
    "You can see that for low voltages the real voltage measured by the **ADC** matches the desired value set on the **DAC**. At some point, however, we reach the **compliance limit** and the **DAC** is not able to maintain the desired voltage.\n",
    "\n",
    "If you want to know more about this particular problem, you can read [this demo document](http://localhost:8888/notebooks/Demo/DAC%20Analysis.ipynb) that gives a more in depth explanation of the **Nucleo F303 Board** DAC limits."
   ]
  },
  {
   "cell_type": "markdown",
   "metadata": {},
   "source": [
    "After all measurements are performed we can now disconnect from the board."
   ]
  },
  {
   "cell_type": "code",
   "execution_count": null,
   "metadata": {},
   "outputs": [],
   "source": [
    "# Disconnect from the board\n",
    "slab.disconnect()"
   ]
  },
  {
   "cell_type": "markdown",
   "metadata": {},
   "source": [
    "## Last Words\n",
    "\n",
    "This was the first document on **Linear DC Circuits**.  \n",
    "In order to solve circuits in the future we will mainly use the **KVL** and the **KCL** equations. \n",
    "This document has also shown on of the limits of the **SLab** system. We can only measure voltages and those voltages are always referenced to the common **GND** node. In order to measure a current we need to do that in an indirect way using, for instance, the known relationship between voltage and current on the resistance components.  \n",
    "Also, we know that the **DAC** voltage is not guaranteed at all conditions, so it is a good idea to check its real voltage value using an **ADC** input."
   ]
  },
  {
   "cell_type": "markdown",
   "metadata": {},
   "source": [
    "## References\n",
    "\n",
    "**SLab Python References**    \n",
    "Those are the reference documents for the SLab Python modules. They describe the commands that can be carried out after importing each module.  \n",
    "They should be available in the [Reference](http://localhost:8888/notebooks/Reference) folder.\n",
    "\n",
    "**TinyCad**  \n",
    "Circuit images on this document have been drawn using the free software TinyCad  \n",
    "https://sourceforge.net/projects/tinycad/"
   ]
  },
  {
   "cell_type": "markdown",
   "metadata": {},
   "source": [
    "## Document license\n",
    "\n",
    "Copyright  ©  Vicente Jiménez (2019)  \n",
    "This work is licensed under a Creative Common Attribution-ShareAlike 4.0 International license.  \n",
    "This license is available at http://creativecommons.org/licenses/by-sa/4.0/\n",
    "\n",
    "<img  src=\"images/cc_sa.png\" width=\"200\">"
   ]
  },
  {
   "cell_type": "code",
   "execution_count": null,
   "metadata": {},
   "outputs": [],
   "source": []
  }
 ],
 "metadata": {
  "kernelspec": {
   "display_name": "Python 3",
   "language": "python",
   "name": "python3"
  },
  "language_info": {
   "codemirror_mode": {
    "name": "ipython",
    "version": 3
   },
   "file_extension": ".py",
   "mimetype": "text/x-python",
   "name": "python",
   "nbconvert_exporter": "python",
   "pygments_lexer": "ipython3",
   "version": "3.7.1"
  }
 },
 "nbformat": 4,
 "nbformat_minor": 2
}
