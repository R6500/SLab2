{
 "cells": [
  {
   "cell_type": "markdown",
   "metadata": {},
   "source": [
    "<img style=\"float: right;\"  src=\"images/LogoP.jpg\" width=\"200\">\n",
    "\n",
    "# Linear DC 04 - Thevenin, Norton and stateless circuits\n",
    "\n",
    "This document deals with what is really a **DC** circuit and the **Thevenin** and **Norton** equivalents that can be used to ease the circuit solving problems.\n",
    "\n",
    "Version 1.0 (29/3/2019)  \n",
    "License information is at the end of the document\n",
    "\n",
    "---\n",
    "**Bill Of Materials (BOM):**\n",
    "\n",
    "* Resistors: $220\\Omega$, $1k5\\Omega$, $2k2\\Omega$, $3k3\\Omega$, $4k7\\Omega$ and $6k8\\Omega$\n",
    "\n",
    "---"
   ]
  },
  {
   "cell_type": "markdown",
   "metadata": {},
   "source": [
    "## Stateless Circuits\n",
    "\n",
    "As you can see from the title, this document is part of the **Linear DC** series. The **Linear** word is because we are dealing with **Linear Circuits**. You can think that the **DC** word is because we use **constant** voltages or currents, but you can see that it is not always true. As an example, in the last tutorial, we applied the superposition principle to a circuit with variable sources.\n",
    "\n",
    "In general, the main deal with **DC Circuits** is not that the are constant but that they are **stateless**. A circuit has no state, or is **stateless** if its behavior only depends on the current value of all its components and not in the previous history of their values. In this kind of circuit we can know all its voltage and current variables without knowing its previous history. This is quite usefull because in a circuit that holds internal **state information**, we could need to know all the previous history of the circuit to solve it.\n",
    "\n",
    "The circuit **state information** is held in components capable of holding this **state information**. Typically as voltage in **capacitors** and current in **inductors**. But we are now getting a little ahead of ourselves.  \n",
    "As nor the resistors nor the sources can hold **state information**, any circuit with just sources and resistors is **stateless**.\n",
    "\n",
    "Circuits that can hold **state information** usually, but not always, tend to **\"forget\"** this information if you mantain the independent sources constant a long enough time. So, most circuits behave as **stateless** if you wait long enough after changing its independent supplies.\n",
    "\n",
    "Also, if you change the independent supplies **slow enough**, the circuit will also operate as if it was **stateless**. This is commonly know as **quasi DC** operation. This is important because, in the real world, there are no trully **stateless** circuits. Only circuits that behave like they were **stateless**.\n"
   ]
  },
  {
   "cell_type": "markdown",
   "metadata": {},
   "source": [
    "## Subcircuit I(V) curve\n",
    "\n",
    "In **SLab** we call **subcircuit** to any circuit that has some available nodes that can be connected to other circuits. We will call also **two node subircuit** to any subcircuit that can connect to other subcircuits only at two nodes that we will call **connecting nodes**. The subcircuit can have more nodes, but only two connect to other subcircuits. Sometimes this kind of subcircuit is called a **single port** subcircuit.\n",
    "\n",
    "In a previous tutorial we have seen that any **two node subcircuit** that includes only resistors is always equivalent to a single $R_{eq}$ resistor between the two **conecting nodes**. We will expand on this concept on this document.\n",
    "\n",
    "Any **two node subcircuit** that is **stateless** and also only includes **constant independent sources** can be described by its unique $I(V)$ response. The $I(V)$ response can be obtained by applying an independent voltage source to the **connecting nodes** and obtaining the current **entering the circuit** for each applied voltage value.\n",
    "\n",
    "![I(V) Curve](images\\Linear_DC_04\\iv_curve.png)\n",
    "\n",
    "In a similar way,  the $I(V)$ response can also be obtained by applying an independent current source to the **connecting nodes** and obtaining the voltage between the nodes for each applied current value.\n",
    "\n",
    "![I(V) Curve2](images\\Linear_DC_04\\iv_curve2.png)\n",
    "\n",
    "In the rest of the document we assume that all our subcircuits **have** a $I(V)$ curve so we imply that we are only dealing with **stateless** subcircuits with constant independent sources."
   ]
  },
  {
   "cell_type": "markdown",
   "metadata": {},
   "source": [
    "## Linear subcircuit I(V) curve\n",
    "\n",
    "The $I(V)$ curve of a subcircuit can have any shape, but if the subcircuit is **linear** the range of available shapes is quite restricted.\n",
    "\n",
    "As we know, in a linear circuit, all voltages and currents are linear function of the independent sources. A function can only be linear if it uses linear operators. It turns out, that there are only a handful of those operators. If you leave out integrals and derivatives only **linear combinations** remain.\n",
    "\n",
    "If we have a linear circuit that is **stateless**, all voltages and currents shall be a linear combinaron of the independent sources.\n",
    "\n",
    "$$f(V_1,V_2,...V_n,I_1,I_2,....I_m)\n",
    "= p_1 V_1 + p_2 V_2 +...+p_n V_n + q_1 I_1 + q_2 I_2+...+ q_m I_m$$\n",
    "\n",
    "Where all $p_i$ and $q_i$ are constant values.\n",
    "\n",
    "Note that the above expression implies that, in a linear **stateless** circuit, if all independent sources are zero, then all voltages and currents shall be zero too.\n",
    "\n",
    "To ease the previous expression we can simplify to:\n",
    "\n",
    "$$f(S_1,S_2,...S_n,)= p_1 S_1 + p_2 S_2 +...+p_n S_n$$\n",
    "\n",
    "Where $S_i$ is the value of each independent source regardless of being a **voltage** or **current** source.\n",
    "\n",
    "If we have a subcircuit with any number $n$ of independent sources we can use the following circuit to obtain its $I(V)$ curve.\n",
    "\n",
    "![I(V) Calculation](images\\Linear_DC_04\\iv_calculate.png)\n",
    "\n",
    "Observe that, as we have added a $V_X$ source, the current $I_X$ entering the circuit shall be:\n",
    "\n",
    "$$I_X=I_X(S_1,S_2,...S_n,V_X)= p_1 S_1 + p_2 S_2 +...+p_n S_n+G_T\\cdot V_X$$\n",
    "\n",
    "We use $G_T$ for the last constant because it has to have **conductivity** units. We call it the **Thevenin Conductance**. We can also define a **Thevenin resistance** $R_T$ as:\n",
    "\n",
    "$$R_T = \\frac{1}{G_T}$$\n",
    "\n",
    "As most terms in the $I_X$ expression are constant,  it can be simplified to:\n",
    "\n",
    "$$I_X=I_{SC}+G_T\\cdot V_X$$\n",
    "\n",
    "That means that the $I_X(V_X)$ shall, in fact, be a stright line.\n",
    "\n",
    "The fist constant is the **short circuit** $I_{SC}$ current because it is the current $I_X$ entering the subcircuit when the two **connecting** nodes are shorted together. That is, when $V_X = 0$.      \n",
    "**Note:** in some texts, $I_{SC}$ is defined with opposite sign (exiting the subcircuit). This is no problm if you are coherent with the definition you are using. In the end, you will get the same results.\n",
    "\n",
    "We can also define an **open circuit** voltage $V_{OC}$ as the input voltage we have when the $I_X$ current entering the subcircuit is zero. It can be calculated:\n",
    "\n",
    "$$V_{OC} = -\\frac{I_{SC}}{G_T} = - I_{SC} R_T$$\n",
    "\n",
    "In most normal circuits $G_T$, and $R_T$, are positive, so, $V_{OC}$ and $I_{SC}$ will have opposite sign. This is easy to see in the graph. If the slope is positive, then, the two axes crossings shall have opposite signs.\n",
    "\n",
    "![I(V) Parameters](images\\Linear_DC_04\\iv_parameters.png)\n",
    "\n",
    "The $R_T$, or $G_T$ can be easily calculated if we take the previous equation:\n",
    "\n",
    "$$I_X=I_X(S_1,S_2,...S_n,V_X)= p_1 S_1 + p_2 S_2 +...+p_n S_n+G_T\\cdot V_X$$\n",
    "\n",
    "If we make zero all $S_i$ sources, we get:\n",
    "\n",
    "$$I_X= G_T\\cdot V_X$$\n",
    "\n",
    "So, $R_T$ and $G_T$ can be calculated as:\n",
    "\n",
    "$\\qquad R_T = \\frac{1}{G_T} = \\frac{V_X}{I_X}\\qquad$ When we make zero all sources.\n",
    "\n",
    "Note that a zero value **voltage source** is equivalent to a **shortcircuit** between the nodes that were connected to the supply and a zero value **current source** is equivalent to remove the supply from the curcuit leaving in **open circuit** the place where it was.\n",
    "\n",
    "Let's try all that with some measurents.\n",
    "\n",
    "---\n",
    "\n",
    "![Practical Icon](images/pt.png)\n",
    "\n",
    "---"
   ]
  },
  {
   "cell_type": "markdown",
   "metadata": {},
   "source": [
    "## SLab Setup\n",
    "\n",
    "First we will need to import the **SLab** module"
   ]
  },
  {
   "cell_type": "code",
   "execution_count": null,
   "metadata": {},
   "outputs": [],
   "source": [
    "# Import the main SLab module\n",
    "import slab"
   ]
  },
  {
   "cell_type": "markdown",
   "metadata": {},
   "source": [
    "Then we need to connect with the board."
   ]
  },
  {
   "cell_type": "code",
   "execution_count": null,
   "metadata": {},
   "outputs": [],
   "source": [
    "boardFolder = ''                                # Board folder (leave '' if you use only one board)\n",
    "slab.setFilePrefix('../Files/')                 # Set File Prefix\n",
    "slab.setCalPrefix('Calibrations/'+boardFolder)  # Set Calibration Prefix         \n",
    "slab.connect()                                  # Connect to the board"
   ]
  },
  {
   "cell_type": "markdown",
   "metadata": {},
   "source": [
    "It is always a good idea to check the board operation.  \n",
    "The following cell checks the calibration for the **DAC** channels and the first four **ADC** channels."
   ]
  },
  {
   "cell_type": "code",
   "execution_count": null,
   "metadata": {},
   "outputs": [],
   "source": [
    "# Check the calibration\n",
    "slab.checkCalibration(pause=False,na=4,nm=10)"
   ]
  },
  {
   "cell_type": "markdown",
   "metadata": {},
   "source": [
    "## Measuring I(V) curves\n",
    "\n",
    "In order to measure the $I(V)$ response of a subcircuit you need to put a voltage source between the **connecting nodes** and measure the current entering the subcircuit or you can put a current source between the **connecting nodes** and measure the voltage between those nodes. Unfortunatelly, in **SLab** we cannot directly measure current nor we have current sources.  In order to measure the $I(V)$ response we will need to do some tricks.\n",
    "\n",
    "This is the setup we propose to measure the $I(V)$ response of a subcircuit:\n",
    "\n",
    "![IV Measurement](images\\Linear_DC_04\\iv_meas.png)\n",
    "\n",
    "If we sweep the $V_{DAC}$ value we can always measure the voltage $V_X$ at the subcircuit input. Then we can obtain the current entering the subcircuit as:\n",
    "\n",
    "$\\qquad I_X = \\frac{V_{DAC}-V_X}{R_S}$\n",
    "\n",
    "As an example, consider the following **subcircuit**\n",
    "\n",
    "![Subcircuit 1](images\\Linear_DC_04\\circuit1a.png)\n",
    "\n",
    "----\n",
    "\n",
    "**CALCULATION TASK**   \n",
    "Analyze the subcircuit and obtain its $R_T$, $V_{OC}$ and $I_{SC}$ values when $V_{DAC2}$ is $2V$.\n",
    "\n",
    "----\n",
    "\n",
    "Now we will mount the following circuit to measure the $I(V)$ curve:\n",
    "\n",
    "![Subcircuit 1 Meas](images\\Linear_DC_04\\circuit1b.png)\n",
    "\n",
    "The following code cell measures the curve."
   ]
  },
  {
   "cell_type": "code",
   "execution_count": null,
   "metadata": {},
   "outputs": [],
   "source": [
    "slab.setVoltage(2,2)                  # Set DAC2 to 2V\n",
    "\n",
    "data = slab.dcSweep(1,0.5,3.0,0.05)   # Sweep DAC1 from 0.5V to 3.0V in 50mmV steps\n",
    "Vx = data[2]                          # Vx value (in V)\n",
    "Ix = (data[1]-data[2])/0.22           # Ix value (in mA)\n",
    "\n",
    "# Plot the curve\n",
    "slab.plot11(Vx,Ix,'I(V) Plot','Vx [V]','Ix[mA]')"
   ]
  },
  {
   "cell_type": "markdown",
   "metadata": {},
   "source": [
    "Observe that, due to the voltage drop in $R_S$ we won't usually be able to reach the $I_{SC}$ current.\n",
    "\n",
    "As you can see,  the $I(V)$ curve is, in fact, a straight line. We can extrapolate the measured data extending the line using data for two points. But, before that, we will execute the following code cell to make the plots interactive so that you can zoom on them.  \n",
    "When you are done with a graph, click the **Stop Interaction** button in the top right corner to reduce the number of resources used by **Jupyter**."
   ]
  },
  {
   "cell_type": "code",
   "execution_count": null,
   "metadata": {},
   "outputs": [],
   "source": [
    "# Make plots interactive\n",
    "slab.interactivePlots()\n",
    "%matplotlib notebook"
   ]
  },
  {
   "cell_type": "markdown",
   "metadata": {},
   "source": [
    "The next code cell calculates the parameters $V_{OC}$, $I_{SC}$ and $R_T$ and draw the extrapolated curve from the measured data."
   ]
  },
  {
   "cell_type": "code",
   "execution_count": null,
   "metadata": {},
   "outputs": [],
   "source": [
    "# Import numpy to use the arange function\n",
    "import numpy as np  \n",
    "\n",
    "V1 = Vx[0]             # Take the first measurement point\n",
    "I1 = Ix[0]\n",
    "V2 = Vx[-1]            # Take the last measurement point\n",
    "I2 = Ix[-1]        \n",
    "Rt = (V1-V2)/(I1-I2)   # Compute Rt\n",
    "Isc = I1 - V1/Rt       # Compute Isc\n",
    "Voc = -Isc*Rt          # Compute Voc\n",
    "\n",
    "Vxe = np.arange(-3.0,3.0,0.05)  # Create a vector from -3V to 3V in 50mV increments\n",
    "Ixe = (Vxe-Voc)/Rt              # Compute Ix for each Vx value\n",
    "\n",
    "# Plot the extrapolated curve together with the measured curve\n",
    "slab.plotnn([Vxe,Vx],[Ixe,Ix],'Curve Extrapolation','Vx [V]','Ix [mA]',['Extrapolated','Measured'])\n",
    "\n",
    "# Plot the curve parameters\n",
    "print('Voc =',Voc,'V')\n",
    "print('Isc =',Isc,'mA')\n",
    "print('Rt =',1000*Rt,'Ohm')"
   ]
  },
  {
   "cell_type": "markdown",
   "metadata": {},
   "source": [
    "You can compare the obtained $V_{OC}$, $I_{SC}$ and $R_T$ values against your calculations. Remember that the resistances have some tolerance so some error is expected."
   ]
  },
  {
   "cell_type": "markdown",
   "metadata": {},
   "source": [
    "Now, we want to analyze a more complex subcircuit.  As we need **DAC1** for measuring the curve, the only way to have two supplies in the subcircuit is by using $V_{DD}$ and **DAC2**\n",
    "\n",
    "![Subcircuit 2](images\\Linear_DC_04\\circuit2a.png)\n",
    "\n",
    "In order to make calculations it is important to know the board $V_{DD}$ voltage. Use the following code cell for that."
   ]
  },
  {
   "cell_type": "code",
   "execution_count": null,
   "metadata": {},
   "outputs": [],
   "source": [
    "Vdd = slab.getVariable('vdd')\n",
    "print('Vdd =',Vdd,'V')"
   ]
  },
  {
   "cell_type": "markdown",
   "metadata": {},
   "source": [
    "----\n",
    "\n",
    "**CALCULATION TASK**    \n",
    "Analyze the subcircuit and obtain its $R_T$, $V_{OC}$ and $I_{SC}$ values.\n",
    "\n",
    "----\n",
    "\n",
    "Now we will again mount a circuit to measure the $I(V)$ curve:\n",
    "\n",
    "![Subcircuit 2 Meas](images\\Linear_DC_04\\circuit2b.png)\n",
    "\n",
    "And measure and the $I(V)$ curve using a code cell."
   ]
  },
  {
   "cell_type": "code",
   "execution_count": null,
   "metadata": {},
   "outputs": [],
   "source": [
    "slab.setVoltage(2,2)                  # Set DAC2 to 2V\n",
    "\n",
    "data = slab.dcSweep(1,0.5,3.0,0.05)   # Sweep DAC1 from 0.5V to 3.0V in 50mmV steps\n",
    "Vx2 = data[2]                          # Vx value (in V)\n",
    "Ix2 = (data[1]-data[2])/0.22           # Ix value (in mA)\n",
    "\n",
    "# Plot the curve\n",
    "slab.plot11(Vx2,Ix2,'Second Circuit I(V) Plot','Vx [V]','Ix[mA]')"
   ]
  },
  {
   "cell_type": "markdown",
   "metadata": {},
   "source": [
    "As in the previous case we can calculate the parameters $V_{OC}$, $I_{SC}$ and $R_T$ and draw the extrapolated curve from the measured data."
   ]
  },
  {
   "cell_type": "code",
   "execution_count": null,
   "metadata": {},
   "outputs": [],
   "source": [
    "# We don't need to import numpy again\n",
    "\n",
    "V1 = Vx2[0]             # Take the first measurement point\n",
    "I1 = Ix2[0]\n",
    "V2 = Vx2[-1]            # Take the last measurement point\n",
    "I2 = Ix2[-1]        \n",
    "Rt2 = (V1-V2)/(I1-I2)   # Compute Rt\n",
    "Isc2 = I1 - V1/Rt2      # Compute Isc\n",
    "Voc2 = -Isc2*Rt2        # Compute Voc\n",
    "\n",
    "Vxe2 = np.arange(-3.0,3.0,0.05)  # Create a vector from -3V to 3V in 50mV increments\n",
    "Ixe2 = (Vxe2-Voc2)/Rt2           # Compute Ix for each Vx value\n",
    "\n",
    "# Plot the extrapolated curve together with the measured curve\n",
    "slab.plotnn([Vxe2,Vx2],[Ixe2,Ix2],'Second Circuit Curve Extrapolation','Vx [V]','Ix [mA]',['Extrapolated','Measured'])\n",
    "\n",
    "# Plot the curve parameters\n",
    "print('Voc =',Voc2,'V')\n",
    "print('Isc =',Isc2,'mA')\n",
    "print('Rt =',1000*Rt2,'Ohm')"
   ]
  },
  {
   "cell_type": "markdown",
   "metadata": {},
   "source": [
    "As you can see, both circuits, although they have different number of supplies and resistors, have an $I(V)$ curve that just depends on two parameters: $R_T$, $V_{OC}$. We don't count $I_{SC}$ because it can be calculated from $R_T$ and $V_{OC}$\n",
    "\n",
    "As both circits have the same kind of $I(V)$ curve, the question that arises is, which is the most simple circuit that has a given $I(V)$ straight line curve?"
   ]
  },
  {
   "cell_type": "markdown",
   "metadata": {},
   "source": [
    "## The Thevenin equivalent\n",
    "\n",
    "Let's analyze the following subcircuit that features just a supply and a resistor:\n",
    "\n",
    "![Thevenin 1](images\\Linear_DC_04\\thevenin.png)\n",
    "\n",
    "----\n",
    "\n",
    "**CALCULATION TASK**    \n",
    "Obtain the $R_T$ and $V_{OC}$ parameters of the above subcircuit.\n",
    "\n",
    "----\n",
    "\n",
    "If you have done the calculations properly you should see that:\n",
    "\n",
    "$$V_S = V_{OC} \\qquad R_S = R_T$$\n",
    "\n",
    "We have seen that a subcircuit with just one resistor and one voltage source is equivalent to any **stateless** linear subcircuit with any number of components. This minimal equivalent is the **Thevenin** equivalent circuit:\n",
    "\n",
    "![Thevenin 2](images\\Linear_DC_04\\thevenin2.png)\n",
    "\n",
    "Where $V_T$ is the **Thevenin Voltage** that equals $V_{OC}$ and $R_T$ is redefined as the **Thevenin Resistance**\n",
    "\n",
    "We can mount a circuit that should be equivalent to our previous second example.\n",
    "\n",
    "![Thevenin 3](images\\Linear_DC_04\\thevenin3.png)\n",
    "\n",
    "We will set $V_T$ to the **Thevenin Voltage** of our circuit and $R_T$ to the **Thevenin Resistance** of our circuit.\n",
    "\n",
    "Now we can measure the $I(V)$ curve and compare it with the previous case. \n",
    "\n",
    "As always, we add the measuring elements to the circuit.\n",
    "\n",
    "![Thevenin 4](images\\Linear_DC_04\\thevenin4.png)\n",
    "\n",
    "And use the following code cell to measure the curve and compare with the previous one."
   ]
  },
  {
   "cell_type": "code",
   "execution_count": null,
   "metadata": {},
   "outputs": [],
   "source": [
    "slab.setVoltage(2,Voc2)               # Set DAC2 to Thevenin Voltage\n",
    "\n",
    "data = slab.dcSweep(1,0.5,3.0,0.05)   # Sweep DAC1 from 0.5V to 3.0V in 50mmV steps\n",
    "Vxt = data[2]                         # Vx value (in V)\n",
    "Ixt = (data[1]-data[2])/0.22          # Ix value (in mA)\n",
    "\n",
    "# Plot the curve\n",
    "slab.plotnn([Vx2,Vxt],[Ix2,Ixt],'Circuit vs its Thevenin equivalent','Vx [V]','Ix[mA]',['Circuit #2','Thevenin Equivalent'])"
   ]
  },
  {
   "cell_type": "markdown",
   "metadata": {},
   "source": [
    "You should get quite a good agreement between the two curves. If the curves are very close to each other, perhaps you will need to zoom to see the differences. That demonstrates that the **Thevenin Equivalent** really behaves like the circuit it is equivalent to."
   ]
  },
  {
   "cell_type": "markdown",
   "metadata": {},
   "source": [
    "## The Norton equivalent\n",
    "\n",
    "We know, from the previous section than any **stateless** two node subcircuit is equivalent to just a voltage source followed by a resistor.  Such minimal equivalent is the **Thevenin equivalent**.\n",
    "\n",
    "There is another minimal equivalent that also only requires one source and a resistor.  This is the **Norton equivalent**\n",
    "\n",
    "![Norton](images\\Linear_DC_04\\norton.png)\n",
    "\n",
    "----\n",
    "\n",
    "**CALCULATION TASK**    \n",
    "Obtain the $R_T$ and $V_{OC}$ of the above circuit from the $I_N$ and $R_N$ component values.\n",
    "\n",
    "----\n",
    "\n",
    "You should have found that the **Norton equivalent** parameters can be calculated as:\n",
    "\n",
    "$$R_N = R_T \\qquad I_N = \\frac{V_{OC}}{R_N} = \\frac{V_T}{R_T}$$\n",
    "\n",
    "Also, the previously defined $I_{SC}$ current can be used to obtain $I_N$\n",
    "\n",
    "$$I_N = - I_{SC}$$\n",
    "\n",
    "Unfortunatelly we cannot test the **Norton equivalent** using the **SLab** system because **SLab** does not feature current sources."
   ]
  },
  {
   "cell_type": "markdown",
   "metadata": {},
   "source": [
    "## Time variable sources\n",
    "\n",
    "As explained, all **stateless** two node subcircuits with **constant supplies** can be substituted by a **Thevenin** or **Norton** equivalent with constant parameters. Having **constant supplies**, is not, however, a requirement to have **Thevenin** or **Norton** equivalents. The only real requirement is being **stateless**. Remember that being stateless does not mean independent of time. If any or all subcircuit independent sources change with time, we will still have **Thevenin** and **Norton** equivalents. The difference is that the **Thevenin Voltage** $V_T$ or the **Norton Current** $I_N$ will change with time.\n",
    "\n",
    "What such circuit won't have is an unique $I(V)$ curve. If the sources change with time, the $V_{OC}$ value, and hence the the $I(V)$ curve will also change with time. Note that as the $R_T$ value does not depend on the independent sources, so it does not change with time. All $I(V)$ curves, at any point of time, will be straight lines with the same **slope**.\n",
    "\n",
    "The following code cell draws a family of $I(V)$ curves for a circuit with $1k \\Omega$ $R_T$ and a $V_T$ value that changes between $1V$ and $2V$."
   ]
  },
  {
   "cell_type": "code",
   "execution_count": null,
   "metadata": {},
   "outputs": [],
   "source": [
    "# Import numpy to use the arange function\n",
    "import numpy as np  \n",
    "\n",
    "Vxe = np.arange(-3.0,3.0,0.05)  # Create a vector from -3V to 3V in 50mV increments\n",
    "\n",
    "Out = []  # Start with an empty list of curves\n",
    "\n",
    "Rt = 1   # Define a 1k Rt value\n",
    "VtRange = np.arange(1.0,2.1,0.1) # Create a list of Vt values\n",
    "\n",
    "for Vt in VtRange:      # Loop all cases\n",
    "    Ixe = (Vxe-Vt)/Rt   # Compute the I(V) curve for this case\n",
    "    Out.append(Ixe)     # Add to the list\n",
    "\n",
    "# Plot all cases\n",
    "slab.plot1n(Vxe,Out,'Curves with variable Vt','Vx [V]','Ix [mA]')"
   ]
  },
  {
   "cell_type": "markdown",
   "metadata": {},
   "source": [
    "Note that the above figure only shows 10 curves for 10 possible $V_T$ values between $1V$ and $2V$. In practice, for a continuous varying $V_T$ we will have infinite different curves, all with the same slope.\n",
    "\n",
    "The **stateless** requirement, also, is only a requirement to have a $R_T$ value. It is possible to define **Thevenin** and **Norton** equivalents for circuits than can hold **state** information. Such circuits, however, does not feature a $R_T$ resistance but something more complex. Those kind of circuits are also not **DC** by any means so they are outside the scope of this document. \n",
    "\n",
    "As we have ended our measurements, we can **disconnect** from the board."
   ]
  },
  {
   "cell_type": "code",
   "execution_count": null,
   "metadata": {},
   "outputs": [],
   "source": [
    "# Disconnect from the board\n",
    "slab.disconnect()"
   ]
  },
  {
   "cell_type": "markdown",
   "metadata": {},
   "source": [
    "## Last Words\n",
    "\n",
    "In this document we have described what a **DC Circuit** really is. It is more about not holding **state information** that about having constant voltages or currents. We have seen that any **linear two node subcircuit** can be substituted by a **Thevenin** or **Norton** equivalent.\n",
    "\n",
    "**Thevenin** and **Norton** equivalents are strong ciurcuit solving tools. When we want to solve a circuit variable we can often substitute a bunch of components by just an **independent source** and a **resistor**. Note that, as with the equivalent resistors, we loose all information that was  **inside** the original subcircuit.\n",
    "\n",
    "We have seen that a circuit needs to be **stateless** in order to have a $R_T$ resistor. This restriction does not apply to other linear solving tools like **superposition**. We can use the **superposition** method in circuits that hold state as we will see on the **linear AC** tutorials set."
   ]
  },
  {
   "cell_type": "markdown",
   "metadata": {},
   "source": [
    "## References\n",
    "\n",
    "**SLab Python References**    \n",
    "Those are the reference documents for the SLab Python modules. They describe the commands that can be carried out after importing each module.  \n",
    "They should be available in the [Reference](http://localhost:8888/notebooks/Reference) folder.\n",
    "\n",
    "**TinyCad**  \n",
    "Circuit images on this document have been drawn using the free software TinyCad  \n",
    "https://sourceforge.net/projects/tinycad/"
   ]
  },
  {
   "cell_type": "markdown",
   "metadata": {},
   "source": [
    "## Document license\n",
    "\n",
    "Copyright  ©  Vicente Jiménez (2019)  \n",
    "This work is licensed under a Creative Common Attribution-ShareAlike 4.0 International license.  \n",
    "This license is available at http://creativecommons.org/licenses/by-sa/4.0/\n",
    "\n",
    "<img  src=\"images/cc_sa.png\" width=\"200\">"
   ]
  },
  {
   "cell_type": "code",
   "execution_count": null,
   "metadata": {},
   "outputs": [],
   "source": []
  }
 ],
 "metadata": {
  "kernelspec": {
   "display_name": "Python 3",
   "language": "python",
   "name": "python3"
  },
  "language_info": {
   "codemirror_mode": {
    "name": "ipython",
    "version": 3
   },
   "file_extension": ".py",
   "mimetype": "text/x-python",
   "name": "python",
   "nbconvert_exporter": "python",
   "pygments_lexer": "ipython3",
   "version": "3.7.1"
  }
 },
 "nbformat": 4,
 "nbformat_minor": 2
}
