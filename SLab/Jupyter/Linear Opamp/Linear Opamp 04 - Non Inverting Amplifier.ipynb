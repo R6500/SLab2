{
 "cells": [
  {
   "cell_type": "markdown",
   "metadata": {},
   "source": [
    "<img style=\"float: right;\"  src=\"images/LogoP.jpg\" width=\"200\">\n",
    "\n",
    "# Linear Opamp 04   \n",
    "# Non Inverting Amplifier\n",
    "\n",
    "<BR>\n",
    "\n",
    "This project deals with one of the most common opamp topologies: **the non inverting amplifier**. \n",
    "Using this circuit the basics of linear opamp circuits bandwidth will be explained.\n",
    "\n",
    "Version 1.1 (13/3/2019)  \n",
    "License information is at the end of the document\n",
    "\n",
    "---\n",
    "\n",
    "**Bill Of Materials (BOM):**\n",
    "\n",
    "* 1x Dual Opamp MCP6002\n",
    "* Resistors: 2x $1 k\\Omega$, 2x $10 k\\Omega$, 1x  $22 k\\Omega$ and 2x $100 k\\Omega$\n",
    "* Capacitors: 1x  $100 nF$\n",
    "\n",
    "---"
   ]
  },
  {
   "cell_type": "markdown",
   "metadata": {},
   "source": [
    "## The non inverting topology\n",
    "\n",
    "The following circuit is a non inverting amplifier that generates an output voltage that is greater that the input. In the extreme case of choosing R2 infinite, the circuit defaults to our beloved follower.\n",
    "\n",
    "![fig01](images\\L_OA_04\\fig01.png)\n",
    "\n",
    "We can analyze this circuit using the ideal zero order model. If you assume that it does not saturate, the **virtual short circuit** assumption $V_{(+)} \\approx V_{(-)}$ can be used.\n",
    "\n",
    "In order to measure the circuit we will choose $R1 = 22 k\\Omega$ and $R2 = 10k\\Omega$.\n",
    "\n",
    "---\n",
    "\n",
    "**THEORETICAL TASK**\n",
    "\n",
    "Determine the Vo(Vi) relationship as function of R1 and R2 for the above circuit.  \n",
    "Assume virtual short circuit.\n",
    "Obtain the relationship for the selected resistor values.\n",
    "\n",
    "---\n"
   ]
  },
  {
   "cell_type": "markdown",
   "metadata": {},
   "source": [
    "## Measuring the circuit\n",
    "\n",
    "Now that we have calculated the circuit, let's measure it.\n",
    "\n",
    "---\n",
    "\n",
    "![Practical Icon](images/pt.png)\n",
    "\n",
    "---\n",
    "\n",
    "Mount the proposed circuit.  \n",
    "Remember to add the ADC and DAC connections.  \n",
    "\n",
    "We will first import the **SLab** module and **connect** with the board."
   ]
  },
  {
   "cell_type": "code",
   "execution_count": null,
   "metadata": {},
   "outputs": [],
   "source": [
    "# Import modules\n",
    "import slab\n",
    "import slab.dc as dc"
   ]
  },
  {
   "cell_type": "code",
   "execution_count": null,
   "metadata": {},
   "outputs": [],
   "source": [
    "boardFolder = ''                                # Board folder (leave '' if you use only one board)\n",
    "slab.setFilePrefix('../Files/')                 # Set File Prefix\n",
    "slab.setCalPrefix('Calibrations/'+boardFolder)  # Set Calibration Prefix         \n",
    "slab.connect()                                  # Connect to the board"
   ]
  },
  {
   "cell_type": "markdown",
   "metadata": {},
   "source": [
    "It is always a good idea to check the board calibration.   \n",
    "The following code cell checks the calibration of the **DACs** and the first four **ADCs**"
   ]
  },
  {
   "cell_type": "code",
   "execution_count": null,
   "metadata": {},
   "outputs": [],
   "source": [
    "# Check the calibration\n",
    "slab.checkCalibration(pause=False,na=4)"
   ]
  },
  {
   "cell_type": "markdown",
   "metadata": {},
   "source": [
    "Now we will obtain a a Vo(Vi) curve between 0V an 3.2V in 0.1V steps using the **curveVV** function of the **slab.dc** module.\n",
    "\n",
    "Observe that we use the option **_adc2=True_**. That makes SLab use the input voltage measurements from ADC2 instead of reliying on the DAC programmed values. This is important when measuring too close to Ground or Vdd."
   ]
  },
  {
   "cell_type": "code",
   "execution_count": null,
   "metadata": {},
   "outputs": [],
   "source": [
    "# Amplifier DC curve\n",
    "dc.curveVV(0,3.2,0.1,adc2=True)"
   ]
  },
  {
   "cell_type": "markdown",
   "metadata": {},
   "source": [
    "We can ease the gain calculation. From the figure we know that we are out of the saturation region for voltages below 1V. We can obtain the Vo value for two known Vi values to calculate the gain. To get better measurements we won't rely on the programmed DAC values and we will measure both Vi and Vo using the ADCs."
   ]
  },
  {
   "cell_type": "code",
   "execution_count": null,
   "metadata": {},
   "outputs": [],
   "source": [
    "# Measure output at 0.7V input\n",
    "slab.setVoltage(1,0.7)\n",
    "voa = slab.readVoltage(1)\n",
    "via = slab.readVoltage(2)\n",
    "\n",
    "# Measure output at 0.3V input\n",
    "slab.setVoltage(1,0.3)\n",
    "vob = slab.readVoltage(1)\n",
    "vib = slab.readVoltage(2)\n",
    "\n",
    "# Calculate the gain\n",
    "Gain = (voa - vob) / (via - vib)\n",
    "print ('Gain =',Gain)"
   ]
  },
  {
   "cell_type": "markdown",
   "metadata": {},
   "source": [
    "Execute the previous cell to measure the DC gain of the circuit.  \n",
    "Do you obtain the expected value?  "
   ]
  },
  {
   "cell_type": "markdown",
   "metadata": {},
   "source": [
    "Before continuing it is good to examine the lower region of the curve.\n",
    "\n",
    "Execute the following code to show the circuit response for voltages lower than 0.2V"
   ]
  },
  {
   "cell_type": "code",
   "execution_count": null,
   "metadata": {},
   "outputs": [],
   "source": [
    "# Curve close to zero\n",
    "dc.curveVV(0,0.2,0.01,adc2=True)"
   ]
  },
  {
   "cell_type": "markdown",
   "metadata": {},
   "source": [
    "Unless you have a very good driver circuit, the line probably does not pass through the (0,0) point.\n",
    "\n",
    "The DACs and the Operational amplifiers don't work too well **very close to ground**."
   ]
  },
  {
   "cell_type": "markdown",
   "metadata": {},
   "source": [
    "We can also test the circuit against a time varying signal. The SLab system can generate different waveforms. We will first select a sine waveform. Our amplifier features a gain below 4, so a signal less than 800 mV in the high peak is adequate. We will select a high peak of 800 mV and a low peak of 400 mV.\n",
    "\n",
    "Waveforms are generated sending a set of samples. In our case we want a pretty detailed sine so we will use 100 samples for one cycle. \n",
    "\n",
    ">`slab.waveSine(0.4,0.8,100)`\n",
    "\n",
    "The **SLab** system will respond with something like:\n",
    "\n",
    ">`100 point wave loaded`  \n",
    ">`Wave frequency must be between 0.000100 and 400.00 Hz`  \n",
    ">`Current frequency is 10.0 Hz`\n",
    "\n",
    "The maximum sample rate for the hardware board depend on its firmware. For instance, if the maximum sample rate at which the DAC can generate samples is 40 kHz, then, if you use 100 samples for one waveform, the maximum frequency of this waveform is 400 Hz.\n",
    "\n",
    "When the system starts the default sample rate is 1 kHz so, if you send the 100 samples at a sample frequency of 1 kHz, you get a 10 Hz sinewave.\n",
    "\n",
    "We don't want a 10 Hz frequency so we will change it to 100 Hz:\n",
    "\n",
    ">`slab.setWaveFrequency(100)`\n",
    "\n",
    "The last step before performing the measurement is selecting how much data we want to obtain. As 100 samples get one wave, we will select 500 samples to get 5 full waves. We also want to obtain data from 2 ADCs (ADC 1 and ADC 2).\n",
    "\n",
    ">`slab.tranStore(500,2)`\n",
    "\n",
    "Now we can finally obtain the wave response. The wavePlot command generates the wave during the time indicated in the previous setTransientStorage command. You can see the command details in the SLab Python reference document.\n",
    "\n",
    ">`slab.wavePlot()`\n",
    "\n",
    "The following code executes the above commands."
   ]
  },
  {
   "cell_type": "code",
   "execution_count": null,
   "metadata": {},
   "outputs": [],
   "source": [
    "# Sine wave response\n",
    "slab.waveSine(0.4,0.8,100)\n",
    "slab.setWaveFrequency(100)\n",
    "slab.tranStore(500,2)\n",
    "slab.wavePlot()"
   ]
  },
  {
   "cell_type": "markdown",
   "metadata": {},
   "source": [
    "That should give you a nice presentation of the input signal Vi (ADC 2) and the output signal VO (ADC 1). Both signals should be in phase as you are well below the band pass limit of the circuit.\n",
    "\n",
    "You can measure both signals amplitudes to compute the gain, but there is an easier way by using the analize command.\n",
    "We can instruct the SLab module to return the data of the wavePlot by setting its optional parameter returnData to True. This way, you will get a list returned after the plot.\n",
    "\n",
    ">`data = slab.wavePlot(returnData=True)`\n",
    "\n",
    "The list will contain in the 0 position a vector with the independent X axis data. From positions 1 onwards you will get all Y axis curves. In our case the wavePlot command draws two curves so we will get a list of three elements: DAC 1, ADC 1 and ADC 2. \n",
    "\n",
    "Now we can analyze the data contents using the analyze command. This command is part of the meas module, so we will need to import it.\n",
    "This command will give a lot of information, including peak to peak values of information contained in the data list.\n",
    "\n",
    ">`import slab.meas as meas`  \n",
    ">`meas.analyze(data)`\n",
    "\n",
    "From the **peak to peak** information of each signal it is easy to compute the gain.\n",
    "\n",
    "Note that, as the amplifier also amplifies the DC voltage, you can also obtain the gain from the **mean value** of the signals."
   ]
  },
  {
   "cell_type": "code",
   "execution_count": null,
   "metadata": {},
   "outputs": [],
   "source": [
    "# Import the measurement module\n",
    "import slab.meas as meas\n",
    "\n",
    "# Wave measurement returning measurement data\n",
    "data = slab.wavePlot(returnData=True)\n",
    "\n",
    "# Measurement analysis\n",
    "meas.analyze(data)"
   ]
  },
  {
   "cell_type": "markdown",
   "metadata": {},
   "source": [
    "After perfoming the proposed measurement you obtain the gain from the peak to peak values.   \n",
    "Do you obtain the same result as in the DC case?   "
   ]
  },
  {
   "cell_type": "markdown",
   "metadata": {},
   "source": [
    "It could be interesting to measure the bandwidth of this circuit. Unfortunately it is too high to be directly measured for the current SLab system."
   ]
  },
  {
   "cell_type": "markdown",
   "metadata": {},
   "source": [
    "## Amplifier Bandwidth\n",
    "\n",
    "<div class=\"alert alert-block alert-warning\"><font color=black>\n",
    "We now will use circuit analysis in the \"s\" domain. It is recommended to have knowledge on this subject to continue. \n",
    "</font></div>\n",
    "\n",
    "The model of the amplifier, based on **virtual shortcircuit**, predicts an amplification that is independent on the frequency of the input signal. It is not reasonable to expect the amplifier to work the same with any signal at any frequency.\n",
    "To go beyond the virtual shortcircuit model we need to use a better opamp model We will use the first order model for the opamp with a DC gain $A_O$ and a dominant pole $p1$.\n",
    "\n",
    "$$V_O = A(s)\\left(V_{(+)}-V_{(-)}\\right) \\qquad A(s) = \\frac{A_O}{1+\\frac{s}{p1}}$$\n",
    "\n",
    "We also have the topology of the circuit, so we can start doing serious work.\n",
    "\n",
    "---\n",
    "\n",
    "**THEORETICAL TASK**\n",
    "Obtain the frequency response H1(s) = Vo/Vi for the previous circuit.  \n",
    "Use the first order opamp parameters p1 and Ao and the resistor values R1, R2 as unknowns.  \n",
    "As usual, you can assume Ao much greater than 1.   \n",
    "\n",
    "---\n",
    "\n",
    "There should be only one pole and it should be in the negative region of the \"s\" plane.\n",
    "\n",
    "As we will implement the circuit using the MCP6002 opamp, we can perform some calculations specific to this device. Remember the data for this opamp:\n",
    "\n",
    "$$A_O = 112 dB \\qquad GBW = 1MHz$$\n",
    "\n",
    "For now we will also select the resistor values in our current circuit:\n",
    "\n",
    "$\\qquad R1 = 2.2 k\\Omega$ &nbsp; and &nbsp; $R2 = 1 k\\Omega$\n",
    "\n",
    "---\n",
    "\n",
    "**THEORETICAL TASK**\n",
    "Give values to the DC  gain and total bandwidth of the circuit for considered case of R1 and R2    \n",
    "Check that the DC gain is 3,2 and the bandwidth is about 312 kHz    \n",
    "\n",
    "---\n",
    "    \n",
    "Of course, the $H_1(0)$ value has been previously calculated in a much easier way by applying virtual short circuit on the (+) and (-) inputs of the opamp. From that, if the GBW product is conserved, then we can just apply:\n",
    "\n",
    "$$BW = \\frac{GBW}{H(0)}$$\n",
    "\n",
    "The fast to calculate virtual short circuit method gives the same results but they are not guaranteed. We needed to perform the real calculations so we can be sure that:\n",
    "\n",
    "1. The final closed loop system pole is in the negative \"s\" plane.\n",
    "\n",
    "2. The GBW product really is conserved.\n",
    "\n",
    "The virtual shortcircuit method can give the good result but it can also give a wrong result, try to change **V(+)** for **V(-)** if you are not convinced. As you see the problem is that this method does not give any way to check if we are getting the good result.\n",
    "\n",
    "It could be interesting to measure the circuit to obtain the bandwidth. Unfortunately, the SLab system is quite limited in its frequency measurements. We need to increase the gain so that the bandwidth is low enough to be measured."
   ]
  },
  {
   "cell_type": "markdown",
   "metadata": {},
   "source": [
    "## Increasing the gain\n",
    "\n",
    "Let’s move on to bigger gains. \n",
    "Change **R2** to $1 k\\Omega$ and **R1** to a $100 k\\Omega$ resistor. \n",
    "\n",
    "As the gain is very high, a very small input voltage can saturate the amplifier. In fact, it takes less than 50mV input voltage to saturate output.\n",
    "\n",
    "The following code obtains the Vo(Vi) curve for input voltages lower than 0.1V"
   ]
  },
  {
   "cell_type": "code",
   "execution_count": null,
   "metadata": {},
   "outputs": [],
   "source": [
    "# Low voltage DC response\n",
    "dc.curveVV(0,0.1,0.005,adc2=True)"
   ]
  },
  {
   "cell_type": "markdown",
   "metadata": {},
   "source": [
    "Depending of the buffer circuits in the hardware board, the obtained curve can be from quite good to very bad.\n",
    "\n",
    "Althoug the **buffers** we use in the SLab system are full rail, they don't operate too well too close to ground as we should have seen in previous experiments. One solution to provide proper measurements is using a virtual ground.\n",
    "\n",
    "![fig02](images\\L_OA_04\\fig02.png)\n",
    "\n",
    "In the shown circuit we have added the DAC 2 voltage to the terminal of R2 where was ground before. Now, the **virtual ground** voltage of the circuit is the voltage set on DAC 2. If we set this DAC 2 to 1V, 1V will be our new ground, so all voltages shall be now refered to the new ground:\n",
    "\n",
    "$$\\qquad V'_x = V_x - 1V$$\n",
    "\n",
    "Instead of substracting 1V to the measurements we will subtracte the measurement on ADC 3 to all input (ADC 2) and output (ADC1) measurements.\n",
    "\n",
    "As the gain will be higher, in order to obtain the DC Vo(Vi) curve we need to use a DC sweep step low enough to have more than two points in the linear region. We will use a 5mV step. Check that it is adequate. It makes no sense to sweep all the input range from 0 V to 3.3 V as at such high gains the output will be saturated for most of the range.\n",
    "\n",
    "---\n",
    "\n",
    "**BUILD TASK**\n",
    "Mount the proposed circuit.   \n",
    "Don't forget to add the ADC 3 connection.    \n",
    "\n",
    "---\n",
    "\n",
    "We can obtain the curve for a 100 mV arround the set DAC 2 value. As the voltage range is small, we will increase the number of readings SLab average at each point to reduce the measurement noise."
   ]
  },
  {
   "cell_type": "code",
   "execution_count": null,
   "metadata": {},
   "outputs": [],
   "source": [
    "# Set the virtual ground voltage at DAC 2 to 1V\n",
    "slab.setVoltage(2,1)\n",
    "\n",
    "# Do 200 readings at each point\n",
    "old = slab.setDCreadings(200)\n",
    "\n",
    "# Perform a DC sweep\n",
    "dac,adc1,adc2,adc3,*rest = slab.dcSweep(1,0.95,1.05,0.005)\n",
    "Vi = adc2 - adc3\n",
    "Vo = adc1 - adc3\n",
    "slab.plot11(Vi,Vo,'DC Plot','Vi (V)','Vo (V)')"
   ]
  },
  {
   "cell_type": "markdown",
   "metadata": {},
   "source": [
    "Perhaps the curve is not perfect but it should pass quite close to the (0,0) point.\n",
    "\n",
    "We can use two non saturated points to obtain the gain."
   ]
  },
  {
   "cell_type": "code",
   "execution_count": null,
   "metadata": {},
   "outputs": [],
   "source": [
    "# Virtual ground voltage\n",
    "slab.setVoltage(2,1)\n",
    "\n",
    "# Measurement at virtual ground\n",
    "slab.setVoltage(1,1)\n",
    "voa = slab.readVoltage(1)\n",
    "via = slab.readVoltage(2)\n",
    "\n",
    "# Measurement above virtual ground\n",
    "slab.setVoltage(1,1.01)\n",
    "vob = slab.readVoltage(1)\n",
    "vib = slab.readVoltage(2)\n",
    "\n",
    "# Gain calculation\n",
    "Gain = (voa - vob) / (via - vib)\n",
    "print ('Gain =',Gain)"
   ]
  },
  {
   "cell_type": "markdown",
   "metadata": {},
   "source": [
    "You should obtain a gain quite close to the theoretical value. Check it.\n",
    "\n",
    "If it is not correct, check that the two measurement points are in the non saturated region of the curve.\n",
    "\n",
    "Remember that the resistances have tolerance, so, the obtained gain should be inside the tolerance region:\n",
    "\n",
    "$$Gain = 1 + \\frac{R1 (1 \\pm tol)}{R2 (1 \\pm tol)}$$\n",
    "\n",
    "The following code calculates the gain limits due to the tolerance values:"
   ]
  },
  {
   "cell_type": "code",
   "execution_count": null,
   "metadata": {},
   "outputs": [],
   "source": [
    "# Values\n",
    "R1 = 100000 # Ohm\n",
    "R2 =   1000 # Ohm\n",
    "tol = 0.05\n",
    "\n",
    "Gain_max = 1 + (R1*(1+tol))/(R2*(1-tol))\n",
    "Gain_min = 1 + (R1*(1-tol))/(R2*(1+tol))\n",
    "\n",
    "print('Maximum gain:',Gain_max)\n",
    "print('Minimum gain:',Gain_min)"
   ]
  },
  {
   "cell_type": "markdown",
   "metadata": {},
   "source": [
    "Any value inside the above range can be attributed a resistor tolerance errors. Note that the above cases are worst case limits with very low probability of occurrence.\n",
    "\n",
    "If you get a value very close to the theoretical value, this is probably because the resistors are not near their tolerance limits."
   ]
  },
  {
   "cell_type": "markdown",
   "metadata": {},
   "source": [
    "## Check against a sine wave\n",
    "\n",
    "Now we want to check our high gain amplifier against a sine wave. The problem is that we need to provide a very low amplitude wave so that the amplifier does not saturate. To obtain a 2V output range with a 100 gain amplifier we need a 20mV input range. This is too close to the quantization steps of the DACs.\n",
    "\n",
    "A way to imporve the signal quality is to use an attenuator previous to the amplifier as shown in the next image.\n",
    "\n",
    "![fig03](images\\L_OA_04\\fig03.png)"
   ]
  },
  {
   "cell_type": "markdown",
   "metadata": {},
   "source": [
    "The attenuator will reduce the input voltage. For voltages respect to the **real ground** we get:\n",
    "\n",
    "$$V_i = V_{DAC 2} + (V_{DAC 1} - V_{DAC 2})\\frac{R4}{R3+R4}$$\n",
    "\n",
    "For voltages respect to the **virtual ground** set by DAC 2, the expression is much simpler:\n",
    "\n",
    "$$V_i = V_{DAC 1} \\frac{R4}{R3+R4}$$\n",
    "\n",
    "If we add the amplifier gain we get:\n",
    "\n",
    "$$V_o = V_{DAC 1} \\frac{R4}{R3+R4} Gain$$\n",
    "\n",
    "So the amplifier gain can be calculated:\n",
    "\n",
    "$$Gain = \\frac{V_o}{V_{DAC 1}} \\frac{R3+R4}{R4}$$\n",
    "\n",
    "In our case we will select $R3 = 100k\\Omega$ and $R4 = 1k\\Omega$\n",
    "\n",
    "---\n",
    "\n",
    "**BUILD TASK**  \n",
    "Mount the proposed circuit that includes the attenuator.    \n",
    "\n",
    "---\n",
    "\n",
    "Now we can calculate the attenuation factor due to R3 and R4:\n",
    "\n",
    "$$factor = \\frac{R3+R4}{R4}$$\n",
    "\n",
    "And measure the response of the circuit:"
   ]
  },
  {
   "cell_type": "code",
   "execution_count": null,
   "metadata": {},
   "outputs": [],
   "source": [
    "# Gain factor\n",
    "R3 = 100000 # Ohm\n",
    "R4 = 1000   # Ohm\n",
    "factor = (R3+R4)/R4\n",
    "print('Attenuation factor:',factor)\n",
    "print()\n",
    "\n",
    "# Sine wave generation\n",
    "slab.waveSine(1,2,100)\n",
    "slab.setWaveFrequency(100)\n",
    "slab.tranStore(500,2)\n",
    "slab.wavePlot()"
   ]
  },
  {
   "cell_type": "markdown",
   "metadata": {},
   "source": [
    "In the figure, input voltage on ADC2, should be almost equal to output voltage on ADC1, but, in this case, that means that we have an amplifier gain that is equal to the attenuation factor.\n",
    "\n",
    "As we are using the same resistor values both on the attenuator and the amplifier, they compensate to each other."
   ]
  },
  {
   "cell_type": "markdown",
   "metadata": {},
   "source": [
    "## Bode Plot\n",
    "\n",
    "You can compute the expected bandwidth of the using the previous calculations.\n",
    "\n",
    "$$BW = \\frac{GBW}{H(0)}$$\n",
    "\n",
    "Now we want to generate a Bode plot that shows the frequency response of the circuit. As we have included an attenuator, the plot will also include the response of the attenuator. This attenuator is a resistive network so it has no poles or zeros. We should expect to obtain a DC gain of 1 (0 dB) with the attenuator included. \n",
    "\n",
    "We can obtain the Bode plot using the bodeResponse command. This command is part of the **slab.ac** module, so we will need to import it.  \n",
    "We need to provide as parameters:\n",
    "\n",
    "* Low peak of the input signal (1 V)\n",
    "* High peak of the input signal (2V)\n",
    "* Minimum frequency (10 Hz)\n",
    "* Maximum frequency (8 kHz)\n",
    "\n",
    "We also set to true the **returnData** parameter to obtain, in the **data** variable the measurement results."
   ]
  },
  {
   "cell_type": "code",
   "execution_count": null,
   "metadata": {},
   "outputs": [],
   "source": [
    "# Import the SLab AC module\n",
    "import slab.ac as ac\n",
    "\n",
    "# Draw a bode plot\n",
    "data = ac.bodeResponse(1,2,10,15000,returnData=True)"
   ]
  },
  {
   "cell_type": "markdown",
   "metadata": {},
   "source": [
    "The above graphs show the bode plot from the input, set on **DAC1** to the output, read on **ADC1**. That includes both the amplifier and the attenuator.\n",
    "\n",
    "What we want is the bode plot of the amplifier only, so we need to take out the effect of the attenuator.\n",
    "\n",
    "Execute the following **code** to show the bode curves of the amplifier:"
   ]
  },
  {
   "cell_type": "code",
   "execution_count": null,
   "metadata": {},
   "outputs": [],
   "source": [
    "# Take the frequency vector\n",
    "f = data[0]       # Frequency vector\n",
    "\n",
    "# Take the response vector and compensate for the attenuation\n",
    "g = 101*data[1]   # Compensate attenuation\n",
    "\n",
    "# Draw the bode plot\n",
    "ac.plotBode(f,g)  # Draw the bode plot"
   ]
  },
  {
   "cell_type": "markdown",
   "metadata": {},
   "source": [
    "A gain of $40dB$ corresponds to a linear gain of 100. You should be able to obtain the pole position from the above graph.\n",
    "\n",
    "Check the Bode plot and calculate both the gain and the bandwidth.    \n",
    "Has the bandwidth the expected value.   \n",
    "Is the GBW product conserved?   "
   ]
  },
  {
   "cell_type": "markdown",
   "metadata": {},
   "source": [
    "## DC Pass-through\n",
    "\n",
    "Now that we have analyzed the basic non inverter amplifier, let's see one of its useful variations:\n",
    "\n",
    "![fig03](images\\L_OA_04\\fig04.png)\n",
    "\n",
    "In this circuit we have a capacitor $C_2$ in series with resistor $R_2$. \n",
    "\n",
    "What does $C_2$ in our circuit? In short, it adds a pole and a zero. As the original amplifier featured one pole due to the GBW product, we end up with one zero and two poles. As the two poles are not related, all values are real. Nothing imaginary here.\n",
    "\n",
    "**Three ways to skin a cat**\n",
    "\n",
    "There are several ways to calculate the $H2(s)$ transfer function of this circuit.\n",
    "\n",
    "**(1) First option is the brute force attack.** Substitute the first order opamp model on the circuit and solve all the equations until you find the final solution: \n",
    "\n",
    "$$H_2(s)=\\frac{V_o}{V_i}$$\n",
    "\n",
    "This is a long way but it can be done.\n",
    "\n",
    "**(2) Second option is the feedback theory method.** Separate the system in two transfer functions:\n",
    "\n",
    "$$a(s) = \\frac{Vo}{Vd}(s) \\qquad f(s) = \\frac{V_{(-)}}{V_o}(s)$$\n",
    "\n",
    "Where $a(s)$ is the first order opamp gain that depends on **Ao** and **p1**, and $f(s)$ is the feedback function that depends on $R_1$, $R_2$ and $C_1$ that relates the output voltage $Vo$ with the $V_{(-)}$ input. Once we know $a(s)$ and $f(s)$, then we can do some calculations:\n",
    "\n",
    "$$V_o = a(s)V_d = a(s) \\left(V_{(+)}-V_{(-)}\\right)\n",
    "= a(s)\\left(V_i-f(s)V_o \\right)$$\n",
    "\n",
    "That gives:\n",
    "\n",
    "$$H_2(s) = \\frac{V_o}{V_i}=\\frac{a(s)}{1+a(s)\\cdot f(s)}$$\n",
    "\n",
    "Substitute the known values of $a(s)$ and $f(s)$, operate and you are done.\n",
    "\n",
    "**(3) Third option is the divide and conquer lazy method.**\n",
    "\n",
    "We start using the virtual short circuit method that provides the low frequency response of the circuit $H_{LF}(s)$. As this model doesn’t include the opamp pole, it cannot predict the bandwidth of the circuit. That’s fine for now.\n",
    "\n",
    "From virtual short circuit, use the following equations to obtain $H_{LF}(s)$ :\n",
    "\n",
    "$$V_{(+)} = V_{(-)} \\qquad i = \\frac{V_o-V_i}{R_1}\n",
    "\\qquad V_o = i \\left(R_1 + R_2 + \\frac{1}{C_2\\cdot s} \\right)\n",
    "\\qquad H_{LF}(s) = \\frac{V_o}{V_i}$$\n",
    "\n",
    "The $H_{LF}(s)$ features a zero and a pole. \n",
    "As explained, due to the use of virtual short circuit, the operational pole **p1** is not considered. The expected behavior of $H_{LF}(s)$, as the zero is smaller than the pole, should be like that:\n",
    "\n",
    "![Zero and Pole](images\\L_OA_04\\zero_pole.png)\n",
    "\n",
    "Where **AM** is the medium frequency gain that should be the same as the $H_1(0)$ value we calculated previously. This makes sense: $C_2$ is the component that produces $Z_L$ and $P_L$. At frequencies much higher than $P_L$, $C_2$ behaves like a short circuit, so the operation of the circuit is the same than the one of the original non inverting amplifier.\n",
    "\n",
    "We now calculate the high frequency behavior of the circuit. We know that we are limited by the opamp GBW, that way, the high frequency pole shall be:\n",
    "\n",
    "$$P_H = \\frac{GBW}{A_M}$$\n",
    "\n",
    "If $P_L$ is much lower than the calculated $P$H$, then we know that the GBW doesn’t affect the low frequency behavior of the circuit and we can just add the new pole to the system:\n",
    "\n",
    "![Full Response](images\\L_OA_04\\full_response.png)\n"
   ]
  },
  {
   "cell_type": "markdown",
   "metadata": {},
   "source": [
    "---\n",
    "\n",
    "**THEORETICAL TASK**  \n",
    "Solve the circuit using, at least one of the three proposed methods.   \n",
    "Obtain the zero value ZL and the two pole values PL and PH.   \n",
    "Obtain also the DC gain H2(0)     \n",
    "\n",
    "If you want to learn more, feel free to use all three and compare the results. \n",
    "\n",
    "---"
   ]
  },
  {
   "cell_type": "markdown",
   "metadata": {},
   "source": [
    "The behavior of the system is as follows:\n",
    "\n",
    "* At low frequencies, much below $Z_L$, capacitor behaves as an open circuit, so the circuit behaves like a follower.\n",
    "\n",
    "* At medium, much higher than $P_L$ and much lower than $P_H$, the capacitor behaves as a short circuit so the circuit behaves as a normal inverter in DC operation.\n",
    "\n",
    "* At high frequencies the GBW product kicks in as in the original amplifier.\n",
    "\n",
    "We will select the low gain resistor values $R1 = 22 k\\Omega$ and $R2 = 10k\\Omega$. For $C_2$ we will choose a $100nF$ value. \n",
    "\n",
    "---\n",
    "\n",
    "**THEORETICAL TASK**  \n",
    "Obtain H2(0) and the zero and poles frequencies for the selected components.   \n",
    "\n",
    "---"
   ]
  },
  {
   "cell_type": "markdown",
   "metadata": {},
   "source": [
    "Now it is time to test the circuit.\n",
    "\n",
    "---\n",
    "\n",
    "**BUILD TASK**  \n",
    "Mount the proposed circuit.   \n",
    "\n",
    "---"
   ]
  },
  {
   "cell_type": "markdown",
   "metadata": {},
   "source": [
    "# Import the SLab AC module\n",
    "\n",
    "Remember the command to get the bode plot. This time we don't aspire to reach the second pole as its frequency is too high for the SLab system, so we will limit ourselves to a frequency of 5 kHz. We will set the peak to peak amplitude to $0.2V$. As the circuit blocks the DC component, we can set the DC value of the input signal wherever we want."
   ]
  },
  {
   "cell_type": "code",
   "execution_count": null,
   "metadata": {},
   "outputs": [],
   "source": [
    "# Obtain the bode response\n",
    "ac.bodeResponse(1.4,1.6,5,5000)"
   ]
  },
  {
   "cell_type": "markdown",
   "metadata": {},
   "source": [
    "We can check that the gain is one (0 dB) at DC by obtaining a $V_o(V_i)$ curve."
   ]
  },
  {
   "cell_type": "code",
   "execution_count": null,
   "metadata": {},
   "outputs": [],
   "source": [
    "# DC response\n",
    "dc.curveVV(0,3.2,0.1)"
   ]
  },
  {
   "cell_type": "markdown",
   "metadata": {},
   "source": [
    "As the capacitor behaves as an open circuit at DC, the circuit becomes a follower."
   ]
  },
  {
   "cell_type": "markdown",
   "metadata": {},
   "source": [
    "You can do the same by using a sine wave if it is below the first zero. Gain should be one. We use a peak to peak amplitude of $1V$ in this case."
   ]
  },
  {
   "cell_type": "code",
   "execution_count": null,
   "metadata": {},
   "outputs": [],
   "source": [
    "# Response to a 5Hz sine wave\n",
    "slab.waveSine(1,2,100)\n",
    "slab.setWaveFrequency(5)\n",
    "slab.tranStore(500,2)\n",
    "slab.wavePlot()"
   ]
  },
  {
   "cell_type": "markdown",
   "metadata": {},
   "source": [
    "Over the first pole you get the gain defined by the resistor ratio. We use a peak to peak amplitude of $0.2 V$ to prevent the amplifier saturation. We also reduce the number of samples per wave because the maximum sample rate of the SLab system could not allow us to have 100 samples per wave for a wave frequency of 1 kHz."
   ]
  },
  {
   "cell_type": "code",
   "execution_count": null,
   "metadata": {},
   "outputs": [],
   "source": [
    "# Response to a 1000Hz sine wave\n",
    "slab.waveSine(1.4,1.6,20)\n",
    "slab.setWaveFrequency(1000)\n",
    "slab.tranStore(100,2)\n",
    "slab.wavePlot()"
   ]
  },
  {
   "cell_type": "markdown",
   "metadata": {},
   "source": [
    "Observe, also, that in this circuit, the DC is conserved, so the input and output signals have the same average value. Last measurement featured a $1.5 V$ DC value, now we test with a $2.5 V$ DC value."
   ]
  },
  {
   "cell_type": "code",
   "execution_count": null,
   "metadata": {},
   "outputs": [],
   "source": [
    "# Response to a 1000Hz sine wave with 2.5V offset\n",
    "slab.waveSine(2.4,2.6,20)\n",
    "slab.wavePlot()"
   ]
  },
  {
   "cell_type": "markdown",
   "metadata": {},
   "source": [
    "## Last comments\n",
    "\n",
    "In this project we have seen different circuits based on the non inverting circuit topology.\n",
    "We also have seen the conservation of the GBW product. \n",
    "Keep note of that result because it will be an important point in the opamp inverting circuit."
   ]
  },
  {
   "cell_type": "markdown",
   "metadata": {},
   "source": [
    "## References\n",
    "\n",
    "[SLab Python References](../Reference)  \n",
    "Those are the reference documents for the SLab Python modules. They describe the commands that can be carried out after importing each module. \n",
    "They should be available in the SLab/Doc folder.\n",
    "\n",
    "[TinyCad](https://sourceforge.net/projects/tinycad/)  \n",
    "Circuit images on this document have been drawn using the free software TinyCad  \n",
    "\n",
    "[SciPy](https://www.scipy.org/)  \n",
    "All the functions plots have been generated using the Matplotlib SciPy package.  "
   ]
  },
  {
   "cell_type": "markdown",
   "metadata": {},
   "source": [
    "## Document license\n",
    "\n",
    "Copyright  ©  Vicente Jiménez (2018-2019)  \n",
    "This work is licensed under a Creative Common Attribution-ShareAlike 4.0 International license.  \n",
    "This license is available at http://creativecommons.org/licenses/by-sa/4.0/\n",
    "\n",
    "<img  src=\"images/cc_sa.png\" width=\"200\">"
   ]
  },
  {
   "cell_type": "code",
   "execution_count": null,
   "metadata": {},
   "outputs": [],
   "source": []
  }
 ],
 "metadata": {
  "kernelspec": {
   "display_name": "Python 3",
   "language": "python",
   "name": "python3"
  },
  "language_info": {
   "codemirror_mode": {
    "name": "ipython",
    "version": 3
   },
   "file_extension": ".py",
   "mimetype": "text/x-python",
   "name": "python",
   "nbconvert_exporter": "python",
   "pygments_lexer": "ipython3",
   "version": "3.7.1"
  }
 },
 "nbformat": 4,
 "nbformat_minor": 2
}
