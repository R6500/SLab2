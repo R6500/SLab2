{
 "cells": [
  {
   "cell_type": "markdown",
   "metadata": {},
   "source": [
    "<img style=\"float: right;\"  src=\"images/LogoP.jpg\" width=\"200\">\n",
    "\n",
    "# Diode 01 : The diode dc curve\n",
    "\n",
    "This project describes the DC curve of a semiconductor diode.\n",
    "\n",
    "Version 1.1 (13/3/2019)  \n",
    "License information is at the end of the document\n",
    "\n",
    "---\n",
    "**Bill Of Materials (BOM):**\n",
    "\n",
    "* Resistors: $100\\Omega$ and $1k\\Omega$\n",
    "* Silicon diodes: **1N4148** and **BAT42**\n",
    "* LED diodes (any model): Infrared, Red, Green and Blue\n",
    "\n",
    "---"
   ]
  },
  {
   "cell_type": "markdown",
   "metadata": {},
   "source": [
    "## Ideal Diode\n",
    "\n",
    "A diode is a two terminal component that ideally, can only let current pass in one direction. The diode symbol, with a triangle sign in the direction of allowed current and a vertical line in the direction of the blocked current reflects this behavior.\n",
    "\n",
    "![fig 01](images\\D_01\\fig01.png)\n",
    "\n",
    "The positive terminal of the diode is called **anode (A)** and the negative terminal of the diode is called **cathode (K)**. Allowed current in the diode goes from anode (+) to cathode (-). The diode current uses the passive notation where current enters the positive terminal and exits the negative terminal. \n",
    "\n",
    "The following figure shows the ideal characteristic of the diode.\n",
    "\n",
    "![fig 02](images\\D_01\\fig02.png)\n",
    "\n",
    "As you can see there are two possible states for the diode. In **ON** or conducting state, the voltage on the diode voltage is zero and requires the current to be positive. In the **OFF** or non conducting state, the diode current is zero and requires the voltage to be negative.\n",
    "\n",
    "$\\qquad ON \\; State : V_d = 0 \\qquad Require \\; I_d \\geq 0$\n",
    "\n",
    "$\\qquad OFF \\; State : I_d = 0 \\qquad Require \\; V_d \\leq 0$\n",
    "\n",
    "Observe that an ideal diode never dissipates any power as always the current or the voltage is zero.\n",
    "\n",
    "$\\qquad ON \\; State : P = V_d I_d = 0V \\cdot I_d = 0W$\n",
    "\n",
    "$\\qquad OFF \\; State : P = V_d I_d = V_d \\cdot 0A = 0W$\n",
    "\n",
    "An ideal diode also has an **immediate response** so it changes from one state to the other in zero time.\n",
    "\n",
    "There are no ideal diodes in the real world. In real diodes the voltage is not zero at positive currents, the current is not zero at negative voltages and the state change is not immediate. The closer the diode is to the ideal response, the better it usually is."
   ]
  },
  {
   "cell_type": "markdown",
   "metadata": {},
   "source": [
    "## Real Diodes\n",
    "\n",
    "In the SLab projects we will deal with semiconductor junction diodes. This document doesn't pretend to be a semiconductor physics reference, but it is convenient to understand at least a basic explanation of the diode operation.\n",
    "Before dealing with semiconductors we will first talk about thermoionic vacuum diodes because they are easier to understand.\n",
    "\n",
    "![fig 03](images\\D_01\\fig03.png)\n",
    "\n",
    "A vacuum diode has two metal surfaces **Anode (A)** and **Cathode (K)** separated some distance inside a glass tube where the air has been removed. The diode is not symmetrical because one surface, the anode is cold whereas the other, the cathode, is heated up to high temperature.\n",
    "\n",
    "The temperature gives energy to the electrons in the cathode so they break loose of the metal and hover near its surface.\n",
    "\n",
    "We forward bias the diode if we apply a positive voltage difference between the anode and the cathode so that there is an electrical field from the anode (most positive) to the cathode (least positive).\n",
    "Electrons, as are **negative**, tend to move contrary to the electric field. As there are a lot of electrons hovering the cathode, they move up to the anode creating a current flow through the diode. By having removed the air inside the tube we prevent the moving electrons to collide with air particles. This device is called **unipolar** because there is only one kind of [charge carrier](https://en.wikipedia.org/wiki/Charge_carrier): the electrons.\n",
    "\n",
    "We reverse bias the diode if we apply a negative voltage difference between the anode and the cathode so that there is an electrical field from the cathode (most positive) to the anode (least positive).\n",
    "In this case, as the anode is cold, there are no electrons hovering this terminal and no current can flow.\n",
    "\n",
    "Due to the asymmetry of the heating of anode and cathode we obtain a device that only can conduct in one direction: from anode to cathode, and not in the other: from cathode to anode. So, in essence, we have a diode.\n",
    "\n",
    "In a semiconductor diode we have a similar behavior. Semiconductor materials, like Silicon, are materials situated between conductors, that have a lot of charge carriers, and isolators, that have almost no charge carriers. What is interesting about semiconductors is that by adding some small amounts of other elements like **Boron** or **Phosphor**, we can control the charge of most of its carriers. That way we can have **N type** semiconductors where most of its carriers are negative electrons or **P type** semiconductors where most of its carriers are positive [holes](https://en.wikipedia.org/wiki/Electron_hole).\n",
    "\n",
    "When we join together a **P type** and a **N type** semiconductor we obtain a **P-N junction**. The **P** material is called the **anode (A)** and the **N** material is called the **cathode (K)**.\n",
    "\n",
    "![fig 04](images\\D_01\\fig04.png)\n",
    "\n",
    "If we forward bias the junction generating an electric field from anode to cathode, there are a lot of positive holes in the P region that can go to the N region following the field and a lot of electrons in the N region that can go to the P region going reverse to the field. From both charge movement contributions we get a forward current on the junction. The device is called **bipolar** because we have two different charge carriers: **negative electrons** and **positive holes**. \n",
    "\n",
    "![fig 05](images\\D_01\\fig05.png)\n",
    "\n",
    "If we reverse bias the junction generating an electric field from cathode to anode there is no current flow because there are no negative charges in the P region that can go to the right or positive charges in the N region that can go to the left. So, the diode does not conduct any current.\n",
    "\n",
    "![fig 06](images\\D_01\\fig06.png)\n",
    "\n",
    "In the end we have a device that can let the current go from the anode to the cathode but not from the cathode to the anode, so we have a diode.\n",
    "\n",
    "![fig 07](images\\D_01\\fig07.png)\n",
    "\n",
    "From this point the theory of the semiconductor diode gets quit complex and is outside of this document objectives. If you dive in the solid state physics of the semiconductors you get that the voltage-current characteristic of a semiconductor diode can be modeled in DC with the following equation:\n",
    "\n",
    "$$I_d(V_d) = I_s \\left( e^{V_d\\;/\\;\\eta V_T} - 1\\right)$$\n",
    "\n",
    "We can see that the current has an exponential dependence on the voltage. We can see also that at zero voltage the current is zero and at very negative voltages the -1 term dominates and the current is very close to $I_S$. That’s why $I_S$ is called the **Reverse Saturation Current**.\n",
    "\n",
    "The reverse current is due to the fact that most charge carriers in the N region are electrons, but there are some holes. In the same way, most charge carriers in the P region are holes, but there are some electrons. So, there is a small quantity of electrons that can go from anode to cathode and a small amount of holes that can go from cathode to anode when the diode is in reverse operation.\n",
    "\n",
    "Don't get fooled by the simplicity of the expression. Two parameters of the equation, $I_S$ and $V_T$, are temperature dependent. In fact the $V_T$ parameter is called thermal voltage because it is proportional to absolute temperature.\n",
    "\n",
    "$$V_T = \\frac{k \\cdot T}{q}$$\n",
    "\n",
    "Where k is the [Boltzmann constant](https://en.wikipedia.org/wiki/Boltzmann_constant), T is the absolute temperature (in K) and q is the electron charge. At 27 ºC (300 K), $V_T$ is about $26mV$. $V_T$ is proportional to T so it increases with temperature. As $V_T$ is in the exponent denominator, it seems that $I_d$ seems should decrease when the temperature increases. Turns out, however, that $I_S$ also depends on temperature; and it increases with temperature at a faster rate that the $V_T$ effect on the exponential so the net effect is that $I_d$ increases with temperature.\n",
    "\n",
    "The change of $V_T$ for temperatures between 10 ºC and 40 ºC is only about a 5% of the value at 27 ºC, so, for first order calculations we consider $V_T$ to be a $26 mV$ constant at normal room temperatures. \n",
    "\n",
    "For a diode that follows the basic semiconductor models, the third parameter $\\eta$ called ideality factor is one. Unfortunately, a lot of diodes, including common silicon ones, don’t follow the basic model and require a correction by using a $\\eta$ value greater than one. \n",
    "\n",
    "Silicon is the most used semiconductor in electronics, so most normal diodes are made of this element. $I_S$ is usually in the nanoamp range, so, in order to obtain a current in the milliamp range, you need to have a six digit exponential. That requires an exponent of about 14. If $\\eta$ is close to 2, as is usual on some Silicon diodes, we need a $V_d$ value of 28 times $V_T$ or about $700 mV$.\n",
    "\n",
    "![fig 08](images\\D_01\\fig08.png)\n",
    "\n",
    "The above figure shows a typical silicon diode curve. The behavior for negative voltages seems ideal. Current is not really zero, but in the nanoamp range, but for a lot of practical purposes, it is small enough. In the conducting region the voltage is not zero, but about $0.7V$ and slightly dependent on the diode current. \n",
    " \n",
    "Note that there are not two regions on the curve. It seems that way to us due to the exponential curve but, as we know, the exponential curve is the same at all scales, if we zoom in the vertical axis, we can see that now, in the tens of microamp range, the rise of current is noticeable at about $0.5V$.\n",
    "\n",
    "![fig 09](images\\D_01\\fig09.png)\n",
    "\n",
    "This behavior can be deducted from the equation:\n",
    "\n",
    "$$\\left. I_d(V_d + \\Delta V_d)\\right|_{I_d>>I_s}\n",
    "\\approx I_S \\cdot e^{V_d \\; / \\; \\eta V_T} \\cdot e^{\\Delta V_d \\; / \\; \\eta V_T}$$\n",
    "\n",
    "If $\\Delta V_d$ is $120 mV$, \\eta is 2 and $V_T$ is $26 mV$, the diode current increases 10 times. So the diode current is increased 10 times for each $120 mV$ increase of voltage.\n",
    "That also means that for, voltages over $120 mV$, $I_d$ is at least 10 times the $I_S$ value and we can make the approximation:\n",
    "\n",
    "$$\\left. I_d(V_d) \\right|_{V_d>120mV}\n",
    "= I_s \\cdot e^{V_d \\; / \\; \\eta V_T}$$ \n",
    "\n",
    "If we further zoom in the current axis we can see that current is only zero at zero voltage and that it saturates to the constant saturation current $I_S$ value for negative currents.\n",
    "\n",
    "![fig 10](images\\D_01\\fig10.png)\n",
    "\n",
    "---\n",
    "\n",
    "![Practical Icon](images/pt.png)\n",
    "\n",
    "---"
   ]
  },
  {
   "cell_type": "markdown",
   "metadata": {},
   "source": [
    "## Measuring a silicon diode\n",
    "\n",
    "Now it is time to perform some measurements.\n",
    "\n",
    "But first, we will need to **import** SLab and **connect** to the board."
   ]
  },
  {
   "cell_type": "code",
   "execution_count": null,
   "metadata": {},
   "outputs": [],
   "source": [
    "# Import the SLab module\n",
    "import slab"
   ]
  },
  {
   "cell_type": "code",
   "execution_count": null,
   "metadata": {},
   "outputs": [],
   "source": [
    "boardFolder = ''                                # Board folder (leave '' if you use only one board)\n",
    "slab.setFilePrefix('../Files/')                 # Set File Prefix\n",
    "slab.setCalPrefix('Calibrations/'+boardFolder)  # Set Calibration Prefix         \n",
    "slab.connect()                                  # Connect to the board"
   ]
  },
  {
   "cell_type": "markdown",
   "metadata": {},
   "source": [
    "It is always a good idea to check the board calibration."
   ]
  },
  {
   "cell_type": "code",
   "execution_count": null,
   "metadata": {},
   "outputs": [],
   "source": [
    "# Check the calibration\n",
    "slab.checkCalibration(pause=False,na=4,nm=10)"
   ]
  },
  {
   "cell_type": "markdown",
   "metadata": {},
   "source": [
    "We will now measure a **1N4148** diode. This is a common low current silicon diode. You can obtain its characteristics on the manufacturer's datasheet.\n",
    "\n",
    "We will use a diode in series with a resistor to obtain the diode DC curve.\n",
    "\n",
    "![fig 11](images\\D_01\\fig11.png)\n",
    "\n",
    "That way we can obtain the diode voltage and current:\n",
    "\n",
    "$$V_d = V_{ADC2} \\qquad I_d = \\frac{V_{ADC1}-V_{ADC2}}{1k\\Omega}$$\n",
    "\n",
    "Most diodes mark the negative cathode terminal with a line around the body of the component. In the case of the diode on the following figure, the anode is at the right side and the cathode at the left side.\n",
    "\n",
    "![fig 12](images\\D_01\\fig12.jpg)\n",
    "    \n",
    "---\n",
    "\n",
    "**BUILD TASK**  \n",
    "Mount the proposed circuit.   \n",
    "\n",
    "---\n",
    "\n",
    "Now we obtain a DC sweep for **DAC1** voltages from $0 V$ to $3.2 V$ in $0.05 V$ steps. Remember that the **dcSweep** command gives as result the selected DAC voltage and all ADC voltages. Prior to the **dcSweep** we will increase the number of readings to average so that measurement noise is reduced. Note that the measurement will be slow.\n",
    "\n",
    "We can calculate $V_d$, in Volt, and $I_d$, in mA, from the obtained results. As $R_1$ is $1 k\\Omega$, the voltage at the resistor in Volt equals the current on the resistor in mA.\n",
    "\n",
    "We then plot $I_d$ against $V_d$ to obtain the diode DC curve.    "
   ]
  },
  {
   "cell_type": "code",
   "execution_count": null,
   "metadata": {},
   "outputs": [],
   "source": [
    "# Set the number of readings at each point\n",
    "slab.setDCreadings(50)\n",
    "\n",
    "# Perform a DC sweep\n",
    "data = slab.dcSweep(1,0,3.2,0.02)\n",
    "\n",
    "# Obtain vd(V) and id(mA)\n",
    "vd = data[2]\n",
    "id = data[1]-data[2]\n",
    "\n",
    "# Plot the diode curve\n",
    "slab.plot11(vd,id,\"\",\"Vd (V)\",\"Id (mA)\")"
   ]
  },
  {
   "cell_type": "markdown",
   "metadata": {},
   "source": [
    "You should see a near to zero current up to a voltage of about $0.6 V$ where, in a few millivolts, the current goes to the top of the graph.\n",
    "\n",
    "As part of the **DAC1** voltage drops in the resistor, we have a maximum current we can measure with our setup, and this maximum can only be reached if diode voltage is zero.\n",
    "\n",
    "$$I_{d \\; Max} = \\frac{V_{DAC1 \\; Max}}{1l\\Omega}$$\n",
    "\n",
    "As the diode curve is exponential, it is usual to draw the current axis in logarithmic scale. That way the exponential curve will show as a straight line.\n",
    "\n",
    "$$\\left. I_d(V_d) \\right|_{V_d>120mV}\n",
    "= I_s \\cdot e^{V_d \\; / \\; \\eta V_T}$$ \n",
    "\n",
    "$$ln(I_d) \\approx ln(I_s) + \\frac{V_d}{\\eta V_T}$$\n",
    "\n",
    "You can compare the obtained curve with the typical **1N4148** curve shown below. Note that this plot uses current for the horizontal axis.\n",
    "\n",
    "![fig 13](images\\D_01\\fig13.jpg)\n",
    "\n",
    "In order to ease the comparison we will use the same axes as in our plot by changing the plot command:"
   ]
  },
  {
   "cell_type": "code",
   "execution_count": null,
   "metadata": {},
   "outputs": [],
   "source": [
    "# Diode log plot\n",
    "slab.plot11(id,1000.0*vd,\"\",\"Id (mA)\",\"Vd (mV)\",logx=True)"
   ]
  },
  {
   "cell_type": "markdown",
   "metadata": {},
   "source": [
    "Observe that the manufacturer provide curve is only defined for currents between $0.1 mA$ and $10 mA$. Our graph goes to much lower currents. Note, however, that for currents below $10 \\mu A$ there will be important measurement errors.\n",
    "\n",
    "We will save the obtained data to use it on future lab sessions. A file \"1N4148.sav\" will be generated by executing the following **code cell**."
   ]
  },
  {
   "cell_type": "code",
   "execution_count": null,
   "metadata": {},
   "outputs": [],
   "source": [
    "# Save the obtained curve\n",
    "# We store it in the standard SLab \"Files\" folder\n",
    "slab.save(\"../Files/1N4148\",[vd,id])"
   ]
  },
  {
   "cell_type": "markdown",
   "metadata": {},
   "source": [
    "## Fitting the model\n",
    "\n",
    "We can obtain the diode model parameters from the graph. First we will obtain the $I_S$ and the $\\eta V_T$ product. \n",
    "\n",
    "---\n",
    "\n",
    "**CALCULATION TASK**  \n",
    "Determine the calculations needed to obtain $I_S$ and the $\\eta V_T$ product from two diode voltages $V_{d1}$, $V_{d2}$ and its associated diode currents $I_{d1}$, $I_{d2}$.  \n",
    "Assume that $I_d >> I_S$   \n",
    "\n",
    "Use the above method to obtain $I_S$ and $\\eta V_T$ from the points in the curve around $V_d = 0.5 V$ and  $V_d = 0.6 V$.\n",
    "\n",
    "---\n",
    "\n",
    "We can compare the obtained parameters with the measurements. We will use the exponential function from the numpy module, so we will need to import it."
   ]
  },
  {
   "cell_type": "code",
   "execution_count": null,
   "metadata": {},
   "outputs": [],
   "source": [
    "is0 =      # Your calculated Is (in mA)\n",
    "nvt0 =     # Your calculated n Vt (in V)\n",
    "\n",
    "# Import the numpy module\n",
    "import numpy as np\n",
    "\n",
    "# Create a graph from the model\n",
    "id2 = is0*(np.exp(vd/nvt0)-1)\n",
    "\n",
    "# Plot model and experimental data\n",
    "slab.plot1n(vd,[id,id2],\"\",\"Vd (V)\",\"Id (mA)\",[\"Measured\",\"Model\"])"
   ]
  },
  {
   "cell_type": "markdown",
   "metadata": {},
   "source": [
    "We can also obtain the parameters using [least squares optimization](https://docs.scipy.org/doc/scipy/reference/generated/scipy.optimize.least_squares.html). In order to do that, we will need to import the **leastsq** function from the **optimize** scipy module.\n",
    "\n",
    "Then we define the function to optimize. The optimizer will try to make zero this function, or as close to zero as possible adjusting the parameters $x[0]$ and $x[1]$.\n",
    "\n",
    "Parameter $x[0]$ is $I_S$ and parameter $x[1]$ is the $\\eta V_T$ product. The **lambda** method is an easy way in Python to define a new function in only one line. The **lambda** line is equivalent to:\n",
    "\n",
    ">`def opt_func(x):\n",
    ">    return x[0]*(np.exp(vd/x[1])-1) - id`\n",
    "\n",
    "You can learn more about that method in any Python reference. For our purposes, the end result is that we have a function with a vector parameter x that has two elements that returns another vector with the size of the vd vector.\n",
    " \n",
    "Now we run the **leastsq** optimizer. The optimizer will compute the mean square of the function output vector and change the two $x[0]$ and $x[1]$ parameters so that the mean square is as low as possible. In order to operate we need to provide the optimizer two parameters: the function opt_func to minimize and a start value of the x parameters. In our case we use $1 nA$ for $I_S$ and $50 mV$ for the $\\eta V_T$ product.\n",
    "\n",
    "The leastsq function returns a lot of data, but we are only interested in the first element $[0]$ that includes the optimum value of the x parameters. \n",
    "The following code runs the optimizer and show the obtained $I_S$ and $\\eta V_T$ values."
   ]
  },
  {
   "cell_type": "code",
   "execution_count": null,
   "metadata": {},
   "outputs": [],
   "source": [
    "# Import the lestsq function\n",
    "from scipy.optimize import leastsq\n",
    "# Import numpy for the exponential function\n",
    "import numpy as np\n",
    "\n",
    "# Define function to optimize\n",
    "opt_func = lambda x: x[0]*(np.exp(vd/x[1])-1) - id\n",
    "\n",
    "# Perform the optimization\n",
    "is1,nvt1 = leastsq(opt_func, [1e-9,0.05])[0]\n",
    "\n",
    "# Show the results\n",
    "print('Is =',is1*1e6,'nA')\n",
    "print('n Vt =',nvt1,'V')"
   ]
  },
  {
   "cell_type": "markdown",
   "metadata": {},
   "source": [
    "<div class=\"alert alert-block alert-warning\">\n",
    "<font size=\"5\" color=brown>Note on optimization</font><font color=black> \n",
    "<BR><BR>\n",
    "The least squares optimization tries to minimize the error between the model and the real measured curve. \n",
    "<BR>    \n",
    "As errors tend to be bigger at high current, this method tends to give better fits at high current than at low current.\n",
    "<BR>\n",
    "In order to give the same weight for errors at all currents we can fit the model after obtaining the logarithm of the current.\n",
    "<BR></font></div>"
   ]
  },
  {
   "cell_type": "markdown",
   "metadata": {},
   "source": [
    "You can compare the values obtained from the optimizer with the values calculated previously. You can also compare how the values fit the original curve.\n",
    "\n",
    "As we don't know the exact diode temperature we cannot separate $V_T$ from $\\eta$, but we can obtain a rough approximation of $\\eta$ by considering $V_T$ equal to $26 mV$."
   ]
  },
  {
   "cell_type": "code",
   "execution_count": null,
   "metadata": {},
   "outputs": [],
   "source": [
    "# n calculation\n",
    "n = nvt1/0.026\n",
    "print('n =',n)"
   ]
  },
  {
   "cell_type": "markdown",
   "metadata": {},
   "source": [
    "## Other diodes\n",
    "\n",
    "Different diodes have different **I-V** curves. The most notable difference is the threshold voltage at which the current enters in the milliamp range. In this section we will compare the curves of the following diodes:\n",
    "\n",
    "* The previous measured **1N4148** silicon diode\n",
    "* A **BAT42** Schottky diode\n",
    "* Several LEDs:\n",
    ">* One of infrared color\n",
    ">* One red\n",
    ">* One green\n",
    ">* One blue\n",
    "\n",
    "If you don't have any of the diodes of the above list, just measure the rest.\n",
    "\n",
    "Normal silicon diodes join two semiconductor **\"N\"** and **\"P\"** regions. [Schottky diodes](https://en.wikipedia.org/wiki/Schottky_diode) use metal for one region and a semiconductor for the other. The net result is a fast state change time, a low threshold voltage but a high inverse saturation current.\n",
    "\n",
    "In an ideal diode, power dissipated is always zero. This is not true on a real diode, because there is a non zero voltage when current flows through the device. In Silicon diodes the dissipated power is converted to heat, but some diodes that use other semiconductor materials can dissipate part of the power as light. That is the case of the **Light Emitting Diodes** (LED). The shorter the wavelength of the LED, the more energy the photons carry and the higher the threshold of the device is.\n",
    "\n",
    "Use the same previous setup and obtain the curves for the different diodes. This time we will automate the I-V curve drawing by using the **curveVI** function of the **slab.dc** module.\n",
    "\n",
    "So, we will first import this module."
   ]
  },
  {
   "cell_type": "code",
   "execution_count": null,
   "metadata": {},
   "outputs": [],
   "source": [
    "# Import the DC module\n",
    "import slab.dc as dc"
   ]
  },
  {
   "cell_type": "markdown",
   "metadata": {},
   "source": [
    "Now we obtain the curve of each diode, changing the diode each time. Following the previous list of six diodes we will execute:"
   ]
  },
  {
   "cell_type": "code",
   "execution_count": null,
   "metadata": {},
   "outputs": [],
   "source": [
    "vd,id   = dc.curveVI(0,3.2,0.05,returnData=True)   # 1N4148"
   ]
  },
  {
   "cell_type": "code",
   "execution_count": null,
   "metadata": {},
   "outputs": [],
   "source": [
    "vds,ids = dc.curveVI(0,3.2,0.05,returnData=True)   # BAT42"
   ]
  },
  {
   "cell_type": "code",
   "execution_count": null,
   "metadata": {},
   "outputs": [],
   "source": [
    "vdi,idi = dc.curveVI(0,3.2,0.05,returnData=True)   # IR LED"
   ]
  },
  {
   "cell_type": "code",
   "execution_count": null,
   "metadata": {},
   "outputs": [],
   "source": [
    "vdr,idr = dc.curveVI(0,3.2,0.05,returnData=True)   # Red LED"
   ]
  },
  {
   "cell_type": "code",
   "execution_count": null,
   "metadata": {},
   "outputs": [],
   "source": [
    "vdg,idg = dc.curveVI(0,3.2,0.05,returnData=True)   # Green LED"
   ]
  },
  {
   "cell_type": "code",
   "execution_count": null,
   "metadata": {},
   "outputs": [],
   "source": [
    "vdb,idb = dc.curveVI(0,3.2,0.05,returnData=True)   # Blue LED"
   ]
  },
  {
   "cell_type": "markdown",
   "metadata": {},
   "source": [
    "During the measurements you should have seen how the curves of the LEDs are different.\n",
    "\n",
    "We can now draw all the curves together."
   ]
  },
  {
   "cell_type": "code",
   "execution_count": null,
   "metadata": {},
   "outputs": [],
   "source": [
    "# Plot all curves together\n",
    "slab.plotnn([vd,vds,vdi,vdr,vdg,vdb]\n",
    "       ,[id,ids,idi,idr,idg,idb],\"\",\"Vd (V)\",\"Id (mA)\"\n",
    "       ,[\"1N4148\",\"BAT42\",\"IR\",\"Red\",\"Green\",\"Blue\"])"
   ]
  },
  {
   "cell_type": "markdown",
   "metadata": {},
   "source": [
    "Measure all six diodes and show all curves together.   \n",
    "Take note of the threshold voltages for all diodes where the curve reaches the $0.5 mA$ current.  "
   ]
  },
  {
   "cell_type": "markdown",
   "metadata": {},
   "source": [
    "## Resistive effects\n",
    "\n",
    "The diode current can only be modeled as an exponential curve for low currents. For high enough currents, there are ohmic losses that can be modeled as a resistor $R_S$ in series with the exponential diode.\n",
    "\n",
    "![fig 14](images\\D_01\\fig14.png)\n",
    "\n",
    "The total $V_d$ voltage drop on the diode will be the $V_{de}$ voltage drop on the exponential diode plus the ohmic drop in the $R_S$ internal diode resistance.\n",
    "\n",
    "$$V_{de}(I_d) = \\eta V_T \\cdot ln \\left( \\frac{I_d}{I_S} +1 \\right)$$\n",
    "\n",
    "$$V_d(I_d) = \\eta V_T \\cdot ln \\left( \\frac{I_d}{I_S} +1 \\right) + R_S I_d$$\n",
    "\n",
    "The following figure shows the effect of a $1\\Omega$ internal $R_S$ resistance in a typical diode Silicon diode curve. We can see that the effect of the resistance is small below $0.8V$. We can also see that for currents over $100 mA$ the increase of the $V_d$ voltage due to the resistance is quite noticeable.\n",
    "\n",
    "![fig 15](images\\D_01\\fig15.png)\n",
    "\n",
    "The buffer circuits on the DAC outputs of the SLab system does not enable us to use high currents. Moreover, the current we can draw from the USB connection to the PC is also limited, but we can measure the $R_S$ effect on the **1N4148** diode by using the following setup.\n",
    "\n",
    "![fig 16](images\\D_01\\fig16.png)\n",
    "\n",
    "Then we can measure the diode voltage and calculate the current.\n",
    "\n",
    "As we have previously obtained the values of $I_S$ and $\\eta V_T$ for the **1N4148** exponential model, we can use them to obtain the internal $V_{de}$ voltage from the exponential model. From that value we can compute the internal resistance of the diode.\n",
    "\n",
    "$$R_S = \\frac{V_d - V_{de}}{I_d}$$\n"
   ]
  },
  {
   "cell_type": "code",
   "execution_count": null,
   "metadata": {},
   "outputs": [],
   "source": [
    "vd = slab.readVoltage(1)          # Read voltage on the diode\n",
    "vdd = slab.gdata['vdd']           # Read vdd voltage\n",
    "id = 1000.0*( vdd - vd ) / 100    # Compute diode current (in mA)\n",
    "\n",
    "# Show values\n",
    "print('Vd =',vd,'V')\n",
    "print('Vdd =',vdd,'V')\n",
    "print('Id =',id,'mA')"
   ]
  },
  {
   "cell_type": "markdown",
   "metadata": {},
   "source": [
    "You can work-out the series resistace $R_S$ from the above data or you can use **Python** for that."
   ]
  },
  {
   "cell_type": "code",
   "execution_count": null,
   "metadata": {},
   "outputs": [],
   "source": [
    "# Import numpy for the log function\n",
    "import numpy as np\n",
    "\n",
    "# Compute Vde from the optimized diode model\n",
    "vde = nvt1*np.log(id/is1+1)  \n",
    "\n",
    "# Compute series resistance (in Ohm) \n",
    "# Factor 1000 is because current is defined in mA\n",
    "rs = 1000.0*(vd-vde)/id  \n",
    "\n",
    "# Show values\n",
    "print('Vde =',vde,'V')\n",
    "print('Rs =',rs,'Ohm')"
   ]
  },
  {
   "cell_type": "markdown",
   "metadata": {},
   "source": [
    "Now we have a model with three parameters: $I_S$, the $\\eta \\cdot V_T$ product and $R_S$\n",
    "\n",
    "We can onbtain a new graph that includes the $R_S$ element and compare it to the previous simpler model."
   ]
  },
  {
   "cell_type": "code",
   "execution_count": null,
   "metadata": {},
   "outputs": [],
   "source": [
    "# Numpy is needed for some functions\n",
    "import numpy as np\n",
    "\n",
    "Irange = np.logspace(-1,2,200)         # Currents from 0.1mA to 100mA\n",
    "Vd_m2 = nvt1*np.log(Irange/Is_A + 1)   # Exponential diode model\n",
    "Vd_m3 = Vd_m2 + rs*Irange/1000.0       # Addition of Rs effec\n",
    "\n",
    "# Compare the two models\n",
    "slab.plotnn([Vd_m2,Vd_m3],[Irange,Irange],'Diode Models','Vd [V]','Id [mA]',['Without Rs','With Rs'])"
   ]
  },
  {
   "cell_type": "markdown",
   "metadata": {},
   "source": [
    "We can also show the graph using an horizontal logarithmic axis as is typical in some manufacturer datasheets"
   ]
  },
  {
   "cell_type": "code",
   "execution_count": null,
   "metadata": {},
   "outputs": [],
   "source": [
    "# Graph in log horizontal current axis\n",
    "slab.plot1n(Irange,[Vd_m2,Vd_m3],'Diode Models','Id [mA]','Vd [V]',['Without Rs','With Rs'],logx=True)"
   ]
  },
  {
   "cell_type": "markdown",
   "metadata": {},
   "source": [
    "## Last comments\n",
    "\n",
    "In this document we started working with the diode component. This is a nonlinear device that admits different models with different complexities. A first approximation **\"model 0\"** for a Silicon diode will be:\n",
    "\n",
    "$\\qquad ON \\; State : V_d = 0 \\qquad Require \\; I_d \\geq 0$\n",
    "\n",
    "$\\qquad OFF \\; State : I_d = 0 \\qquad Require \\; V_d \\leq 0$\n",
    "\n",
    "This model can be substituted by an exponential diode **\"model 1\"** that gives a closer approximation to the real diode. \n",
    "\n",
    "$$I_d(V_d) = I_s \\left( e^{V_d\\;/\\;\\eta V_T} - 1\\right)$$\n",
    "\n",
    "For high enough current, the exponential diode fails to give a good estimation of the voltage drop on the diode and we need to take into account the resistive losses on the diode. That gives us the **\"model 3\"** of the diode.\n",
    "\n",
    "$$V_d(I_d) = \\eta V_T \\cdot ln \\left( \\frac{I_d}{I_S} +1 \\right) + R_S I_d$$\n",
    "\n",
    "The following figure shows the curves obtained from the three models.\n",
    "\n",
    "![fig 17](images\\D_01\\fig17.png)\n",
    "\n",
    "\n",
    "The use of models is always a tradeoff, simple models like **\"model 0\"** are easy to use but give big errors. In the above figure the $V_d$ error can reach $0.15 V$ but it will be bigger at currents outside the figure. Complex models like **\"model 2\"** are more complex to use but give better approximations to the real device.\n",
    "\n",
    "It is part of the **engineering task** to use the model that suits the problem we want to solve. Using a too simple model can give too high errors, but using a too complex model can make the problem too difficult to solve.\n",
    "\n",
    "In following documents about the diode we will use different diode models to better suit different engineering problems."
   ]
  },
  {
   "cell_type": "markdown",
   "metadata": {},
   "source": [
    "## References\n",
    "\n",
    "[SLab Python References](../Reference)  \n",
    "Those are the reference documents for the SLab Python modules. They describe the commands that can be carried out after importing each module. \n",
    "They should be available in the SLab/Doc folder.\n",
    "\n",
    "[TinyCad](https://sourceforge.net/projects/tinycad/)  \n",
    "Circuit images on this document have been drawn using the free software TinyCad  \n",
    "\n",
    "[SciPy](https://www.scipy.org/)  \n",
    "All the functions plots have been generated using the Matplotlib SciPy package. "
   ]
  },
  {
   "cell_type": "markdown",
   "metadata": {},
   "source": [
    "## Document license\n",
    "\n",
    "Copyright  ©  Vicente Jiménez (2018-2019)  \n",
    "This work is licensed under a Creative Common Attribution-ShareAlike 4.0 International license.  \n",
    "This license is available at http://creativecommons.org/licenses/by-sa/4.0/\n",
    "\n",
    "<img  src=\"images/cc_sa.png\" width=\"200\">"
   ]
  },
  {
   "cell_type": "code",
   "execution_count": null,
   "metadata": {},
   "outputs": [],
   "source": []
  }
 ],
 "metadata": {
  "kernelspec": {
   "display_name": "Python 3",
   "language": "python",
   "name": "python3"
  },
  "language_info": {
   "codemirror_mode": {
    "name": "ipython",
    "version": 3
   },
   "file_extension": ".py",
   "mimetype": "text/x-python",
   "name": "python",
   "nbconvert_exporter": "python",
   "pygments_lexer": "ipython3",
   "version": "3.7.1"
  }
 },
 "nbformat": 4,
 "nbformat_minor": 2
}
