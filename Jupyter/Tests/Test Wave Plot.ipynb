{
 "cells": [
  {
   "cell_type": "markdown",
   "metadata": {},
   "source": [
    "<img style=\"float: right;\"  src=\"images/LogoP.jpg\" width=\"200\">\n",
    "\n",
    "# Test Wave Plot\n",
    "\n",
    "This Jupyter Notebook test the Wave Plot functionality\n",
    "\n",
    "Version 1.0 (10/6/2018) License information is at the end of the document\n",
    "\n",
    "---"
   ]
  },
  {
   "cell_type": "markdown",
   "metadata": {},
   "source": [
    "## Global operations\n",
    "\n",
    "Cells for importing SLab, connecting to the board, and disconnecting from the board\n",
    "\n",
    "The **test** are all independent of each other, but you must import the **slab** module and **connect** to the board to use them."
   ]
  },
  {
   "cell_type": "code",
   "execution_count": null,
   "metadata": {},
   "outputs": [],
   "source": [
    "# Import numpy\n",
    "import numpy as np\n",
    "\n",
    "# Import the main SLab module\n",
    "import slab"
   ]
  },
  {
   "cell_type": "code",
   "execution_count": null,
   "metadata": {},
   "outputs": [],
   "source": [
    "boardFolder = ''                                # Board folder (leave '' if you use only one board)\n",
    "slab.setFilePrefix('../Files/')                 # Set File Prefix\n",
    "slab.setCalPrefix('Calibrations/'+boardFolder)  # Set Calibration Prefix         \n",
    "slab.connect()                                  # Connect to the board     "
   ]
  },
  {
   "cell_type": "code",
   "execution_count": null,
   "metadata": {},
   "outputs": [],
   "source": [
    "# Disconnect when you end using this sandbox\n",
    "slab.disconnect()"
   ]
  },
  {
   "cell_type": "markdown",
   "metadata": {},
   "source": [
    "The following two code cells can be used to make the plots interactive so that you can pan and zoom on them"
   ]
  },
  {
   "cell_type": "code",
   "execution_count": null,
   "metadata": {},
   "outputs": [],
   "source": [
    "# Make plots interactive\n",
    "slab.interactivePlots()\n",
    "%matplotlib notebook"
   ]
  },
  {
   "cell_type": "code",
   "execution_count": null,
   "metadata": {},
   "outputs": [],
   "source": [
    "# Return to non interactive mode\n",
    "slab.interactivePlots(False)\n",
    "%matplotlib inline"
   ]
  },
  {
   "cell_type": "markdown",
   "metadata": {},
   "source": [
    "<a id='system'></a>\n",
    "\n",
    "<div class=\"alert alert-block alert-info\">\n",
    "<BR>\n",
    "<font size=\"10\"> Tests without using a Scope </font> \n",
    "<BR>\n",
    "</div>"
   ]
  },
  {
   "cell_type": "markdown",
   "metadata": {},
   "source": [
    "## Generate on DAC, measure on ADC\n",
    "\n",
    "Test the basic waveplay operations with ADC measurements\n",
    "\n",
    "* Connect **DAC1** to **ADC1**\n",
    "\n",
    "You should see two sinewaves on ADC1"
   ]
  },
  {
   "cell_type": "code",
   "execution_count": null,
   "metadata": {},
   "outputs": [],
   "source": [
    "slab.softReset()  # Be sure of board state\n",
    "\n",
    "slab.waveSine(1.0,2.0,100) # 100 points sinewave\n",
    "slab.setWaveFrequency(70)  # Set wavefrequency to 70Hz\n",
    "slab.tranStore(200,1)      # Store two full waves\n",
    "\n",
    "slab.wavePlot()  # Plot wave\n",
    "\n",
    "slab.softReset()  # Set board to reset state after operation"
   ]
  },
  {
   "cell_type": "markdown",
   "metadata": {},
   "source": [
    "## Generate on DAC, measure on DIO\n",
    "\n",
    "Test the basic waveplay operations with DIO measurements\n",
    "\n",
    "* Connect **DAC1** to **DIO0**\n",
    "\n",
    "You should see two square waves on DIO0"
   ]
  },
  {
   "cell_type": "code",
   "execution_count": null,
   "metadata": {},
   "outputs": [],
   "source": [
    "slab.softReset()  # Be sure of board state\n",
    "\n",
    "slab.dioMode(0,'input')\n",
    "\n",
    "slab.waveSine(1.0,2.0,100) # 100 points sinewave\n",
    "slab.setWaveFrequency(70)  # Set wavefrequency to 70Hz\n",
    "slab.tranStore(200,0,1)    # Store two full waves\n",
    "\n",
    "slab.wavePlot()  # Plot wave\n",
    "\n",
    "slab.softReset()  # Set board to reset state after operation"
   ]
  },
  {
   "cell_type": "markdown",
   "metadata": {},
   "source": [
    "## Generate on DAC, measure on ADC and DIO\n",
    "\n",
    "Test the waveplay operation using ADC and DIO measurement\n",
    "\n",
    "* Connect **DAC1** to **ADC1** and **DIO0**\n",
    "\n",
    "You should see two sinewaves on ADC1 and two square waves on DIO0"
   ]
  },
  {
   "cell_type": "code",
   "execution_count": null,
   "metadata": {},
   "outputs": [],
   "source": [
    "slab.softReset()  # Be sure of board state\n",
    "\n",
    "slab.dioMode(0,'input')\n",
    "\n",
    "slab.waveSine(1.0,2.0,100) # 100 points sinewave\n",
    "slab.setWaveFrequency(70)  # Set wavefrequency to 70Hz\n",
    "slab.tranStore(200,1,1)    # Store two full waves\n",
    "\n",
    "slab.wavePlot()  # Plot wave\n",
    "\n",
    "slab.softReset()  # Set board to reset state after operation"
   ]
  },
  {
   "cell_type": "markdown",
   "metadata": {},
   "source": [
    "## Generate on both DACs, measure on two ADCs\n",
    "\n",
    "Test the dual waveplay operation using ADCs\n",
    "\n",
    "* Connect **DAC1** to **ADC1**\n",
    "* Connect **DAC2** to **ADC2**\n",
    "\n",
    "You should see two sinewaves on ADC1 and four triangle waves on ADC2"
   ]
  },
  {
   "cell_type": "code",
   "execution_count": null,
   "metadata": {},
   "outputs": [],
   "source": [
    "slab.softReset()  # Be sure of board state\n",
    "\n",
    "slab.waveSine(1.0,2.0,100) # 100 points sine wave\n",
    "slab.setWaveFrequency(70)  # Set wavefrequency to 70Hz\n",
    "\n",
    "slab.waveTriangle(1.0,2.0,50,second=True) # 50 points secondary triangle wave\n",
    "\n",
    "slab.tranStore(200,2)    # Store two full waves of primary wave\n",
    "\n",
    "slab.wavePlot(dual=True)  # Plot waves\n",
    "\n",
    "slab.softReset()  # Set board to reset state after operation"
   ]
  },
  {
   "cell_type": "markdown",
   "metadata": {},
   "source": [
    "## Generate on both DACs, measure on DIOs\n",
    "\n",
    "Test the dual waveplay operation using ADCs\n",
    "\n",
    "* Connect **DAC1** to **DIO0**\n",
    "* Connect **DAC2** to **DIO1**\n",
    "\n",
    "You should see two square waves on DIO0 and four on DIO1"
   ]
  },
  {
   "cell_type": "code",
   "execution_count": null,
   "metadata": {},
   "outputs": [],
   "source": [
    "slab.softReset()  # Be sure of board state\n",
    "\n",
    "slab.dioMode(0,'input')\n",
    "slab.dioMode(1,'input')\n",
    "\n",
    "slab.waveSine(1.0,2.0,100) # 100 points sine wave\n",
    "slab.setWaveFrequency(70)  # Set wavefrequency to 70Hz\n",
    "\n",
    "slab.waveTriangle(1.0,2.0,50,second=True) # 50 points secondary triangle wave\n",
    "\n",
    "slab.tranStore(200,0,2)    # Store two full waves of primary wave\n",
    "\n",
    "slab.wavePlot(dual=True)  # Plot waves\n",
    "\n",
    "slab.softReset()  # Set board to reset state after operation"
   ]
  },
  {
   "cell_type": "markdown",
   "metadata": {},
   "source": [
    "## Generate on both DACs, measure on ADCs and DIOs\n",
    "\n",
    "Test the dual waveplay operation using ADCs\n",
    "\n",
    "* Connect **DAC1** to **ADC1** and **DIO0**\n",
    "* Connect **DAC2** to **ADC1** and **DIO1**\n",
    "\n",
    "You should see two sinewaves on ADC1 and four triangle square waves on ADC2\n",
    "You should also see two square waves on DIO0 and four on DIO1"
   ]
  },
  {
   "cell_type": "code",
   "execution_count": null,
   "metadata": {},
   "outputs": [],
   "source": [
    "slab.softReset()  # Be sure of board state\n",
    "\n",
    "slab.dioMode(0,'input')\n",
    "slab.dioMode(1,'input')\n",
    "\n",
    "slab.waveSine(1.0,2.0,100) # 100 points sine wave\n",
    "slab.setWaveFrequency(70)  # Set wavefrequency to 70Hz\n",
    "\n",
    "slab.waveTriangle(1.0,2.0,50,second=True) # 50 points secondary triangle wave\n",
    "\n",
    "slab.tranStore(200,2,2)    # Store two full waves of primary wave\n",
    "\n",
    "slab.wavePlot(dual=True)  # Plot waves\n",
    "\n",
    "slab.softReset()  # Set board to reset state after operation"
   ]
  },
  {
   "cell_type": "markdown",
   "metadata": {},
   "source": [
    "## Generate on DIO, measure on ADCs and DIOs\n",
    "\n",
    "Test the generating of digital patterns using DIO\n",
    "\n",
    "* Connect **DIO0** to **ADC1** and **DIO2**\n",
    "* Connect **DIO1** to **ADC2** and **DIO3**\n",
    "\n",
    "You should see two square waves on ADC1 and DIO2  \n",
    "You should also see four square waves ADC2 and DIO3"
   ]
  },
  {
   "cell_type": "code",
   "execution_count": null,
   "metadata": {},
   "outputs": [],
   "source": [
    "slab.softReset()  # Be sure of board state\n",
    "\n",
    "slab.dioMode(0,'output')\n",
    "slab.dioMode(1,'output')\n",
    "slab.dioMode(2,'input')\n",
    "slab.dioMode(3,'input')\n",
    "\n",
    "pattern = []\n",
    "for i in range(0,100):\n",
    "    value = 0\n",
    "    if (i//50)%2: value = 1 \n",
    "    if (i//25)%2: value = value+2\n",
    "    pattern.append(value)\n",
    "    \n",
    "pattern = np.array(pattern)    \n",
    "    \n",
    "slab.plot1n([],[pattern & 1,pattern & 2],'Pattern set on DIO lines')    \n",
    "    \n",
    "slab.loadDigitalWavetable(pattern)    \n",
    "slab.setSampleTime(0.001)\n",
    "\n",
    "slab.tranStore(200,2,2)    # Store two full waves of primary wave\n",
    "\n",
    "slab.wavePlot()  # Plot waves\n",
    "\n",
    "slab.softReset()  # Set board to reset state after operation"
   ]
  },
  {
   "cell_type": "markdown",
   "metadata": {},
   "source": [
    "## Generate on DAC and DIO, measure on ADCs and DIOs\n",
    "\n",
    "Test the generating of digital patterns using DIO\n",
    "\n",
    "* Connect **DAC1** to **ADC1** and **DIO1**\n",
    "* Connect **DIO0** to **ADC2** and **DIO2**\n",
    "\n",
    "You should see two sine waves on ADC1 and two square waves on DIO1  \n",
    "You should also see four square waves ADC2 DIO0 and DIO2"
   ]
  },
  {
   "cell_type": "code",
   "execution_count": null,
   "metadata": {},
   "outputs": [],
   "source": [
    "slab.softReset()  # Be sure of board state\n",
    "\n",
    "slab.dioMode(0,'output')\n",
    "slab.dioMode(1,'input')\n",
    "slab.dioMode(2,'input')\n",
    "\n",
    "pattern = []\n",
    "for i in range(0,50):\n",
    "    value = 0\n",
    "    if (i//25)%2: value = 1\n",
    "    pattern.append(value)\n",
    "    \n",
    "pattern = np.array(pattern)    \n",
    "    \n",
    "slab.plot11([],pattern,'Pattern set on DIO0')        \n",
    "    \n",
    "slab.waveSine(1.0,2.0,100) # 100 points sine wave\n",
    "slab.setWaveFrequency(70)  # Set wavefrequency to 70Hz    \n",
    "    \n",
    "slab.loadDigitalWavetable(pattern)    \n",
    "\n",
    "slab.tranStore(200,2,3)    # Store two full waves of primary wave\n",
    "\n",
    "slab.wavePlot()  # Plot waves\n",
    "\n",
    "slab.softReset()  # Set board to reset state after operation"
   ]
  },
  {
   "cell_type": "markdown",
   "metadata": {},
   "source": [
    "## Generate on both DACs and one DIO, measure on ADCs and DIOs\n",
    "\n",
    "Test the generating of digital patterns using DIO\n",
    "\n",
    "* Connect **DAC1** to **ADC1** and **DIO1**\n",
    "* Connect **DAC2** to **ADC2** and **DIO2**\n",
    "* Connect **DIO0** to **ADC3** and **DIO3**\n",
    "\n",
    "You should see two sine waves on ADC1 and two square waves on DIO1  \n",
    "Also four triangular waves on ADC2 and four square waves on DIO2  \n",
    "Finally, four quare waves ADC3 DIO0 and DIO3"
   ]
  },
  {
   "cell_type": "code",
   "execution_count": null,
   "metadata": {},
   "outputs": [],
   "source": [
    "slab.softReset()  # Be sure of board state\n",
    "\n",
    "slab.dioMode(0,'output')\n",
    "slab.dioMode(1,'input')\n",
    "slab.dioMode(2,'input')\n",
    "slab.dioMode(2,'input')\n",
    "\n",
    "pattern = []\n",
    "for i in range(0,50):\n",
    "    value = 0\n",
    "    if (i//25)%2: value = 1\n",
    "    pattern.append(value)\n",
    "    \n",
    "pattern = np.array(pattern)    \n",
    "    \n",
    "slab.plot11([],pattern,'Pattern set on DIO0')        \n",
    "    \n",
    "slab.waveSine(1.0,2.0,100) # 100 points sine wave\n",
    "slab.setWaveFrequency(70)  # Set wavefrequency to 70Hz    \n",
    "    \n",
    "slab.waveTriangle(1.0,2.0,50,second=True) # 50 points secondary triangle wave    \n",
    "    \n",
    "slab.loadDigitalWavetable(pattern)    \n",
    "\n",
    "slab.tranStore(200,3,4)    # Store two full waves of primary wave\n",
    "\n",
    "slab.wavePlot(dual=True)  # Plot waves\n",
    "\n",
    "slab.softReset()  # Set board to reset state after operation"
   ]
  },
  {
   "cell_type": "markdown",
   "metadata": {},
   "source": [
    "## Test Digital Wave Mask\n",
    "\n",
    "This test generates waves on two DIOs and senses on two other DIOs\n",
    "\n",
    "* Connect **DIO0** to **DIO2**\n",
    "* Connect **DIO1** to **DIO3**\n",
    "\n",
    "You should see two square waves on DIO0 and four on DIO1"
   ]
  },
  {
   "cell_type": "code",
   "execution_count": null,
   "metadata": {},
   "outputs": [],
   "source": [
    "slab.softReset()  # Be sure of board state\n",
    "\n",
    "slab.dioMode(0,'input') # Read pattern non DIO 0 and 1\n",
    "slab.dioMode(1,'input')\n",
    "\n",
    "slab.dioMode(2,'output') # Generate pattern on DIO 0 and 1\n",
    "slab.dioMode(3,'output')\n",
    "\n",
    "# Generate the pattern\n",
    "pattern = []\n",
    "for i in range(0,100):\n",
    "    value = 0\n",
    "    if (i//50)%2: value = 4 \n",
    "    if (i//25)%2: value = value+8\n",
    "    pattern.append(value)\n",
    "       \n",
    "pattern = np.array(pattern)  # Convert to numpy array\n",
    "    \n",
    "# Show the pattern    \n",
    "slab.plot1n([],[pattern & 4,pattern & 8],'Pattern set on DIO lines',labels=['DIO0','DIO1'])    \n",
    "    \n",
    "slab.loadDigitalWavetable(pattern,12)  # Upload the pattern\n",
    "slab.setSampleTime(0.001)              # Set sample time to 1ms\n",
    "\n",
    "slab.tranStore(200,0,2)    # Store two full waves of DIO pattern\n",
    "\n",
    "slab.wavePlot()  # Plot waves\n",
    "\n",
    "slab.softReset()  # Set board to reset state after operation"
   ]
  },
  {
   "cell_type": "markdown",
   "metadata": {},
   "source": [
    "<a id='system'></a>\n",
    "\n",
    "<div class=\"alert alert-block alert-info\">\n",
    "<BR>\n",
    "<font size=\"10\"> Tests that require a Scope </font> \n",
    "<BR>\n",
    "</div>"
   ]
  },
  {
   "cell_type": "markdown",
   "metadata": {},
   "source": [
    "## Prewaves on DAC \n",
    "\n",
    "Generate on DAC, measure on ADC and DIO  \n",
    "Test the waveplay operation using ADC and DIO measurement  \n",
    "Two preliminar waves are generated  \n",
    "\n",
    "* Connect **DAC1** to **ADC1** and **DIO0**\n",
    "* Connect **DAC1** to scope\n",
    "\n",
    "You should see two sinewaves on ADC1 and two square waves on DIO0\n",
    "\n",
    "There should be four sinewaves on the scope"
   ]
  },
  {
   "cell_type": "code",
   "execution_count": null,
   "metadata": {},
   "outputs": [],
   "source": [
    "slab.softReset()  # Be sure of board state\n",
    "\n",
    "slab.dioMode(0,'input')\n",
    "\n",
    "slab.waveSine(1.0,2.0,100) # 100 points sinewave\n",
    "slab.setWaveFrequency(70)  # Set wavefrequency to 70Hz\n",
    "slab.tranStore(200,1,1)    # Store two full waves\n",
    "\n",
    "slab.wavePlot(2,tinit=0.001)  # Plot wave with two preliminar waves\n",
    "\n",
    "slab.softReset()  # Set board to reset state after operation"
   ]
  },
  {
   "cell_type": "markdown",
   "metadata": {},
   "source": [
    "## Prewaves on both DAC \n",
    "\n",
    "Generate on both DACs, measure on ADCs and DIOs  \n",
    "Test the dual waveplay operation using ADCs  \n",
    "Two preliminar waves are generated  \n",
    "\n",
    "* Connect **DAC1** to **ADC1** and **DIO0**\n",
    "* Connect **DAC2** to **ADC2** and **DIO1**\n",
    "* Connect **DAC1** to scope channel 1\n",
    "* Connect **DAC2** to scope channel 2\n",
    "\n",
    "You should see two sinewaves on ADC1 and four triangle waves on ADC2\n",
    "You should also see two square waves on DIO0 and four on DIO1\n",
    "\n",
    "You should see four sinewaves on the scope channel 1 and eight triangle waves on channel 2"
   ]
  },
  {
   "cell_type": "code",
   "execution_count": null,
   "metadata": {},
   "outputs": [],
   "source": [
    "slab.softReset()  # Be sure of board state\n",
    "\n",
    "slab.dioMode(0,'input')\n",
    "slab.dioMode(1,'input')\n",
    "\n",
    "slab.waveSine(1.0,2.0,100) # 100 points sine wave\n",
    "slab.setWaveFrequency(70)  # Set wavefrequency to 70Hz\n",
    "\n",
    "slab.waveTriangle(1.0,2.0,50,second=True) # 50 points secondary triangle wave\n",
    "\n",
    "slab.tranStore(200,2,2)    # Store two full waves of primary wave\n",
    "\n",
    "slab.wavePlot(2,tinit=0.001,dual=True)  # Plot waves\n",
    "\n",
    "slab.softReset()  # Set board to reset state after operation"
   ]
  },
  {
   "cell_type": "markdown",
   "metadata": {},
   "source": [
    "## Prewaves on DIO\n",
    "\n",
    "Generate on DIO, measure on ADCs and DIOs\n",
    "\n",
    "Test the generating of digital patterns using DIO\n",
    "\n",
    "* Connect **DIO0** to **ADC1** and **DIO2**\n",
    "* Connect **DIO1** to **ADC2** and **DIO3**\n",
    "* Connect **DIO0** to scope channel 1\n",
    "* Connect **DIO1** to scope channel 2\n",
    "\n",
    "You should see two square waves on ADC1 and DIO2  \n",
    "You should also see four square waves ADC2 and DIO3  \n",
    "\n",
    "You should see four square waves on scope channel 1  \n",
    "You should also see eight square waves on scope channel 2  "
   ]
  },
  {
   "cell_type": "code",
   "execution_count": null,
   "metadata": {},
   "outputs": [],
   "source": [
    "slab.softReset()  # Be sure of board state\n",
    "\n",
    "slab.dioMode(0,'output')\n",
    "slab.dioMode(1,'output')\n",
    "slab.dioMode(2,'input')\n",
    "slab.dioMode(3,'input')\n",
    "\n",
    "pattern = []\n",
    "for i in range(0,100):\n",
    "    value = 0\n",
    "    if (i//50)%2: value = 1 \n",
    "    if (i//25)%2: value = value+2\n",
    "    pattern.append(value)\n",
    "    \n",
    "pattern = np.array(pattern)    \n",
    "    \n",
    "slab.plot1n([],[pattern & 1,pattern & 2],'Pattern set on DIO lines')    \n",
    "    \n",
    "slab.loadDigitalWavetable(pattern)    \n",
    "slab.setSampleTime(0.001)\n",
    "\n",
    "slab.tranStore(200,2,2)    # Store two full waves of primary wave\n",
    "\n",
    "slab.wavePlot(2,tinit=0.001)  # Plot waves\n",
    "\n",
    "slab.softReset()  # Set board to reset state after operation"
   ]
  },
  {
   "cell_type": "markdown",
   "metadata": {},
   "source": [
    "## Prewaves on DIO and both DACs\n",
    "\n",
    "Generate on both DACs and one DIO, measure on ADCs and DIOs\n",
    "\n",
    "Test the generating of digital patterns using DIO\n",
    "\n",
    "* Connect **DAC1** to **ADC1** and **DIO1**\n",
    "* Connect **DAC2** to **ADC2** and **DIO2**\n",
    "* Connect **DIO0** to **ADC3** and **DIO3**\n",
    "* Connect **DAC1** or **DAC2** to scope channel 1\n",
    "* Connect **DIO0** to scope channel 2\n",
    "\n",
    "You should see two sine waves on ADC1 and two square waves on DIO1  \n",
    "Also four triangular waves on ADC2 and four square waves on DIO2  \n",
    "Finally, four square waves ADC3 DIO0 and DIO3\n",
    "\n",
    "You should see four sine waves or eight triangle waves on scope channel 1\n",
    "You should see eight square waves on scope channel 2"
   ]
  },
  {
   "cell_type": "code",
   "execution_count": null,
   "metadata": {},
   "outputs": [],
   "source": [
    "slab.softReset()  # Be sure of board state\n",
    "\n",
    "slab.dioMode(0,'output')\n",
    "slab.dioMode(1,'input')\n",
    "slab.dioMode(2,'input')\n",
    "slab.dioMode(2,'input')\n",
    "\n",
    "pattern = []\n",
    "for i in range(0,50):\n",
    "    value = 0\n",
    "    if (i//25)%2: value = 1\n",
    "    pattern.append(value)\n",
    "    \n",
    "pattern = np.array(pattern)    \n",
    "    \n",
    "slab.plot11([],pattern,'Pattern set on DIO0')        \n",
    "    \n",
    "slab.waveSine(1.0,2.0,100) # 100 points sine wave\n",
    "slab.setWaveFrequency(70)  # Set wavefrequency to 70Hz    \n",
    "    \n",
    "slab.waveTriangle(1.0,2.0,50,second=True) # 50 points secondary triangle wave    \n",
    "    \n",
    "slab.loadDigitalWavetable(pattern)    \n",
    "\n",
    "slab.tranStore(200,2,4)    # Store two full waves of primary wave\n",
    "\n",
    "slab.wavePlot(2,tinit=0.001,dual=True)  # Plot waves\n",
    "\n",
    "slab.softReset()  # Set board to reset state after operation"
   ]
  },
  {
   "cell_type": "code",
   "execution_count": null,
   "metadata": {},
   "outputs": [],
   "source": [
    "help(slab.wavePlot)"
   ]
  },
  {
   "cell_type": "markdown",
   "metadata": {},
   "source": [
    "## Document license\n",
    "\n",
    "Copyright  ©  Vicente Jiménez (2018)  \n",
    "This work is licensed under a Creative Common Attribution-ShareAlike 4.0 International license.  \n",
    "This license is available at http://creativecommons.org/licenses/by-sa/4.0/\n",
    "\n",
    "<img  src=\"images/cc_sa.png\" width=\"200\">"
   ]
  },
  {
   "cell_type": "code",
   "execution_count": null,
   "metadata": {},
   "outputs": [],
   "source": []
  }
 ],
 "metadata": {
  "kernelspec": {
   "display_name": "Python 3",
   "language": "python",
   "name": "python3"
  },
  "language_info": {
   "codemirror_mode": {
    "name": "ipython",
    "version": 3
   },
   "file_extension": ".py",
   "mimetype": "text/x-python",
   "name": "python",
   "nbconvert_exporter": "python",
   "pygments_lexer": "ipython3",
   "version": "3.7.1"
  }
 },
 "nbformat": 4,
 "nbformat_minor": 2
}
