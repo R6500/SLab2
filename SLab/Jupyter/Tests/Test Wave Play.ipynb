{
 "cells": [
  {
   "cell_type": "markdown",
   "metadata": {},
   "source": [
    "<img style=\"float: right;\"  src=\"images/LogoP.jpg\" width=\"200\">\n",
    "\n",
    "# Test Wave Play\n",
    "\n",
    "This Jupyter Notebook test the Wave Play functionality\n",
    "\n",
    "Version 1.0 (10/6/2018) License information is at the end of the document\n",
    "\n",
    "---"
   ]
  },
  {
   "cell_type": "markdown",
   "metadata": {},
   "source": [
    "## Global operations\n",
    "\n",
    "Cells for importing SLab, connecting to the board, and disconnecting from the board\n",
    "\n",
    "The **test** are all independent of each other, but you must import the **slab** module and **connect** to the board to use them."
   ]
  },
  {
   "cell_type": "code",
   "execution_count": null,
   "metadata": {},
   "outputs": [],
   "source": [
    "# Import numpy\n",
    "import numpy as np\n",
    "\n",
    "# Import the main SLab module\n",
    "import slab"
   ]
  },
  {
   "cell_type": "code",
   "execution_count": null,
   "metadata": {},
   "outputs": [],
   "source": [
    "boardFolder = ''                                # Board folder (leave '' if you use only one board)\n",
    "slab.setFilePrefix('../Files/')                 # Set File Prefix\n",
    "slab.setCalPrefix('Calibrations/'+boardFolder)  # Set Calibration Prefix         \n",
    "slab.connect()                                  # Connect to the board"
   ]
  },
  {
   "cell_type": "code",
   "execution_count": null,
   "metadata": {},
   "outputs": [],
   "source": [
    "# Disconnect when you end using this sandbox\n",
    "slab.disconnect()"
   ]
  },
  {
   "cell_type": "markdown",
   "metadata": {},
   "source": [
    "## Generate Wave on DAC1\n",
    "\n",
    "Generates 10 waves on **DAC1**\n",
    "\n",
    "* Connect **DAC1** to Scope\n",
    "\n",
    "You should see 10 waves on the first test"
   ]
  },
  {
   "cell_type": "code",
   "execution_count": null,
   "metadata": {},
   "outputs": [],
   "source": [
    "slab.softReset()  # Be sure of board state\n",
    "\n",
    "slab.waveSine(1.0,2.0,100) # 100 points sinewave\n",
    "slab.setWaveFrequency(70)  # Set wavefrequency to 70Hz\n",
    "\n",
    "slab.wavePlay(10,tinit=0.01) # Play 10 waves\n",
    "\n",
    "slab.softReset()  # Set board to reset state after operation"
   ]
  },
  {
   "cell_type": "markdown",
   "metadata": {},
   "source": [
    "Generates waves forever on **DAC1**, use **halt** button to stop"
   ]
  },
  {
   "cell_type": "code",
   "execution_count": null,
   "metadata": {},
   "outputs": [],
   "source": [
    "slab.softReset()  # Be sure of board state\n",
    "\n",
    "slab.waveSine(1.0,2.0,100) # 100 points sinewave\n",
    "slab.setWaveFrequency(70)  # Set wavefrequency to 70Hz\n",
    "\n",
    "slab.wavePlay(0) # Play forever\n",
    "\n",
    "slab.softReset()  # Set board to reset state after operation"
   ]
  },
  {
   "cell_type": "markdown",
   "metadata": {},
   "source": [
    "## Generate Waves on DAC1 and DAC2\n",
    "\n",
    "Generates 10 waves on **DAC1** and 20 on **DAC2**\n",
    "\n",
    "* Connect **DAC1** to Scope Channel 1\n",
    "* Connect **DAC2** to Scope Channel 2\n",
    "\n",
    "On the first test:\n",
    "\n",
    "* You should see 10 sine waves on Channel 1\n",
    "* You should see 20 triangle waves on Channel 2"
   ]
  },
  {
   "cell_type": "code",
   "execution_count": null,
   "metadata": {},
   "outputs": [],
   "source": [
    "slab.softReset()  # Be sure of board state\n",
    "\n",
    "slab.waveSine(1.0,2.0,100) # 100 points sinewave\n",
    "slab.setWaveFrequency(70)  # Set wavefrequency to 70Hz\n",
    "\n",
    "slab.waveTriangle(1.0,2.0,50,second=True) # 50 points secondary triangle wave\n",
    "\n",
    "slab.wavePlay(10,tinit=0.01,dual=True) # Play 10 waves\n",
    "\n",
    "slab.softReset()  # Set board to reset state after operation"
   ]
  },
  {
   "cell_type": "markdown",
   "metadata": {},
   "source": [
    "Generates waves forever on **DAC1** and **DAC2**, use **halt** button to stop"
   ]
  },
  {
   "cell_type": "code",
   "execution_count": null,
   "metadata": {},
   "outputs": [],
   "source": [
    "slab.softReset()  # Be sure of board state\n",
    "\n",
    "slab.waveSine(1.0,2.0,100) # 100 points sinewave\n",
    "slab.setWaveFrequency(70)  # Set wavefrequency to 70Hz\n",
    "\n",
    "slab.waveTriangle(1.0,2.0,50,second=True) # 50 points secondary triangle wave\n",
    "\n",
    "slab.wavePlay(0,dual=True) # Play 10 waves\n",
    "\n",
    "slab.softReset()  # Set board to reset state after operation"
   ]
  },
  {
   "cell_type": "markdown",
   "metadata": {},
   "source": [
    "## Generate Waves on DIO0 and DIO1\n",
    "\n",
    "Generates 10 wave patterns on DIO0 and DIO1\n",
    "\n",
    "* Connect **DIO0** to Scope Channel 1\n",
    "* Connect **DIO1** to Scope Channel 2\n",
    "\n",
    "On the first test:\n",
    "\n",
    "* You should see 10 square waves on Channel 1\n",
    "* You should see 20 square waves on Channel 2"
   ]
  },
  {
   "cell_type": "code",
   "execution_count": null,
   "metadata": {},
   "outputs": [],
   "source": [
    "slab.softReset()  # Be sure of board state\n",
    "\n",
    "slab.dioMode(0,'output')\n",
    "slab.dioMode(1,'output')\n",
    "\n",
    "pattern = []\n",
    "for i in range(0,100):\n",
    "    value = 0\n",
    "    if (i//50)%2: value = 1 \n",
    "    if (i//25)%2: value = value+2\n",
    "    pattern.append(value)\n",
    "    \n",
    "pattern = np.array(pattern)    \n",
    "    \n",
    "slab.plot1n([],[pattern & 1,pattern & 2],'Pattern set on DIO lines')    \n",
    "    \n",
    "slab.loadDigitalWavetable(pattern)    \n",
    "slab.setSampleTime(0.001)\n",
    "\n",
    "slab.wavePlay(10,tinit=0.01)  # Plot waves\n",
    "\n",
    "slab.softReset()  # Set board to reset state after operation"
   ]
  },
  {
   "cell_type": "markdown",
   "metadata": {},
   "source": [
    "Generates waves forever on **DIO0** and **DIO1**, use **halt** button to stop"
   ]
  },
  {
   "cell_type": "code",
   "execution_count": null,
   "metadata": {},
   "outputs": [],
   "source": [
    "slab.softReset()  # Be sure of board state\n",
    "\n",
    "slab.dioMode(0,'output')\n",
    "slab.dioMode(1,'output')\n",
    "\n",
    "pattern = []\n",
    "for i in range(0,100):\n",
    "    value = 0\n",
    "    if (i//50)%2: value = 1 \n",
    "    if (i//25)%2: value = value+2\n",
    "    pattern.append(value)\n",
    "    \n",
    "pattern = np.array(pattern)    \n",
    "    \n",
    "slab.plot1n([],[pattern & 1,pattern & 2],'Pattern set on DIO lines')    \n",
    "    \n",
    "slab.loadDigitalWavetable(pattern)    \n",
    "slab.setSampleTime(0.001)\n",
    "\n",
    "slab.wavePlay(0)  # Plot waves\n",
    "\n",
    "slab.softReset()  # Set board to reset state after operation"
   ]
  },
  {
   "cell_type": "markdown",
   "metadata": {},
   "source": [
    "## Generate Waves on both DACs and two DIOs\n",
    "\n",
    "Generates 10 primary wave patterns\n",
    "\n",
    "* Connect Scope Channel 1 to **DAC1** or **DAC2**\n",
    "* Connect Scope Channel 2 to **DIO0** or **DIO1**\n",
    "\n",
    "On the first test:\n",
    "\n",
    "* You should see 10 sine waves on **DAC1**\n",
    "* You should see 20 triangle waves on **DAC2**\n",
    "* You should see 10 square waves on **DIO0**\n",
    "* You should see 20 square waves on **DIO1**"
   ]
  },
  {
   "cell_type": "code",
   "execution_count": null,
   "metadata": {},
   "outputs": [],
   "source": [
    "slab.softReset()  # Be sure of board state\n",
    "\n",
    "slab.dioMode(0,'output')\n",
    "slab.dioMode(1,'output')\n",
    "\n",
    "pattern = []\n",
    "for i in range(0,100):\n",
    "    value = 0\n",
    "    if (i//50)%2: value = 1 \n",
    "    if (i//25)%2: value = value+2\n",
    "    pattern.append(value)\n",
    "    \n",
    "pattern = np.array(pattern)    \n",
    "    \n",
    "slab.waveSine(1.0,2.0,100) # 100 points sinewave\n",
    "slab.setWaveFrequency(70)  # Set wavefrequency to 70Hz\n",
    "\n",
    "slab.waveTriangle(1.0,2.0,50,second=True) # 50 points secondary triangle wave  \n",
    "    \n",
    "slab.loadDigitalWavetable(pattern)    \n",
    "slab.setSampleTime(0.001)\n",
    "\n",
    "slab.wavePlay(10,tinit=0.01,dual=True)  # Plot waves\n",
    "\n",
    "slab.softReset()  # Set board to reset state after operation"
   ]
  },
  {
   "cell_type": "markdown",
   "metadata": {},
   "source": [
    "Generates waves forever on **DACs** and **DIOs**, use **halt** button to stop"
   ]
  },
  {
   "cell_type": "code",
   "execution_count": null,
   "metadata": {},
   "outputs": [],
   "source": [
    "slab.softReset()  # Be sure of board state\n",
    "\n",
    "slab.dioMode(0,'output')\n",
    "slab.dioMode(1,'output')\n",
    "slab.dioMode(2,'input')\n",
    "slab.dioMode(3,'input')\n",
    "\n",
    "pattern = []\n",
    "for i in range(0,100):\n",
    "    value = 0\n",
    "    if (i//50)%2: value = 1 \n",
    "    if (i//25)%2: value = value+2\n",
    "    pattern.append(value)\n",
    "    \n",
    "pattern = np.array(pattern)    \n",
    "    \n",
    "slab.waveSine(1.0,2.0,100) # 100 points sinewave\n",
    "slab.setWaveFrequency(70)  # Set wavefrequency to 70Hz\n",
    "\n",
    "slab.waveTriangle(1.0,2.0,50,second=True) # 50 points secondary triangle wave  \n",
    "    \n",
    "slab.loadDigitalWavetable(pattern)    \n",
    "slab.setSampleTime(0.001)\n",
    "\n",
    "slab.tranStore(200,2,2)    # Store two full waves of primary wave\n",
    "\n",
    "slab.wavePlay(0,dual=True)  # Plot waves\n",
    "\n",
    "slab.softReset()  # Set board to reset state after operation"
   ]
  },
  {
   "cell_type": "markdown",
   "metadata": {},
   "source": [
    "## Document license\n",
    "\n",
    "Copyright  ©  Vicente Jiménez (2018)  \n",
    "This work is licensed under a Creative Common Attribution-ShareAlike 4.0 International license.  \n",
    "This license is available at http://creativecommons.org/licenses/by-sa/4.0/\n",
    "\n",
    "<img  src=\"images/cc_sa.png\" width=\"200\">"
   ]
  },
  {
   "cell_type": "code",
   "execution_count": null,
   "metadata": {},
   "outputs": [],
   "source": []
  }
 ],
 "metadata": {
  "kernelspec": {
   "display_name": "Python 3",
   "language": "python",
   "name": "python3"
  },
  "language_info": {
   "codemirror_mode": {
    "name": "ipython",
    "version": 3
   },
   "file_extension": ".py",
   "mimetype": "text/x-python",
   "name": "python",
   "nbconvert_exporter": "python",
   "pygments_lexer": "ipython3",
   "version": "3.7.1"
  }
 },
 "nbformat": 4,
 "nbformat_minor": 2
}
