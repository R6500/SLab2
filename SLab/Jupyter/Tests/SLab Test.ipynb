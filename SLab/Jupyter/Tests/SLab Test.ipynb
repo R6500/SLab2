{
 "cells": [
  {
   "cell_type": "markdown",
   "metadata": {},
   "source": [
    "<img style=\"float: right;\"  src=\"images/LogoP.jpg\" width=\"200\">\n",
    "\n",
    "# SLab Test\n",
    "\n",
    "Basic test of the SLab installation\n",
    "\n",
    "Version 1.0 (18/5/2019) License information is at the end of the document\n",
    "\n",
    "---"
   ]
  },
  {
   "cell_type": "markdown",
   "metadata": {},
   "source": [
    "## Check Packages\n",
    "\n",
    "This section will check that you have the needed packages.  \n",
    "Execute the following code cell by selecting it with a cclick of the cursor followed by clicking on the **Run** button at the top of this window."
   ]
  },
  {
   "cell_type": "code",
   "execution_count": null,
   "metadata": {},
   "outputs": [],
   "source": [
    "import importlib\n",
    "\n",
    "def check(package):\n",
    "    try:\n",
    "        importlib.import_module(package)\n",
    "    except:\n",
    "        print('Package',package,'is not installed (ERROR)')\n",
    "    else:\n",
    "        print('Package',package,'is installed (OK)')\n",
    "        \n",
    "check('serial')\n",
    "check('numpy')\n",
    "check('matplotlib')\n",
    "check('jupyter')"
   ]
  },
  {
   "cell_type": "markdown",
   "metadata": {},
   "source": [
    "If this is a new installation, the execution can take some time.  \n",
    "If the above code gives **Ok** for all four packages. Congratulations, you have a working **Python-Jupyter** system for **SLab** purposes.  \n",
    "If any module fails, check your **Python** environment documentation to see how the module can be installed."
   ]
  },
  {
   "cell_type": "markdown",
   "metadata": {},
   "source": [
    "## Check SLab\n",
    "\n",
    "Next step is to check the **SLab** installation.  \n",
    "Run the following code cell. "
   ]
  },
  {
   "cell_type": "code",
   "execution_count": null,
   "metadata": {},
   "outputs": [],
   "source": [
    "# Import the main SLab module\n",
    "import slab"
   ]
  },
  {
   "cell_type": "markdown",
   "metadata": {},
   "source": [
    "Some messages will show including the used **SLab** version.  \n",
    "If the **SLab** module cannot be found, check that, previous to running **Jupyter**, the **PYTHONPATH** variable points to the **Code** folder of the **SLab** system. Usually:\n",
    "\n",
    "$\\qquad$ `PYTHONPATH=\\SLab\\Code`\n",
    "\n",
    "Now, execute the following code cell. A graph should show. If it is not the case, run the cell again."
   ]
  },
  {
   "cell_type": "code",
   "execution_count": null,
   "metadata": {},
   "outputs": [],
   "source": [
    "# Import the Numpy module\n",
    "import numpy as np\n",
    "\n",
    "x = np.linspace(0,7,200)   # Create a 200 point vector between 0 and 7\n",
    "y = np.sin(x)              # Calculate the sine\n",
    "\n",
    "# Plot the sine\n",
    "slab.plot11(x,y,'Sine function','Angel [rad]','Sine')"
   ]
  },
  {
   "cell_type": "markdown",
   "metadata": {},
   "source": [
    "If the above code works ok, congratulatins, the **SLab** code is properly installed on your system."
   ]
  },
  {
   "cell_type": "markdown",
   "metadata": {},
   "source": [
    "## Check Hardware\n",
    "\n",
    "This last section will do a preliminar check of the **SLab** Hardware board.  \n",
    "If you execute this code for the first time just after installing SLab, perhaps you will want to skit this tests as you could need more information about the SLab board operation.\n",
    "\n",
    "First thing to do is connect to the board. Connect the **SLab Hardware Board** to the PC using an USB to MiniUSB cable and wait for the drivers to install.\n",
    "\n",
    "Afterwards, execute the following code cell to connect with the board."
   ]
  },
  {
   "cell_type": "code",
   "execution_count": null,
   "metadata": {},
   "outputs": [],
   "source": [
    "boardFolder = ''                                # Board folder (leave '' if you use only one board)\n",
    "slab.setFilePrefix('../Files/')                 # Set File Prefix\n",
    "slab.setCalPrefix('Calibrations/'+boardFolder)  # Set Calibration Prefix         \n",
    "slab.connect()                                  # Connect to the board"
   ]
  },
  {
   "cell_type": "markdown",
   "metadata": {},
   "source": [
    "The code should generate several lines the text that give some information about the board and its calibration data.\n",
    "\n",
    "If the connection fails, check that it is properly connected. If needed, reset the board or disconnect and connect again before running again the cell."
   ]
  },
  {
   "cell_type": "markdown",
   "metadata": {},
   "source": [
    "The last test that we will perform is a simple measurement, just measure on **ADC1** the voltage set on **DAC1**.\n",
    "\n",
    "To perform the test, just connect the **DAC1** output to the **ADC1** input, leave the rest of the **SLab** lines unconnected or in the standard docking position.\n",
    "\n",
    "$$DAC1 \\rightarrow ADC1$$\n",
    "\n",
    "Now execute the following code cell."
   ]
  },
  {
   "cell_type": "code",
   "execution_count": null,
   "metadata": {},
   "outputs": [],
   "source": [
    "# Perform a DC sweep plot\n",
    "slab.dcSweepPlot(1,0.5,3.0,na=1)"
   ]
  },
  {
   "cell_type": "markdown",
   "metadata": {},
   "source": [
    "After the code ends you should get a stright line with equal X and Y values. IF it is not the case, check the connections on the hardware board.\n",
    "\n",
    "Disconnect from the board after you end the tests."
   ]
  },
  {
   "cell_type": "code",
   "execution_count": null,
   "metadata": {},
   "outputs": [],
   "source": [
    "# Disconnect from the boad\n",
    "slab.disconnect()"
   ]
  },
  {
   "cell_type": "markdown",
   "metadata": {},
   "source": [
    "## Document license\n",
    "\n",
    "Copyright  ©  Vicente Jiménez (2018)  \n",
    "This work is licensed under a Creative Common Attribution-ShareAlike 4.0 International license.  \n",
    "This license is available at http://creativecommons.org/licenses/by-sa/4.0/\n",
    "\n",
    "<img  src=\"images/cc_sa.png\" width=\"200\">"
   ]
  },
  {
   "cell_type": "code",
   "execution_count": null,
   "metadata": {},
   "outputs": [],
   "source": []
  }
 ],
 "metadata": {
  "kernelspec": {
   "display_name": "Python 3",
   "language": "python",
   "name": "python3"
  },
  "language_info": {
   "codemirror_mode": {
    "name": "ipython",
    "version": 3
   },
   "file_extension": ".py",
   "mimetype": "text/x-python",
   "name": "python",
   "nbconvert_exporter": "python",
   "pygments_lexer": "ipython3",
   "version": "3.7.1"
  }
 },
 "nbformat": 4,
 "nbformat_minor": 2
}
