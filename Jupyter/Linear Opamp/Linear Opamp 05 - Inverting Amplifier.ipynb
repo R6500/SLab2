{
 "cells": [
  {
   "cell_type": "markdown",
   "metadata": {},
   "source": [
    "<img style=\"float: right;\"  src=\"images/LogoP.jpg\" width=\"200\">\n",
    "\n",
    "# Linear Opamp 05   \n",
    "# Inverting Amplifier\n",
    "\n",
    "<BR>\n",
    "This project deals with another common opamp topology: the inverting amplifier.   \n",
    "    \n",
    "Using this circuit more formal feedback calculations are made.\n",
    "\n",
    "Version 1.2 (13/3/2019)  \n",
    "License information is at the end of the document\n",
    "\n",
    "---\n",
    "\n",
    "**Bill Of Materials (BOM):**\n",
    "\n",
    "* 1x Dual Opamp MCP6002\n",
    "* Resistors: $100\\Omega$, $1 k\\Omega$, $2,2k\\Omega$ and 2x $33k\\Omega$\n",
    "* Capacitors: $100 nF$ and $10\\mu F$ (Electrolytic)\n",
    "\n",
    "---"
   ]
  },
  {
   "cell_type": "markdown",
   "metadata": {},
   "source": [
    "## The inverting circuit topology\n",
    "\n",
    "The following circuit is an inverting amplifier. It generates an output voltage that is inverted compared to the input. That is, features a 180º phase difference. Depending on the resistors the output amplitude can be higher, equal or lower than the input. This makes a difference respect to the non inverting circuit that cannot attenuate the input signal.\n",
    "\n",
    "![Fig 01](images/L_OA_05/fig01.png)\n",
    "\n",
    "As in the non inverting amplifier, we could also use the first order model of the opamp to solve the circuit but we will start with the easy virtual short circuit model path.\n",
    "\n",
    "---\n",
    "\n",
    "**CALCULATION TASK**\n",
    "Obtain the voltage gain $G_1 = V_O/V_i$ as function of $R1$ and $R2$  \n",
    "&nbsp; for the circuit using the virtual short circuit model      \n",
    "\n",
    "---\n",
    "\n",
    "You should note that the gain $G_1$ is negative. That is, inverts the phase. You should also note that the absolute value of the gain can be greater that 1 (Amplifying) or less than 1 (Attenuating) depending on the value of the resistors. This is different from the non inverting amplifier that could not attenuate the signal.\n",
    "\n",
    "As the gain is negative, a positive input value will generate a negative output value. If the opamp has is fed by a unipolar supply, between **Vdd** and **GND**, the output cannot be negative so this amplifier is useless as is.\n",
    "\n",
    "We can add a reference voltage source for the $V_{(+)}$ terminal. That will enable work with voltage differences between the input $V_i$ and the reference voltage $V_r$.\n",
    "\n",
    "![Fig 02](images/L_OA_05/fig02.png)\n",
    "\n",
    "Using a voltage source to generate $V_r$ is overkill. Specially if you use an opamp, like the **MCP6002** that has near zero input current. You can substitute this voltage source by a voltage divider.\n",
    "\n",
    "![Fig 03](images/L_OA_05/fig03.png)\n",
    "\n",
    "---\n",
    "\n",
    "**CALCULATION TASK**  \n",
    "Obtain Vr as function of R3, R4.  \n",
    "Obtain Vo as function of Vi, Vr, R1 and R2.    \n",
    "\n",
    "---\n",
    "    \n",
    "The expression can be written as:\n",
    "\n",
    "$$V_o = V_r + G1 \\cdot (V_i-V_r)$$\n",
    "\n",
    "Where **G1** should be a negative value.\n",
    "\n",
    "If the opamp has full rail output, the reference voltage usually is set at half **Vdd**. So you only need to make $R_3$ and $R_4$ equal. We will use the following set of values:\n",
    "\n",
    "$$R1 = 2,2 k\\Omega \\qquad R2 = 1 k\\Omega \\qquad  R3 = R4 = 33 k\\Omega$$\n",
    "\n",
    "---\n",
    "\n",
    "**CALCULATION TASK**  \n",
    "Calculate Vr and G1 for this set of components.     \n",
    "\n",
    "---\n",
    "    "
   ]
  },
  {
   "cell_type": "markdown",
   "metadata": {},
   "source": [
    "## Measuring the circuit\n",
    "\n",
    "Now we can build and measure this circuit.\n",
    "\n",
    "---\n",
    "\n",
    "![Practical Icon](images/pt.png)\n",
    "\n",
    "---\n",
    "\n",
    "We will now import the needed SLab modules and connect to the board."
   ]
  },
  {
   "cell_type": "code",
   "execution_count": null,
   "metadata": {},
   "outputs": [],
   "source": [
    "# Import modules\n",
    "import slab\n",
    "import slab.dc as dc\n",
    "import slab.ac as ac"
   ]
  },
  {
   "cell_type": "code",
   "execution_count": null,
   "metadata": {},
   "outputs": [],
   "source": [
    "boardFolder = ''                                # Board folder (leave '' if you use only one board)\n",
    "slab.setFilePrefix('../Files/')                 # Set File Prefix\n",
    "slab.setCalPrefix('Calibrations/'+boardFolder)  # Set Calibration Prefix         \n",
    "slab.connect()                                  # Connect to the board"
   ]
  },
  {
   "cell_type": "markdown",
   "metadata": {},
   "source": [
    "It is always a good idea to check the board calibration.   \n",
    "The following code cell checks the calibration of the **DACs** and the first four **ADCs**"
   ]
  },
  {
   "cell_type": "code",
   "execution_count": null,
   "metadata": {
    "collapsed": true
   },
   "outputs": [],
   "source": [
    "# Check the calibration\n",
    "slab.checkCalibration(pause=False,na=4)"
   ]
  },
  {
   "cell_type": "markdown",
   "metadata": {},
   "source": [
    "---\n",
    "\n",
    "**BUILD TASK**  \n",
    "Mount the proposed circuit.   \n",
    "\n",
    "---\n",
    "\n",
    "Now, we can measure the reference voltage $V_r$."
   ]
  },
  {
   "cell_type": "code",
   "execution_count": null,
   "metadata": {},
   "outputs": [],
   "source": [
    "# Read reference voltage at ADC3\n",
    "slab.readVoltage(3)"
   ]
  },
  {
   "cell_type": "markdown",
   "metadata": {},
   "source": [
    "Now we can obtain the DC curve:"
   ]
  },
  {
   "cell_type": "code",
   "execution_count": null,
   "metadata": {},
   "outputs": [],
   "source": [
    "# Circuit Vo(Vi) DC response\n",
    "dc.curveVV(0,3.2,0.1)"
   ]
  },
  {
   "cell_type": "markdown",
   "metadata": {},
   "source": [
    "We can plot the data using the voltage reference as the zero point for input and output values. Remember that the **dcSweep** command returns a list with the chosen DAC at position 0 followed with the ADC values."
   ]
  },
  {
   "cell_type": "code",
   "execution_count": null,
   "metadata": {},
   "outputs": [],
   "source": [
    "# Response respect to the Vr value\n",
    "data = slab.dcSweep(1,0,3.2,0.1)\n",
    "vi = data[0] - data[3]\n",
    "vo = data[1] - data[3]\n",
    "slab.plot11(vi,vo,'Inverting Amplifier','Vi(V)','Vo(V)')"
   ]
  },
  {
   "cell_type": "markdown",
   "metadata": {},
   "source": [
    "We can also plot the response of the circuit against a 100 Hz sine wave:"
   ]
  },
  {
   "cell_type": "code",
   "execution_count": null,
   "metadata": {},
   "outputs": [],
   "source": [
    "# Response to 100Hz sine wave\n",
    "slab.waveSine(1.2,2.1,100)\n",
    "slab.setWaveFrequency(100)\n",
    "slab.tranStore(500,3)\n",
    "slab.wavePlot()"
   ]
  },
  {
   "cell_type": "markdown",
   "metadata": {},
   "source": [
    "You can see that the reference voltage at **ADC3** is constant whereas the output at **ADC1** has gain respect to the input at **ADC2**. Both signals have the same mean that is the reference voltage.  \n",
    "\n",
    "If we shift the input signal respect to the reference, as this shift is affected by the negative gain, the output will shift in the opposite direction."
   ]
  },
  {
   "cell_type": "code",
   "execution_count": null,
   "metadata": {},
   "outputs": [],
   "source": [
    "# Shifted offset response\n",
    "slab.waveSine(1.3,2.2,100)\n",
    "slab.wavePlot()"
   ]
  },
  {
   "cell_type": "markdown",
   "metadata": {},
   "source": [
    "We would like to measure the bandwidth of the circuit, but as in the non inverting amplifier with low gain, it is too high to be measured with the SLab system.\n",
    "\n",
    "Perform the requested measurements.   \n",
    "Are the reference voltage and the gain as expected?  \n",
    "Check the shift of the signals when they are not centered in $V_r$.      \n"
   ]
  },
  {
   "cell_type": "markdown",
   "metadata": {},
   "source": [
    "## Losing bandwidth\n",
    "\n",
    "Turns out, that this circuit does not preserve the **GBW product**. At least it does not preserve the product of the signal gain and the bandwidth.\n",
    "\n",
    "As we remember from previous projects, both the follower and the non inverting amplifier feature the same GBW product as the open loop amplifier. Comparing those circuits with the inverting amplifier you should note that this circuit has one difference: The input is not connected to any opamp terminal. And here relies the problem. The GBW product is conserved in the opamp component between its inputs and outputs, not at the whole circuit.\n",
    "\n",
    "Take, for instance, this circuit:\n",
    "\n",
    "![Fig 04](images/L_OA_05/fig04.png)\n",
    "\n",
    "This is a voltage divider followed with a follower (pun intended). As resistors are $9k\\Omega$ and $1k\\Omega$, the gain for the circuit is 1/10. The **GBW** for the follower, between $V_{(+)}$ and $V_o$ is the same that the one of the opamp in open loop. But the **GBW** for the whole circuit, between $V_i$ and $V_o$ is 10 times lower.\n",
    "\n",
    "Remember this mantra: \n",
    "“The GBW product conservation is a property of the operational amplifier, not of the whole circuit that uses it”.\n",
    "\n",
    "<div class=\"alert alert-block alert-warning\">\n",
    "<font size=\"5\" color=brown>Remember this mantra:</font><font color=black> \n",
    "<BR><BR>\n",
    "“The GBW product conservation is a property of the operational amplifier, not of the whole circuit that uses it”.\n",
    "<BR></font></div>\n",
    "\n",
    "Let’s return to the original inverting circuit. You could be tempted to check if the **GBW** is conserved by calculating the amplifier gain between $V_{(-)}$ and $V_o$. But, thanks to the virtual short circuit, the gain between those points is infinite.\n",
    "That’s because the signal at node $V_{(-)}$ is not voltage but current: The one that flows through $R_2$."
   ]
  },
  {
   "cell_type": "markdown",
   "metadata": {},
   "source": [
    "## Calculating the noise gain\n",
    "\n",
    "Fortunately there is a trick to calculate the gain at opamp pins. First we make zero all independents supplies, like $V_i$. As the reference acts as voltage source, we can also ground the $V_{(+)}$ terminal. We get:\n",
    "\n",
    "![Fig 05](images/L_OA_05/fig05.png)\n",
    "\n",
    "Then we put an input voltage source $V_n$ in series with the $V_{(+)}$ terminal.\n",
    "\n",
    "![Fig 06](images/L_OA_05/fig06.png)\n",
    "\n",
    "Now, calculate the gain for this circuit using the virtual short circuit model:\n",
    "\n",
    "$$G_N = \\frac{V_o}{V_i}$$\n",
    "\n",
    "This $G_N$ value, or **noise gain**, is the one we need to calculate the circuit bandwidth.\n",
    "\n",
    "$$BW = \\frac{GBW_{opamp}}{G_N}$$\n",
    "\n",
    "---\n",
    "\n",
    "**CALCULATION TASK**  \n",
    "Calculate the $G_N$ gain value for the circuit as function of $R1$ and $R2$.   \n",
    "Calculate $G_N$ for the resistor values of the circuit we built.      \n",
    "Calculate the circuit $BW$ using $G_N$.  \n",
    "\n",
    "---\n",
    "\n",
    "You can see that the $G_N$ value equation, as function of $R_1$ and $R_2$, reminds us of the **non inverting amplifier**. In fact, it is the very same equation.\n",
    "If you calculate the noise gain $G_N$ in those two circuits you will get the same noise gain calculation final circuit and so, the same noise gain.\n",
    "\n",
    "![Fig 07](images/L_OA_05/fig07.png)\n",
    "\n",
    "Perhaps you are puzzled by the fact that we are talking about **noise gain** when no noise is involved in any of the calculations. The fact is that this noise gain that can be used to predict the circuit **bandwidth** can also be used in **noise** calculations. As it is the same number, we use only one name to describe it although noise calculations are out of the scope of this document. \n",
    "\n",
    "At this point it seems that the **noise gain** is the way to go to calculate the circuit bandwidth, but we have not demonstrated those results.\n",
    "\n",
    "By calculating the noise gain, we have prevented the use of circuit calculations in the \"s\" domain. Nothing prevents you to calculate the circuit using the single pole operational amplifier model. You would obtain the very same results if you do. Try yourself if not convinced."
   ]
  },
  {
   "cell_type": "markdown",
   "metadata": {},
   "source": [
    "## Doing it in another way\n",
    "\n",
    "<div class=\"alert alert-block alert-warning\">\n",
    "<font size=\"5\" color=brown>Beware: This section contains dragons</font><font color=black> \n",
    "<BR><BR>\n",
    "Here we do some calculations to demonstrate the previous results. If you are happy enough believing that the circuit bandwidth can be calculated from the noise gain GN and don’t want to do more calculations about that, you can skip this section and go to the “input resistance” section.  \n",
    "However, if you are not satisfied with believing but you also want to know why it works, keep reading.  \n",
    "<BR></font></div>\n",
    "    \n",
    "Up to this point we have used the **virtual short circuit model** because it is the easiest way to calculate the circuit operation. This model, however, has some serious limitations:\n",
    "\n",
    "* Cannot provide any insight about the circuit **stability**. This model depends on the assumption that the circuit is stable and its output is not saturated.\n",
    "\n",
    "* Cannot provide any **frequency response** data. That’s why we have used the **GBW** product conservation to estimate its bandwidth.\n",
    "\n",
    "We will use the first order model directly on the circuit to analyze, but we will follow an indirect path to it. For all those calculations you can connect $V_{(+)}$ to **GND**. No need for $V_r$.\n",
    "\n",
    "First, we will calculate the $V_d$ value as function of $V_i$ and $V_o$. These calculations don’t consider the operational amplifier at all. You will end up with something like that:\n",
    "\n",
    "$$V_d = K\\cdot V_i - \\beta \\cdot V_o$$\n",
    "\n",
    "---\n",
    "\n",
    "**CALCULATION TASK**  \n",
    "Obtain $K$ and $\\beta$ on the inverting amplifier as function of $R1$ and $R2$.  \n",
    "Calculate them for the chosen resistor values.      \n",
    "\n",
    "---\n",
    "\n",
    "In our case $K$ should be negative and $\\beta$ should be positive because $V_d$ lowers when either $V_i$ or $V_o$ increases.\n",
    "\n",
    "The obtained $V_d$ expression lead us to a description o the system like the one in the following figure.\n",
    "\n",
    "![Fig 08](images/L_OA_05/fig08.png)\n",
    "\n",
    "The equation data calculated previously relates to the yellow blocks in the figure. As we see $V_d$ has two contributions, one from the input voltage $V_i$ and one from the output voltage $V_o$. Don’t worry about $V_x$ for now, it is just an aid for what follows.\n",
    "\n",
    "The operational amplifier relates $V_d$ with $V_o$, so we insert here the $A(s)$ first order operational amplifier model.\n",
    "\n",
    "This model is useful because you can always obtain $V_d$ as function of $V_i$ and $V_o$ and calculate the $K$ and $\\beta$ values. In this case both are constants, but the method will be the same if $K$ and $\\beta$ are arbitrary transfer functions in the **“s”** domain.\n",
    "\n",
    "In order to solve the circuit we need to obtain its transfer function:\n",
    "\n",
    "$$H(s) = \\frac{V_o}{V_i}$$\n",
    "\n",
    "So we need to take Vd out of the equations.\n",
    "First we will deal with the right side blocks of the diagram we want to calculate $H_F(s)$ as:\n",
    "\n",
    "$$H_F(s) = \\frac{V_o}{V_x}$$\n",
    "\n",
    "We call it $H_F(S)$ because it includes the **feedback path** $\\beta$ that relates the output and the input of the operational amplifier. As $\\beta$ defines the feedback path, we call its value as the feedback gain.\n",
    "\n",
    "Do not confuse the feedback gain $\\beta$ with the bipolar transistor $\\beta$ current gain. They are completely different concepts.\n",
    "\n",
    "We have made similar calculations to the ones needed to obtain $H_F(s)$ before, but we will include them once more:\n",
    "\n",
    "$$V_o = A(s)V_x - V_o \\beta A(s) \\qquad V_o \\left( 1 + \\beta A(s) \\right) = A(s)V_x$$\n",
    "\n",
    "$$H_F(s) = \\frac{V_o}{V_i} = \\frac{A(s)}{1+\\beta A(s)}$$\n",
    "\n",
    "This equation is the main equation for feedback systems and is the same regardless of the current values of $A(s)$ or $\\beta$.\n",
    "\n",
    "In our particular case we know that $A(s)$ models the opamp so we will use its first order equation:\n",
    "\n",
    "$$A(s) = \\frac{A_o}{1+\\frac{s}{p1}}$$\n",
    "\n",
    "That gives:\n",
    "\n",
    "$$H_F(s) = \\frac{A(s)}{1+\\beta A(s)}\n",
    "= \\frac{\\frac{A_o}{1+\\frac{s}{p1}}}{1+\\beta\\frac{A_o}{1+\\frac{s}{p1}}}\n",
    "= \\frac{A_o}{1+\\frac{s}{p1}+\\beta A_o}$$\n",
    "\n",
    "As usual, we can assume Ao much greater than one.\n",
    "\n",
    "$$H_F(s) \\approx \\frac{A_0}{\\beta A_o + \\frac{s}{p1}}\n",
    "= \\frac{1}{\\beta}\\cdot \\frac{1}{1+\\frac{s}{\\beta\\:A_o\\:p1}}$$\n",
    "\n",
    "Once we have calculated $H_F(s)$ we can simplify the system description:\n",
    "\n",
    "![Fig 09](images/L_OA_05/fig09.png)\n",
    "\n",
    "Now, we can obtain the transfer function all the system:\n",
    "\n",
    "$$H(s) = K \\cdot H_F(s)\n",
    "= \\frac{K}{\\beta}\\frac{1}{1+\\frac{s}{\\beta\\:A_o\\:p1}}$$\n",
    "\n",
    "The previous equation is an important equation to remember because is valid for any opamp circuit when we use its first order model. The equation indicates that the system transfer function, if $K$ and $\\beta$ are constant values, is also first order with gain and bandwidth:\n",
    "\n",
    "$$G = \\frac{K}{\\beta} \\qquad BW = \\beta \\: Ao \\: p1 = \\beta \\cdot GBW_{opamp}$$\n",
    "\n",
    "If you remember the previous way to do calculations we came up to the noise gain $G_N$. You should note how the noise gain $G_N$ and feedback gain \\beta relate to each other:\n",
    "\n",
    "$$G_N = \\frac{1}{\\beta}$$\n",
    "\n",
    "So we demonstrate that, when the first order operational model holds, the bandwidth is:\n",
    "\n",
    "$$BW = \\beta \\cdot GBW_{opamp} = \\frac{GBW_{opamp}}{G_N}$$\n",
    "\n",
    "---\n",
    "\n",
    "**CALCULATION TASK**  \n",
    "Take the $K$ and $\\beta$ calculated previously   \n",
    "Calculate the circuit gain $G$ and bandwidth $BW$.        \n",
    "Compare with the results obtained in the **\"Calculating the noise gain\"** section.   \n",
    "\n",
    "---"
   ]
  },
  {
   "cell_type": "markdown",
   "metadata": {},
   "source": [
    "## Input resistance\n",
    "\n",
    "The non inverting opamp circuit had the $V_i$ input connected to the $V_{(+)}$ input of the opamp. As an ideal opamp has no input current, this amplifier didn’t consume any current from the $V_i$ source. \n",
    "\n",
    "This is no longer the case with the inverting opamp. There will be some current entering resistor $R_1$. From that, we can define an input resistance as the ratio of the input voltage to the input current in the circuit (entering $R_1$).\n",
    "\n",
    "$$R_i = \\frac{V_i}{I_i}$$\n",
    "\n",
    "This $R_i$ input resistance is easy to calculate in DC using the virtual short circuit model.\n",
    "\n",
    "---\n",
    "\n",
    "**CALCULATION TASK**  \n",
    "Obtain the inverting circuit input resistance as function of its R1 and R2 resistance values.    \n",
    "Calculate Ri for the chosen R1 and R2 values.   \n",
    "\n",
    "---\n",
    "\n",
    "In order to work with this concept, we will use the following circuit:\n",
    "\n",
    "![Fig 10](images/L_OA_05/fig10.png)\n",
    "\n",
    "---\n",
    "\n",
    "**BUILD TASK**  \n",
    "Mount the above circuit.  \n",
    "\n",
    "---\n",
    "\n",
    "In the figure we have our opamp inverting circuit (in a dashed box) and one external $R_m$ resistor that we will use to measure the circuit input resistance.  \n",
    "We don’t want to affect too much our original circuit so, as $R_2$ has a value of $1k\\Omega$, we will use a much lower value of $100\\Omega$ for Rm.\n",
    "\n",
    "This is not a requirement, however. As long as we measure $V_i$ with **ADC2** and $V_o$ with **ADC1**, the response of the circuit will be properly measured regardless of the value of $R_m$. The same applies to the calculation of the input resistance.\n",
    "\n",
    "The only impact that will produce the use of a $R_m$ value not negligible compared to $R_2$ is a reduction of the dynamic range of the $V_i$ signal we can input to the circuit, as part of the original **DAC1** voltage will drop on $R_m$.\n",
    "\n",
    "---\n",
    "\n",
    "**CALCULATION TASK**  \n",
    "Calculate inverting circuit gain G2, bandwidth BW and input resistance Ri.    \n",
    "Leave the Rm resistor alone and don’t use it in the calculations as it is not part of the dashed inverting amplifier box.   \n",
    "\n",
    "---\n",
    "\n",
    "As in other cases, there are several ways to perform a measurement.\n",
    "\n",
    "**Method \\#1**  \n",
    "In order to measure the input resistance for the circuit we can use:\n",
    "\n",
    "$$R_i = \\frac{\\Delta V_i}{\\Delta I_i}$$\n",
    "\n",
    "First we sweep the **DAC1** values and we check that data is ok by showing the $V_o(V_i)$ curve. We can also see how the input current depends on $v_i$. "
   ]
  },
  {
   "cell_type": "code",
   "execution_count": null,
   "metadata": {},
   "outputs": [],
   "source": [
    "# Average 400 reads at each point\n",
    "slab.setDCreadings(400)\n",
    "\n",
    "# Sweep DAC1 from 0V to 3.2V\n",
    "data = slab.dcSweep(1,0.0,3.2,0.1)\n",
    "\n",
    "# Identify the Vi, Vo and Ii values\n",
    "vi = data[2]\n",
    "vo = data[1]\n",
    "ii = 1000*(data[3]-data[2])/100\n",
    "\n",
    "# Plot Vo(Vi)\n",
    "slab.plot11(vi,vo,'','Vi (V)','Vo (V)')\n",
    "\n",
    "# Plot Ii(Vi)\n",
    "slab.plot11(vi,ii,'','Vi (V)','Ii (mA)')"
   ]
  },
  {
   "cell_type": "markdown",
   "metadata": {},
   "source": [
    "Observe that the current is sometimes **negative**. This is consequence of the reference voltage $V_r$. Whenever $V_i$ is less that $V_r$, the input current is negative.\n",
    "\n",
    "Using the last $I_i(v_i)$ curve you can obtain the input resistance from the slope in the center region. As the voltage is in the X axis, and the current in the Y axis, the slope is, in fact, $1/R_i$. Note, also, that the current is defined in $mA$, so the slope will be in $k\\Omega$."
   ]
  },
  {
   "cell_type": "markdown",
   "metadata": {},
   "source": [
    "**Method \\#2**  \n",
    "We can also use an alternative method using the [first differences](https://docs.scipy.org/doc/numpy/reference/generated/numpy.diff.html). Differences are, in discrete values, the equivalent to derivatives. The first difference of a vector of discrete values is defined as:\n",
    "\n",
    "$$diff \\; V[n] = V[n+1]-V[n]$$\n",
    "\n",
    "The SLab module does not include the first difference function, we wil use the **NumPy** module for that. We will import the module, calculate the $V_i$ and $I_i$ differences and obtain the input resistance from their division.\n",
    "\n",
    "We can only plot two vectors of equal size, the first difference vector has one element less than the original vector, so we need to take out one element."
   ]
  },
  {
   "cell_type": "code",
   "execution_count": null,
   "metadata": {},
   "outputs": [],
   "source": [
    "# Import the numpy module\n",
    "import numpy as np\n",
    "\n",
    "# Calculate first differences\n",
    "dvi = np.diff(vi)\n",
    "dii = np.diff(ii)\n",
    "\n",
    "# Obtain resistance from differences\n",
    "ri = dvi/dii\n",
    "\n",
    "# Plot the resistance\n",
    "slab.plot11(vi[0:-1],ri,'','Vi (V)','Ri (kOhm)')"
   ]
  },
  {
   "cell_type": "markdown",
   "metadata": {},
   "source": [
    "The higher and lower zones of the curve will be bad. In the center zone we should see a constant value equal to the input resistance $R_i$."
   ]
  },
  {
   "cell_type": "markdown",
   "metadata": {},
   "source": [
    "**Method \\#3**  \n",
    "There is a third method to obtain the input resistance. We can input a wave signal and obtain the information from the waves registered at the **ADCs**.\n",
    "We use the **returnData** parameter so that the **wavePlot** command returns the plotted data and we can store it."
   ]
  },
  {
   "cell_type": "code",
   "execution_count": null,
   "metadata": {},
   "outputs": [],
   "source": [
    "# Define a 100Hz sinewave beteen 1.2V and 2.1V\n",
    "slab.waveSine(1.2,2.1,100)\n",
    "slab.setWaveFrequency(100)\n",
    "\n",
    "# Plot the response to 5 waves\n",
    "slab.setTransientStorage(500,3)\n",
    "data = slab.wavePlot(returnData=True)"
   ]
  },
  {
   "cell_type": "markdown",
   "metadata": {},
   "source": [
    "As $R_m$ is small compared with $R_2$, **VDAC1** measured at **ADC3** should be similar to $V_i$ measured at **ADC2**. Now we can obtain the information about all the waves:"
   ]
  },
  {
   "cell_type": "code",
   "execution_count": null,
   "metadata": {},
   "outputs": [],
   "source": [
    "# Analize the measurement data\n",
    "import slab.meas as meas\n",
    "meas.analyze(data)"
   ]
  },
  {
   "cell_type": "markdown",
   "metadata": {},
   "source": [
    "We can now calculate $R_i$ from the amplitudes peak to peak (p2p) measured at **ADC3** and **ADC2**.\n",
    "\n",
    "$$i_{p2p} = \\frac{\\Delta V_{DAC1} - \\Delta V_i}{100\\Omega}\n",
    "= \\frac{ADC3_{p2p}-ADC2_{p2p}}{100\\Omega}\n",
    "\\qquad R_i = \\frac{\\Delta V_i}{\\Delta I_i}\n",
    "= \\frac{ADC2_{p2p}}{i_{p2p}}$$\n",
    "\n",
    "If you are lazy to perform the calculations yourself, you can use the SLab module for that. We use in this case the **peak2peak** command to analyze the data returned by **wavePlot**."
   ]
  },
  {
   "cell_type": "code",
   "execution_count": null,
   "metadata": {},
   "outputs": [],
   "source": [
    "# Calculate and show Ri\n",
    "vdac = slab.peak2peak(data[3])\n",
    "vi = slab.peak2peak(data[2])\n",
    "ii = (vdac-vi)/100\n",
    "ri = vi/ii\n",
    "print('Ri','=',ri,'Ohm')"
   ]
  },
  {
   "cell_type": "markdown",
   "metadata": {},
   "source": [
    "At $100Hz$, $V_i$ and $V_o$ should be in phase. If they weren't in phase, we should talk about **input impedance**, not **input Resistance**."
   ]
  },
  {
   "cell_type": "markdown",
   "metadata": {},
   "source": [
    "<div class=\"alert alert-block alert-info\">\n",
    "&nbsp;<font size=\"4\">How to improve measurement quality</font> <font color=black>  \n",
    "As commented before, the use of a low value of $100\\Omega$ for the $R_m$ resistor is not a requirement in order to obtain proper measurements. \n",
    "<BR>\n",
    "If you obtain measurements that are not good enough due to the small voltage drop on $R_m$, you can improve them increasing the $R_m$ value and repeating the measurements.\n",
    "Note that increasing $R_m$ reduces the effective voltage at $V_i$ so you could need to increase the **DAC1** amplitude to compensate. \n",
    "<BR></font></div>"
   ]
  },
  {
   "cell_type": "markdown",
   "metadata": {},
   "source": [
    "## DC Decoupling\n",
    "\n",
    "<div class=\"alert alert-block alert-warning\">\n",
    "<font color=black> \n",
    "In this section we return to the \"s\" domain circuit analysis. This is the basic tool to any frequency analysis on a circuit.\n",
    "<BR></font></div>\n",
    "\n",
    "As in the non inverting amplifier, sometimes you don’t want to amplify the DC component of a signal. Moreover, if the signal to amplify has no low frequency components, using a **band pass** amplifier eliminates low frequency noise.\n",
    "\n",
    "You can block DC and convert the circuit to band pass operation just adding a $C_2$ capacitor in series with $R_2$. The order doesn’t matter but it is usually located before $R_2$.\n",
    "\n",
    "![Fig 11](images/L_OA_05/fig11.png)\n",
    "\n",
    "We can calculate the $K$ and $\\beta$ values for this circuit in order to obtain the complete transfer function. But we don’t want to do that. We will use the virtual short circuit model to obtain the low frequency operation of the circuit and then we will add the high frequency limit due to the **GBW** product.\n",
    "\n",
    "Observe that we connect the $V_{(+)}$ terminal to **GND**. That greatly eases the calculations and, as we will see, has low impact on the final results. So we will leave $V_r$ alone for now.\n",
    "\n",
    "---\n",
    "\n",
    "**CALCULATION TASK**  \n",
    "Obtain the $H_{LF}(s)$ low frequency transfer function of the system using the virtual short circuit model.  \n",
    "Leave it as function of $R1$, $R2$ and $C2$.  \n",
    "    \n",
    "How many poles and zeros do we have? Where are they located?    \n",
    "\n",
    "---\n",
    "\n",
    "You should have found a **zero** at zero frequency and a **real pole** $pL$. That makes the circuit **high pass** and the corner frequency is $pL$. It is easy to see that the circuit is high pass in its limits because:\n",
    "\n",
    "$$H_{LF}(0) = 0 \\qquad H_{LF}(\\infty) = -\\frac{R_1}{R_2}$$\n",
    "\n",
    "In fact, $H_{LF}(\\infty)$ was the DC gain $H_{LF}(0)$ before we added $C_2$."
   ]
  },
  {
   "cell_type": "markdown",
   "metadata": {},
   "source": [
    "---\n",
    "**The details**\n",
    "---\n",
    "\n",
    "We have another way to see that. As we know, a capacitor has a value that is related to the “s” transform as:\n",
    "\n",
    "$$Z_C(s) = \\frac{1}{C \\cdot s}$$\n",
    "\n",
    "When we have sinusoidal signals, the long term response is:\n",
    "\n",
    "$$Z_c(\\omega) = \\left. \\frac{1}{C \\cdot s} \\right|_{s=j\\omega} = \\frac{1}{j \\omega C}$$\n",
    "\n",
    "Remember now that $C_2$ is in series with $R_2$, then:\n",
    "\n",
    "$$Z_{Series} = \\frac{1}{j \\omega C} + R_2$$\n",
    "\n",
    "Then, for high enough frequencies:\n",
    "\n",
    "$$\\left. Z_{Series} \\right|_{\\omega \\rightarrow \\infty}\n",
    "= \\left. \\frac{1}{j \\omega C} + R_2 \\right|_{\\omega \\rightarrow \\infty}\n",
    "= R_2$$\n",
    "\n",
    "So, at high frequencies our circuit behaves just like $C_2$ was shorted.\n",
    "\n",
    "---"
   ]
  },
  {
   "cell_type": "markdown",
   "metadata": {},
   "source": [
    "The circuit, in practice, cannot have a constant $H(\\infty)$ due to the **GBW** limitation. We see that for frequencies much greater than $p_L$ the circuit behaves like the previous circuit in DC, with $C_2$ shorted. For high frequencies we will have the same **GBW** limitation as before:\n",
    "\n",
    "$$p_H = \\frac{GBW}{G_N}$$\n",
    "\n",
    "Don’t forget that in this circuit noise gain is not equal to signal gain.\n",
    "\n",
    "We will now add the $V_r$ generation on the circuit.\n",
    "\n",
    "![Fig 12](images/L_OA_05/fig12.png)\n",
    "\n",
    "As $V_r$ is constant, and $H_{LF}(0) = 0$, the only effect of $R_3$ and $R_4$ is setting the DC voltage of the output to the $V_r$ voltage regardless of the DC voltage at $V_i$. You can solve the above circuit at DC using virtual short circuit if you are not convinced. Remember that DC current at $C_2$, as in any capacitor at DC, is zero.\n",
    "\n",
    "You can also use the superposition property of linear circuits. Remember that $V_r$ acts as a voltage source. As the circuit is linear, its output will be a linear function of its inputs:\n",
    "\n",
    "$$V_o = f_{Lin}(V_i,V_r)$$\n",
    "\n",
    "If $f_{Lin}$ is linear, it satisfies the superposition property:\n",
    "\n",
    "$$V_o = f_{Lin}(V_i,0) + f_{Lin}(0,V_r)$$\n",
    "\n",
    "The first term $f_{Lin}(V_i,0)$ is the previously response calculated for the circuit when $V_r = 0$. The  second term $f_{Lin}(0,V_r)$ is the response of the circuit when $V_i = 0$. As in this case the circuit doesn’t include any time dependent signal, this function is a time independent constant.   \n",
    "At DC, current at $C_2$ is zero, so the circuit behaves like a follower and $V_o = V_r$.\n",
    "\n",
    "As a conclusion it is demonstrated that the only effect of connecting $V_{(+)}$ to $V_r$ instead of **GND** is changing the DC voltage of the circuit from zero to $V_r$.\n",
    "\n",
    "We will consider the same previous set of values for this circuit and we will add a capacitor.\n",
    "\n",
    "$$R_1 = 2,2k\\Omega \\qquad R_2 = 1k\\Omega \n",
    "\\qquad C_2 = 10 \\mu F \\qquad R_3 = R_4 = 33k\\Omega$$\n",
    "\n",
    "The capacitor is probably **electrolytic** so it will have polarity. If we connect the positive longer terminal to $R_2$, as shown in the figure; we need to guarantee that $V_i$ voltage generated on **DAC1** is always below the reference voltage $V_r$ of $Vdd/2$.\n",
    "\n",
    "---\n",
    "\n",
    "**CALCULATION TASK**  \n",
    "Calculate, for the indicated values, the $p_L$ pole position.       \n",
    "The $p_H$ pole position, due to the $GBW$, and the medium frequency gain $G =  R1/R2$ are known values from previous calculations.    \n",
    "\n",
    "---"
   ]
  },
  {
   "cell_type": "markdown",
   "metadata": {},
   "source": [
    "Now we can mount the circuit to measure it. Set **DAC** voltages to zero by issuing the zero command so that you guarantee that $C_2$ is never reverse polarized before starting the measurements:"
   ]
  },
  {
   "cell_type": "code",
   "execution_count": null,
   "metadata": {},
   "outputs": [],
   "source": [
    "# Set DACs to zero\n",
    "slab.zero()"
   ]
  },
  {
   "cell_type": "markdown",
   "metadata": {},
   "source": [
    "---\n",
    "\n",
    "**BUILD TASK**  \n",
    "Mount the proposed circuit.  \n",
    "\n",
    "---"
   ]
  },
  {
   "cell_type": "markdown",
   "metadata": {},
   "source": [
    "We can perform a **bode plot** for low frequencies of operation. We set the peaks of the **DAC1** generated waveform so that they are always below $V_r$. That way we guarantee that we never reverse polarize $C_2$. Note that we don't need to import the **AC** module because we imported it at the start of the document."
   ]
  },
  {
   "cell_type": "code",
   "execution_count": null,
   "metadata": {},
   "outputs": [],
   "source": [
    "# Draw a bode plot between 5Hz and 1kHz\n",
    "ac.bodeResponse(0.4,1.2,5,1000,10)"
   ]
  },
  {
   "cell_type": "markdown",
   "metadata": {},
   "source": [
    "We should see that the bode starts with a $20dB/dec$ slope due to the zero at zero frequency. We should also see the $p_L$ pole position and the constant medium frequency gain for frequencies above the pole.\n",
    "\n",
    "We can also see the operation of the system against a waveform. This time, to make things different, we will use a triangle wave:"
   ]
  },
  {
   "cell_type": "code",
   "execution_count": null,
   "metadata": {},
   "outputs": [],
   "source": [
    "# Response to a 100Hz triangle wave\n",
    "slab.waveTriangle(0.4,1.2,100)\n",
    "slab.setWaveFrequency(100)\n",
    "slab.tranStore(500,2)\n",
    "slab.wavePlot()"
   ]
  },
  {
   "cell_type": "markdown",
   "metadata": {},
   "source": [
    "You should see both the input signal at **ADC2** and the output signal at **ADC1**. Perhaps the output signal is not exactly triangular. This could be due to the fact that we are not too far from the pole and we are attenuating the high frequency components of the wave.\n",
    "\n",
    "Observe that, as the circuit blocks DC, the output is exactly the same if we change the offset of the input signal:"
   ]
  },
  {
   "cell_type": "code",
   "execution_count": null,
   "metadata": {},
   "outputs": [],
   "source": [
    "# Change input offset voltage\n",
    "slab.waveTriangle(0.6,1.4,100)\n",
    "slab.wavePlot()"
   ]
  },
  {
   "cell_type": "markdown",
   "metadata": {},
   "source": [
    "Regarding the wave distortion due to the pole proximity, you can try to generate a wave just over the pole frequency to see the effects on the output signal:"
   ]
  },
  {
   "cell_type": "code",
   "execution_count": null,
   "metadata": {},
   "outputs": [],
   "source": [
    "# Tringle respose over the pole\n",
    "slab.setWaveFrequency(16)\n",
    "slab.wavePlot()"
   ]
  },
  {
   "cell_type": "markdown",
   "metadata": {},
   "source": [
    "In general, you need to be in a flat zone of the bode plot in order to prevent this kind of distortion. The system, however, is linear, so a sine wave won't be distorted at all:"
   ]
  },
  {
   "cell_type": "code",
   "execution_count": null,
   "metadata": {},
   "outputs": [],
   "source": [
    "# Sine response over the pole\n",
    "slab.waveSine(0.6,1.4,100)\n",
    "slab.wavePlot()"
   ]
  },
  {
   "cell_type": "markdown",
   "metadata": {},
   "source": [
    "Remember that we need to guarantee that the capacitor $C_2$ is never reverse polarized. You can add **ADC3** to the ploted data by changing the transient storage command:"
   ]
  },
  {
   "cell_type": "code",
   "execution_count": null,
   "metadata": {},
   "outputs": [],
   "source": [
    "# Check C2 bias\n",
    "slab.tranStore(500,3)\n",
    "slab.wavePlot()"
   ]
  },
  {
   "cell_type": "markdown",
   "metadata": {},
   "source": [
    "## Limiting the bandwidth\n",
    "\n",
    "Up to this point, all the opamp circuits we have build had its high frequency operation limited by the **GBW** product. That means that low noise gain circuits have high bandwidth and high noise gain circuits have low bandwidth. Sometimes, however, we want to control the circuit high cut-off frequency. As you know, amplifying at frequencies out of the input signal range can only increase noise.\n",
    "\n",
    "That’s easy on this circuit, because of its basic DC gain formula:\n",
    "\n",
    "$$G = -\\frac{R_1}{R_2}$$\n",
    "\n",
    "In order to block DC we have made the denominator infinite at zero frequency by adding $C_2$.  \n",
    "In order to reduce the bandwidth we can we can make the numerator go to zero from a given frequency. \n",
    "\n",
    "One good way to do that is putting a capacitor $C_1$ in parallel with $R_1$.\n",
    "\n",
    "![Fig 13](images/L_OA_05/fig13.png)\n",
    "\n",
    "Note that now we use **ADC4** instead of **ADC2** to measure the **DAC1** voltage. We do that because we need four ADCs and, in some boards, **ADC4** has lower input resistance than the other ADCs, so it makes sense connect it to a low impedance node like $V_i$.\n",
    "\n",
    "The structure of the circuit is similar DC circuit but instead of $R_2$ we have $R_2$ in series with $C_2$ and instead of $R_1$ we have $R_1$ in parallel with $C_1$. In this case $C_2$ adds a zero and a pole whereas $C_1$ only adds a pole.\n",
    "\n",
    "You can think of the circuit as a particular case where instead of $R_1$ and $R_2$ we have two arbitrary sets of resistors and capacitors that define two impedances $Z_1$ and $Z_2$. Remember that we can add the effect of $V_r$ later so, for now it is easier to perform calculations if we consider $V_{(+)}$ connected to GND.\n",
    "\n",
    "![Fig 14](images/L_OA_05/fig14.png)\n",
    "\n",
    "In our case $Z_2$ is:\n",
    "\n",
    "$$Z_2 = R_2 + C_2 = R2 + \\frac{1}{C_2 \\cdot s}\n",
    "= \\frac{1+R_2\\cdot C_2 \\cdot s}{C_2 \\cdot s}$$\n",
    "\n",
    "Note that $Z_2$ at zero frequency is infinite and at infinite frequency is $R_2$. This is coherent with the analyzed and measured circuit behavior.\n",
    " \n",
    "In the case of $Z_1$ we have:\n",
    "\n",
    "$$Z_1 = R_1||C_1 = \\frac{R1 \\cdot \\frac{1}{C1 \\cdot s}}{R1 + \\frac{1}{C1 \\cdot s}}\n",
    "= \\frac{R_1}{1+R_1\\cdot C_1 \\cdot s}$$\n",
    "\n",
    "Observe now that at zero frequency $Z_1$ is $R_1$ and that at infinite frequency $Z_1$ is zero, just like we want it to be.\n",
    "\n",
    "We can now obtain the circuit transfer function using the **VSC** (virtual short circuit) model. In fact, as the circuit is the same as we had at the start of this document, we just need to replace $R_1$ and $R_2$ with $Z_1$ and $Z_2$:\n",
    "\n",
    "$$H(s) = - \\frac{Z_1(s)}{Z_2(s)}$$\n",
    "\n",
    "The transfer function will have a zero frequency **zero** and **two real poles**. That means that it is a pass band circuit: Gain is zero at zero frequency. Due to the zero, increases at 20dB/decade up to the first pole where it goes flat. At the second pole it decays at -20dB/decade.\n",
    "\n",
    "$$H(s) = - \\frac{Z_1(s)}{Z_2(s)}\n",
    "= \\frac{-K \\cdot s}{\\left( 1 + \\frac{s}{p1} \\right) \\left( 1 + \\frac{s}{p2} \\right)}$$\n",
    "\n",
    "The $G_{MF}$ medium frequency gain of the circuit is defined as the gain when the response is flat, that is, for frequencies between the two real poles $p_1$ and $p_2$. As we include $C_1$ to define the high frequency cut-off, we can assume that the pole $p_1$ related to $C_1$ is at higher frequency that the pole $p_2$ related to $C_2$. Poles are not in order.\n",
    "\n",
    "We can determine the **GMF** medium frequency gain as the value of $H(s)$ when we can consider s much greater than the first pole and much lower that the second pole.\n",
    "\n",
    "$$G_{MF} = \\left .\\frac{-K \\cdot s}{\\left( 1 + \\frac{s}{p1} \\right) \\left( 1 + \\frac{s}{p2} \\right)} \\right|_{Between \\; Poles} \n",
    "\\approx \\frac{-K \\cdot s}{(1)\\left( \\frac{s}{p2}\\right)}\n",
    "= -K \\cdot p_2$$\n",
    "\n",
    "---\n",
    "\n",
    "**CALCULATION TASK**  \n",
    "Obtain the circuit transfer function $H(s)$ as functions of $R1$, $R2$, $C1$ and $C2$.     \n",
    "What are the values of $H(0)$ and $H(\\infty)$ ?     \n",
    "Obtain the poles and zeros. What is the medium frequency gain $G_{MF}$?    \n",
    "\n",
    "---"
   ]
  },
  {
   "cell_type": "markdown",
   "metadata": {},
   "source": [
    "Remember that we have used the virtual shortcircuit method to obtain the poles and zeros. We have not used the one pole operational model so we have missed the high frequency pole it provides. It is, however, at the same frequency as always:\n",
    "\n",
    "$$p_3 = \\frac{GBW}{G_N}$$\n",
    "\n",
    "Our system has now a total of one zero and three poles.\n",
    "\n",
    "In order to test a practical case, we will use the same values as before but we will add a $100 nF$ $C_1$ capacitor:\n",
    "\n",
    "$$R_1 = 2,2k\\Omega \\qquad R_2 = 1k\\Omega \n",
    "\\qquad C_1 = 100nF \\qquad C_2 = 10 \\mu F \n",
    "\\qquad R_3 = R_4 = 33k\\Omega$$\n",
    "\n",
    "---\n",
    "\n",
    "**CALCULATION TASK**\n",
    "\n",
    "Calculate all the poles and zeros values for the indicated values.         \n",
    "Calculate also the medium frequency gain $G_{MF}$.     \n",
    "\n",
    "---\n",
    "\n",
    "**BUILD TASK**  \n",
    "Mount the proposed circuit with the indicated component values.  \n",
    "\n",
    "---"
   ]
  },
  {
   "cell_type": "markdown",
   "metadata": {},
   "source": [
    "Now we can measure the circuit.\n",
    "\n",
    "We can go straight to the bode plot. This time we will test up to $9 kHz$. With the SLab system we can see the two first poles but we cannot reach the third one."
   ]
  },
  {
   "cell_type": "code",
   "execution_count": null,
   "metadata": {},
   "outputs": [],
   "source": [
    "# Bode plot between 5Hz and 9kHz\n",
    "ac.bodeResponse(0.4,1.2,5,9000)"
   ]
  },
  {
   "cell_type": "markdown",
   "metadata": {},
   "source": [
    "Perhaps you see a discontinuity on the phase response because it jumps to 180º when it falls below -180º.\n",
    "\n",
    "Check the values of $p_1$, $p_2$ and $G_{MF}$ from the bode plot.   "
   ]
  },
  {
   "cell_type": "markdown",
   "metadata": {},
   "source": [
    "Now we can perform some pretty measurements. First we define a log spaced frequency range. We use the default 10 points per decade.\n",
    "Then we perform the complex gain measurement for **ADC1**."
   ]
  },
  {
   "cell_type": "code",
   "execution_count": null,
   "metadata": {},
   "outputs": [],
   "source": [
    "# Frequency response for ADC1\n",
    "f = ac.logRange(5,9000)\n",
    "g1 = ac.freqResponse(0.4,0.8,f,1)"
   ]
  },
  {
   "cell_type": "markdown",
   "metadata": {},
   "source": [
    "We can obtain the original bode plot:"
   ]
  },
  {
   "cell_type": "code",
   "execution_count": null,
   "metadata": {},
   "outputs": [],
   "source": [
    "# Response at ADC1\n",
    "ac.plotBode(f,g1)"
   ]
  },
  {
   "cell_type": "markdown",
   "metadata": {},
   "source": [
    "Or we can show it in linear magnitudes instead of dB. Observe that in this case the title is “Frequency Plot” as using linear magnitudes is not valid for a real “Bode” plot."
   ]
  },
  {
   "cell_type": "code",
   "execution_count": null,
   "metadata": {},
   "outputs": [],
   "source": [
    "# Linear plot\n",
    "ac.plotBode(f,g1,linear=True)"
   ]
  },
  {
   "cell_type": "markdown",
   "metadata": {},
   "source": [
    "We can also obtain the input impedance. In order to do that, we first measure the frequency gains for **ADC2** and **ADC3**"
   ]
  },
  {
   "cell_type": "code",
   "execution_count": null,
   "metadata": {},
   "outputs": [],
   "source": [
    "# Frequency response for ADC2 and ADC3\n",
    "g2 = ac.freqResponse(0.4,0.8,f,2)\n",
    "g3 = ac.freqResponse(0.4,0.8,f,3)"
   ]
  },
  {
   "cell_type": "markdown",
   "metadata": {},
   "source": [
    "Then we convert from gains to voltages using the $0.4 V$ amplitude of the input signal. Then we compute the input current from the voltages on $R_2$ obtained on **ADC2** and **ADC3**.\n",
    "From the current we obtain the impedance as the input voltage is the $0.4 V$ amplitude (and zero phase) sine generated on **DAC1**:"
   ]
  },
  {
   "cell_type": "code",
   "execution_count": null,
   "metadata": {},
   "outputs": [],
   "source": [
    "# Input impedance plot\n",
    "ii = 0.4*(g3-g2)/1000\n",
    "Zi = 0.4/ii\n",
    "ac.plotBode(f,Zi,linear=True)"
   ]
  },
  {
   "cell_type": "markdown",
   "metadata": {},
   "source": [
    "We should see that the input impedance has a $1 k\\Omega$ real value, as expected, for frequencies above the first pole. Below the pole, the absolute value increases and the phase changes so we no longer have resistive impedance."
   ]
  },
  {
   "cell_type": "markdown",
   "metadata": {},
   "source": [
    "## Last comments\n",
    "\n",
    "In this project we have seen different circuits based on the inverting amplifier circuit topology.\n",
    "\n",
    "This time we have seen also that the **GBW** relates to the **noise gain** that can be different from the **signal gain**.\n",
    "\n",
    "Like in the non inverting amplifier, we see that we can block the DC input voltage.\n",
    "We have also seen that we can limit the circuit bandwidth just adding a capacitor. You could also do the same in the non inverting amplifier adding a capacitor in parallel with the $R_1$ feedback resistor, but beware that this amplifier cannot attenuate no matter how low is $R_1$ or the combination of $R_1$ and whatever is in parallel, so you are limit to make fall the gain to 1 until you reach the **GBW** limit."
   ]
  },
  {
   "cell_type": "markdown",
   "metadata": {},
   "source": [
    "## References\n",
    "\n",
    "[SLab Python References](../Reference)  \n",
    "Those are the reference documents for the SLab Python modules. They describe the commands that can be carried out after importing each module. \n",
    "They should be available in the SLab/Doc folder.\n",
    "\n",
    "[TinyCad](https://sourceforge.net/projects/tinycad/)  \n",
    "Circuit images on this document have been drawn using the free software TinyCad  \n",
    "\n",
    "[SciPy](https://www.scipy.org/)  \n",
    "All the functions plots have been generated using the Matplotlib SciPy package.  "
   ]
  },
  {
   "cell_type": "markdown",
   "metadata": {},
   "source": [
    "## Document license\n",
    "\n",
    "Copyright  ©  Vicente Jiménez (2018-2019)  \n",
    "This work is licensed under a Creative Common Attribution-ShareAlike 4.0 International license.  \n",
    "This license is available at http://creativecommons.org/licenses/by-sa/4.0/\n",
    "\n",
    "<img  src=\"images/cc_sa.png\" width=\"200\">"
   ]
  },
  {
   "cell_type": "code",
   "execution_count": null,
   "metadata": {},
   "outputs": [],
   "source": []
  }
 ],
 "metadata": {
  "kernelspec": {
   "display_name": "Python 3",
   "language": "python",
   "name": "python3"
  },
  "language_info": {
   "codemirror_mode": {
    "name": "ipython",
    "version": 3
   },
   "file_extension": ".py",
   "mimetype": "text/x-python",
   "name": "python",
   "nbconvert_exporter": "python",
   "pygments_lexer": "ipython3",
   "version": "3.7.1"
  }
 },
 "nbformat": 4,
 "nbformat_minor": 2
}
