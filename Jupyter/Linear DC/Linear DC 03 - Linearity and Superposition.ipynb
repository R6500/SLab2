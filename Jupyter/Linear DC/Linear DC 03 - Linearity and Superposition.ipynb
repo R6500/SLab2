{
 "cells": [
  {
   "cell_type": "markdown",
   "metadata": {},
   "source": [
    "<img style=\"float: right;\"  src=\"images/LogoP.jpg\" width=\"200\">\n",
    "\n",
    "# Linear DC 03 : Linearity and Superposition\n",
    "\n",
    "This document deals wioth what is **linear** in a **linear circuit** and how it can be exploted to our proffit.\n",
    "\n",
    "Version 1.0 (29/3/2019)  \n",
    "License information is at the end of the document\n",
    "\n",
    "---\n",
    "**Bill Of Materials (BOM):**\n",
    "\n",
    "* Resistors: $1k\\Omega$, $1k5\\Omega$ and $2k2\\Omega$\n",
    "\n",
    "---"
   ]
  },
  {
   "cell_type": "markdown",
   "metadata": {},
   "source": [
    "## The Current Source\n",
    "\n",
    "In the previous documents we have seen two circuit components: the **voltage source** and the **resistor**. Before continuing dealing with linear circuits it is good to introduce a third one: the **current source**.\n",
    "\n",
    "![Current Source](images\\Linear_DC_03\\current_source.png)\n",
    "\n",
    "The **current source** is complementary to the voltage source. It is a component that forces the current that enters one terminal and exits the other. It is represented with a circle and an **arrow** that points in the current direction.\n",
    "\n",
    "$$I = I_S$$\n",
    "\n",
    "In the same way that we knew nothing about the current in a voltage source, we know nothing about the **voltage** in a **current source**.\n",
    "\n",
    "In **SLab** we have, at least, three voltage sources: a **voltage supply** $V_{DD}$ and two **DACs**, **DAC1** and **DAC2**. Depending on your board details you can have more **DACs**. But we don't have primary current sources. That's why we have delayed the introduction of the **current source** until this point.\n",
    "\n",
    "If, later on, we need current sources we will build our own.\n",
    "\n",
    "Both the **voltage source** and the **current source** are considered **independent sources** because they force one variable **voltage** or **current** whose value is independent of anything that happens on the circuit.\n"
   ]
  },
  {
   "cell_type": "markdown",
   "metadata": {},
   "source": [
    "## Linear Circuits\n",
    "\n",
    "[Linearity](https://en.wikipedia.org/wiki/Linearity) is a mathematical property of some functions that can be exploited to ease the solution of those functions.\n",
    "\n",
    "By definition, a function of $n$ variables $f(x_1, x_2,...x_n)$ is linear if it satisfies two properties: **Additivity** and **Homogeneity**.\n",
    "\n",
    "The **Additivity** property mean that you can add to the function variables and the net result is to add a evaluation of the function on those additions:\n",
    "\n",
    "$$f(x_1+x'_1, x_2+x'_2,...x_n+x'_n) \n",
    "= f(x_1, x_2,...x_n)+  f(x'_1, x'_2,...x'_n)$$\n",
    "\n",
    "The **Homogeneity** property mean that scalling all parameters by the same constant is equivalent to scale the function result:\n",
    "\n",
    "$$f(k \\cdot x_1,k \\cdot x_2,...k \\cdot x_n) = k \\cdot f(x_1, x_2,...x_n)$$\n",
    "\n",
    "To talk about **linear circuits** we need to define which functions should be linear in a circuit:\n",
    "\n",
    "A circuit is **linear** if all its **voltages** and **currents** are linear function of their **independent sources**. If we have $n$ voltage sources and $m$ current sources, every voltage and current shall be a linear function with parameters:\n",
    "\n",
    "$$f(V_1,V_2,....V_n,I_1,I_2,....I_m)$$\n",
    "\n",
    "Circuit components can also be linear. We define a **linear component** as a component where all the relationships betwee voltages and currents at their terminals are linear.\n",
    "\n",
    "As an example, a **resistor** is a linear component because its main equation that relates voltage and current, **Ohm's Law**, is a linear function.\n",
    "\n",
    "$$V_R = R \\cdot I_R \\qquad I_R = \\frac{1}{R} V_R$$\n",
    "\n",
    "Note that the inependent sources, whether they are **voltage** or **current** ones are not linear components as a constant value does not satisfy the **linear** properties.\n",
    "\n",
    "It can be demonstrated that a circuit that only includes **independent sources** and **linear components** shall be linear. So, any circuit with only inependent sources and resistors shall be linear.\n",
    "\n",
    "Let's try a linear circuit.\n",
    "\n",
    "---\n",
    "\n",
    "![Practical Icon](images/pt.png)\n",
    "\n",
    "---"
   ]
  },
  {
   "cell_type": "markdown",
   "metadata": {},
   "source": [
    "## SLab Setup\n",
    "\n",
    "First we will need to import the **SLab** module"
   ]
  },
  {
   "cell_type": "code",
   "execution_count": null,
   "metadata": {},
   "outputs": [],
   "source": [
    "# Import the main SLab module\n",
    "import slab"
   ]
  },
  {
   "cell_type": "markdown",
   "metadata": {},
   "source": [
    "Then we need to connect with the board."
   ]
  },
  {
   "cell_type": "code",
   "execution_count": null,
   "metadata": {},
   "outputs": [],
   "source": [
    "boardFolder = ''                                # Board folder (leave '' if you use only one board)\n",
    "slab.setFilePrefix('../Files/')                 # Set File Prefix\n",
    "slab.setCalPrefix('Calibrations/'+boardFolder)  # Set Calibration Prefix         \n",
    "slab.connect()                                  # Connect to the board"
   ]
  },
  {
   "cell_type": "markdown",
   "metadata": {},
   "source": [
    "It is always a good idea to check the board operation.  \n",
    "The following cell checks the calibration for the **DAC** channels and the first four **ADC** channels."
   ]
  },
  {
   "cell_type": "code",
   "execution_count": null,
   "metadata": {},
   "outputs": [],
   "source": [
    "# Check the calibration\n",
    "slab.checkCalibration(pause=False,na=4,nm=10)"
   ]
  },
  {
   "cell_type": "markdown",
   "metadata": {},
   "source": [
    "## Linear example\n",
    "\n",
    "Consider the following circuit:\n",
    "\n",
    "![Circuit 1](images\\Linear_DC_03\\circuit1.png)\n",
    "\n",
    "---\n",
    "\n",
    "**CALCULATION TASK**   \n",
    "Solve the above circuit so that you obtain $V_{ADC3}$ as function of $V_{DAC1}$ and $V_{DAC2}$  \n",
    "\n",
    "$\\qquad V_{ADC3}=f(V_{DAC1},V_{DAC2})$\n",
    "\n",
    "Is this result a linear function?  \n",
    "Obtain $V_{ADC3}$ when **DAC1** is set to $1V$ and **DAC2** is set to $1.5V$  \n",
    "\n",
    "---\n",
    "\n",
    "Mount the circuit and execute the following **code cell** to check the last calculation."
   ]
  },
  {
   "cell_type": "code",
   "execution_count": null,
   "metadata": {},
   "outputs": [],
   "source": [
    "slab.setVoltage(1,1.0)        # Set DAC1 to 1V\n",
    "slab.setVoltage(2,1.5)        # Set DAC2 to 1.5V\n",
    "\n",
    "Vadc3A = slab.readVoltage(3)  # Read ADC3\n",
    "print('Vadc3 =',Vadc3A,'V')   # Show ADC3 voltage"
   ]
  },
  {
   "cell_type": "markdown",
   "metadata": {},
   "source": [
    "Now let's try the linear properties. First we will start with **Additivity** one.   \n",
    "Now we will change **DAC1** to $0.5V$  and **DAC2** to $0.7V$ and measure again."
   ]
  },
  {
   "cell_type": "code",
   "execution_count": null,
   "metadata": {},
   "outputs": [],
   "source": [
    "slab.setVoltage(1,0.5)        # Set DAC1 to 0.5V\n",
    "slab.setVoltage(2,0.7)        # Set DAC2 to 0.7V\n",
    "\n",
    "Vadc3B = slab.readVoltage(3)  # Read ADC3\n",
    "print('Vadc3 =',Vadc3B,'V')   # Show ADC3 voltage"
   ]
  },
  {
   "cell_type": "markdown",
   "metadata": {},
   "source": [
    "The **Additivity** property  implies that:\n",
    "\n",
    "$\\qquad V_{ADC3}=f(V_{DAC1},V_{DAC2})$\n",
    "\n",
    "$\\qquad f(1V,1.5V)+f(0.5V,0.7V)=f(1.5V,2.2V)$\n",
    "\n",
    "You can use the following code cell to check that"
   ]
  },
  {
   "cell_type": "code",
   "execution_count": null,
   "metadata": {},
   "outputs": [],
   "source": [
    "slab.setVoltage(1,1.5)        # Set DAC1 to 1.5V\n",
    "slab.setVoltage(2,2.2)        # Set DAC2 to 2.2V\n",
    "\n",
    "Vadc3C = slab.readVoltage(3)  # Read ADC3\n",
    "print('Vadc3 =',Vadc3C,'V')   # Show ADC3 voltage\n",
    "\n",
    "print()                   # Leave a blank line\n",
    "value = Vadc3A + Vadc3B   # Add the first two cases\n",
    "print('Additivity means that ADC voltage should be',value,'V')"
   ]
  },
  {
   "cell_type": "markdown",
   "metadata": {},
   "source": [
    "You can get some error on the calculations but the result shall be more or less as expected.\n",
    "\n",
    "The **Homogeneity** property implies that the followin equation shall be true:\n",
    "\n",
    "$\\qquad 1.7 \\cdot f(1V,1.5V)=f(1.7 \\cdot 1V,1.7 \\cdot 1.5V)$\n",
    "\n",
    "You can use the following code cell to check that"
   ]
  },
  {
   "cell_type": "code",
   "execution_count": null,
   "metadata": {},
   "outputs": [],
   "source": [
    "slab.setVoltage(1,1.7)        # Set DAC1 to 1.7V\n",
    "slab.setVoltage(2,2.55)       # Set DAC2 to 2.55V\n",
    "\n",
    "Vadc3D = slab.readVoltage(3)  # Read ADC3\n",
    "print('Vadc3 =',Vadc3D,'V')   # Show ADC3 voltage\n",
    "\n",
    "print()                 # Leave a blank line\n",
    "value = 1.7*Vadc3A      # Multiply ADC3 voltage in case #A by 1.5\n",
    "print('Homogeneity means that ADC voltage should be',value,'V')"
   ]
  },
  {
   "cell_type": "markdown",
   "metadata": {},
   "source": [
    "Note that, although we have connected the **ADC1** and **ADC2** lines to the circuit we have not measured them. We have relied on the **DAC** voltages to be what they are supposed to be. In practice there will be some discrepancies between what we program the **DACs** to do and what they **really** do.  \n",
    "If you want, you can modify the previous code cells to check the **ADC1** and **ADC2** voltages and use them in the calculations instead of the expected **DAC** values.     \n",
    "Do that, specially, if you detect any important discrepances in the measurements.  \n",
    "Also note that our measurements require a properly calibrated board."
   ]
  },
  {
   "cell_type": "markdown",
   "metadata": {},
   "source": [
    "## Superposition\n",
    "\n",
    "The **Additivity** property of the linear circuits can be exploited to ease the process of solving circuits. This property states that any voltage or current on the circuit shall verify:\n",
    "\n",
    "$$f(x_1+x'_1, x_2+x'_2,...x_n+x'_n) \n",
    "= f(x_1, x_2,...x_n)+  f(x'_1, x'_2,...x'_n)$$\n",
    "\n",
    "Where each $x_i$ term is an independent voltage or current source. So, the following expression will be true:\n",
    "\n",
    "$$f(x_1, x_2,...x_n) = f(x_1, 0,...0) + f(0, x_2,...0) + ...+ f(0, 0,...x_n) $$\n",
    "\n",
    "That means that we can solve a circuit that features $n$ independent sources by solving $n$ circuits with only one independent source on each one.\n",
    "\n",
    "For our previous example, the two superposition circuits are, for **DAC1**:\n",
    "\n",
    "![Circuit 2](images\\Linear_DC_03\\circuit2.png)\n",
    "\n",
    "And, for **DAC2**:\n",
    "\n",
    "![Circuit 3](images\\Linear_DC_03\\circuit3.png)\n",
    "\n",
    "---\n",
    "\n",
    "**CALCULATION TASK**   \n",
    "Solve $V_{ADC3}$ in the two superposition circuits.  As function of $V_{DAC1}$ in the first and as function of $V_{DAC2}$ in the second.    \n",
    "Note that there i some symmetry in the circuits that can be exploited.   \n",
    "Add the two superposition cases and check if the result match the previous solution for the full circuit.\n",
    "\n",
    "---\n",
    "\n",
    "We can measure the two superposition cases using the following code cells. In order to guarantee the zero voltage values, we will **short** the zero voltage nodes to **GND** instead of just setting the DAC values to zero.\n",
    "\n",
    "To prevent harming the **DACS** disconnect them from the circuit before **shorting** the nodes to ground.\n",
    "\n",
    "In the first case we will remove **DAC2** from the circuit and connect the node where it was to ground."
   ]
  },
  {
   "cell_type": "code",
   "execution_count": null,
   "metadata": {},
   "outputs": [],
   "source": [
    "slab.setVoltage(1,1.0)        # Set DAC1 to 1V\n",
    "                              # Disconnect DAC2 and short the node to ground\n",
    "\n",
    "Vadc3E = slab.readVoltage(3)                     # Read ADC3\n",
    "print('Vadc3 =',Vadc3E,'V whith DAC2 at zero')   # Show ADC3 voltage"
   ]
  },
  {
   "cell_type": "markdown",
   "metadata": {},
   "source": [
    "In the second case we will remove the short and put again **DAC2** in its proper node. Then we will remove the **DAC1** wire and connect the node where it was connected to ground."
   ]
  },
  {
   "cell_type": "code",
   "execution_count": null,
   "metadata": {},
   "outputs": [],
   "source": [
    "                              # Disconnect DAC1 and short the node to ground\n",
    "                              # Reconnect DAC2 to the proper node\n",
    "slab.setVoltage(2,1.5)        # Set DAC2 to 1.5V\n",
    "\n",
    "Vadc3F = slab.readVoltage(3)                     # Read ADC3\n",
    "print('Vadc3 =',Vadc3F,'V whith DAC1 at zero')   # Show ADC3 voltage"
   ]
  },
  {
   "cell_type": "markdown",
   "metadata": {},
   "source": [
    "The following code cell adds the two superposition cases. Check if the result match the first measurement we made on the circuit."
   ]
  },
  {
   "cell_type": "code",
   "execution_count": null,
   "metadata": {},
   "outputs": [],
   "source": [
    "Value = Vadc3E + Vadc3F # Add superposition cases\n",
    "print('Supperposition voltage is',Value,'V')"
   ]
  },
  {
   "cell_type": "markdown",
   "metadata": {},
   "source": [
    "## Superposition with time variable sources\n",
    "\n",
    "The superposition method simplifies cicuit solving because, although you need to solve more circuits, each circuit is easier to solve than the original one.  \n",
    "Obseve that, for a circuit with $n$ independent sources you don't really need to solve $n$ circuits with one source. You can use superposition cases with more than one source as long as, in all cases, each source is used just one time.\n",
    "\n",
    "Note, also, that superposition does not apply only to constant souces. It will work just fine with sources that change with time. Just as a demonstration the following code sets two superposition cases to the two **DACs** using two different signals. Then, we add the two cases and compare them to a case when we apply both signals.\n",
    "\n",
    "For the first case, disconnect **DAC2** and short the node where it was to ground.  \n",
    "Check that the **DAC1** node is not shorted and it is connected to **DAC1** as it should be.  \n",
    "The execute the following code cell to generate a sine wave on **DAC1**."
   ]
  },
  {
   "cell_type": "code",
   "execution_count": null,
   "metadata": {},
   "outputs": [],
   "source": [
    "# Load a 100 point sine wave on DAC1 with 1V minumum value and 2V maximum value\n",
    "slab.waveSine(1.0,2.0,100)\n",
    "\n",
    "# Set sample frequency of 10kHz (Wave frequency of 100Hz)\n",
    "slab.setSampleTime(0.0001)\n",
    "# Set storage for 200 samples of ADC1,ADC2 and ADC3 (2 full waves)\n",
    "slab.setTransientStorage(200,3)\n",
    "\n",
    "# Generate the measurement\n",
    "data = slab.waveResponse()\n",
    "# Get ADC3 and time\n",
    "time  = data[0]\n",
    "adc3A = data[3]\n",
    "# Plot ADC3 voltage\n",
    "slab.plot11(time,adc3A,'Voltage applied to DAC1 only','time [s]','Vadc3 [V]')"
   ]
  },
  {
   "cell_type": "markdown",
   "metadata": {},
   "source": [
    "Now, remove the short to ground, put **DAC2** in its place, remove the **DAC1** cable and short its node to ground.  \n",
    "We cannot instruct **SLab** to generate waves only on **DAC2**, but, as **DAC1** is disconnected, it has no effect in the circuit.  \n",
    "The code cell generates a square wave on **DAC2** that has double frequency of the previous sine wave that was on **DAC1**."
   ]
  },
  {
   "cell_type": "code",
   "execution_count": null,
   "metadata": {},
   "outputs": [],
   "source": [
    "# Load a 100 point sine wave on DAC1 with 1V minumum value and 2V maximum value\n",
    "slab.waveSine(1.0,2.0,100)\n",
    "# Load a 50 point square wave with 1V mininimum value and 2V maximum valueç\n",
    "slab.waveSquare(1.0,1.5,50,second=True)\n",
    "\n",
    "# Set sample frequency of 10kHz (Wave frequency of 100Hz)\n",
    "slab.setSampleTime(0.0001)\n",
    "# Set storage for 200 samples of ADC1,ADC2 and ADC3 (4 waves of DAC2) \n",
    "slab.setTransientStorage(200,3)\n",
    "\n",
    "# Generate the measurement\n",
    "data = slab.waveResponse(dual=True)\n",
    "# Get ADC3 and time\n",
    "time  = data[0]\n",
    "adc3B = data[3]\n",
    "# Plot ADC3 voltage\n",
    "slab.plot11(time,adc3B,'Voltage applied to DAC2 only','time [s]','Vadc3 [V]')"
   ]
  },
  {
   "cell_type": "markdown",
   "metadata": {},
   "source": [
    "In the last stage, remove the short to ground and put **DAC1** in its place so that you have the original circuit with both **DACs** connected.  \n",
    "By executing the following code cell we will measure the circuit with both **DACs** operating at the same time with the sinewave on **DAC1** and the square wave on **DAC2**.   \n",
    "Then we will add the two previous superposition cases and compare with the measurement."
   ]
  },
  {
   "cell_type": "code",
   "execution_count": null,
   "metadata": {},
   "outputs": [],
   "source": [
    "# Load a 100 point sine wave with 0V minumum value and 0V maximum value\n",
    "slab.waveSine(1.0,2.0,100)\n",
    "# Load a 50 point square wave with 1V mininimum value and 2V maximum valueç\n",
    "slab.waveSquare(1.0,1.5,50,second=True)\n",
    "\n",
    "# Set sample frequency of 10kHz (Wave frequency of 100Hz)\n",
    "slab.setSampleTime(0.0001)\n",
    "# Set storage for 200 samples of ADC1,ADC2 and ADC3 (2 waves)\n",
    "slab.setTransientStorage(200,3)\n",
    "# Set DAC2 to zero\n",
    "slab.setVoltage(2,0.0)\n",
    "\n",
    "# Generate the measurement\n",
    "data = slab.waveResponse(dual=True)\n",
    "# Get ADC3 and time\n",
    "time  = data[0]\n",
    "adc3C = data[3]\n",
    "# Compute superposition\n",
    "adc3S = adc3A + adc3B\n",
    "# Plot ADC3 voltage\n",
    "slab.plot1n(time,[adc3C,adc3S],'Comparison','time [s]','Vadc3 [V]'\n",
    "            ,['Both DACs at the same time','Superposition with two cases with one DAC'])"
   ]
  },
  {
   "cell_type": "markdown",
   "metadata": {},
   "source": [
    "## Last Words\n",
    "\n",
    "In this document we have explored **linearity** properties and how they ease cicuit solving. The linearity is a mathematical concept that enables us to use an extensive toolbox o math methods.\n",
    "\n",
    "A lot of circuit important concepts only apply to **linear circuits**. Most circuits, however, are not truly linear. But, as we don't want to abandon our linear math tools, we will try to make the needed approximations so that our circuits, although not linear, just **behave like** linear ones. This is important because the linear approximation won't hold-up in all situations."
   ]
  },
  {
   "cell_type": "markdown",
   "metadata": {},
   "source": [
    "## References\n",
    "\n",
    "**SLab Python References**    \n",
    "Those are the reference documents for the SLab Python modules. They describe the commands that can be carried out after importing each module.  \n",
    "They should be available in the [Reference](http://localhost:8888/notebooks/Reference) folder.\n",
    "\n",
    "**TinyCad**  \n",
    "Circuit images on this document have been drawn using the free software TinyCad  \n",
    "https://sourceforge.net/projects/tinycad/"
   ]
  },
  {
   "cell_type": "markdown",
   "metadata": {},
   "source": [
    "## Document license\n",
    "\n",
    "Copyright  ©  Vicente Jiménez (2019)  \n",
    "This work is licensed under a Creative Common Attribution-ShareAlike 4.0 International license.  \n",
    "This license is available at http://creativecommons.org/licenses/by-sa/4.0/\n",
    "\n",
    "<img  src=\"images/cc_sa.png\" width=\"200\">"
   ]
  },
  {
   "cell_type": "code",
   "execution_count": null,
   "metadata": {},
   "outputs": [],
   "source": []
  }
 ],
 "metadata": {
  "kernelspec": {
   "display_name": "Python 3",
   "language": "python",
   "name": "python3"
  },
  "language_info": {
   "codemirror_mode": {
    "name": "ipython",
    "version": 3
   },
   "file_extension": ".py",
   "mimetype": "text/x-python",
   "name": "python",
   "nbconvert_exporter": "python",
   "pygments_lexer": "ipython3",
   "version": "3.7.1"
  }
 },
 "nbformat": 4,
 "nbformat_minor": 2
}
