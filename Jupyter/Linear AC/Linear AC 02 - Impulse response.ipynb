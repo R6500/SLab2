{
 "cells": [
  {
   "cell_type": "markdown",
   "metadata": {},
   "source": [
    "<img style=\"float: right;\"  src=\"images/LogoP.jpg\" width=\"200\">\n",
    "\n",
    "# Linear AC 03 - Impulse Response\n",
    "\n",
    "This document deals with the **Impulse Response**, this the response of a circuit to an special signal that can be used to obtain the response to any other signal.\n",
    "\n",
    "Version 1.0 (7/4/2019)  \n",
    "License information is at the end of the document\n",
    "\n",
    "---\n",
    "**Bill Of Materials (BOM):**\n",
    "\n",
    "* One $100nF$ Capacitor\n",
    "* One $47k \\Omega$ Resistor\n",
    "\n",
    "---"
   ]
  },
  {
   "cell_type": "markdown",
   "metadata": {},
   "source": [
    "## Capacitors and linearity\n",
    "\n",
    "In the previous tutorial we have described the **capacitor** and used its equation to solve the output of a circuit against two different inputs. Now, we want to ease obtaining the solution of any circuit tgat contains capacitors for any possible input signal. In order to do that, we will apply some mathematical linear tricks.\n",
    "\n",
    "We have described the capacitor in the previous chapter. The question that arises is. Is the capacitor linear?. And the answer is a **qualified** yes. If you remember, the capacitor current $i_C$ depends on the capacitor voltage as shown in the equation:\n",
    "\n",
    "$$i_C = C \\frac{d v_C}{d t}$$\n",
    "\n",
    "This equation is linear. Multiplying by a constant $C$ is a linear operation and diferentiating is also a linear operation. Let's see now the equation that obtains the $v_C$ voltage:\n",
    "\n",
    "$$v_C = V_C(0) + \\frac{1}{C} \\int^t_0 i_C \\cdot dt$$\n",
    "\n",
    "This equation **is not linear**. Multiplying by $1/C$ is linear, integrating is linear, but addind the $V_C(0)$ constant **is not linear**. This is problem, because we need linear components to have linear circuits. And we need linear circuit to apply to them all the mathematical tricks that only work with linear functions.\n",
    "\n",
    "There are two solutions to this problem.\n",
    "\n",
    "The **first solution** is wisely choosing the zero time. The numbers on the time line are completely arbitrary. We can put the zero time whenever we choose. Just set the zero time when you know that the the capacitor voltage $v_C$ is zero. Easy peasy. Problem solved.\n",
    "\n",
    "This first solution don't always work. Sometimes the voltage is **never** zero. Sometimes we have several capacitors and they are never zero at the same time.\n",
    "\n",
    "The **second solution** always work and consists in detaching the capacitor from its initial conditions. Any capacitor with non zero initial conditions $V_C(0)$ is equivalent to a zero initial conditions capacitor in series with an independent source that carries the capacitor's initial conditions.\n",
    "\n",
    "![Equivalent](images\\Linear_AC_02\\initial_conditions.png)\n",
    "\n",
    "So, if needed, we can have all capacitors with zero initial conditions if we use an additional independent voltage source for each capacitor whose initial conditions are not zero.\n"
   ]
  },
  {
   "cell_type": "markdown",
   "metadata": {},
   "source": [
    "## LTI Systems\n",
    "\n",
    "Circuits that you can build using independent sources and linear components, whether they have **state** or not, can be included in the **Linear Time-Independent (LTI)** system cathegory.\n",
    "\n",
    "An **LTI** system is **linear** so its outputs (voltages and currents) are linear functions of its inputs (independent sources) but also is **Time-Independent**. That means that its behavior is insensitive to a time translation. \n",
    "\n",
    "As an example, if we have a **LTI** system $f$ and feed it with an imput $x(t)$ that changes with time we will get an output $y(t)$ that changes with time:\n",
    "\n",
    "$$x(t) \\overset{f}{\\longrightarrow} y(t)$$\n",
    "\n",
    "This can also be expressed as:\n",
    "\n",
    "$$y(t) = f(x(t))$$\n",
    "\n",
    "Then, if we shift the input in time by a $t_0$ amount, the output will shift by the same amount:\n",
    "\n",
    "$$x(t-t_0) \\overset{f}{\\longrightarrow} y(t-t_0) \\qquad y(t-t_0)=f(x(t-t_0))$$\n",
    "\n",
    "Having an **LTI** system permits describing the system using its **Impulse Response**. To ease the explanations we will consider in this document systems that only have one input and one output. As **initial conditions** are equivalent to having additional inputs, we will also consider zero initial conditions.\n",
    "\n",
    "The explanations that follows could be quite hard to grasp so we will  use practical examples."
   ]
  },
  {
   "cell_type": "markdown",
   "metadata": {},
   "source": [
    "---\n",
    "\n",
    "![Practical Icon](images/pt.png)\n",
    "\n",
    "---"
   ]
  },
  {
   "cell_type": "markdown",
   "metadata": {},
   "source": [
    "## SLab Setup\n",
    "\n",
    "First we will need to import the **SLab** module"
   ]
  },
  {
   "cell_type": "code",
   "execution_count": null,
   "metadata": {},
   "outputs": [],
   "source": [
    "# Import the main SLab module\n",
    "import slab"
   ]
  },
  {
   "cell_type": "markdown",
   "metadata": {},
   "source": [
    "Then we need to connect with the board."
   ]
  },
  {
   "cell_type": "code",
   "execution_count": null,
   "metadata": {},
   "outputs": [],
   "source": [
    "boardFolder = ''                                # Board folder (leave '' if you use only one board)\n",
    "slab.setFilePrefix('../Files/')                 # Set File Prefix\n",
    "slab.setCalPrefix('Calibrations/'+boardFolder)  # Set Calibration Prefix         \n",
    "slab.connect()                                  # Connect to the board"
   ]
  },
  {
   "cell_type": "markdown",
   "metadata": {},
   "source": [
    "It is always a good idea to check the board operation.\n",
    "The following cell checks the calibration for the DAC channels and the first four ADC channels."
   ]
  },
  {
   "cell_type": "code",
   "execution_count": null,
   "metadata": {},
   "outputs": [],
   "source": [
    "# Check the calibration\n",
    "slab.checkCalibration(pause=False,na=4,nm=10)"
   ]
  },
  {
   "cell_type": "markdown",
   "metadata": {},
   "source": [
    "## Example LTI system\n",
    "\n",
    "The **LTI** system we will use is the same **RC** circuit we use in the previous tutorial.\n",
    "\n",
    "![RC](images\\Linear_AC_02\\circuit2.png)\n",
    "\n",
    "We only have one input $V_{DAC1}$ and we will consider only one output $V_{ADC2}$ that corresponds with the capacitor voltage $v_C$. Also we will always start our measurements with zero initial conditions.\n",
    "\n",
    "First, we will repeat the response to one step in the input. In this case, for simplicity,  we will use a step change from $0V$ to $1V$ in the circuit input.  This input is the **Unity Step Function** also known as the **Heaviside Step Function**. As this function is used a lot, so it has its own short name $u(t)$.\n",
    "\n",
    "As we have analyzed the circuit, we know what we will get:\n",
    "\n",
    "$$v_C = 1V \\left( 1 -  e^{-\\frac{t}{\\tau}} \\right)$$\n",
    "\n",
    "This is the **step response** $s(t)$ for the **step input** $u(t)$\n",
    "\n",
    "We can obtain the **step response** by measuring it too and see that it agrees with our formula.\n"
   ]
  },
  {
   "cell_type": "code",
   "execution_count": null,
   "metadata": {},
   "outputs": [],
   "source": [
    "# Import the arange and exp functions from numpy\n",
    "from numpy import arange,exp\n",
    "\n",
    "# Calculate the step response\n",
    "\n",
    "tau = 0.0047                    # Time constant is 4.7ms\n",
    "t  = arange(0.0,0.05,0.0001)    # Time from 0 to 50ms in 0.1ms increments\n",
    "vc = 1.0*(1-exp(-t/tau))        # Calculate capacitor voltage\n",
    "\n",
    "# Measure the step response\n",
    "\n",
    "slab.setSampleTime(0.0001)           # Set sample time to 0.1ms\n",
    "slab.setTransientStorage(625,2)      # Set storage for 625 samples of ADC1 and ADC2\n",
    "\n",
    "# Perform the step plot with a change of DAC1 from 0V to 1V \n",
    "# By default, DAC1 will be at the start voltage for 1s before the change\n",
    "data = slab.stepResponse(0.0,1.0)     \n",
    "tm  = data[0]  # Get time from data\n",
    "vcm = data[2]  # Get ADC2 from data\n",
    "\n",
    "# Plot vc against time in both cases\n",
    "slab.plotnn([t,tm],[vc,vcm],'RC Step Response'\n",
    "            ,'time [s]','vc [V]',['Calculated','Measured'])"
   ]
  },
  {
   "cell_type": "markdown",
   "metadata": {},
   "source": [
    "The **step response** $s(t)$ is very important because it completelly describes the circuit operation. We can use it to obtain the response of the circuit against any other input. So, we will store this important information in a  $s$ vector."
   ]
  },
  {
   "cell_type": "code",
   "execution_count": null,
   "metadata": {},
   "outputs": [],
   "source": [
    "# Store the step response in a vector\n",
    "s = vc"
   ]
  },
  {
   "cell_type": "markdown",
   "metadata": {},
   "source": [
    "## Using step response for fun an profit\n",
    "\n",
    "So, we know that $s(t)$ is the circuit's response to $u(t)$ let's express that this way:\n",
    "\n",
    "$$u(t) \\overset{f}{\\longrightarrow} s(t)$$\n",
    "\n",
    "We can also define our circuit **LTI System** as a function $f$ that transforms the input $u(t)$ in the output $s(t)$.\n",
    "\n",
    "$$s(t) = f(u(t))$$\n",
    "\n",
    "We know tha the circuit $f$ function transfoms the input $u(t)$ in the output $s(t)$ but we don't know yet how it can trsnsform any other input.\n",
    "\n",
    "Now, we want to use our step response $s(t)$ to obtain the response to a signal similar to the one that ended last chapter. To make things a little simpler, we will use a signal that starts at zero value."
   ]
  },
  {
   "cell_type": "code",
   "execution_count": null,
   "metadata": {},
   "outputs": [],
   "source": [
    "from numpy import linspace\n",
    "\n",
    "# Define a special waveform to be applied on DAC1\n",
    "v = []\n",
    "for sample in range(0,250):\n",
    "    if sample < 100:\n",
    "        v.append(0.0)\n",
    "    else:    \n",
    "        if sample > 160:\n",
    "            v.append(0.5)\n",
    "        else:\n",
    "            v.append(2.0)\n",
    "   \n",
    "# Define a time vector to show the vaveform\n",
    "time = linspace(0,0.025,250)            \n",
    "\n",
    "# Plot the waveform\n",
    "slab.plot11(time,v,'Waveform','time [s]','Voltage [V]')"
   ]
  },
  {
   "cell_type": "markdown",
   "metadata": {},
   "source": [
    "This signal that we will call $x_1(t)$, although much more complex than the step input $u(t)$, can be generated by **superposition** and **time shifting** of the step $u(t)$ signal. We can do superposition because we have a **Linear System** and we can do **time shifting** because we have a **Time-Invariant** system.\n",
    "\n",
    "$$x_1(t) = 2V \\cdot u(t - 10ms) - 1.5V \\cdot u(t-16ms)$$\n",
    "\n",
    "So, as $u(t)$ has a $s(t)$ response, $x_1(t)$ shall have a response $y_1(t)$:\n",
    "\n",
    "$$u(t) \\overset{f}{\\longrightarrow} s(t)$$\n",
    "\n",
    "$$x_1(t) \\overset{f}{\\longrightarrow} y_1(t)$$\n",
    "\n",
    "So, we can calculate $y_1(t)$:\n",
    "\n",
    "$$y_1(t) = 2V \\cdot s(t-10ms) - 1.5V \\cdot s(t-16ms)$$\n",
    "\n",
    "We want to try that, so we will define a **shift** function to shift a vector."
   ]
  },
  {
   "cell_type": "code",
   "execution_count": null,
   "metadata": {},
   "outputs": [],
   "source": [
    "import numpy as np\n",
    "\n",
    "# Define shift function\n",
    "def shift(vector,offset):\n",
    "    out = []\n",
    "    for i in range(0,len(vector)):\n",
    "        if i < offset:\n",
    "            out.append(0.0)\n",
    "        else:\n",
    "            out.append(vector[i-offset])\n",
    "    return np.array(out) "
   ]
  },
  {
   "cell_type": "markdown",
   "metadata": {},
   "source": [
    "And we will use this function to calculate the circuit $y_1(t)$ response from the step $s(t)$ response."
   ]
  },
  {
   "cell_type": "code",
   "execution_count": null,
   "metadata": {},
   "outputs": [],
   "source": [
    "# Obtain y1(t) from s(t)\n",
    "y1 = 2.0*shift(s,100)-1.5*shift(s,160)\n",
    "\n",
    "# Plot y1(t)\n",
    "slab.plot11(t,y1,'','time [s]','y1 [V]')"
   ]
  },
  {
   "cell_type": "markdown",
   "metadata": {},
   "source": [
    "We can compare that against a measurement"
   ]
  },
  {
   "cell_type": "code",
   "execution_count": null,
   "metadata": {},
   "outputs": [],
   "source": [
    "slab.loadWavetable(v)                # Upload the waveform of 250 points\n",
    "slab.setSampleTime(0.0001)           # Set sample time to 0.1ms (full wave will be 25ms)\n",
    "slab.setTransientStorage(250,2)      # Set storage for 250 samples of ADC1 and ADC2\n",
    "\n",
    "data1 = slab.waveResponse()          # Obtain circuit's response to v\n",
    "\n",
    "slab.plotnn([t,data1[0]],[y1,data1[2]],''\n",
    "            ,'time [s]','Response [V]',['Calculated','Measured'])"
   ]
  },
  {
   "cell_type": "markdown",
   "metadata": {},
   "source": [
    "You can think that you can use $u(t)$ to syntetize $x_1(t)$ because this signal was defined by constant intervals, but we can syntetize **any function** just using the $u(t)$ function. Let's try with that $x_2(t)$ function:"
   ]
  },
  {
   "cell_type": "code",
   "execution_count": null,
   "metadata": {},
   "outputs": [],
   "source": [
    "# Define a new waveform to be applied on DAC1\n",
    "x2 = []\n",
    "for sample in range(0,500):\n",
    "    if sample < 100:\n",
    "        x2.append(0.0)\n",
    "    else:    \n",
    "        x2.append(2*np.sin((sample-100)/40)*exp(-(sample-100)/100)+(1-exp(-(sample-100)/100)))\n",
    "        \n",
    "# Define a time vector to show the vaveform\n",
    "time = linspace(0,0.05,500)            \n",
    "\n",
    "# Plot the waveform\n",
    "slab.plot11(time,x2,'Waveform','time [s]','Voltage [V]')        "
   ]
  },
  {
   "cell_type": "markdown",
   "metadata": {},
   "source": [
    "We can feed that function to our system and obtain its $y_2(t)$ response:"
   ]
  },
  {
   "cell_type": "code",
   "execution_count": null,
   "metadata": {},
   "outputs": [],
   "source": [
    "slab.loadWavetable(x2)               # Upload the waveform of 250 points\n",
    "slab.setSampleTime(0.0001)           # Set sample time to 0.1ms (full wave will be 25ms)\n",
    "slab.setTransientStorage(500,2)      # Set storage for 500 samples of ADC1 and ADC2\n",
    "\n",
    "data2 = slab.waveResponse()          # Obtain circuit's response to v\n",
    "tm =  data2[0]                       # Get time\n",
    "vim = data2[1]                       # Get vi(t) from ADC1\n",
    "vcm = data2[2]                       # Get vc(t) from ADC2\n",
    "\n",
    "slab.plot1n(tm,[vim,vcm],'Circuit response'\n",
    "            ,'time [s]','Voltage [V]',['Input','Output'])"
   ]
  },
  {
   "cell_type": "markdown",
   "metadata": {},
   "source": [
    "In order to obtain $y_2(t)$ from $s(t)$ we need to generate $x_2(t)$ from $u(t)$. As our syntesis won't be perfect we will call it $x'_2(t)$\n",
    "\n",
    "$$ x'_2(t) \\approx x_2(t)$$\n",
    "\n",
    "To generate $x'_2(t)$ we define time intervals $\\Delta t$ of, for instance, $2ms$. And, for each time interval we define a small piece of the function.\n",
    "\n",
    "$$x'_2(t) = \\sum_{i=0}^{n-1} x_2(i\\cdot \\Delta t) \n",
    "\\cdot (u(t-i\\cdot \\Delta t)-u(t-(i+1)\\cdot \\Delta t))$$"
   ]
  },
  {
   "cell_type": "code",
   "execution_count": null,
   "metadata": {},
   "outputs": [],
   "source": [
    "x2a = []                       # Define an empty list\n",
    "for i in range(0,25):          # Use 25 sections\n",
    "    for z in range(0,20):      \n",
    "        x2a.append(x2[i*20])   # Define wave for each section \n",
    "x2a = np.array(x2a)            # Convert list to numpy array\n",
    "\n",
    "# Plot the original and the approximation\n",
    "slab.plot1n(time,[x2,x2a],'Waveform approximation'\n",
    "            ,'time [s]','Voltage [V]',['x2(t)','x\\'2(t)'])   "
   ]
  },
  {
   "cell_type": "markdown",
   "metadata": {},
   "source": [
    "We see that $x'_2(t)$ is a non perfect approximation of $x_2(t)$.\n",
    "\n",
    "As $x'_2(t)$ has been generated using $u(t)$ we can use the step response $s(t)$ to obtain the system's $y'_2(t)$ response\n",
    "\n",
    "$$u(t) \\overset{f}{\\longrightarrow} s(t)$$\n",
    "\n",
    "$$x'_2(t) \\overset{f}{\\longrightarrow} y'_2(t)$$\n",
    "\n",
    "Where $y'_2(t)$ can be obtained:\n",
    "\n",
    "$$y'_2(t) = \\sum_{i=0}^{n-1} x_2(i\\cdot \\Delta t) \n",
    "\\cdot (s(t-i\\cdot \\Delta t)-s(t-(i+1)\\cdot \\Delta t))$$\n",
    "\n",
    "We will use the following code cell to test that."
   ]
  },
  {
   "cell_type": "code",
   "execution_count": null,
   "metadata": {},
   "outputs": [],
   "source": [
    "y2a = np.zeros(500)            # Define start vector filled with zeros\n",
    "for i in range(0,25):          # Use 25 sections\n",
    "    # Compute output from the s(t) in this section\n",
    "    y2a = y2a + x2[i*20]*shift(s,20*i) - x2[i*20]*shift(s,20*(i+1))\n",
    "y2a = np.array(y2a)            # Convert list to numpy array\n",
    "\n",
    "# Plot the obtained response\n",
    "slab.plot11(time,y2a,'Calculated response','time [s]','y2a [V]')"
   ]
  },
  {
   "cell_type": "markdown",
   "metadata": {},
   "source": [
    "And we can compare it with the measured $y_2(t)$"
   ]
  },
  {
   "cell_type": "code",
   "execution_count": null,
   "metadata": {},
   "outputs": [],
   "source": [
    "# Plot measured y2(t) and calculated y2a(t)\n",
    "slab.plot1n(time,[y2a,vcm],'Calculation vs Measurement'\n",
    "            ,'time [s]','Voltage [V]',['Calculated','Measured'])"
   ]
  },
  {
   "cell_type": "markdown",
   "metadata": {},
   "source": [
    "It's good, but ot is not perfect."
   ]
  },
  {
   "cell_type": "markdown",
   "metadata": {},
   "source": [
    "## Going for perfection\n",
    "\n",
    "In order to improve our approximation to the real $y_2(t)$ we can use a smaller $\\Delta t$ time. As our measurement system is a **discrete sampled** system the smaller $\\Delta t$ we can use is the **sample time**, $0.1ms$ in our case. Let's use that to obtain the response $y''_2(t)$ of our system:"
   ]
  },
  {
   "cell_type": "code",
   "execution_count": null,
   "metadata": {},
   "outputs": [],
   "source": [
    "# Compute response by using s(t) on each sample\n",
    "y2aa = np.zeros(500)\n",
    "for i in range(0,500):          # Use 500 sections\n",
    "    y2aa = y2aa + x2[i]*shift(s,i) - x2[i]*shift(s,i+1)\n",
    "y2aa = np.array(y2aa)            # Convert list to numpy array\n",
    "\n",
    "# Plot measured y2(t) and calculated y2aa(t)\n",
    "slab.plot1n(time,[y2aa,vcm],'Calculation vs Measurement'\n",
    "            ,'time [s]','Voltage [V]',['Calculated','Measured'])"
   ]
  },
  {
   "cell_type": "markdown",
   "metadata": {},
   "source": [
    "As you can see the approximation is as good as you can get."
   ]
  },
  {
   "cell_type": "markdown",
   "metadata": {},
   "source": [
    "## Impulse response\n",
    "\n",
    "In the previous sections we have obtained the circuit's response $y(t)$ by using a summation of **step responses** $s(t)$.\n",
    "\n",
    "$$x'(t) = \\sum_{i=0}^\\infty x(i\\cdot \\Delta t) \n",
    "\\cdot (s(t-i\\cdot \\Delta t)-s(t-(i+1)\\cdot \\Delta t))$$\n",
    "\n",
    "The summation starts at $i=0$ because our $x_2(t)$ was only defined for positive times.  In general for any $x(t)$ function the summarion shall include negative values.\n",
    "\n",
    "$$y(t) = \\sum_{i=-\\infty}^\\infty x(i\\cdot \\Delta t) \n",
    "\\cdot (s(t-i\\cdot \\Delta t)-s(t-(i+1)\\cdot \\Delta t))$$\n",
    "\n",
    "---\n",
    "\n",
    "The $s(t)$ sustraction is interesting so we will have a closer look.\n",
    "\n",
    "$$s(t-i\\cdot \\Delta t)-s(t-(i+1) \\cdot \\Delta t)$$\n",
    "\n",
    "As the $t-i \\cdot \\Delta t$ is repeated, let's call it $t_A$\n",
    "\n",
    "$$t_A = t-i \\cdot \\Delta t$$\n",
    "\n",
    "So we get:\n",
    "\n",
    "$$s(t_A)-s(t_A - \\Delta t)$$\n",
    "\n",
    "This is what the $s$ function has increased in a $\\Delta t$ time from time $t_A$, so it can be approximated by:\n",
    "\n",
    "$$s(t_A)-s(t_A - \\Delta t) \\approx \\frac{d}{dt} s(t_A) \\cdot \\Delta t$$\n",
    "\n",
    "Now we can recover what $t_A$ contains:\n",
    "\n",
    "$$\\frac{d}{dt} s(t-i \\cdot \\Delta t) \\cdot \\Delta t$$\n",
    "\n",
    "This approximation will very good for very small $\\Delta t$ values.\n",
    "\n",
    "The derivative of the **step response** $s(t)$ is the **impulsional response** $h(t)$. Take it, fow now, as a definition.\n",
    "\n",
    "$$h(t) = \\frac{d}{dt}s(t)$$\n",
    "\n",
    "---\n",
    "\n",
    "Let's return to our sum:\n",
    "\n",
    "$$y(t) = \\sum_{i=-\\infty}^\\infty x(i\\cdot \\Delta t) \n",
    "\\cdot (s(t-i\\cdot \\Delta t)-s(t-(i+1)\\cdot \\Delta t))$$\n",
    "\n",
    "It can be rewritten as:\n",
    "\n",
    "$$y(t) = \\sum_{i=-\\infty}^\\infty x(i\\cdot \\Delta t) \\frac{d}{dt} s(t-i \\cdot \\Delta t) \\cdot \\Delta t $$\n",
    " \n",
    "And, using the **impulsional response** $h(t)$ we get:\n",
    "\n",
    "$$y(t) = \\sum_{i=-\\infty}^\\infty x(i\\cdot \\Delta t) \\; h(t - i\\cdot \\Delta t) \\; \\Delta t $$\n",
    "\n",
    "To have a **perfect** approximation we can have $\\Delta t$ infinitelly small so we get $d\\tau$ instead of $\\Delta t$ and we get an integral instead of a sum.\n",
    "\n",
    "$$y(t) = \\int^\\infty _{-\\infty}  x(\\tau) \\; h(t-\\tau) \\; d \\tau$$\n",
    "\n",
    "Observe that we integrate in $\\tau$ not $t$ because the result is a function of $t$. Remember that in our previous sum we had $t$ and $i \\cdot \\Delta t$. We have just replaced $\\Delta t$ by $d \\tau$ and $i \\cdot \\Delta t$ by $\\tau$.\n",
    "\n",
    "The above integral is a very important one. It defines the **Convolution Operator** ($*$).\n",
    "\n",
    "$$y(t) = \\int^\\infty _{-\\infty}  x(\\tau) \\; h(t-\\tau) \\; d \\tau\n",
    "= (x * s)(t) $$"
   ]
  },
  {
   "cell_type": "markdown",
   "metadata": {},
   "source": [
    "## Testing the impulse response\n",
    "\n",
    "We can now test the impulse response $h(t)$ on our circuit. As we know:\n",
    "\n",
    "$$h(t) = \\frac{d \\: s(t)}{dt}$$\n",
    "\n",
    "We know the step response $s(t)$ of our circuit:\n",
    "\n",
    "$$s(t) = 1V \\left( 1 -  e^{-\\frac{t}{\\tau}} \\right)$$\n",
    "\n",
    "So, the impulse response will be:\n",
    "\n",
    "$$h(t) = \\frac{d}{dt} \\left( 1 -  e^{-\\frac{t}{\\tau}} \\right) \n",
    "= \\frac{1}{\\tau}e^{-\\frac{t}{\\tau}}$$\n",
    "\n",
    "We can use the following code cell to calculate the impulse response for our circuit.  \n",
    "The code cell also computes $h(t)$ from the measured $s(t)$. As we are using discrete measurements, we use the **difference** instead of the derivative.\n",
    "\n",
    "$$h(i \\cdot \\Delta t) = \\frac{1}{\\Delta t} \\bigl( s(i\\cdot \\Delta t) -s((i-1) \\cdot \\Delta t) \\bigr)$$\n",
    "\n",
    "At the end, the code compares the $h(t)$ obtained from the circuit equatuions with the one obtained from the measurement."
   ]
  },
  {
   "cell_type": "code",
   "execution_count": null,
   "metadata": {},
   "outputs": [],
   "source": [
    "# Calculate the impulse response\n",
    "\n",
    "t  = arange(0.0,0.05,0.0001)    # Time from 0 to 50ms in 0.1ms increments\n",
    "h = (1/tau)*exp(-t/tau)         # Calculate capacitor voltage\n",
    "\n",
    "hm = (s[1:] - s[:-1])/0.0001    # Difference\n",
    "\n",
    "# Plot calculation against measurement\n",
    "# As the difference has one item less than the measurement, we need to use different time vectors\n",
    "slab.plotnn([t,t[:-1]],[h,hm],'Impulse Response'\n",
    "           ,'time [s]','h(t) [v]',['Calculated','Measurement'])"
   ]
  },
  {
   "cell_type": "markdown",
   "metadata": {},
   "source": [
    "Now, we can apply the **convolution** to obtain the response of the circuit:\n",
    "\n",
    "$$y(t) = (x*h)(t)$$\n",
    "\n",
    "In our calculations, as they are discrete data, we are using the **discrete convolution** instead of the **integral convolution**. The definition of the discrete convolution is:\n",
    "\n",
    "$$(x * h)_i = \\sum_{j=0}^{n-1} x_j \\; h(i - j)$$\n",
    "\n",
    "If we compare that with the previous calculations we see that we miss a $\\Delta t$ factor. So we will compute the output as:\n",
    "\n",
    "$$y_i = (x * h)_i \\cdot \\Delta t$$\n",
    "\n",
    "The following code cell obtains the response of the circuit from the **convolution** of the **input** and the **impulsional response** and compares it with the measurements."
   ]
  },
  {
   "cell_type": "code",
   "execution_count": null,
   "metadata": {},
   "outputs": [],
   "source": [
    "# Perform the convolution\n",
    "# We need to multiply bu the sample time to get proper results\n",
    "y2c = np.convolve(h,x2)*0.0001\n",
    "\n",
    "# We get only the first 500 points as the input signal is not\n",
    "# defined beyond this point\n",
    "y2c = y2c[0:500]\n",
    "\n",
    "# Now we define a time vector with the same size\n",
    "t = arange(0.0,0.05,0.0001)\n",
    "\n",
    "# Plot measured y2(t) and calculated y2aa(t)\n",
    "slab.plot1n(time,[y2c,vcm],'Calculation vs Measurement'\n",
    "            ,'time [s]','Voltage [V]',['Calculated','Measured'])"
   ]
  },
  {
   "cell_type": "markdown",
   "metadata": {},
   "source": [
    "## Changing the order\n",
    "\n",
    "Is interesting to note that the convolution operator is **Commutative**, so, we can change the operands order:\n",
    "\n",
    "$$(x * s)(t) = (s * x)(t)$$\n",
    "\n",
    "As we see **LTI Systems** can be defined by the **Convolution** of the input and the **Impulsional Response** of the system. And that convolution is **Commutative**.\n",
    "\n",
    "If we have one system $f$ that transforms an input $x(t)$ in an output $y_1(t)$ and we feed that output in another system $g$, it ill generate an output $y_2(t)$ that depends on the **cascade** if tge systems $f$ and $g$.\n",
    "\n",
    "$$x(t) \\overset{f}{\\longrightarrow} y_1(t) \\overset{g}{\\longrightarrow} y_2(t)$$\n",
    "\n",
    "We can obtain $y_1(t)$ and $y_2(t)$:\n",
    "\n",
    "$$y_1(t) = f(x(t)) \\qquad y_2(t) = g(y_1(t)) = g(f(x(t)))$$\n",
    "\n",
    "Using the impulsional responses $h_f(t)$ and $h_g(t)$ of the systems $f$ and $g$ we get:\n",
    "\n",
    "$$y_1(t) = f(x(t)) = x(t)*h_f(t)\n",
    " \\qquad y_2(t) = g(y_1(t)) = g(f(x(t))) = (x * h_f * h_g)(t)$$\n",
    "\n",
    "But, as convolution is conmmutative, it is also true:\n",
    "\n",
    "$$y_2(t) = (x * h_g * h_f)(t) = f(g(x(t)))$$\n",
    "\n",
    "So, this corresponds to the system:\n",
    "\n",
    "$$x(t) \\overset{g}{\\longrightarrow} y_1(t) \\overset{f}{\\longrightarrow} y_2(t)$$\n",
    "\n",
    "So, if we have two linear systems in **cascade** we can change their order and the final result won't change. The intermediate results will be different, however.\n",
    "\n",
    "$$x(t) \\overset{f}{\\longrightarrow} y_1(t) \\overset{g}{\\longrightarrow} y_2(t)$$\n",
    "\n",
    "$$x(t) \\overset{g}{\\longrightarrow} y_3(t) \\overset{f}{\\longrightarrow} y_2(t)$$\n",
    "\n",
    "![Cascade Systems](images\\Linear_AC_02\\systems.png)\n",
    "\n",
    "Also note that the cascade combination of the systems $f$ and $g$ can be represented by a single system whose impulsional response $h_{fg}(t)$ is:\n",
    "\n",
    "$$h_{fg}(t) = (h_f * h_g)(t)$$"
   ]
  },
  {
   "cell_type": "markdown",
   "metadata": {},
   "source": [
    "## Going Infinite\n",
    "\n",
    "Previously we have defined the **impulsional response** as the derivative of the **step response**\n",
    "\n",
    "$$h(t) = \\frac{d}{dt} s(t)$$\n",
    "\n",
    "The question is, if the **impulsional response** is a response. To what input does it respond? Let's advance that it responds to the [Dirac Delta](https://en.wikipedia.org/wiki/Dirac_delta_function) $\\delta(t)$ function. \n",
    "\n",
    "$$h(t) = f(\\delta(t))$$\n",
    "\n",
    "$$\\delta(t) \\overset{f}{\\longrightarrow} h(t)$$\n",
    "\n",
    "The question is, how is this function?\n",
    "\n",
    "As we remember, the **step response** $s(t)$ is the response of the system $f$ to the **unity step function u(t)**:\n",
    "\n",
    "$$s(t) = f(u(t))$$\n",
    "\n",
    "So, the origina impulsional response:\n",
    "\n",
    "$$h(t) = \\frac{d}{dt} s(t)$$\n",
    "\n",
    "Can be written as:\n",
    "\n",
    "$$h(t) = \\frac{d}{dt} f(u(t))$$\n",
    "\n",
    "As the detivative is **linear** and **time-invariant** we get:\n",
    "\n",
    "$$u(t) \\overset{f}{\\longrightarrow} \\overset{\\frac{d}{dt}}{\\longrightarrow} h(t)$$\n",
    "\n",
    "We know that **LTI Systems** are definited by a **convolution** and that this operation is **commutative**, so:\n",
    "\n",
    "$$u(t)  \\overset{\\frac{d}{dt}}{\\longrightarrow} \\overset{f}{\\longrightarrow} h(t)$$\n",
    "\n",
    "$$h(t) = f \\left( \\frac{d}{dt} u(t) \\right)$$\n",
    "\n",
    "So, as we defined $\\delta (t)$ as the input to the sysyem $f$ that gives $h(t)$ as response,:\n",
    "\n",
    "$$h(t) = f(\\delta(t))$$\n",
    "\n",
    "By simple identification we get:\n",
    "\n",
    "$$\\delta(t) = \\frac{d}{dt} u(t)$$\n",
    "\n",
    "Here things get hairy becase the step function is **discontinuous** and not **derivable** at time zero. Leaving aside the mathematical formalities we can say that [Dirac Delta](https://en.wikipedia.org/wiki/Dirac_delta_function) $\\delta(t)$ is a function that is zero for any time that is not zero. And, at time zero, it goes to infinity so that the integral of the function goes from $0$ to $1$ when time goes from $0^-$ to $0^+$.\n",
    "\n",
    "![Dirac Delta](images\\Linear_AC_02\\delta.png)"
   ]
  },
  {
   "cell_type": "markdown",
   "metadata": {},
   "source": [
    "## The important bits\n",
    "\n",
    "To recap and not lose ourselves in this forest, we have defined the **impulsional response** $h(t)$ of a **LTI system** $f$ as the response of this system to the **Dirac Delta** $\\delta (t)$ function.\n",
    "\n",
    "$$\\delta(t) \\overset{f}{\\longrightarrow} h(t)$$\n",
    "\n",
    "Using this **impulsional response** we can obtain the response $y(t)$ of the system $f$ to any arbitrary input $x(t)$ using the convolution operator:\n",
    "\n",
    "$$y(t) =  (x * s)(t) = \\int^\\infty _\\infty  x(\\tau) \\; h(t-\\tau) \\; d \\tau$$\n",
    "\n",
    "But we cannot directly obtain the **impulse response** from measurements because the **Dirac Delta ** function $\\delta(t)$ goes to infity and is impossible to implement. So we get the response $s(t)$ to the **unity step function** that is easier to implement and we get the **impulsional** response by calculating the derivative of the **step response**.\n",
    "\n",
    "$$u(t) \\overset{f}{\\longrightarrow} s(t)$$\n",
    "\n",
    "$$h(t) = \\frac{d}{dt} s(t)$$\n",
    "\n",
    "There is just one **\"small\"** problem. Any **stareless LTI system** wil respond instantaneously to a step change on its input and will have an unbound impulsional response. That is, is impulsional response $h(t)$ will be proportional to the **Dirac Delta** $\\delta(t)$ function.\n",
    "\n",
    "That's why we **never** use the impulsional response to describe **stateless** systems.\n"
   ]
  },
  {
   "cell_type": "markdown",
   "metadata": {},
   "source": [
    "## Last Words\n",
    "\n",
    "This document shows how any **Linear Time- Inveriant (LTI)** system can be described by its **impulsional response** $h(t)$. This response can be obtained from the derivative of the **unity step response**. In the case of the simple **RC** circuit it was easy to obtain the **impulsional response** from the component values because the system can be described by a simple first order differential equation.\n",
    "\n",
    "For more complex circuits it is not that easy. You could be against a high order differential equation in no time. Also, solving the convolution integral to obtain the circuit's response to a given input is not that easy.\n",
    "\n",
    "All that is much easy in the **S World** an alternative to the time domain where obtaining the impulsional response and solving the circuit's response to a given input is much easier."
   ]
  },
  {
   "cell_type": "markdown",
   "metadata": {},
   "source": [
    "## Document license\n",
    "\n",
    "Copyright  ©  Vicente Jiménez (2019)  \n",
    "This work is licensed under a Creative Common Attribution-ShareAlike 4.0 International license.  \n",
    "This license is available at http://creativecommons.org/licenses/by-sa/4.0/\n",
    "\n",
    "<img  src=\"images/cc_sa.png\" width=\"200\">"
   ]
  },
  {
   "cell_type": "code",
   "execution_count": null,
   "metadata": {},
   "outputs": [],
   "source": []
  }
 ],
 "metadata": {
  "kernelspec": {
   "display_name": "Python 3",
   "language": "python",
   "name": "python3"
  },
  "language_info": {
   "codemirror_mode": {
    "name": "ipython",
    "version": 3
   },
   "file_extension": ".py",
   "mimetype": "text/x-python",
   "name": "python",
   "nbconvert_exporter": "python",
   "pygments_lexer": "ipython3",
   "version": "3.7.1"
  }
 },
 "nbformat": 4,
 "nbformat_minor": 2
}
