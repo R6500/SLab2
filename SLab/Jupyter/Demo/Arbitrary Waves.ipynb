{
 "cells": [
  {
   "cell_type": "markdown",
   "metadata": {},
   "source": [
    "<img style=\"float: right;\"  src=\"images/LogoP.jpg\" width=\"200\">\n",
    "\n",
    "# SLab Demo : Arbitrary Waves\n",
    "\n",
    "This a **demo** Jupyter Notebook for the SLab projects\n",
    "\n",
    "Version 1.0 (25/6/2018) License information is at the end of the document\n",
    "\n",
    "---"
   ]
  },
  {
   "cell_type": "markdown",
   "metadata": {},
   "source": [
    "## Numpy Import\n",
    "\n",
    "This **Demo** shows a method for generating arbitray waves that can be generated on the **SLab board**\n",
    "\n",
    "As we need some mathematical functions we will import the [numpy](http://www.numpy.org/) module\n",
    "\n",
    "Execute the following code cell to load this module"
   ]
  },
  {
   "cell_type": "code",
   "execution_count": 1,
   "metadata": {},
   "outputs": [],
   "source": [
    "# Import Numpy\n",
    "import numpy as np"
   ]
  },
  {
   "cell_type": "markdown",
   "metadata": {},
   "source": [
    "## Wave Generation Functions\n",
    "\n",
    "The **SLab** module includes a **loadWavetable** function to upload an arbitrary waveform in the Unified Memory Buffer (UMB) of the **hardware board**. \n",
    "\n",
    "The module uses this function to provide the methods to upload simple waveforms like square, pulse, triangle, sine and noise waves. But you should not be limited by those waves. If you can define a wave as a sequence of samples, you can upload it to the board.\n",
    "\n",
    "The following **code cell** defines a series of functions that ease the wave generation:\n",
    "\n",
    "The first function, **arbNew**, defines two vectors $x$ and $y$ with **np** points. Vector $x$ contains a sequence o values starting on 0 and increasing by one at each element. Vector $y$ is constant and has the same value for all its elements.\n",
    "\n",
    "The other functions modify the $y$ vectors adding features to a subset of its points\n",
    "\n",
    "* **arbConst** updates a vector making constant a range of its points\n",
    "* **arbLinear** updates a vector adding a linear rising or falling line\n",
    "* **arbTriangle** updates a vector adding a triangular region\n",
    "* **arbEllipse** updates a vector adding a region with the shape of a half ellypse\n",
    "* **arbSectorA** updates a vector adding a rising quarter of ellypse region\n",
    "* **arbSectorB** updates a vector adding a falling quarter of ellypse region\n",
    "\n",
    "This functions can be used as primitives for generating more complex waves\n",
    "\n",
    "Execute the following **code cell** to add this functions to Python."
   ]
  },
  {
   "cell_type": "code",
   "execution_count": 2,
   "metadata": {},
   "outputs": [],
   "source": [
    "# Creates a new constant wave\n",
    "def arbNew(np,value=0):\n",
    "    listx = []\n",
    "    listy = []\n",
    "    for point in range(0,np):\n",
    "        listx.append(point)\n",
    "        listy.append(value)\n",
    "    return listx,listy\n",
    "\n",
    "# Set a constant region in a wave\n",
    "def arbConst(list,start,stop,value):\n",
    "    for point in range(start,stop+1):\n",
    "        list[point]=value\n",
    "   \n",
    "# Set a linear region in a wave\n",
    "def arbLinear(list,start,stop,v1,v2):\n",
    "    for point in range(start,stop+1):\n",
    "        list[point]=v1+(v2-v1)*(point-start)/(stop-start)\n",
    "   \n",
    "# Set a triangle region in a wave\n",
    "def arbTriangle(list,start,stop,v1,v2):\n",
    "    half = start + (stop-start)/2\n",
    "    for point in range(start,stop+1):\n",
    "        if point < half:\n",
    "            list[point]=v1+(v2-v1)*(point-start)/(half-start) \n",
    "        else:\n",
    "            list[point]=v2+(v1-v2)*(point-half)/(stop-half) \n",
    "   \n",
    "# Set an elyptical region in a wave\n",
    "def arbEllipse(list,start,stop,v1,v2):\n",
    "    radius = (stop - start)/2\n",
    "    center = (start+stop)/2\n",
    "    mult = (v2-v1)/radius\n",
    "    for point in range(start,stop+1):\n",
    "        distance = point-center\n",
    "        list[point]=v1+mult*np.sqrt(radius*radius-distance*distance)\n",
    "        \n",
    "# Set an elyptical sector in a wave\n",
    "def arbSectA(list,start,stop,v1,v2):\n",
    "    radius = (stop - start)\n",
    "    center = stop\n",
    "    mult = (v2-v1)/radius\n",
    "    for point in range(start,stop+1):\n",
    "        distance = point-center\n",
    "        list[point]=v1+mult*np.sqrt(radius*radius-distance*distance)    \n",
    "\n",
    "# Set an elyptical sector in a wave\n",
    "def arbSectB(list,start,stop,v1,v2):\n",
    "    radius = (stop - start)\n",
    "    center = start\n",
    "    mult = (v2-v1)/radius\n",
    "    for point in range(start,stop+1):\n",
    "        distance = point-center\n",
    "        list[point]=v1+mult*np.sqrt(radius*radius-distance*distance) "
   ]
  },
  {
   "cell_type": "markdown",
   "metadata": {},
   "source": [
    "## Generating a Complex Wave\n",
    "\n",
    "The following **code cell** uses the previously defined primitives to generate a wave that contains the shapes of a **house** and a **car**.\n",
    "\n",
    "As a wave can only have one **Y** point for each **X** point. We use two waves to have one **Y1** point and one **Y2** point for each **X** point.\n",
    "\n",
    "Execute the **code cell** to obtain the two vectors **wavey1** and **wavey1**. We also obtain two vectors **wavex"
   ]
  },
  {
   "cell_type": "code",
   "execution_count": 6,
   "metadata": {},
   "outputs": [],
   "source": [
    "# Create wave 1\n",
    "wavex1,wavey1=arbNew(10000,1)\n",
    "\n",
    "# House roof\n",
    "arbTriangle(wavey1,1000,5000,2.0,3.0)\n",
    "\n",
    "# House chimney\n",
    "arbConst(wavey1,1300,2000,2.7)\n",
    "\n",
    "# Car front\n",
    "arbSectA(wavey1,6000,7000,1.0,1.2)\n",
    "\n",
    "# Car back\n",
    "arbSectB(wavey1,8500,9000,1.0,1.2)\n",
    "\n",
    "# Car center\n",
    "arbConst(wavey1,7000,8500,1.4)\n",
    "\n",
    "# Create wave 2\n",
    "wavex2,wavey2=arbNew(10000,1)\n",
    "\n",
    "# House door\n",
    "arbConst(wavey2,2000,4000,1.5)\n",
    "\n",
    "# Car tyres\n",
    "arbEllipse(wavey2,6500,7000,1.0,0.9)\n",
    "arbEllipse(wavey2,8000,8500,1.0,0.9)"
   ]
  },
  {
   "cell_type": "markdown",
   "metadata": {},
   "source": [
    "## Showing the Waves\n",
    "\n",
    "Now we will importo the **SLab** module so that we can use the **plot1n** function to show the waves we have created.\n",
    "\n",
    "Execute the following **Code cell** to import this module."
   ]
  },
  {
   "cell_type": "code",
   "execution_count": 4,
   "metadata": {},
   "outputs": [
    {
     "name": "stdout",
     "output_type": "stream",
     "text": [
      "Python 3.0 or later detected\n",
      "SLab Module\n",
      "Version 1.3 (5/6/2018)\n",
      "Running interactively\n",
      "\n"
     ]
    }
   ],
   "source": [
    "# Import all slab modules\n",
    "import slab  "
   ]
  },
  {
   "cell_type": "markdown",
   "metadata": {},
   "source": [
    "Using the **plot1n** function we can show the waves we have previously generated"
   ]
  },
  {
   "cell_type": "code",
   "execution_count": 5,
   "metadata": {},
   "outputs": [
    {
     "data": {
      "image/png": "[encoded data removed]",
      "text/plain": [
       "<matplotlib.figure.Figure at 0x6d5ca90>"
      ]
     },
     "metadata": {},
     "output_type": "display_data"
    }
   ],
   "source": [
    "# Show wave   \n",
    "slab.plot1n(wavex1,[wavey1,wavey2])"
   ]
  },
  {
   "cell_type": "markdown",
   "metadata": {},
   "source": [
    "# Generating the Waves\n",
    "\n",
    "Tho generate the waves as time varying voltages, we need to connect with the **hardware board**"
   ]
  },
  {
   "cell_type": "code",
   "execution_count": null,
   "metadata": {},
   "outputs": [],
   "source": [
    "boardFolder = ''                                # Board folder (leave '' if you use only one board)\n",
    "slab.setFilePrefix('../Files/')                 # Set File Prefix\n",
    "slab.setCalPrefix('Calibrations/'+boardFolder)  # Set Calibration Prefix         \n",
    "slab.connect()                                  # Connect to the board"
   ]
  },
  {
   "cell_type": "markdown",
   "metadata": {},
   "source": [
    "Then we can load **wavey1** as the primary wave and **wavey2** as the secondary wave. As both waves have the same length, they will always be in sync.\n",
    "\n",
    "We also se the wave frequency to 2Hz. As the waves have 10000 points, the sample frequency will be 20kHz. Using a much higher wave frequency would set a sample frequency outside the capabilities of the **hardware board**.\n",
    "\n",
    "Note that we could decrease the **resolution** of the wave by decreasing the number of points.\n",
    "\n",
    "Excute the **code cell** to upload the waves and set their frequency."
   ]
  },
  {
   "cell_type": "code",
   "execution_count": null,
   "metadata": {},
   "outputs": [],
   "source": [
    "# Upload wave\n",
    "slab.loadWavetable(wavey1)\n",
    "slab.loadWavetable(wavey2,second=True)\n",
    "slab.setWaveFrequency(2.0)"
   ]
  },
  {
   "cell_type": "markdown",
   "metadata": {},
   "source": [
    "To generate the waves we can use the **wavePlay** command. By setting the first parameter **n** to zero, we make the board to generate the wave forever. By setting the **True** the **dual** parameter we make the board generate the primary wave on **DAC1** and the secondary wave on **DAC2**.\n",
    "\n",
    "Execute the following **code cell** to generate the wave. The cell will execution forever. This is normal."
   ]
  },
  {
   "cell_type": "code",
   "execution_count": null,
   "metadata": {},
   "outputs": [],
   "source": [
    "# Show wave\n",
    "print(\"Playing wave. Use the board HALT button to end\")\n",
    "slab.wavePlay(0,dual=True)"
   ]
  },
  {
   "cell_type": "markdown",
   "metadata": {},
   "source": [
    "If you connect the **DAC1** output to one channel of an oscilloscope and the **DAC2** output to another. You can get something like what is shown in the following image:\n",
    "\n",
    "![Scope](images/Arbitrary_Waves/Scope.png)\n",
    "\n",
    "If you zoom enough on the wave, you should be able to see the DAC steps.\n",
    "\n",
    "In order to stop the wave generation, you can press the **halt** button on the **hardware board**\n",
    "\n",
    "Before closing this document, it is a good idea to disconnect from the board using the following **code cell**"
   ]
  },
  {
   "cell_type": "code",
   "execution_count": null,
   "metadata": {},
   "outputs": [],
   "source": [
    "# Disconnect from the board\n",
    "slab.disconnect()"
   ]
  },
  {
   "cell_type": "markdown",
   "metadata": {},
   "source": [
    "## Document license\n",
    "\n",
    "Copyright  ©  Vicente Jiménez (2018)  \n",
    "This work is licensed under a Creative Common Attribution-ShareAlike 4.0 International license.  \n",
    "This license is available at http://creativecommons.org/licenses/by-sa/4.0/\n",
    "\n",
    "<img  src=\"images/cc_sa.png\" width=\"200\">"
   ]
  },
  {
   "cell_type": "code",
   "execution_count": null,
   "metadata": {},
   "outputs": [],
   "source": []
  }
 ],
 "metadata": {
  "kernelspec": {
   "display_name": "Python 3",
   "language": "python",
   "name": "python3"
  },
  "language_info": {
   "codemirror_mode": {
    "name": "ipython",
    "version": 3
   },
   "file_extension": ".py",
   "mimetype": "text/x-python",
   "name": "python",
   "nbconvert_exporter": "python",
   "pygments_lexer": "ipython3",
   "version": "3.7.1"
  }
 },
 "nbformat": 4,
 "nbformat_minor": 2
}
