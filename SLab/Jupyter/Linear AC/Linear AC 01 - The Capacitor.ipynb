{
 "cells": [
  {
   "cell_type": "markdown",
   "metadata": {},
   "source": [
    "<img style=\"float: right;\"  src=\"images/LogoP.jpg\" width=\"200\">\n",
    "\n",
    "# Linear AC 01 - The Capacitor\n",
    "\n",
    "This document deals with the **Capacitor**, the most used device capable of storing **state information**.\n",
    "\n",
    "Version 1.0 (7/4/2019)  \n",
    "License information is at the end of the document\n",
    "\n",
    "---\n",
    "**Bill Of Materials (BOM):**\n",
    "\n",
    "* One $100nF$ Capacitor\n",
    "* One $47k \\Omega$ Resistor\n",
    "\n",
    "---"
   ]
  },
  {
   "cell_type": "markdown",
   "metadata": {},
   "source": [
    "## Meet the Capacitor\n",
    "\n",
    "The capacitor is a component that stores **charge**. The simplest capacitor can be built by putting two parallel plates close to each other as shown in the figure.\n",
    "\n",
    "![Capacitor](images\\Linear_AC_01\\capacitor1.png)\n",
    "\n",
    "As the plates are not connected, when positive current enters from the top terminal, positive charge accumulates on the top plate. This charge accumulation generates an electrical displacement field between the plates. This field pushes positive charges from the bottom electrode that exits from the bottom terminal. \n",
    "\n",
    "![Charged Capacitor](images\\Linear_AC_01\\capacitor2.png)\n",
    "\n",
    "In practice, there are usually no positive, but negative electron charges. They enter the bottom electrode, accumulate in the bottom plate, generate a field and make electrons run away from the top plate through the top terminal. The lack of electrons in the top plate leave a bunch of atoms lacking electrons so they produce a net positive charge accumulation. The behavior of the capacitor does not depend on the sign of the **charge carriers**.\n",
    "\n",
    "All in all a $+Q$ charge is accumulated in the top plate and a $-Q$ charge is accumulated in the bottom electrode so the component is kept neutral as a whole and no **Current Kirchoff's Law** is broken.\n",
    "\n",
    "It turns out that the **electric displacement field** between the plates is **proportional** to the accumulated charge, integrating the field across the plates we get a **voltage** that is also proportional to the charge.\n",
    "\n",
    "$$V_C = \\frac{Q}{C}$$\n",
    "\n",
    "The constant $C$ is called the **capacity** of the **capacitor** and its value is given in **Farads** $(F)$, when voltage is given in **Volt** and the charge in **Coulomb**. Another view of the above equation is to see that the accumulated **charge** is propotional to the **capacitance** and the voltage:\n",
    "\n",
    "$$Q = C \\cdot V_C$$\n",
    "\n",
    "So **Capacitance** is somewhat a **capacity** measurement of the capacitor. In indicate how many **Coulombs** of charge can hold at a given voltage. The more the **Capacitance**, the more charge carriers can accumulate at a given voltage.\n",
    "\n",
    "We don't use **charge** when solving our circuits, we use **current**. When current is constant we can obtain charge increase as:\n",
    "\n",
    "$$\\Delta Q = I_C \\cdot \\Delta t$$\n",
    "\n",
    "So we obtain:\n",
    "\n",
    "$$\\Delta V_C = \\frac{I_C \\cdot \\Delta t}{C} \\qquad I_C = \\frac{C \\cdot \\Delta V_C}{\\Delta t}$$\n",
    "\n",
    "Unfortunatelly, current is not usually constant and we need to apply the last equation to very small time increments. Infinitelly small, in fact. That's when we get differentials:\n",
    "\n",
    "$$i_C = C \\frac{\\Delta V_C}{\\Delta t} \\: \\rightarrow \\: C \\frac{d v_C}{d t} \\qquad i_C = C \\frac{d v_C}{d t}$$\n",
    "\n",
    "An this is the main capacitor equation.\n",
    "\n",
    "Note that we are using **lowercaps**. It is standard practice to use lowercaps for circuit variables that could change as time passes. See that we say \"could\". In practice, we don't always know untill we solve the circuit."
   ]
  },
  {
   "cell_type": "markdown",
   "metadata": {},
   "source": [
    "## State information\n",
    "\n",
    "We can isolate $v_C$ in the previous equation to solve the **voltage**\n",
    "\n",
    "$$dv_C = \\frac{1}{C} i_C \\cdot dt$$\n",
    "\n",
    "The equation has differentials at both sides, so we can solve it by **integrating** at both sides.\n",
    "\n",
    "$$\\int dv_C = \\frac{1}{C} \\int i_C \\cdot dt$$\n",
    "\n",
    "That gives:\n",
    "\n",
    "$$v_C = \\frac{1}{C} \\int i_C \\cdot dt + A$$\n",
    "\n",
    "Were $A$ is an integration constant. If we solve from time zero to a time $t$ we obtain the equation:\n",
    "\n",
    "$$v_C = \\frac{1}{C} \\int^t_0 i_C \\cdot dt + A$$\n",
    "\n",
    "At time zero it gives:\n",
    "\n",
    "$$v_C(t=0) = V_C(0) = \\frac{1}{C} \\int^0_0 i_C \\cdot dt + A = A$$\n",
    "\n",
    "So the $A$ constant is the value of the capacitor voltage at time zero. Knowing that, the final equation is:\n",
    "\n",
    "$$v_C = V_C(0) + \\frac{1}{C} \\int^t_0 i_C \\cdot dt$$\n",
    "\n",
    "The $V_C(0)$ term that indicates the voltage the capacitor had a time zero is very important. We can always solve the current on a capacitor if we know the voltage, but we cannot solve the voltage if we don't know the previous history of the capacitor. This is because the capacitor **holds state information**. And, holding state information is the main property of AC circuits.\n",
    "\n",
    "The true state information of the capacitor is the accumulated charge $Q$, but, as we can always calculate that from the $v_C$ **voltage**, we use voltage instead.\n",
    "\n",
    "Let's see how the capacitor holds state.\n",
    "\n",
    "---\n",
    "\n",
    "![Practical Icon](images/pt.png)\n",
    "\n",
    "---"
   ]
  },
  {
   "cell_type": "markdown",
   "metadata": {},
   "source": [
    "## SLab Setup\n",
    "\n",
    "First we will need to import the **SLab** module"
   ]
  },
  {
   "cell_type": "code",
   "execution_count": null,
   "metadata": {},
   "outputs": [],
   "source": [
    "# Import the main SLab module\n",
    "import slab"
   ]
  },
  {
   "cell_type": "markdown",
   "metadata": {},
   "source": [
    "Then we need to connect with the board."
   ]
  },
  {
   "cell_type": "code",
   "execution_count": null,
   "metadata": {},
   "outputs": [],
   "source": [
    "boardFolder = ''                                # Board folder (leave '' if you use only one board)\n",
    "slab.setFilePrefix('../Files/')                 # Set File Prefix\n",
    "slab.setCalPrefix('Calibrations/'+boardFolder)  # Set Calibration Prefix         \n",
    "slab.connect()                                  # Connect to the board"
   ]
  },
  {
   "cell_type": "markdown",
   "metadata": {},
   "source": [
    "It is always a good idea to check the board operation.\n",
    "The following cell checks the calibration for the DAC channels and the first four ADC channels."
   ]
  },
  {
   "cell_type": "code",
   "execution_count": null,
   "metadata": {},
   "outputs": [],
   "source": [
    "# Check the calibration\n",
    "slab.checkCalibration(pause=False,na=4,nm=10)"
   ]
  },
  {
   "cell_type": "markdown",
   "metadata": {},
   "source": [
    "## Holding state\n",
    "\n",
    "As we know, the **state information** on a capacitor can be related to its voltage. If you force a voltage on a capacitor, you will inmediatelly chage its state. You don't usually want that because the **capacitor current** relates to the **voltage change**:\n",
    "\n",
    "$$I = C \\frac{d V}{d t}$$\n",
    "\n",
    "So an inmediate change of voltage means charge movement in zero time and that yields **infinite** current. \n",
    "\n",
    "If the current on the capacitor is zero, it should keep its voltage. Let's try that. \n",
    "\n",
    "![Circuit 1](images\\Linear_AC_01\\circuit1.png)\n",
    "\n",
    "Observe that the above image shows a **switch** between the **DAC** and the **Capacitor**. We won't use a real switch, we will just connect or disconnect the **DAC1** yellow wire from the circuit.\n",
    "\n",
    "With **DAC1** connected to the capacitor, execute the following code cell that sets the capacitor voltage to $2V$."
   ]
  },
  {
   "cell_type": "code",
   "execution_count": null,
   "metadata": {},
   "outputs": [],
   "source": [
    "slab.setVoltage(1,2.0)        # Set DAC1 voltage\n",
    "Vadc1 = slab.readVoltage(1)   # Read ADC1 voltage\n",
    "print('Vadc1 =',Vadc1,'V')    # Show ADC1 voltage"
   ]
  },
  {
   "cell_type": "markdown",
   "metadata": {},
   "source": [
    "We can see from the **ADC1** measurement that the capacitor has indeed $2V$.\n",
    "\n",
    "Now, disconect the **DAC1** cable from the capacitor and,  just after removing the cable, execute the following code cell that measures the capacitor voltage and shows it in a **live plot**."
   ]
  },
  {
   "cell_type": "code",
   "execution_count": null,
   "metadata": {},
   "outputs": [],
   "source": [
    "# Set interactive mode\n",
    "slab.interactivePlots()\n",
    "%matplotlib notebook\n",
    "\n",
    "# Execute the realtimePlot\n",
    "# Use Interrup on the Jupyter Menu Kernel item to end the plot\n",
    "slab.realtimePlot(1)"
   ]
  },
  {
   "cell_type": "markdown",
   "metadata": {},
   "source": [
    "If you are using a good capacitor and your **Hardware Board** has a good driver circuit, you will nottice that the drop of the capacitor voltage is very slow. It can take minutes to drop to zero. So, it holds state but slowly looses it.\n",
    "\n",
    "All systems naturally tend to an state of **minimal energy** and, in a capacitor, the minimal energy is at zero accumulated charge, or zero voltage. As time pases, charge will get a way to go to the other plate to dicharge the capacitor. In normal capacitors it could take from fractions of a second to minutes. In highly isolated capacitors, like the ones used to store information on **flash memories**, it can take several years.\n",
    "\n",
    "Also, making measurements always modify the circuit you are measuring. Having **ADC1** connected to the capacitor slowly drains it. If **ADC1** was not connected, the capacitor will keep its state a longer time.\n",
    "\n",
    "From the above live plot you can get an idea of the average drain current you have on the capacitor.\n",
    "\n",
    "$$I_C = \\frac{C \\cdot \\Delta V_C}{\\Delta t}$$\n",
    "\n",
    "Which is the average drain current on your setup?\n",
    "\n",
    "This plot is also interesting because defines the ideality limits of our capacitor together with the **ADC** we are using to measure its voltage. As long as we use time scales where there is a negligible drop in the capacitor voltage, we can treat our real capacitor as ideal.\n",
    "\n",
    "When you are done with tha above **live plot**, use the **Interrupt** optin on the Jupyter **Kernel** menú to stop the plot.\n",
    "\n",
    "Also, execute the following code cell to return to non interactive plots, if you want. It's up to you."
   ]
  },
  {
   "cell_type": "code",
   "execution_count": null,
   "metadata": {},
   "outputs": [],
   "source": [
    "# Return to non interactive mode\n",
    "slab.interactivePlots(False)\n",
    "%matplotlib inline"
   ]
  },
  {
   "cell_type": "markdown",
   "metadata": {},
   "source": [
    "## The RC circuit\n",
    "\n",
    "The **state information** makes solving capacitor circuits somewhat tricky. First, before even starting, we need to know the initial state of the capacitor. Then, we must progress in the capacitor's timeline seeing how the state changes with time. \n",
    "\n",
    "In a **DC** circuit, as is **stateless** we can solve at any point of time if we know the circuit inputs at this point of time. This is not true for capacitors. We need to know all the circuit's previous history up to a point in time where we know the capacitor's **state**.\n",
    "\n",
    "In order to show that, we will analyze the following **RC circuit**.\n",
    "\n",
    "![RC Circuit](images\\Linear_AC_01\\circuit2.png)\n",
    "\n",
    "The circuit will do nothing interesting if we leave **DAC1** constant, so, at certain point of time that we will call **zero time** ($t=0$), we will change **DAC1** from $0V$ to $2V$.\n",
    "\n",
    "As with every other circuit, the key to the solution is to use the component's equations and glue them using **Kirchoff's Laws**.\n",
    "\n",
    "Kirchoff's KCL law is implicit in the fact that the current is tge same in both the resistor and the capacitor. The component's equations are:\n",
    "\n",
    "$$i_C = \\frac{V_{DAC1}-v_C}{R} \\qquad\n",
    "i_C = C \\frac{d v_C}{d t}$$\n",
    "\n",
    "As we remember, we use **lowercaps** for circuit variables that could change as time passes. Then, you can say, why is the $V_{DAC1}$ on **uppercaps**. Doesn't it change at time zero?\n",
    "\n",
    "Well, it is true. That means that defining $V_{DAC1}$ as constant we cannot solve the equation at $t=0$. We can solve it only when $V_{DAC1}$ is constant. That is, for $t<0$ or for $t>0$. We won't be able to obtain a single solution for all times.\n",
    "\n",
    "Joining both equations together we get the following equation:\n",
    "\n",
    "$$\\frac{V_{DAC1}-v_C}{R} = C \\frac{d v_C}{d t}$$\n",
    "\n",
    "This is a differential equation. Also, $v_C$ is the only unknown variable and it is the variable that holds the **capacitor's state**. And this is great. We could have isolated $v_C$ in the previous equations to obtain a differential equation on $i_C$. But that would be a very bad idea in this case as we will see. If you can, always solve for the **variable that holds state information** it will make your life much more easy.\n",
    "\n",
    "In differential equations, like in any other equation, the key to solution is to have one equation and only one unknown. To solve the unknown we need to isolate $v_C$.\n",
    "\n",
    "Some differential equation can be very difficult to solve, if solvable at all. The solution is reasonable easy, however, if you can put all the terms, including differentials, that depend on the variable to solve, $v_C$ in this case, at one side of the equal sign and the time at the other. That yields:\n",
    "\n",
    "$$\\frac{dt}{R \\cdot C} = \\frac{d v_C}{V_{DAC1}-v_C}$$\n",
    "\n",
    "As the left side only contains constants and $dt$ and the right side only contains constants, $v_C$ and $d v_C$, we can integrate on both sides indepedentlty. But, before that, we will make things easier by changing signs on both sides.\n",
    "\n",
    "$$-\\frac{dt}{R \\cdot C} = \\frac{d v_C}{v_C-V_{DAC1}}$$\n",
    "\n",
    "Now we can integrate:\n",
    "\n",
    "$$\\int -\\frac{dt}{R \\cdot C} = \\int \\frac{d v_C}{v_C-V_{DAC1}}$$\n",
    "\n",
    "That gives:\n",
    "\n",
    "$$-\\frac{t}{R \\cdot C} = ln(v_C-V_{DAC1}) + A$$\n",
    "\n",
    "The unknown $A$ constant comes from the integrals. Every time you integrate you will get an **integrating constant**. In fact, there should be two constants, one at each side of the equal sign for each integral we solved. But, as we can substract one to the other and as the substraction of two unknown constants is just another unknown constant, we can leave just one.\n",
    "\n",
    "In the end, the number of **independent constants** you get when solving differential equations is equal to the **equation's order**. As this is a **first order equation**, we get just one **independent unknown constant**.\n",
    "\n",
    "In order to isolate $v_C$ we need to take it out of the logarithm, so we will use the exponential function on both sides of the equation.\n",
    "\n",
    "$$e^{-\\frac{t}{R \\cdot C}} = e^{ln(v_C-V_{DAC1}) } e^A$$\n",
    "\n",
    "$A$ is an unknown constant, so $e^A$ is also a unknown constant, let's call it $B$.\n",
    "\n",
    "$$e^{-\\frac{t}{R \\cdot C}} = (v_C-V_{DAC1}) B$$\n",
    "\n",
    "Now we isolate $v_C$\n",
    "\n",
    "$$v_C = V_{DAC1} +\\frac{1}{B} e^{-\\frac{t}{R \\cdot C}}$$\n",
    "\n",
    "As $\\frac{1}{B}$ is an unknown constant, you get the idea, let's call it $D$. We cannot use $C$ because we already have $C$ for the capacitance.\n",
    "\n",
    "$$v_C = V_{DAC1} + D \\cdot e^{-\\frac{t}{R \\cdot C}}$$\n",
    "\n",
    "An this is the **mathematical solution** for our differential equation."
   ]
  },
  {
   "cell_type": "markdown",
   "metadata": {},
   "source": [
    "## Time constant\n",
    "\n",
    "If you see in the above equation, the exponential function contains time in the numerator and the $R \\cdot C$ product in the denominator. We can only use the exponential function on unitless magnitudes. This means that the $R \\cdot C$ product shall have time dimension. As exponentials are used a lot in electronics, we define a new constant to ease their calculations. We define **time constant** as whatever constant that divides time in the exponential funcion, and we use the **tau** ($\\tau$) greek letter fot it. So, in our circuit:\n",
    "\n",
    "$\\qquad \\tau = R \\cdot C = 47k\\Omega \\cdot 100nF = 4.7ms$\n",
    "\n",
    "Using the time constant gives a lot of insight on the exponential function operation. Let's consider just the exponential function:\n",
    "\n",
    "$\\qquad f(t)=e^{-\\frac{t}{\\tau}}$\n",
    "\n",
    "Now we can use a $n$ variable that equals to $t/\\tau$ that indicates tge number of time constants that have elapsed since zero time.\n",
    "\n",
    "$\\qquad n = \\frac{t}{\\tau} \\qquad f(n)=e^{-n}$\n",
    "\n",
    "Let' draw this function"
   ]
  },
  {
   "cell_type": "code",
   "execution_count": null,
   "metadata": {},
   "outputs": [],
   "source": [
    "# Import the arange and exp functions from numpy\n",
    "from numpy import arange,exp\n",
    "\n",
    "n = arange(0,10,0.05)  # n vector from 0 to 10 in 0.05 increments\n",
    "f = exp(-n)            # Calculate exp(n)\n",
    "\n",
    "# Show in a plot\n",
    "slab.plot11(n,f,'Exponential function','Number of time constants','Value')"
   ]
  },
  {
   "cell_type": "markdown",
   "metadata": {},
   "source": [
    "You can see that in the first time constat $n=1$ the function has fallen about $1/3$ of its original value (the exact number is $1/e$). On $n=2$ it has fallen about $1/3$ of the value it had on $n=1$ and so on. Each time constant the function falls to about $1/3$ of the value it had on the previous time constant. As time pases, the function is so close to zero that we cannot see it. Here comes a good moment to use a logarithmic graph:"
   ]
  },
  {
   "cell_type": "code",
   "execution_count": null,
   "metadata": {},
   "outputs": [],
   "source": [
    "# Show in a log plot\n",
    "slab.plot11(n,f,'Exponential function','Number of time constants','Value',logy=True)"
   ]
  },
  {
   "cell_type": "markdown",
   "metadata": {},
   "source": [
    "The log graph shows clearly that we never reach zero although we get smaller and smaller values as time pases.\n",
    "\n",
    "We can also calculate the exact function value at each time constant."
   ]
  },
  {
   "cell_type": "code",
   "execution_count": null,
   "metadata": {},
   "outputs": [],
   "source": [
    "for n in range(0,11):\n",
    "    print('f(-' + str(n) + ') = ' + str(exp(-n)))"
   ]
  },
  {
   "cell_type": "markdown",
   "metadata": {},
   "source": [
    "We see that from 4 time constants the function is below a $2\\%$ of the original value. The function **never** reaches zero, but it can go as close to zero as you wish if you wait enough time constants. For most normal circuit, being a $2\\%$ of the original value is so close to zero that me can say that we are \"at zero\" although it is not really true.\n",
    "\n",
    "Using the $\\tau$ time constant our circuit solution for $v_C$ is:\n",
    "\n",
    "$$v_C = V_{DAC1} + D \\cdot e^{-\\frac{t}{\\tau}}$$\n",
    "\n",
    "So far, so good, the problen is that we don't know which is the value of $D$."
   ]
  },
  {
   "cell_type": "markdown",
   "metadata": {},
   "source": [
    "## Steady state and Continuity\n",
    "\n",
    "As we remember,  we have defined $V_{DAC1}$ as constant and it is not. It has a constant value of $0V$ for $t<0$ and a constant value of $2V$ for $t>0$. So we need to solve the problem for both ranges of time. As the circuit operation depends on its past history, it is best to solve starting from the past.\n",
    "\n",
    "---\n",
    "\n",
    "**Solution for** $\\: t<0$\n",
    "\n",
    "---\n",
    "\n",
    "One interesting feature of the **AC circuits** is that,  if the **independent sources** are constant, sooner or later the circuit will reach an **steady state** where al voltages and currents will also be constant. \n",
    "\n",
    "If we mount the circuit, set $V_{DAC1}$ to $0V$ and leave it alone enough time, all will be constant. If you recall, the circuit differential equation was:\n",
    "\n",
    "$$\\frac{V_{DAC1}-v_C}{R} = C \\frac{d v_C}{d t}$$\n",
    "  \n",
    "If, after some time, all is constant, all derivatives $d \\:/ \\: dt$ will be zero, so, in **steady state** the circuit equation turns to:\n",
    "\n",
    "$$\\frac{V_{DAC1}-v_C}{R} = 0$$\n",
    "\n",
    "And that yields:\n",
    "\n",
    "$$v_C = V_{DAC1} $$\n",
    "\n",
    "So, if you leave the circuit alone enough time, $v_C$ will reach a $V_{DAC1}$. \n",
    "\n",
    "For $t<0$ we will reach $0V$ on $v_C$ and for $t>0$ we will reach $2V$ on $v_C$.\n",
    "\n",
    "Note that, our **mathematical solution** also confirms this conclusion.\n",
    "\n",
    "$$v_C = V_{DAC1} - D \\cdot e^{-\\frac{t}{\\tau}}$$\n",
    "\n",
    "Given a high enough time, the exponential, as it has an increasing negative exponent, will tend to zero. So the **steady state** solution if, as we found before:\n",
    "\n",
    "$$v_C \\rightarrow V_{DAC1}$$\n",
    "\n",
    "If we mount the circuit, set $V_{DAC1}$ to $0V$ and wait enough time we will reach the steady state.\n",
    "\n",
    "How much time is enough time? Well, for not very precise measurements four $\\tau$ time constants is enough. But, just to be on the safe side, let's wait one full second. This is more than 200 time constants. So we sure are very very close to zero. So, for all practical purposes, if we wait $1s$ after applying the **DAC1** voltage, the capacitor voltage will be:\n",
    "\n",
    "$\\qquad v_C = 0V \\qquad$ if $t<0$\n",
    "\n",
    "Well, we have solved the first part. Let's go to the second."
   ]
  },
  {
   "cell_type": "markdown",
   "metadata": {},
   "source": [
    "---\n",
    "\n",
    "**Solution for** $\\: t>0$\n",
    "\n",
    "---\n",
    "\n",
    "For the second time region we cannot say that a long time elapsed since the start of the region. So, we won't be in stady state. We know that, as time pases we will reach steady state.\n",
    "\n",
    "$$v_C \\rightarrow V_{DAC1} = 2V$$\n",
    "\n",
    "We also know which is the formula that describes $v_C$ evolution:\n",
    "\n",
    "$$v_C = V_{DAC1} - D \\cdot e^{-frac{t}{R \\cdot C}}$$\n",
    "\n",
    "But we don't know the $D$ value. If we just knew $v_C$ at any time inside the $t>0$ region we could calculate $D$. But we only know $v_C$ for $t<0$.\n",
    "\n",
    "Here **continuity** comes to save the day. As we know, the current equation in a capacitor is:\n",
    "\n",
    "$$i_C = C \\frac{d v_C}{d t}$$\n",
    "\n",
    "If $v_C$ was not **continuous**, that is, if it could have an step change in zero time, then, the current would be infinite at this point of time. And real circuits cannot have infinite currents. So, the **state variable** $v_C$ shall be **continuous**.\n",
    "\n",
    "Another way to see that is that the $v_C$ value comes from integrating the current. One of the integral properties is that the integral of any **bounded function** (non infinite) i always **continuous**.\n",
    "\n",
    "If continuity applies, then the $v_C$ value cannot have an step change and its value just ending the $t<0$ region shall be the same as its value just starting the $t>0$ region. Matematically:\n",
    "\n",
    "$$v_C(t=0^-) = v_C(t=0) = v_C(t=0^+)$$\n",
    "\n",
    "Where $v_C(t=0^-)$ is the capacitor voltage just before time zero and $v_C(t=0^+)$ is the capacitor voltage just after time zero. If both are not equal, there does not exist $v_C(t=0)$.\n",
    "\n",
    "Capacitor voltage **continuity** is very important to solve circuits. That's why we chosed $v_C$ as the variable to solve. We could not have done the same with the capacitor current $i_C$ because this variable is not continuous at zero time.\n",
    "\n",
    "So, aplying continuity at zero time we get:\n",
    "\n",
    "$$0V = V_{DAC1} - D \\cdot e^{-\\frac{0}{\\tau}}$$\n",
    "\n",
    "That gives:\n",
    "\n",
    "$$D = V_{DAC1}$$\n",
    "\n",
    "So, the final solution for $t>0$ is:\n",
    "\n",
    "$$v_C = V_{DAC1} \\left( 1 -  e^{-\\frac{t}{\\tau}} \\right)$$\n",
    "\n",
    "Well, that was a lot of work for such a simple circuit. Let's draw the circuit response for the $t>0$ region. "
   ]
  },
  {
   "cell_type": "code",
   "execution_count": null,
   "metadata": {},
   "outputs": [],
   "source": [
    "tau = 0.0047                    # Time constant is 4.7ms\n",
    "t  = arange(0.0,0.05,0.0001)    # Time from 0 to 50ms in 0.1ms increments\n",
    "vc = 2.0*(1-exp(-t/tau))        # Calculate capacitor voltage\n",
    "\n",
    "# Plot vc against time\n",
    "slab.plot11(t,vc,'RC Step Response','time [s]','vc [V]')"
   ]
  },
  {
   "cell_type": "markdown",
   "metadata": {},
   "source": [
    "Now, we will check that against real measurements. Mount the circuit and use the following code cell to measure the response to a sudden change of $V_{DAC1}$ from $0V$ to $2V$."
   ]
  },
  {
   "cell_type": "code",
   "execution_count": null,
   "metadata": {},
   "outputs": [],
   "source": [
    "slab.setSampleTime(0.0001)           # Set sample time to 0.1ms\n",
    "slab.setTransientStorage(625,2)      # Set storage for 625 samples of ADC1 and ADC2\n",
    "\n",
    "# Perform the step plot with a change of DAC1 from 0V to 2V \n",
    "# By default, DAC1 will be at the start voltage for 1s before the change\n",
    "data = slab.stepPlot(0.0,2.0,returnData=True)        "
   ]
  },
  {
   "cell_type": "markdown",
   "metadata": {},
   "source": [
    "We have done a $62.5ms$ measurement because the **step plot** uses $1/5$ of the time before the **DAC1** change. That way, the $4/5$ of the time that is after the step will be just $50ms$ like in our previous theoretical graph.\n",
    "\n",
    "Now we can check the measurement against the calculations on the following cell."
   ]
  },
  {
   "cell_type": "code",
   "execution_count": null,
   "metadata": {},
   "outputs": [],
   "source": [
    "tm  = data[0]   # Get time from measurement data\n",
    "vcm = data[2]   # Get vc on ADC2 from measurement data\n",
    "\n",
    "# Compare with calculations\n",
    "slab.plotnn([t,tm],[vc,vcm],'Calculation vs Measurement'\n",
    "            ,'time [s]','vc [v]',['Calculation','Measurement'])"
   ]
  },
  {
   "cell_type": "markdown",
   "metadata": {},
   "source": [
    "Both curves shall be very close to each other. Remember that the match won't be perfect because both the resistor and the capacitor have some tolerance on their values."
   ]
  },
  {
   "cell_type": "markdown",
   "metadata": {},
   "source": [
    "## Not all variables are continuous\n",
    "\n",
    "In this example we have solved the capacitance $v_C$ value fo two different constant $V_{DAC1}$ regions and we have joined them together aplying **continuity** at $t=0$. Beware because we cannot do the same for all other variables. Consider the current $i_C$ on the capacitor. It can be calculated using **Ohm's Law**:\n",
    "\n",
    "$$i_C = \\frac{V_{DAC1} - v_C}{R}$$\n",
    "\n",
    "Aplying this equation for our two time regions we get:\n",
    "\n",
    " $\\qquad i_C = 0 \\quad$ for $\\quad t<0$\n",
    "\n",
    " $\\qquad i_C = \\frac{V_{DAC1}}{R} e^{-\\frac{t}{\\tau}}  \\quad$ for $\\quad t>0$\n",
    "\n",
    "That gives a zero current just before zero time and a $42.5 \\mu A$ current just after zero time. We see that $i_C$ is not continuous:\n",
    "\n",
    "$$0 \\mu A = i_C(t=0^-) \\neq i_C(t=0) \\neq i_C(t=0^+) = 42.5 \\mu A$$\n",
    "\n",
    "In fact, as $i_C$ is not continuous at $t=0$ there does not exist a $i_C(t=0)$ value.\n",
    "\n",
    "We can show the current in a graph and comparte it to our previous measurements."
   ]
  },
  {
   "cell_type": "code",
   "execution_count": null,
   "metadata": {},
   "outputs": [],
   "source": [
    "ic = (2/47) * exp(-t/tau)     # Compute ic (in mA)\n",
    "icm = (data[1]-data[2])/47    # Obtain ic (in mA) from the measurement data\n",
    "\n",
    "# Show both together\n",
    "slab.plotnn([t,tm],[ic,icm],'Calculation vs Measurement'\n",
    "            ,'time [s]','ic [v]',['Calculation','Measurement'])"
   ]
  },
  {
   "cell_type": "markdown",
   "metadata": {},
   "source": [
    "As you can see, $i_C$ is not continuous."
   ]
  },
  {
   "cell_type": "markdown",
   "metadata": {},
   "source": [
    "## Multiple constant regions\n",
    "\n",
    "We now know that our circuit, after each change of $V_{DAC1}$ starts a change in $v_C$ that tend to go to $V_{DAC1}$ with a time constant $\\tau$ of $4.7 ms$. If we make several changes on $V_{DAC1}$, the circuit will try to go to each **DAC1** voltage with the $4.7 ms$ time constant. The evolution of $v_C$ in every time region that starts on time $t_i$ will always be:\n",
    "\n",
    "$$v_C = V_{DAC1} - D \\cdot e^{-\\frac{t}{\\tau}}$$\n",
    "\n",
    "And the $D$ constant can be obtained using continuity from the previous time region. Let's perform a measurement with the following code and try to use equations to describe what happens in the circuit."
   ]
  },
  {
   "cell_type": "code",
   "execution_count": null,
   "metadata": {},
   "outputs": [],
   "source": [
    "# Define a special waveform to be applied on DAC1\n",
    "v = []\n",
    "for sample in range(0,250):\n",
    "    if sample < 100:\n",
    "        v.append(1.0)\n",
    "    else:    \n",
    "        if sample > 160:\n",
    "            v.append(0.5)\n",
    "        else:\n",
    "            v.append(2.0)\n",
    "\n",
    "slab.loadWavetable(v)                # Upload the waveform of 250 points\n",
    "slab.setSampleTime(0.0001)           # Set sample time to 0.1ms (full wave will be 25ms)\n",
    "slab.setTransientStorage(250,2)      # Set storage for 250 samples of ADC1 and ADC2\n",
    "\n",
    "data2 = slab.wavePlot(returnData=True)     # Show circuit response store on data2"
   ]
  },
  {
   "cell_type": "markdown",
   "metadata": {},
   "source": [
    "Well, we have a measurement on our circuit, let's try to calculate what its happening.\n",
    "\n",
    "---\n",
    "\n",
    "In the first region, with $t<10m$ we are in steady state:\n",
    "\n",
    "$\\qquad v_C = V_{DAC1} = 1V \\quad$ for $\\quad t<10m$\n",
    "\n",
    "---\n",
    "\n",
    "In the second region, with $10ms<t<16ms$ we use continuity at $t=10ms$ to find the $D$ constant:\n",
    "\n",
    "$\\qquad 1V = V_{DAC1} - D \\cdot e^{-\\frac{0}{\\tau}}$\n",
    "\n",
    "$\\qquad D = V_{DAC1} - 1V = 1V$\n",
    "\n",
    "The equation in this region is, then:\n",
    "\n",
    "$\\qquad v_C = V_{DAC1} - D \\cdot e^{-\\frac{t - 10ms}{\\tau}}$\n",
    "\n",
    "$\\qquad v_C = 2V - 1V \\cdot e^{-\\frac{t - 10ms}{\\tau}} \\quad$ for $\\quad 10ms<t<16ms$\n",
    "\n",
    "---\n",
    "\n",
    "In the third region, with $t>16ms$ we use continuity at $t=16$ to find the $D$ constant:\n",
    "\n",
    "$\\qquad 2V - 1V \\cdot e^{-\\frac{10ms}{\\tau}} = 1.72V = V_{DAC1} - D \\cdot e^{-\\frac{0}{\\tau}}$\n",
    "\n",
    "$\\qquad D = V_{DAC1} - 1.72V = 0.5V - 1.72V = -1.22V$\n",
    "\n",
    "So, we get:\n",
    "\n",
    "$\\qquad v_C = 0.5V + 1.22V \\cdot e^{-\\frac{t-16ms}{\\tau}} \\quad$ for $\\quad t>16ms$\n",
    "\n",
    "---\n",
    "\n",
    "Let's chech the calculations against our measurements."
   ]
  },
  {
   "cell_type": "code",
   "execution_count": null,
   "metadata": {},
   "outputs": [],
   "source": [
    "t2 = data2[0]    # Time vector from measurements\n",
    "vcc2 = []        # Empty calculated vc vector\n",
    "taus = 0.0047    # Tau in seconds\n",
    "\n",
    "# Compute vc at each time point\n",
    "for t in t2:\n",
    "    if t < 0.01:           # First region t < 10ms\n",
    "        vcc2.append(1.0)   # Constant vc of 1V\n",
    "    else:\n",
    "        if t < 0.016:                                # Second region 10ms < t < 16ms\n",
    "            vcc2.append(2.0-exp(-(t-0.01)/taus))     # Use calculated formula\n",
    "            \n",
    "        else:                                            # Third region t > 16ms\n",
    "            vcc2.append(0.5+1.22*exp(-(t-0.016)/taus))   # Use calculated formula\n",
    "            \n",
    "vcm2 = data2[2]  # Get measured vc from data\n",
    "\n",
    "# Plot measurement against calculations\n",
    "slab.plot1n(t2,[vcm2,vcc2],'Measurement vs Calculation'\n",
    "            ,'time [s]','vc [V]',['Measurement','Calculation'])"
   ]
  },
  {
   "cell_type": "markdown",
   "metadata": {},
   "source": [
    "Do the calculations match the measurements?"
   ]
  },
  {
   "cell_type": "markdown",
   "metadata": {},
   "source": [
    "## Last Words\n",
    "\n",
    "In this document we have started the **Linear AC** series of tutorial that deal with circuits that feature **state variables**. State variables are circuit variables that depend on the previous history of the circuit. Those circuits feature **memory**. They \"remember\" what happened before and that affects their future operation.\n",
    "\n",
    "The capacitor is the main component that features **state information**. But it is not the only one. For instance, the **Inductor** is a component complementary to the capacitor which stores **state information** in its current. The inductor main parameter is its **inductance** ($L$), and its equations are:\n",
    "\n",
    "$$v_L = L \\frac{d i_L}{d t} \\qquad\n",
    "i_L = i_L(0) + \\frac{1}{L} \\int^t_0 v_L \\cdot dt$$\n",
    "\n",
    "As you can see, they are the same equations of the capaciytor if you exchange **voltage** and **current**.\n",
    "\n",
    "$$i_c \\leftrightarrow v_L \\qquad v_C \\leftrightarrow i_L$$\n",
    "\n",
    "We won't use inductors in **SLab**. They are big, they are expensive, they don't follow its equations as close as the capacitors and they are somewhat **dangerous**. Using an inductor is quite easy to generate voltages much higher than what the **SLab Hardware Board** can tolerate. Inductors have their use in electronics but we won't see them in **SLab**.\n",
    "\n",
    "Following tutorials in the **Linear AC** folder will continue analizyng circuits with capacitors. In fact, the capacitors open up the broad subject of **time** and **frequency** dependent circuits."
   ]
  },
  {
   "cell_type": "markdown",
   "metadata": {},
   "source": [
    "## References\n",
    "\n",
    "**SLab Python References**    \n",
    "Those are the reference documents for the SLab Python modules. They describe the commands that can be carried out after importing each module.  \n",
    "They should be available in the [Reference](http://localhost:8888/notebooks/Reference) folder.\n",
    "\n",
    "**TinyCad**  \n",
    "Circuit images on this document have been drawn using the free software TinyCad  \n",
    "https://sourceforge.net/projects/tinycad/"
   ]
  },
  {
   "cell_type": "markdown",
   "metadata": {},
   "source": [
    "## Document license\n",
    "\n",
    "Copyright  ©  Vicente Jiménez (2019)  \n",
    "This work is licensed under a Creative Common Attribution-ShareAlike 4.0 International license.  \n",
    "This license is available at http://creativecommons.org/licenses/by-sa/4.0/\n",
    "\n",
    "<img  src=\"images/cc_sa.png\" width=\"200\">"
   ]
  },
  {
   "cell_type": "code",
   "execution_count": null,
   "metadata": {},
   "outputs": [],
   "source": []
  }
 ],
 "metadata": {
  "kernelspec": {
   "display_name": "Python 3",
   "language": "python",
   "name": "python3"
  },
  "language_info": {
   "codemirror_mode": {
    "name": "ipython",
    "version": 3
   },
   "file_extension": ".py",
   "mimetype": "text/x-python",
   "name": "python",
   "nbconvert_exporter": "python",
   "pygments_lexer": "ipython3",
   "version": "3.7.1"
  }
 },
 "nbformat": 4,
 "nbformat_minor": 2
}
