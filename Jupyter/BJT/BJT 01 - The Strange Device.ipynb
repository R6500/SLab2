{
 "cells": [
  {
   "cell_type": "markdown",
   "metadata": {},
   "source": [
    "<img style=\"float: right;\"  src=\"images/LogoP.jpg\" width=\"200\">\n",
    "\n",
    "# BJT 01 : The Strange Device\n",
    "\n",
    "This project introduces the **Bipolar Junction Transistor** (BJT).\n",
    "\n",
    "Version 1.0 (17/3/2019)  \n",
    "License information is at the end of the document\n",
    "\n",
    "---\n",
    "**Bill Of Materials (BOM):**\n",
    "\n",
    "* BC547B NPN Transistor  \n",
    "* Resistors: 2x $22 \\Omega$, 2x $47 \\Omega$, 2x $100 \\Omega$, $1 k\\Omega$ and $220 k\\Omega$ \n",
    "* Several resistor values between $10k\\Omega$ and $100k\\Omega$ \n",
    "\n",
    "---"
   ]
  },
  {
   "cell_type": "markdown",
   "metadata": {},
   "source": [
    "## Meet the transistor\n",
    "\n",
    "The semiconductor diode is the device obtained when you join an electron carrier rich **N type** semiconductor with a hole carrier rich **P type** semiconductor.\n",
    "\n",
    "![Diode](images/BJT_01/diode.png)\n",
    "\n",
    "Although the physics of the device that give us the diode current vs voltage equations are quite complex, the operation of the device is intuitive: Current flows from **Anode** (A) to **Cathode** (K) because there are positive holes in the P region that can go from A to K and there are electrons on the N region that can go from K to A.  \n",
    "\n",
    "Using the same intuitive explanation we see that no current can go from K to A because there are (almost) no holes in the N region and (almost) no electrons in the P region.\n",
    "\n",
    "As we have obtained a useful device joining two different type semiconductor regions, it is immediate to ask ourselves if we can obtain more interesting devices by joining more regions. The spoiler result is that yes, we can obtain interesting devices joining three or four different kind semiconductor regions.\n",
    "\n",
    "![PN Combinations](images/BJT_01/PN_combos.png)\n",
    "\n",
    "There are two ways to join three regions and we get the **PNP** and **NPN** Bipolar Junction Transistors (BJT) and there is only a way to join four regions obtaining the [Silicon Controlled Rectifier](https://en.wikipedia.org/wiki/Silicon_controlled_rectifier) (SCR). \n",
    "\n",
    "We don't want to go too fast and we will leave the SCR for now and concentrate on the transistors. Both the **PNP** and **NPN** transistors operate in a similar way so we will explain first the NPN one and leave the PNP for later.\n",
    "\n",
    "It would seem that the NPN BJT is a symmetrical device as we have one P region, that we call **Base** (B), and two N regions. In fact, we could build symmetrical BJTs. In practice, however, the BJT operation benefits from having a non symmetrical design, so the two N regions are not equal. There is one N region called the **Emitter** (E) that usually have more free electron carriers that the other region that is called the **Collector** (C). We can say that the emitter is more N than the collector, hence the **N+** notation.\n",
    "\n",
    "![BJT Regions](images/BJT_01/BJT_regions.png)\n",
    "\n",
    "So, the real world transistor designs are not symmetrical and the device symbol is also not symmetrical so that we can locate the three terminals: **Emitter** (E), **Base** (B) and **Collector** (C) easily from its image.\n",
    "\n",
    "Usually the density of free charge carriers increases from collector to base and to emitter so:\n",
    "\n",
    "* The **collector** has a fair amount of free electron carriers\n",
    "* The **base** has more free hole carriers than electron carriers has the collector\n",
    "* The **emitter** has more free electron carriers that hole carriers has the base\n",
    "\n",
    "We know that the joining of a P and N region generates a PN junction diode. The BJT features two PN junctions, one between the base and the emitter (J-BE) and one between the base and the collector (J-BC). So, we expect to obtain two diodes on a BJT transistor.\n",
    "\n",
    "![Two Diodes](images/BJT_01/two_diodes.png)\n",
    "\n",
    "Let's check that.\n",
    "\n",
    "---\n",
    "\n",
    "![Practical Icon](images/pt.png)\n",
    "\n",
    "---"
   ]
  },
  {
   "cell_type": "markdown",
   "metadata": {},
   "source": [
    "## Measuring the diode junctions\n",
    "\n",
    "In this section we will measure a transistor, but before we can do that we must import the **SLab** module and connect to the board."
   ]
  },
  {
   "cell_type": "code",
   "execution_count": null,
   "metadata": {},
   "outputs": [],
   "source": [
    "# Import the main SLab module\n",
    "import slab"
   ]
  },
  {
   "cell_type": "code",
   "execution_count": null,
   "metadata": {},
   "outputs": [],
   "source": [
    "boardFolder = ''                                # Board folder (leave '' if you use only one board)\n",
    "slab.setFilePrefix('../Files/')                 # Set File Prefix\n",
    "slab.setCalPrefix('Calibrations/'+boardFolder)  # Set Calibration Prefix         \n",
    "slab.connect()                                  # Connect to the board"
   ]
  },
  {
   "cell_type": "markdown",
   "metadata": {},
   "source": [
    "It is always a good idea to check the board operation.  \n",
    "The following cell checks the calibration for the **DAC** channels and the first four **ADC** channels.  "
   ]
  },
  {
   "cell_type": "code",
   "execution_count": null,
   "metadata": {},
   "outputs": [],
   "source": [
    "# Check the calibration\n",
    "slab.checkCalibration(pause=False,na=4,nm=10)"
   ]
  },
  {
   "cell_type": "markdown",
   "metadata": {},
   "source": [
    "The device we will measure is the general purpose **BC547B** transistor. This transistor is one in the BC547 family that includes the \"A\", \"B\" and \"C\" kinds. We will use the **\"B\"** one. If you happen to have only a \"A\" or \"C\" version, you can use it although some results can be somewhat different.  \n",
    "The next figure shows one example of **BC547C** transistor.\n",
    "\n",
    "![BC547](images/BJT_01/BC547.jpg)\n",
    "\n",
    "Observe that we are using the standard SLab numbering that gives numbers to the component terminals starting from 1 on the right side as seen the component from the markings side.  \n",
    "The equivalent schematic symbol for this component is shown below:\n",
    "\n",
    "![BC547 Symbol](images/BJT_01/BC547_sch.png)\n",
    "\n",
    "First we will see if the **BE** and **BC** junctions work, as we expect, as diodes.\n",
    "We will start with the **BE** junction. Mount the following circuit. Note that **\"NC\"** in the collector means **\"Not Connected\"**. That means that this terminal must be left unconnected.\n",
    "\n",
    "![BE_Circuit](images/BJT_01/BE_circuit.png)\n",
    "\n",
    "Now, we wil perform a DC sweep on **DAC1** and store the **ADC1** and **ADC2** measurements for each DAC value.  \n",
    "Then we will obtain the **Ibe** base current and the **Vbe** base-emitter voltage from the obtained data.  \n",
    "Finally we will plot **Ib** against **Vbe** in a plot."
   ]
  },
  {
   "cell_type": "code",
   "execution_count": null,
   "metadata": {},
   "outputs": [],
   "source": [
    "data = slab.dcSweep(1,0.0,3.0,0.1)   # Sweep DAC1 from 0V to 3V in 0.1V increments\n",
    "Ibe = (data[1]-data[2])/220          # Calculate Ibe (in mA)\n",
    "Vbe = data[2]                        # Calculate Vbe (in V)\n",
    "\n",
    "# Plot Ibe(Vbe)\n",
    "slab.plot11(Vbe,Ibe,'B-E junction','Vbe [v]','Ibe [mA]')"
   ]
  },
  {
   "cell_type": "markdown",
   "metadata": {},
   "source": [
    "Now, do the same for the **BC** junction. Mount the following circuit.\n",
    "\n",
    "![BC_Circuit](images/BJT_01/BC_circuit.png)\n",
    "\n"
   ]
  },
  {
   "cell_type": "markdown",
   "metadata": {},
   "source": [
    "We can now disconnect from the board.\n",
    "\n",
    "And obtain its DC **Ibc(Vbc)** curve."
   ]
  },
  {
   "cell_type": "code",
   "execution_count": null,
   "metadata": {},
   "outputs": [],
   "source": [
    "data = slab.dcSweep(1,0.0,3.0,0.1)   # Sweep DAC1 from 0V to 3V in 0.1V increments\n",
    "Ibc = (data[1]-data[2])/220          # Calculate Ibe (in mA)\n",
    "Vbc = data[2]                        # Calculate Vbe (in V)\n",
    "\n",
    "# Plot Ibc(Vbc)\n",
    "slab.plot11(Vbc,Ibc,'B-C junction','Vbc [v]','Ibc [mA]')"
   ]
  },
  {
   "cell_type": "markdown",
   "metadata": {},
   "source": [
    "Now we can compare the two curves we have obtained."
   ]
  },
  {
   "cell_type": "code",
   "execution_count": null,
   "metadata": {},
   "outputs": [],
   "source": [
    "# Plot Ibe(Vbe) and Ibc(Vbc)\n",
    "slab.plotnn([Vbe,Vbc],[Ibe,Ibc],'B-E and B-C junctions','Vbe, Vbc [v]','Current [mA]',['Ibe','Ibc'])"
   ]
  },
  {
   "cell_type": "markdown",
   "metadata": {},
   "source": [
    "Obtain the $I_{be}(V_{be})$ and $I_{bc}(V_{bc})$ curves using the above code.  \n",
    "\n",
    "¿Do they behave like diodes as expected?  \n",
    "¿How do they compare?  \n",
    "\n",
    "You should get a typical DC diode curve in both the **BE** and **BC** junctions. It seems that the transistor behaves as expected.\n",
    "\n",
    "Take note of the approximate value of the threshold voltage for the curves (when they start to rise) because we will need to refer to them later."
   ]
  },
  {
   "cell_type": "markdown",
   "metadata": {},
   "source": [
    "## BJT's strange behavior\n",
    "\n",
    "It seems from previous measurements that the BJT really behaves like two diode junctions, one between B and E and another between B and C.\n",
    "Let's try what happens if forward bias the BE junction again but, this time, instead of leaving the collector unconnected, we reverse bias its junction. As a reverse biased diode does not conduct, it seems that this change should make no difference.\n",
    "\n",
    "Mount the following circuit.\n",
    "\n",
    "![Reverse CE](images/BJT_01/reverse_CE3.png)\n",
    "\n",
    "Now, as we have connected the **Collector** to $V_{dd}$, we can guarantee that voltage $V_{BC}$ at the **BC** junction will never be positive. So the **BC** junction is guaranteed to be reverse biased. Then we repeat the **Ibe(Vbe)** measurement of the **BE** junction.\n",
    "\n",
    "After the measurements are done we will set **DACs** to zero."
   ]
  },
  {
   "cell_type": "code",
   "execution_count": null,
   "metadata": {},
   "outputs": [],
   "source": [
    "data = slab.dcSweep(1,0.0,3.0,0.1)    # Sweep DAC1 from 0V to 3V in 0.1V increments\n",
    "Ibe2 = (data[1]-data[2])/220          # Calculate Ibe (in mA)\n",
    "Vbe2 = data[2]                        # Calculate Vbe (in V)\n",
    "\n",
    "# Plot Ibe(Vbe)\n",
    "slab.plot11(Vbe2,Ibe2,'B-E junction (BC reverse biased)','Vbe [v]','Ibe [mA]')\n",
    "\n",
    "slab.zero()  # Set DACs to zero"
   ]
  },
  {
   "cell_type": "markdown",
   "metadata": {},
   "source": [
    "You can compare the new curve with the previous one obtained previously, but they are easier to compare if drawn together."
   ]
  },
  {
   "cell_type": "code",
   "execution_count": null,
   "metadata": {},
   "outputs": [],
   "source": [
    "# Plot Ibe(Vbe) in both cases\n",
    "slab.plotnn([Vbe,Vbe2],[Ibe,Ibe2],'Current comparison','Vbe [v]','Ibe [mA]',['BC Open','BC Reverse Biased'])"
   ]
  },
  {
   "cell_type": "markdown",
   "metadata": {},
   "source": [
    "¿How do the curve compare?\n",
    "\n",
    "Things are getting strange at this point. From its construction, based on one P and two N regions, it seemed that the BJT behaves like two diode junctions. Measurements performed previously on both juctions also seem to confirm that assumption. Now we see that the behavior of the **BE** junction is different depending if the **BC** is left open or reverse biased.\n",
    "\n",
    "When **BC** is reverse biased, the $I_{be}$ current is much lower than when it was open. The question is, ¿Has the current really changed inside the transistor or has the current taken a different path?\n",
    "\n",
    "For the change of behavior looks like something is happening in the **BC** junction as this is the one that has changed in the two experiments. The best method to check what is happening is by performing new measurements.\n",
    "\n",
    "We will add two $47 \\Omega$  resistor to the collector connection so that we can measure if any current is entering this terminal. The **BC** junction is reverse biased so, it seems that no current should enter this terminal.\n",
    "\n",
    "![Reverse CE 2](images/BJT_01/reverse_CE4.png)\n",
    "\n",
    "Now we can perform a mesurement and calculate the **BE** junction voltage $V_{BE}$, the base current $I_{BE}$ and the collector current $I_{CE}$. Remember that we need to give the resistances in $k\\Omega$ to obtain the currents in $mA$.\n",
    "\n",
    "Remember that we want the **BC** juction to be reverse biased. In our new circuit the voltage drop on resistors $R_2$ and $R_3$, can make the collector voltage so small that the juction could be forward biased. So, the first thing we will check is that the $V_{bc}$ voltage is always negative.\n",
    "\n",
    "As we need a voltage of about $0.7V$ for the **BE** junction to have a significant current, we will start the sweep at this voltage."
   ]
  },
  {
   "cell_type": "code",
   "execution_count": null,
   "metadata": {},
   "outputs": [],
   "source": [
    "data = slab.dcSweep(1,0.7,3.0,0.1)    # Sweep DAC1 from 0.5V to 3V in 0.1V increments\n",
    "slab.zero()                           # Set DACs to zero after the measurement\n",
    "\n",
    "dac  = data[0]            # Obtain DAC1 voltage (in V)\n",
    "Vbc3 = data[2] - data[3]  # Obtain Vbc (in V)\n",
    "\n",
    "# Plot Vbc against DAC1 voltage\n",
    "slab.plot11(dac,Vbc3,'BC reverse bias check','DAC Voltage [V]','Vbc [V]')"
   ]
  },
  {
   "cell_type": "markdown",
   "metadata": {},
   "source": [
    "The above curve shall be **negative** for all **DAC** voltages.  \n",
    "\n",
    "If you are using a different transistor it is possible that you get different curve. Either way, if the curve is positive at any point, increase the $R_1$ resistor untill it is always negative.\n",
    "\n",
    "Don't continue if there is any positive value in the plot.\n",
    "\n",
    "After checking that the **BC** juction is always reverse biased, we can get the transistor currents."
   ]
  },
  {
   "cell_type": "code",
   "execution_count": null,
   "metadata": {},
   "outputs": [],
   "source": [
    "Ibe3 = (data[1]-data[2])/220     # Calculate Ibe (in mA)\n",
    "Vbe3 = data[2]                   # Calculate Vbe (in V)\n",
    "Ice3 = (data[4]-data[3])/0.047   # Calculate Ice (in mA)\n",
    "\n",
    "# Plot Ibe and Ice against Vbe\n",
    "slab.plot1n(Vbe3,[Ibe3,Ice3],'B-E and B-C junctions','Vbe [v]','Current [mA]',['Ibe','Ice'])"
   ]
  },
  {
   "cell_type": "markdown",
   "metadata": {},
   "source": [
    "You should see something quite interesting. The collector current rises to levels much higher than the base current. But we know that the collector junction is reverse biased. Isn't it? We have checked that before.\n",
    "\n",
    "You **know** that the $V_{BC}$ voltage is always negative so we know for sure that the **BC** junction is reverse biased. But we get also that there is a lot of $I_{CE}$ current going in reverse directin.\n",
    "\n",
    "**This is strange**\n",
    "\n",
    "It turns out that when you join three semiconductor regions of **\"N\"**, **\"P\"** and **\"N\"** kind in sequence, you get a device where one junction conducts in reverse when the other junction is forward biased. If order for this effect to take place you need to have a very thin **\"P\"** region. Don't worry about that because the transistor manufacture takes care of this requirement.\n",
    "\n",
    "If you want to obtain gain from a BJT, you forward bias the **BE** junction and reverse bias the **BC** junction. This mode of operation is called **Active** because it is the usually used in amplifiers."
   ]
  },
  {
   "cell_type": "markdown",
   "metadata": {},
   "source": [
    "## Current gain\n",
    "\n",
    "We see that the current $I_{CE}$ in the reverse biased current is much greater than the current $I_{BE}$ in the forward biased current. The ratio between those currents is called the forward current gain of the transistor and is identified with the symbol $\\beta_F$.\n",
    "\n",
    "$\\qquad \\beta_F = \\frac{I_{CE}}{I_{BE}} \\qquad$ When **BE** is forward biased and **BC** reverse biased \n",
    "\n",
    "The value of the current gain is usually specified in the BJT datasheet. In the case of the **BC547** device we get the following table:\n",
    "\n",
    "![Gain Table](images/BJT_01/gain_table.png)\n",
    "\n",
    "From the table, for a collector current of $2 mA$, we should expect a gain of 290 although we can get any gain between a minimum of 200 and a maximum of 450. Note the big range of gains we can get. This is typical for BJTs, you have a very imprecise knowledge of the gain you will get from a device that you buy.\n",
    "\n",
    "We can plot the $\\beta_F$ value from the previous measurement."
   ]
  },
  {
   "cell_type": "code",
   "execution_count": null,
   "metadata": {},
   "outputs": [],
   "source": [
    "beta = Ice3/Ibe3  # Compute beta\n",
    "\n",
    "# Show beta as function of Ice\n",
    "slab.plot11(Ice3,beta,'Beta current gain','Ice [mA]','Beta')"
   ]
  },
  {
   "cell_type": "markdown",
   "metadata": {},
   "source": [
    "Check if the gain at a current of **2 mA** is within specs. Don't worry if it is not, but at least is should be over 100 for currents above $1mA$.\n",
    "\n",
    "The BJT manufacturer usually provides the gain dependence with the collector current with a graph like the one below.\n",
    "\n",
    "![Gain Curve](images/BJT_01/gain_curve.png)\n",
    "\n",
    "Note that the gain is normalized so it is only useful to see the trend of the gain, no its absolute value. You can see that the gain increases until a collector current of about $20 mA$.\n",
    "\n",
    "In the previous measurements it is possible that the collector current is too low to see the reduction of the gain. In order to increase the curren you will need to reduce the resistance $R_1$, $R_2$ and $R_3$ as shown in the figure.   \n",
    "\n",
    "![Reverse CE 3](images/BJT_01/reverse_CE5.png)\n",
    "\n",
    "Set $R_2$ and $R_3$ to $22\\Omega$ and reduce the $R_1$ value. Do that reduction in small steps because having a too big base current will **Forward** bias the **BC** junction. Note however, that you could need to go to values as low as $10k\\Omega$ for $R_1$.\n",
    "\n",
    "For each $R_1$ value execute the following code cell changing the set value in the first line. Note that value needs to be given in $k\\Omega$ so that the calculations give $mA$. Check that $V_{BC}$ is always below zero also so that you guarantee that the **BC** junction is reverse biased."
   ]
  },
  {
   "cell_type": "code",
   "execution_count": null,
   "metadata": {},
   "outputs": [],
   "source": [
    "R1 = 10 # Write dowun the selected R1 value (in kOhm)\n",
    "\n",
    "data = slab.dcSweep(1,0.7,3.0,0.1)    # Sweep DAC1 from 0.5V to 3V in 0.1V increments\n",
    "slab.zero()                           # Set DACs to zero after the measurement\n",
    "\n",
    "dac = data[1]            # Obtain DAC voltage (in V)\n",
    "Vbc = data[2] - data[3]  # Obtain Vbc (in V)\n",
    "\n",
    "# Plot Vbc against DAC1 voltage\n",
    "slab.plot11(dac,Vbc,'BC reverse bias check','DAC Voltage [V]','Vbc [V]')\n",
    "\n",
    "Ibe = (data[1]-data[2])/R1      # Calculate Ibe (in mA)\n",
    "Ice = (data[4]-data[3])/0.022   # Calculate Ice (in mA)\n",
    "\n",
    "beta = Ice/Ibe  # Compute beta\n",
    "\n",
    "# Show beta as function of Ice\n",
    "slab.plot11(Ice,beta,'Beta current gain','Ice [mA]','Beta')"
   ]
  },
  {
   "cell_type": "markdown",
   "metadata": {},
   "source": [
    "Whit an adequate selection of the $R_1$ value you should be able to get an $I_{CE}$ current of about $50mA$ while maintaining the **BC** jucntion in reverse.  \n",
    "The $\\beta_F$ curve should have a maximum somewhere and drop at higher currents."
   ]
  },
  {
   "cell_type": "markdown",
   "metadata": {},
   "source": [
    "## Going reverse\n",
    "\n",
    "The BJT, due to its construction based on **NPN** or **PNP** regions is, in theory, symmetric. In practice the emitter and collector regions are neither equal on its electron carrier concentration nor on its physical construction. But a transistor, when you interchange collector and emitter should also work also as a transistor.\n",
    "\n",
    "That means that if you make work the transistor in reverse by forward biasing the **BC** junction and reverse biasing the **BE** junction you get also a current gain.\n",
    "\n",
    "$\\qquad \\beta_R = \\frac{I_{EC}}{I_{BC}} \\qquad$ When **BC** is forward biased and **BE** reverse biased \n",
    "\n",
    "As BJTs are optimized to work in the **Active** mode, the current gain in the **Reverse** mode is usually quite low (lower than 1 in the worst cases). As both modes can have gain, they are also called **Forward Active** and **Reverse Active**.\n",
    "\n",
    "Take the last measured circuit, change the $220 k\\Omega$ $R_1$  resistor for a $1 k\\Omega$ resistor, restore the $R_2$ and $R_3$ $47\\Omega$ values and interchange emitter and collector as shown in the figure.\n",
    "\n",
    "![Going Reverse](images/BJT_01/going_reverse.png)\n",
    "\n",
    "Now we can repeat the measurements to obtain the reverse current gain $\\beta_R$"
   ]
  },
  {
   "cell_type": "code",
   "execution_count": null,
   "metadata": {},
   "outputs": [],
   "source": [
    "R1 = 1   # R1 value (in kOhm)\n",
    "\n",
    "data = slab.dcSweep(1,0.7,3.0,0.1)    # Sweep DAC1 from 0.5V to 3V in 0.1V increments\n",
    "slab.zero()                           # Set DACs to zero after the measurement\n",
    "\n",
    "Vbe = data[2] - data[3]  # Obtain Vbe (in V)\n",
    "\n",
    "# Plot Vbe against DAC1 voltage\n",
    "slab.plot11(dac,Vbe,'BE reverse bias check','DAC Voltage [V]','Vbe [V]')\n",
    "\n",
    "Ibc = (data[1]-data[2])/R1      # Calculate Ibc (in mA)\n",
    "Iec = (data[4]-data[3])/0.047   # Calculate Iec (in mA)\n",
    "\n",
    "beta = Iec/Ibc  # Compute beta\n",
    "\n",
    "# Show beta as function of Ice\n",
    "slab.plot11(Iec,beta,'Reverse Beta current gain','Iec [mA]','Reverse Beta')"
   ]
  },
  {
   "cell_type": "markdown",
   "metadata": {},
   "source": [
    "Check that the **BE** junction is always reversed (negative $V_{BE}$ value)\n",
    "\n",
    "You should see a $\\beta_R$ value that is much lower than the previous $\\beta_F$ one. In some transistors it can go below one. For a **BC547B** you can expect a low reverse gain, but its maximum shall be avove one.\n",
    "\n",
    "The curve shall go to currents in the order of $10mA$ to increase the current, decrease $R_1$. To decrease the current, increase $R_1$. If you change this resistance, don't forget to change the first line of the code so that the calculations are performed as they should."
   ]
  },
  {
   "cell_type": "markdown",
   "metadata": {},
   "source": [
    "## Saturating the transistor\n",
    "\n",
    "As explained before, having a $\\beta_F$ current gain require that the **BE** junction is forward biased and the **BC** junction is reverse biased. If you forward bias both junctions, the transistor enters the **saturation** region and collector current cannot increase more.\n",
    "\n",
    "We can use a circuit similar to the one used previously to test the saturation. Note that $R_1$ has changed from $220k\\Omega$ to $10k\\Omega$ to provide a higher base current. And we have incresed the $R_2$ and $R_3$ resistances to $100\\Omega$ so that it is easy to enter into saturation.\n",
    "\n",
    "![Saturation Circuit](images/BJT_01/saturation.png)\n",
    "\n",
    "The following performs, as always, a voltage sweep on **DAC1**.  \n",
    "Afterwards, we compute and show the following variables against the **base** $I_B$ current:\n",
    "\n",
    "* Collector current $I_C$\n",
    "* Current gain calculated as $\\beta = I_C / I_B$\n",
    "* $V_{BE}$ and $V_{BC}$ junction voltages"
   ]
  },
  {
   "cell_type": "code",
   "execution_count": null,
   "metadata": {},
   "outputs": [],
   "source": [
    "R1 = 10   # R1 value (in kOhm)\n",
    "\n",
    "data = slab.dcSweep(1,0.7,3.0,0.1)    # Sweep DAC1 from 0.5V to 3V in 0.1V increments\n",
    "slab.zero()                           # Set DACs to zero after the measurement\n",
    "\n",
    "Vbe = data[2]            # Obtain Vbe (in V)\n",
    "Vbc = data[2] - data[3]  # Obtain Vbc (in V)\n",
    "\n",
    "Ib = (data[1]-data[2])/R1      # Calculate Ib (in mA)\n",
    "Ic = (data[4]-data[3])/0.1     # Calculate Ic (in mA)\n",
    "beta = Ic/Ib                   # Calculate current gain \n",
    "\n",
    "# Plot collector current\n",
    "slab.plot11(Ib,Ic,'Collector Current','Ib [mA]','Ic [mA]')\n",
    "\n",
    "# Plot gain\n",
    "slab.plot11(Ib,beta,'Current Gain','Ib [mA]','Beta')\n",
    "\n",
    "# Plot Vbe and Vbc\n",
    "slab.plot1n(Ib,[Vbe,Vbc],'Junction Voltages','Ib [mA]','Junction Voltage [V]',['Vbe','Vbc'])"
   ]
  },
  {
   "cell_type": "markdown",
   "metadata": {},
   "source": [
    "You should see that the **BE** junction is always forward biased.  \n",
    "As **base** current increases, the **BC** junction goes from **reverse bias** to **forward bias**.  \n",
    "When the **BC** junction enters in **forward bias** both junctions are **forward biased** and the transistor enters in the **saturation region**\n",
    "\n",
    "The above curves depend a lot in the $\\beta_F$ gain of the transistor and this value depends on each particular transistor. If you cannot see the above explained effect because you enter too soon or too late on the saturation region, you can change the base resistor $R_1$ to move the curves:\n",
    "\n",
    "* Set a higher $R_1$ value to enter later in saturation\n",
    "* set a lower $R_1$ value to enter sooner in saturation\n",
    "\n",
    "If you perform any change to $R_1$, change the first code line to reflect that.\n",
    "\n",
    "### Vce voltage\n",
    "\n",
    "When you forward bias the **BE** junction, its voltage goes to about $0.7V$.  \n",
    "When you forward bias the **BC** junction, its voltage goes to about $0.5V$. \n",
    "The $V_{CE}$ voltage can always be computed as:\n",
    "\n",
    "$$V_{CE} = V_{BE} - V_{BC}$$\n",
    "\n",
    "So, in saturation, $V_{CE}$ will be about $0.2V$\n",
    "\n",
    "We can check that in our measurements if you know, from the above measurements, that the transistor is saturated at the higher base current ranges."
   ]
  },
  {
   "cell_type": "code",
   "execution_count": null,
   "metadata": {},
   "outputs": [],
   "source": [
    "Vce = data[3]  # Obtain Vce\n",
    "\n",
    "# Plot Vce(Ib)\n",
    "slab.plot11(Ib,Vce,'Vce voltage','Ib [mA]','Vce [V]')"
   ]
  },
  {
   "cell_type": "markdown",
   "metadata": {},
   "source": [
    "## The transistor curves\n",
    "\n",
    "Another way to show the transistor behaviour is to control the $V_{CE}$ voltage. In order to do that, we will need to change the $V_{dd}$ source for a **DAC**. As **DAC1** is best than **DAC2** in some boards, we will use this DAC for the $V_{CE}$ control and we will use **DAC2** for controlling the base current.\n",
    "\n",
    "**SLab** DACs are limited in the current they can provide, so we will change the circuit to operate at lower currents.\n",
    "\n",
    "![BJT Curve Circuit](images/BJT_01/bjt_curve.png)\n"
   ]
  },
  {
   "cell_type": "code",
   "execution_count": null,
   "metadata": {},
   "outputs": [],
   "source": [
    "slab.setVoltage(2,2.0)                # Set DAC2 to 2V\n",
    "data = slab.dcSweep(1,0.0,3.0,0.1)    # Sweep DAC1 from 0V to 3V in 0.1V increments\n",
    "slab.zero()                           # Set DACs to zero after the measurement\n",
    "\n",
    "Ib  = (data[1]-data[2])/220  # Obtain Ib (mA)\n",
    "Ic  = (data[4]-data[3])/1    # Obtain Ic (mA)\n",
    "Vce = data[3]                # Obtain Vce (V)\n",
    "\n",
    "# Plot Ib(Vce)\n",
    "slab.plot11(Vce,Ib,'','Vce [V]','Ib [mA]')\n",
    "\n",
    "# Plot Ic(Vce)\n",
    "slab.plot11(Vce,Ic,'','Vce [V]','Ic [mA]')"
   ]
  },
  {
   "cell_type": "markdown",
   "metadata": {},
   "source": [
    "You should see that, for $V_{CE}$ voltages above about $0.2V$, the collector current is constant and the base current is constant also. In this constant region the transistor is in **Forward Active** region.\n",
    "\n",
    "Below about $0.2V$ the collector current drops. This is the **Saturation** region.\n",
    "\n",
    "$\\beta_F$ current gain, in the **Forward Active** region, can be obtained from any point in the constant region.  \n",
    "Execute the following code cell to obtain the gain for the above curve.  "
   ]
  },
  {
   "cell_type": "code",
   "execution_count": null,
   "metadata": {},
   "outputs": [],
   "source": [
    "# Calculate beta from the last measured point\n",
    "beta = Ic[-1]/Ib[-1]\n",
    "\n",
    "print('Beta is',beta,'at a',Ic[-1],'mA collector current') "
   ]
  },
  {
   "cell_type": "markdown",
   "metadata": {},
   "source": [
    "You can repeat the above procedure using a different **DAC2** voltage and you will get different curve.\n",
    "\n",
    "**Check that in the previous code**\n",
    "\n",
    "But, as we are using code, we can automate that. The following code cell measures the $I_B$ current as function of the $V_{CE}$ voltage for several $I_B$ currents. After the measurements, all curves are shown at once. "
   ]
  },
  {
   "cell_type": "code",
   "execution_count": null,
   "metadata": {},
   "outputs": [],
   "source": [
    "# List of DAC values to check\n",
    "dac2_list = [1.0,1.5,2.0,2.5]\n",
    "\n",
    "Vce_list = [] # Initialize list of Vce vectors\n",
    "Ic_list  = [] # Initialize list of Ic vectors\n",
    "Ib_list  = [] # Initialize list of Ib values\n",
    "labels   = [] # Inilialize list of labels for the curves\n",
    "\n",
    "# Perform a measurement for each DAC2 value in the list\n",
    "for dac2 in dac2_list:\n",
    "    slab.setVoltage(2,dac2)               # Set DAC2 \n",
    "    data = slab.dcSweep(1,0.0,3.0,0.1)    # Sweep DAC1 from 0V to 3V in 0.1V increments\n",
    "    Vce = data[3]                # Obtain Vce (V) \n",
    "    Vce_list.append(Vce)         # Add this measurement to the list\n",
    "    Ic  = (data[4]-data[3])/1    # Obtain Ic (mA)\n",
    "    Ic_list.append(Ic)           # Add this measurement to the list\n",
    "    Ib  = (data[1]-data[2])/220  # Obtain Ib (mA)\n",
    "    Ib_list.append(Ib[-1])       # Add the last base current to the list\n",
    "    # Create a label with the last base current\n",
    "    label = 'Ib = '+str(round(1000.0*Ib[-1],2))+' uA' \n",
    "    labels.append(label)         # Add label to the list of labels\n",
    "    # Show current gain\n",
    "    print('Beta gain is',round(Ic[-1]/Ib[-1],2),'at',round(Ic[-1],2),'mA collector current')\n",
    "    \n",
    "slab.zero()  # Set DACs to zero after all measurements    \n",
    "\n",
    "# Plot Ic(Vce) for each curve\n",
    "slab.plotnn(Vce_list,Ic_list,'BC547B Curves','Vce [V]','Ic [mA]',labels)"
   ]
  },
  {
   "cell_type": "markdown",
   "metadata": {},
   "source": [
    "You should see a set of four curves for the transistor, each one associated to a different base current when the trasistor is in **Active** region.\n",
    "\n",
    "Observe that the range of $V_{CE}$ values are different on each curve. This is due to the fact that **DAC1** voltage has a $3 V$ maximum value and the fact that, at higher current, voltage drop on $R_2$ increases.\n",
    "\n",
    "If you want to change the set of curves, just change the list of **DAC2** values at the start of the code.\n",
    "\n",
    "You can also use the code to obtain the curves of other transistors. The code, however, is limited in the collector $I_C$ current it can provide as the **DACs** are limited in output current. If you want to obtain transistor curves at ahigher currents you can use the procedure described in the [Test BJT](http://localhost:8888/notebooks/Demo/Test%20BJT.ipynb) document that is part of the **SLab** [demo](http://localhost:8888/tree/Demo) folder."
   ]
  },
  {
   "cell_type": "markdown",
   "metadata": {},
   "source": [
    "## Food for thought\n",
    "\n",
    "Before ending this lab project, let's add a little riddle.  \n",
    "At the start of the measurements we measured the $I_{BE}$ and $I_{BC}$ currents when the third terminal, Collector for $I_{BE}$ and Emitter for $I_{BC}$, was not connected.  \n",
    "\n",
    "![BE_Circuit](images/BJT_01/BE_circuit.png)\n",
    "\n",
    "Recall that the $I_{BE}$ current measured when we connected the collector to a $V_{dd}$ gave us different values.\n",
    "The question is:\n",
    "\n",
    "**In which mode was the BJT during the firs measurements with the open collector?**\n",
    "\n",
    "---\n",
    "\n",
    "**EXTRA TASK**  \n",
    "Make a hypothesis about the BJT mode of operation in the open collector measurements.  \n",
    "Design and perform a measurement that demonstrates the hypothesis.   \n",
    "You can use the following empty code cell to write the needed code. You can also add more code cells if you need them.\n",
    "\n",
    "Another way to think about this circuit is to think about the previous circuit that had two series resistors between the Collector and $V_{dd}$ and think what will happen if we make $R \\rightarrow \\infty$\n",
    "\n",
    "---\n"
   ]
  },
  {
   "cell_type": "code",
   "execution_count": null,
   "metadata": {},
   "outputs": [],
   "source": [
    "# Empty code cell. Write down your own code\n"
   ]
  },
  {
   "cell_type": "markdown",
   "metadata": {},
   "source": [
    "Now consider the following circuit that joins the base and collector nodes:\n",
    "\n",
    "![Shorted BC Circuit](images/BJT_01/shorted_BC.png)\n",
    "\n",
    "Make a guess about the mode in which the BJT will operate. \n",
    "Guess also how will be the $I_B(V_{BE})$ curve in this case compared with the curves on the open collector and collector connected to $V_{dd}$ cases.\n",
    "\n",
    "---\n",
    "\n",
    "**EXTRA TASK**  \n",
    "Perform a measurement to measure the $I_B(V_{BE})$.  \n",
    "Compare the measurements with the previous curves with open collector and collector connected to $V_{dd}$. \n",
    "Does it make sense?   \n",
    "You can use the following empty code cell to write the needed code. You can also add more code cells if you need them.\n",
    "\n",
    "---"
   ]
  },
  {
   "cell_type": "code",
   "execution_count": null,
   "metadata": {},
   "outputs": [],
   "source": [
    "# Empty code cell. Write down your own code\n"
   ]
  },
  {
   "cell_type": "markdown",
   "metadata": {},
   "source": [
    "That ends the measurements on this document, you can now disconnect from the board."
   ]
  },
  {
   "cell_type": "code",
   "execution_count": null,
   "metadata": {},
   "outputs": [],
   "source": [
    "# Disconnect from the board\n",
    "slab.disconnect()"
   ]
  },
  {
   "cell_type": "markdown",
   "metadata": {},
   "source": [
    "## Last comments\n",
    "\n",
    "In this document we started working with the **BJT** component. In particular, the **NPN** one. This component is strange. It seems that should work as two diodes but it turns out that one diode conducts in reverse while the other is forward biased. Not only that, the reverse biased junction current can be much greater than the current on the forward biased junction. Sorting out what is really happening inside the transistor deals with solid state electronics and is outside of the scope of this document.\n",
    "\n",
    "We have seen that depending on the state of the two junctions the transistor can be in several modes of operation:\n",
    "\n",
    "* **Forward Active** when **BE** is forward biased and **BC** is reverse biased\n",
    "\n",
    "* **Reverse** Active when **BC** is forward biased and **BE** reverse biased\n",
    "\n",
    "* **Saturation** when both junctions are forward biased. \n",
    "\n",
    "As each junction can be forward or reverse biased there is a fourth **Cut-off** operation region where no current flow at any terminal because **both junctions** are reverse biased.\n",
    "\n",
    "The next document will be devoted to modeling of the BJT so that we can perform calculations on circuits built around it. Like in the diode case, we can have several alternative models with different tradeoffs of complexity and precision."
   ]
  },
  {
   "cell_type": "markdown",
   "metadata": {},
   "source": [
    "## References\n",
    "\n",
    "[SLab Python References](../Reference)  \n",
    "Those are the reference documents for the SLab Python modules. They describe the commands that can be carried out after importing each module. \n",
    "They should be available in the SLab/Doc folder.\n",
    "\n",
    "[TinyCad](https://sourceforge.net/projects/tinycad/)  \n",
    "Circuit images on this document have been drawn using the free software TinyCad  "
   ]
  },
  {
   "cell_type": "markdown",
   "metadata": {},
   "source": [
    "## Document license\n",
    "\n",
    "Copyright  ©  Vicente Jiménez (2019)  \n",
    "This work is licensed under a Creative Common Attribution-ShareAlike 4.0 International license.  \n",
    "This license is available at http://creativecommons.org/licenses/by-sa/4.0/\n",
    "\n",
    "<img  src=\"images/cc_sa.png\" width=\"200\">"
   ]
  },
  {
   "cell_type": "code",
   "execution_count": null,
   "metadata": {},
   "outputs": [],
   "source": []
  }
 ],
 "metadata": {
  "kernelspec": {
   "display_name": "Python 3",
   "language": "python",
   "name": "python3"
  },
  "language_info": {
   "codemirror_mode": {
    "name": "ipython",
    "version": 3
   },
   "file_extension": ".py",
   "mimetype": "text/x-python",
   "name": "python",
   "nbconvert_exporter": "python",
   "pygments_lexer": "ipython3",
   "version": "3.7.1"
  }
 },
 "nbformat": 4,
 "nbformat_minor": 2
}
