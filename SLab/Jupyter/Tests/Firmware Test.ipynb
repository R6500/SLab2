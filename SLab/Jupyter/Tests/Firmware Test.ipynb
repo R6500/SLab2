{
 "cells": [
  {
   "cell_type": "markdown",
   "metadata": {},
   "source": [
    "<img style=\"float: right;\"  src=\"images/LogoP.jpg\" width=\"200\">\n",
    "\n",
    "# SLab Demo : Firmware Test\n",
    "\n",
    "This a **demo** Jupyter Notebook for the SLab projects\n",
    "\n",
    "Version 1.0 (3/6/2018) License information is at the end of the document\n",
    "\n",
    "---"
   ]
  },
  {
   "cell_type": "markdown",
   "metadata": {},
   "source": [
    "The SLab user interface is based on **Python** commands that control the **Hardware Board** operation.\n",
    "\n",
    "The board host a **SLab Firmware** that works as a server for commands sent, through serial connection, from the PC.\n",
    "\n",
    "This document briefly explains the **firmware commands** the board can understand and show, for each command, at least one **Python** SLab module function that uses it.\n",
    "\n",
    "This document can be used to check the firmware operation, as all commands defined in the SLab modules use the firmware commands described in this document.\n",
    "\n",
    "The document verifies that the board can execute all firmware commands, but it does not verify that it works with any parameter combination. In the same way, the document is not designed to check the proper operation of the board hardware."
   ]
  },
  {
   "cell_type": "markdown",
   "metadata": {},
   "source": [
    "## Firmware Commands\n",
    "\n",
    "All SLab commands rely on the functionalitios available on the Hardware Board thanks to its firmware. Those functionalities are associated to a set of commands. Currently, SLab boards could implement commands in several cathegories:\n",
    "\n",
    "### Initialization and Configuration commands\n",
    "\n",
    "* **F** : Get Firmware String\n",
    "* **M** : Get Magic Code\n",
    "* **I** : Get Board Information\n",
    "* **L** : Get Pin List\n",
    "* **E** : Soft Reset\n",
    "\n",
    "### DC Analog Commands\n",
    "\n",
    "* **A** : Read ADC channel\n",
    "* **D** : Write DAC channel\n",
    "* **N** : Number of reads in DC\n",
    "\n",
    "### DC Digital I/O commands\n",
    "\n",
    "* **H** : DIO Mode\n",
    "* **J** : DIO Write\n",
    "* **K** : DIO Read\n",
    "\n",
    "### Transient commands\n",
    "\n",
    "* **R** : Set sample period\n",
    "* **S** : Set transient storage\n",
    "* **Y** : Async Read\n",
    "* **G** : Triggered Read\n",
    "* **P** : Step Response\n",
    "* **W** : Load wavetable\n",
    "* **w** : Load secondary wavetable\n",
    "* **V** : Wave response\n",
    "* **v** : Dual wave response\n",
    "* **Q** : Wave play\n",
    "* **q** : Dual wave play\n",
    "\n",
    "If a commands is not understood by the **Hardware Board** it will give a **Remote Error** like:\n",
    "\n",
    "$\\qquad$ **Remote Error : Bad command parameters**\n",
    "\n",
    "The same error will be shown if you select a proper command with bad parameters.\n",
    "\n",
    "This demo Notebook uses a minimum subset of the SLab commands that is enough to check all firmware functionalities.\n",
    "\n",
    "The Notebook is not intended to learn about the SLab Commands. Use the reference or tutorial Notebooks for that."
   ]
  },
  {
   "cell_type": "markdown",
   "metadata": {},
   "source": [
    "## Module import\n",
    "\n",
    "First we will import the main SLab module\n",
    "This code sould give some messages including the SLab version"
   ]
  },
  {
   "cell_type": "code",
   "execution_count": null,
   "metadata": {},
   "outputs": [],
   "source": [
    "# Import all slab modules\n",
    "import slab"
   ]
  },
  {
   "cell_type": "markdown",
   "metadata": {},
   "source": [
    "## Interactive plots\n",
    "\n",
    "Executing the following code we can make our plots interactive. That way you can zoom and pan on the plot.\n",
    "\n",
    "When you are done with the interaction, just hit the close interaction button."
   ]
  },
  {
   "cell_type": "code",
   "execution_count": null,
   "metadata": {},
   "outputs": [],
   "source": [
    "# Make plots interactive\n",
    "slab.interactivePlots()\n",
    "%matplotlib notebook"
   ]
  },
  {
   "cell_type": "markdown",
   "metadata": {},
   "source": [
    "## Connection and board information\n",
    "\n",
    "This code uses the **connect** command to connect to the board using **autodetect** of the COM port\n",
    "You should see text information about the board and the COM port used\n",
    "\n",
    "Afterwards we show the information about the board using the **printBoardInfo** command.\n",
    "\n",
    "The code checks the firmware commands:\n",
    "\n",
    "* **F** : Get Firmware String. It gives information about the Firmware version.\n",
    "* **M** : Get Magic Code. Used to check that the response if from a SLab firmware.\n",
    "* **I** : Get information about the board capabilities.\n",
    "* **L** : Get Pin List from the board.\n",
    "\n",
    "As the board capabilities are provided by the board itself, you con't need to configure anything on SLab if you change to another SLab compatible board."
   ]
  },
  {
   "cell_type": "code",
   "execution_count": null,
   "metadata": {},
   "outputs": [],
   "source": [
    "boardFolder = ''                                # Board folder (leave '' if you use only one board)\n",
    "slab.setFilePrefix('../Files/')                 # Set File Prefix\n",
    "slab.setCalPrefix('Calibrations/'+boardFolder)  # Set Calibration Prefix         \n",
    "slab.connect()                                  # Connect to the board"
   ]
  },
  {
   "cell_type": "code",
   "execution_count": null,
   "metadata": {},
   "outputs": [],
   "source": [
    "# Show board information\n",
    "slab.printBoardInfo()"
   ]
  },
  {
   "cell_type": "markdown",
   "metadata": {},
   "source": [
    "## Set DAC and read ADC\n",
    "\n",
    "This code sets voltages on the DACs and read voltages on the ADCs\n",
    "\n",
    "In general, ADCs are more reliable that DACs. If the node has an impedance below 100k Ohm, the ADC reading should be quite good even on uncalibrated SLab systems.\n",
    "\n",
    "The DAC output voltage, however, depends on the load, so they are not as reliable as the ADCs. In general, it is a good idea to put an ADC at each DAC output to obtain the **real** voltage delivered by the DAC. \n",
    "\n",
    "The code sets the voltago of **DAC1** and **DAC2** and reads all ADC voltages.\n",
    "\n",
    "You can connect some ADCs to the DAC outputs or to Vdd or GND to see if the all give the proper readings.\n",
    "\n",
    "The code checks the firmware commands:\n",
    "\n",
    "* **A** : Read and ADC channel\n",
    "* **D** : Write a DAC channel\n",
    "* **N** : Set number of reads in DC"
   ]
  },
  {
   "cell_type": "code",
   "execution_count": null,
   "metadata": {},
   "outputs": [],
   "source": [
    "# Set DACs\n",
    "slab.setVoltage(1,2.0)\n",
    "slab.setVoltage(2,1.0)\n",
    "\n",
    "# Get all voltages\n",
    "slab.dcPrint()"
   ]
  },
  {
   "cell_type": "markdown",
   "metadata": {},
   "source": [
    "To improve the readings, you can instruct SLab to perform several readings and give the average of them."
   ]
  },
  {
   "cell_type": "code",
   "execution_count": null,
   "metadata": {},
   "outputs": [],
   "source": [
    "# Average 10000 readings on each ADC\n",
    "last = slab.setDCreadings(10000);\n",
    "\n",
    "# Get all voltages\n",
    "slab.dcPrint()\n",
    "\n",
    "# Return to previous operation\n",
    "slab.setDCreadings(last);"
   ]
  },
  {
   "cell_type": "markdown",
   "metadata": {},
   "source": [
    "## Board Memory Buffer\n",
    "\n",
    "Most of the RAM memory in the **Hardware Board** is used for an **unified memory buffer (UMB)**. The UMB is used for storing:\n",
    "\n",
    "* Transient measurements obtained on ADCs\n",
    "* Wavetables for operating the DACs\n",
    "\n",
    "Wavetables are always on the bottom region of the UMB whereas measurements are in the top region.\n",
    "\n",
    "The board memory is measured on samples. One sample is equivalent to an unsigned 16 bit number. All measurements are performed by the **board firmware** in ratiometric units (between 0 and 1). The conversion to voltages is made in Python code. \n",
    "\n",
    "The codification of the ratiometric values are made in 16 bits and are independent on the number of bits of the ADC and DAC converters. That makes the Python interpetation of the ratiometric values independent on the kind of converters the board uses.\n",
    "\n",
    "* Ratiometric 0 that corresponds to **GND**: $0$\n",
    "* Ratiometric 1 that corresponds to **Vref**: $2^{16}-1$\n",
    "\n",
    "The **UMB** is cleared when you connect with the board and when you perform a **Soft Reset**."
   ]
  },
  {
   "cell_type": "markdown",
   "metadata": {},
   "source": [
    "## Transient Async\n",
    "\n",
    "The transient async command measures one to four ADC channels during a given time.\n",
    "\n",
    "The **setSampleTime** command determines the time between two consecutive measurements.\n",
    "\n",
    "The **setTransientStorage** command, or its shorter alias **tranStore** command, reserves memory on the **UMB** for an given number of samples on a given number of ADC lines.\n",
    "\n",
    "The following code reads four ADCs for a total of 100 samples of each ADC waiting $15\\mu s$ between readings. After the measuremenmt, the results are shown on a plot.\n",
    "\n",
    "The code tests the following firmware commands:\n",
    "\n",
    "* **R** : Set sample period\n",
    "* **S** : Set transient storage\n",
    "* **Y** : Async Read"
   ]
  },
  {
   "cell_type": "code",
   "execution_count": null,
   "metadata": {},
   "outputs": [],
   "source": [
    "# Set sample time\n",
    "slab.setSampleTime(0.000015)\n",
    "\n",
    "# Set transient storage of 100 samples of all 4 ADC channels\n",
    "slab.tranStore(100,4)\n",
    "\n",
    "# Perform the measurement and show as a plot\n",
    "slab.tranAsyncPlot()"
   ]
  },
  {
   "cell_type": "markdown",
   "metadata": {},
   "source": [
    "## Triggered Read\n",
    "\n",
    "The triggered read command is similar to the previous **Transient Async** command. The only difference is that it waits for a given condition in one analog channel to sync the capture.\n",
    "\n",
    "The triggering condition will be at time zero, just in the center of the capture region.\n",
    "\n",
    "The code tests the following firmware commands:\n",
    "\n",
    "* **R** : Set sample period\n",
    "* **S** : Set transient storage\n",
    "* **G** : Triggered Read"
   ]
  },
  {
   "cell_type": "code",
   "execution_count": null,
   "metadata": {},
   "outputs": [],
   "source": [
    "# Set sample time\n",
    "slab.setSampleTime(0.000015)\n",
    "slab.setSampleTime(0.001)\n",
    "\n",
    "# Set transient storage of 100 samples of all 4 ADC channels\n",
    "slab.tranStore(100,4)\n",
    "\n",
    "# Perform the measurement and show as a plot\n",
    "slab.tranTriggeredPlot(1.0,slab.tmodeFall)"
   ]
  },
  {
   "cell_type": "markdown",
   "metadata": {},
   "source": [
    "## Step response\n",
    "\n",
    "The step response command give the response of a circuit against a step change on **DAC 1**\n",
    "\n",
    "1/5 of the samples will be captured before the step and 4/5 afterwards\n",
    "\n",
    "Time zero will be defined as the step position.\n",
    "\n",
    "The code tests the following firmware commands:\n",
    "\n",
    "* **R** : Set sample period\n",
    "* **S** : Set transient storage\n",
    "* **P** : Step Response"
   ]
  },
  {
   "cell_type": "code",
   "execution_count": null,
   "metadata": {},
   "outputs": [],
   "source": [
    "# Set sample time\n",
    "slab.setSampleTime(0.000015)\n",
    "\n",
    "# Set transient storage of 100 samples of all 4 ADC channels\n",
    "slab.tranStore(100,4)\n",
    "\n",
    "# Perform the measurement and show as a plot\n",
    "slab.stepPlot(1.0,2.0)"
   ]
  },
  {
   "cell_type": "markdown",
   "metadata": {},
   "source": [
    "## Wave Response Commands\n",
    "\n",
    "The wave commands obtain the response of a circuit agains a user defined waveform.\n",
    "\n",
    "Before generating a waveform on the **hardware board** it needs to be previously loaded. The board can store up to two different waveforms at the same time. One principal one for **DAC1** and another secondary one for **DAC2**.\n",
    "\n",
    "To ease the memory management, the **UMB** is cleared every time you upload the primary waveform. That means that, if you change the primary waveform, the secondary waveform is cleared.\n",
    "\n",
    "As the **UMB** is unified for waveforms and measurements, the upload of waveforms reduce the space available for measurements.\n",
    "\n",
    "The wave response commands generate a wave, and obtain a response of the circuit to this wave. There are three kinds of wave response commands available:\n",
    "\n",
    "The **waveResponse** commands generate a wave on **DAC1** and obtain a response on one or several ADCs.\n",
    "\n",
    "The **dualWaveResponse** commands generate waves both on **DAC1** and **DAC2** and obtain a response on one or several ADCs.\n",
    "\n",
    "The **singleWaveResponse** command generate a wave on **DAC1** and obtain a response on one selected ADC channel. As only one channel is read on this command, it is usually available on all ADC channels, not only on the ones available to be read a the same time. Moreover, as we only read one channel, this is usually wave response command that ca use lower sample times.\n",
    "\n",
    "The code tests the following firmware commands:\n",
    "\n",
    "* **R** : Set sample period\n",
    "* **S** : Set transient storage\n",
    "* **W** : Load wavetable\n",
    "* **w** : Load secondary wavetable\n",
    "* **V** : Wave response\n",
    "* **v** : Dual wave response\n",
    "* **x** : Single Wave response\n"
   ]
  },
  {
   "cell_type": "code",
   "execution_count": null,
   "metadata": {},
   "outputs": [],
   "source": [
    "# Wave Response Example\n",
    "\n",
    "# Load a 100 point sine wave that goes from 1V to 2V\n",
    "slab.waveSine(1,2,100)\n",
    "\n",
    "# Set the wave frequency to 100Hz\n",
    "slab.setWaveFrequency(100)\n",
    "\n",
    "# Set storage for all four ADCs for two waves (200 samples)\n",
    "slab.tranStore(200,4)\n",
    "\n",
    "# Generate the wave and see the circuit response\n",
    "slab.wavePlot()"
   ]
  },
  {
   "cell_type": "code",
   "execution_count": null,
   "metadata": {},
   "outputs": [],
   "source": [
    "# Dual Wave Response Example\n",
    "\n",
    "# Load a DAC1 100 point sine wave that goes from 1V to 2V\n",
    "slab.waveSine(1,2,100)\n",
    "\n",
    "# Set the wave frequency to 100Hz\n",
    "slab.setWaveFrequency(100)\n",
    "\n",
    "# Load a DAC2 50 sample secondary sine waveform between 0.5V and 2.5V\n",
    "slab.waveSine(0.5,2.5,50,second=True)\n",
    "\n",
    "# Set storage for all four ADCs for two waves of the primary wave (200 samples)\n",
    "slab.tranStore(200,4)\n",
    "\n",
    "# Generate the waves on both DACs and see the circuit response\n",
    "slab.wavePlot(dual=True)"
   ]
  },
  {
   "cell_type": "code",
   "execution_count": null,
   "metadata": {},
   "outputs": [],
   "source": [
    "# Single Wave Response Example\n",
    "\n",
    "# Load a DAC1 100 point sine wave that goes from 1V to 2V\n",
    "slab.waveSine(1,2,100)\n",
    "\n",
    "# Set the wave frequency to 100Hz\n",
    "slab.setWaveFrequency(100)\n",
    "\n",
    "# Set storage for all one ADC for two waves of the primary wave (200 samples)\n",
    "slab.tranStore(200,1)\n",
    "\n",
    "# Generate the waves on both DACs and see the circuit response\n",
    "slab.singleWavePlot(8)"
   ]
  },
  {
   "cell_type": "markdown",
   "metadata": {},
   "source": [
    "## Wave Play\n",
    "\n",
    "The wave play command generates a wave but don't capture any data\n",
    "\n",
    "Waves can be generated on **DAC1** or both on **DAC1** and **DAC2**\n",
    "\n",
    "As no measurements are stored, the wave can be played forever by setting a zero time. In that case, you need to use the **halt** button to stop the play. \n",
    "\n",
    "The code tests the following firmware commands:\n",
    "\n",
    "* **R** : Set sample period\n",
    "* **S** : Set transient storage\n",
    "* **W** : Load wavetable\n",
    "* **w** : Load secondary wavetable\n",
    "* **Q** : Wave play\n",
    "* **q** : Dual wave play"
   ]
  },
  {
   "cell_type": "code",
   "execution_count": null,
   "metadata": {},
   "outputs": [],
   "source": [
    "# Wave Play Example\n",
    "\n",
    "# Load a 100 point sine wave that goes from 1V to 2V\n",
    "slab.waveSine(1,2,100)\n",
    "\n",
    "# Set the wave frequency to 100Hz\n",
    "slab.setWaveFrequency(100)\n",
    "\n",
    "# Generate 10 waveforms\n",
    "slab.wavePlay(10)"
   ]
  },
  {
   "cell_type": "code",
   "execution_count": null,
   "metadata": {},
   "outputs": [],
   "source": [
    "# Dual Wave Play Example\n",
    "\n",
    "# Load a DAC1 100 point sine wave that goes from 1V to 2V\n",
    "slab.waveSine(1,2,100)\n",
    "\n",
    "# Set the wave frequency to 100Hz\n",
    "slab.setWaveFrequency(100)\n",
    "\n",
    "# Load a DAC2 50 sample secondary sine waveform between 0.5V and 2.5V\n",
    "slab.waveSine(0.5,2.5,50,second=True)\n",
    "\n",
    "# Generate 10 waveforms of the primary wave on DAC1\n",
    "# Generate also the DAC2 wave during the DAC1 generation\n",
    "slab.wavePlay(10,dual=True)"
   ]
  },
  {
   "cell_type": "code",
   "execution_count": null,
   "metadata": {},
   "outputs": [],
   "source": [
    "# Infinite Wave Play Example\n",
    "\n",
    "# Load a 100 point sine wave that goes from 1V to 2V\n",
    "slab.waveSine(1,2,100)\n",
    "\n",
    "# Set the wave frequency to 100Hz\n",
    "slab.setWaveFrequency(100)\n",
    "\n",
    "# Generate waveforms forever\n",
    "# Stop the play pushing the hardware button\n",
    "slab.wavePlay(0)"
   ]
  },
  {
   "cell_type": "markdown",
   "metadata": {},
   "source": [
    "## DC Digital I/O\n",
    "\n",
    "The digital I/O lines (DIO) can be configured in different input and output modes\n",
    "\n",
    "The DC digital I/O commands set the DIO configuration, set the state of the outputs and read the state of the inputs\n",
    "\n",
    "The code tests the following firmware commands:\n",
    "\n",
    "* **H** : DIO Mode\n",
    "* **J** : DIO Write\n",
    "* **K** : DIO Read"
   ]
  },
  {
   "cell_type": "code",
   "execution_count": null,
   "metadata": {},
   "outputs": [],
   "source": [
    "# Configure DIO 1 as output \n",
    "slab.dioMode(1,slab.mOutput)\n",
    "\n",
    "# Configure DIO 2 as input\n",
    "slab.dioMode(2,slab.mInput)\n",
    "\n",
    "# Read DIO 2\n",
    "print(slab.dioRead(2))\n",
    "\n",
    "# Set DIO to High\n",
    "slab.dioWrite(1,1)\n",
    "\n",
    "# Read DIO 2\n",
    "print(slab.dioRead(2))\n",
    "\n",
    "# Wait 0.2 seconds\n",
    "slab.wait(0.2)\n",
    "\n",
    "# Set DIO to Low\n",
    "slab.dioWrite(1,0)"
   ]
  },
  {
   "cell_type": "markdown",
   "metadata": {},
   "source": [
    "## Soft Reset\n",
    "\n",
    "The Soft Reset command enables the user to set the SLab board on known state.\n",
    "\n",
    "As several of the firmware commands change the board state, it is sometimes usefull to set the board on a known state without needing to perform a **Hard Reset**.\n",
    "\n",
    "The code tests the following firmware command:\n",
    "\n",
    "* **E** : Soft Reset"
   ]
  },
  {
   "cell_type": "code",
   "execution_count": null,
   "metadata": {},
   "outputs": [],
   "source": [
    "slab.softReset()"
   ]
  },
  {
   "cell_type": "markdown",
   "metadata": {},
   "source": [
    "## Disconnect from the board\n",
    "\n",
    "The following command disconnects from the board\n",
    "\n",
    "It just closes the serial port, so no firmware command is issued"
   ]
  },
  {
   "cell_type": "code",
   "execution_count": null,
   "metadata": {},
   "outputs": [],
   "source": [
    "# Disconnect from the board\n",
    "slab.disconnect()"
   ]
  },
  {
   "cell_type": "markdown",
   "metadata": {},
   "source": [
    "## Document license\n",
    "\n",
    "Copyright  ©  Vicente Jiménez (2018)  \n",
    "This work is licensed under a Creative Common Attribution-ShareAlike 4.0 International license.  \n",
    "This license is available at http://creativecommons.org/licenses/by-sa/4.0/\n",
    "\n",
    "<img  src=\"images/cc_sa.png\" width=\"200\">"
   ]
  },
  {
   "cell_type": "code",
   "execution_count": null,
   "metadata": {},
   "outputs": [],
   "source": []
  }
 ],
 "metadata": {
  "kernelspec": {
   "display_name": "Python 3",
   "language": "python",
   "name": "python3"
  },
  "language_info": {
   "codemirror_mode": {
    "name": "ipython",
    "version": 3
   },
   "file_extension": ".py",
   "mimetype": "text/x-python",
   "name": "python",
   "nbconvert_exporter": "python",
   "pygments_lexer": "ipython3",
   "version": "3.7.1"
  }
 },
 "nbformat": 4,
 "nbformat_minor": 2
}
