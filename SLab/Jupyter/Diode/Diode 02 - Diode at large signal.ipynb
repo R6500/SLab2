{
 "cells": [
  {
   "cell_type": "markdown",
   "metadata": {},
   "source": [
    "<img style=\"float: right;\"  src=\"images/LogoP.jpg\" width=\"200\">\n",
    "\n",
    "# Diode 02 : Diode at large signal\n",
    "\n",
    "This project deals with models used to obtain the response of a diode against large signals.\n",
    "\n",
    "Version 1.2 (13/3/2019)  \n",
    "License information is at the end of the document\n",
    "\n",
    "---\n",
    "**Bill Of Materials (BOM):**\n",
    "\n",
    "* Diodes: **1N4148**\n",
    "* Resistor: $1 k\\Omega$\n",
    "\n",
    "---"
   ]
  },
  {
   "cell_type": "markdown",
   "metadata": {},
   "source": [
    "## Diode calculation problems\n",
    "\n",
    "As we know, a semiconductor diode is a component that can be modeled by an exponential function:\n",
    "\n",
    "$$I_d(V_d) = I_S \\left( e^{V_d \\; / \\; \\eta V_T} -1 \\right)$$  \n",
    "\n",
    "This model is a very good one for DC operation. You only need to know the value of the $I_S$ and $\\eta$ parameters ($V_T$ is calculated from the diode temperature, about $26 mV$ at $300 K$) and it provides a good agreement with the real operation of the diode.\n",
    "\n",
    "Unfortunately this is a difficult model to use for hand calculations. Let's try, for instance, to solve the following circuit:\n",
    "\n",
    "![fig 01](images\\D_02\\fig01.png)\n",
    "\n",
    "Using some circuit theory we get:\n",
    "\n",
    "$$V_S - I_d R_1 - V_d = 0$$\n",
    "\n",
    "Joining this equation with the diode equation we get a system:\n",
    "\n",
    "> $\\quad I_d(V_d) = I_S \\left( e^{V_d \\; / \\; \\eta V_T} -1 \\right)$  \n",
    "> $\\quad V_S - I_d R_1 - V_d = 0$  \n",
    "\n",
    "We can take out the $I_d$ unknown joining the two equations:\n",
    "\n",
    "$$V_S - R_1 I_S \\left( e^{V_d \\; / \\; \\eta V_T} -1 \\right) - V_d = 0$$\n",
    "\n",
    "We just need to isolate $V_d$ to obtain the solution. Try that yourself.\n",
    "\n",
    "You can't? Off course you can't. Nobody can.\n",
    "\n",
    "You can solve the above equation numerically but you cannot isolate the $V_d$ variable. \n",
    "\n",
    "There is an easy numeric way, isolate the exponential:\n",
    "\n",
    "$$e^{V_d \\; / \\; \\eta V_T} = \\frac{V_S-V_d}{R_1 I_S}+1$$\n",
    "\n",
    "Then take logarithms on both sides and leave $V_d$ alone on one side:\n",
    "\n",
    "$$V_d = \\eta V_T ln \\left( \\frac{V_S-V_d}{R_1 I_S}+1 \\right)$$\n",
    "\n",
    "This is an interesting equation because it uses $V_d$ as its input parameter and gets $V_d$ also as its output. If we feed the equation with an initial seed Vd value and we input in the equation each solution we get, it converges to the desired solution for Vd.\n",
    "\n",
    "Let's solve the equation for the **1N4148** diode and $Vs = 2.5 V$, $R1 = 1 k\\Omega$.\n",
    "\n",
    "Recall the $I_S$ and $\\eta$ values measured previously for the diode and use the following code cell to solve the equation."
   ]
  },
  {
   "cell_type": "code",
   "execution_count": null,
   "metadata": {},
   "outputs": [],
   "source": [
    "# Import the math module\n",
    "import math\n",
    "\n",
    "# Write down the values obtaned in the previou notebook\n",
    "Is = 10e-6 # Is value (mA)\n",
    "n =  2 # n value (close to 2)\n",
    "Vt = 0.026  # (V)\n",
    "\n",
    "# Circuit parameters\n",
    "Vs = 2.5  # (V)\n",
    "R1 = 1    # (kOhm)\n",
    "\n",
    "# Define the Vd function\n",
    "func = lambda x: n*Vt*math.log(((Vs-x)/(R1*Is))+1)\n",
    "\n",
    "# Set a seed value\n",
    "Vd = 0.0"
   ]
  },
  {
   "cell_type": "markdown",
   "metadata": {},
   "source": [
    "Each time you execute the following cell, you will perform an iteration of the $V_d$ equation. Execute the cell until the values are stable up to the $mV$ range."
   ]
  },
  {
   "cell_type": "code",
   "execution_count": null,
   "metadata": {},
   "outputs": [],
   "source": [
    "# Perform one iteration\n",
    "Vd = func(Vd)\n",
    "print('Vd =',Vd,'V')"
   ]
  },
  {
   "cell_type": "markdown",
   "metadata": {},
   "source": [
    "---\n",
    "\n",
    "![Practical Icon](images/pt.png)\n",
    "\n",
    "---\n",
    "\n",
    "Now, we want to check how the result compares with real measurements.\n",
    "\n",
    "![fig 02](images\\D_02\\fig02.png)\n",
    "\n",
    "First we will **import** SLab and **connect** to the board."
   ]
  },
  {
   "cell_type": "code",
   "execution_count": null,
   "metadata": {},
   "outputs": [],
   "source": [
    "# Import the SLab module\n",
    "import slab"
   ]
  },
  {
   "cell_type": "code",
   "execution_count": null,
   "metadata": {},
   "outputs": [],
   "source": [
    "boardFolder = ''                                # Board folder (leave '' if you use only one board)\n",
    "slab.setFilePrefix('../Files/')                 # Set File Prefix\n",
    "slab.setCalPrefix('Calibrations/'+boardFolder)  # Set Calibration Prefix         \n",
    "slab.connect()                                  # Connect to the board"
   ]
  },
  {
   "cell_type": "markdown",
   "metadata": {},
   "source": [
    "It is always a good idea to check the board calibration."
   ]
  },
  {
   "cell_type": "code",
   "execution_count": null,
   "metadata": {},
   "outputs": [],
   "source": [
    "# Check the calibration\n",
    "slab.checkCalibration(pause=False,na=4)"
   ]
  },
  {
   "cell_type": "markdown",
   "metadata": {},
   "source": [
    "---\n",
    "\n",
    "**BUILD TASK** \n",
    "Mount the proposed circuit.   \n",
    "\n",
    "---\n",
    "\n",
    "Now we can measure the $V_d$ voltage and compare it with our calculations."
   ]
  },
  {
   "cell_type": "code",
   "execution_count": null,
   "metadata": {},
   "outputs": [],
   "source": [
    "# Set DAC1 to 2.5V\n",
    "slab.setVoltage(1,2.5)\n",
    "\n",
    "# Measure Vd voltage\n",
    "Vd_meas = slab.readVoltage(1)\n",
    "print('Vd =',Vd_meas,'V')"
   ]
  },
  {
   "cell_type": "markdown",
   "metadata": {},
   "source": [
    "We see that we can solve the circuit, but it is not easy and we don't get a closed formula for the circuit variables.\n",
    "\n",
    "Moreover, the numerical solution works because the solution converges, but if you had isolated the Vd variable in a different way like:\n",
    "\n",
    "$$V_d = V_S - R_1 I_S \\left( e^{V_d \\; / \\; \\eta V_T} -1 \\right)$$\n"
   ]
  },
  {
   "cell_type": "markdown",
   "metadata": {},
   "source": [
    "It would not work as this equation diverges. Try it yourself:"
   ]
  },
  {
   "cell_type": "code",
   "execution_count": null,
   "metadata": {},
   "outputs": [],
   "source": [
    "# Define the Vd function\n",
    "func2 = lambda x: Vs-R1*Is*(math.exp(x/(n*Vt))-1)\n",
    "\n",
    "# Set a seed value\n",
    "Vd = 0.0"
   ]
  },
  {
   "cell_type": "code",
   "execution_count": null,
   "metadata": {},
   "outputs": [],
   "source": [
    "# Iteration cell\n",
    "Vd = func2(Vd)\n",
    "print('Vd =',Vd,'V')"
   ]
  },
  {
   "cell_type": "markdown",
   "metadata": {},
   "source": [
    "You could argue that we have only solved a two component circuit, but this method can be used always as long as the diode is the only non linear element in the circuit. You can always make the [Thevenin](https://en.wikipedia.org/wiki/Th%C3%A9venin%27s_theorem) equivalent of the circuit as seen from the diode to obtain a circuit like the one we have solved.\n",
    "\n",
    "![fig 03](images\\D_02\\fig03.png)\n",
    "\n",
    "There is no problem for computers to use numeric methods to obtain the diode solution, but for hand calculation it is cumbersome. Let's try a different way."
   ]
  },
  {
   "cell_type": "markdown",
   "metadata": {},
   "source": [
    "## Graphical solution\n",
    "\n",
    "If we recall the circuit we are trying to solve, we know that it is defined by two equations:\n",
    "\n",
    "> $\\quad I_d(V_d) = I_S \\left( e^{V_d \\; / \\; \\eta V_T} -1 \\right)$  \n",
    "> $\\quad V_S - I_d R_1 - V_d = 0$  \n",
    "\n",
    "The first equation is the non linear diode equation and the second equation is a linear equation that represents the rest of the circuit. We can isolate $I_d$ on this second equation:\n",
    "\n",
    "> $\\quad I_d(V_d) = I_S \\left( e^{V_d \\; / \\; \\eta V_T} -1 \\right)$  \n",
    "> $\\quad I_d = \\frac{V_S-V_d}{R_1}$  \n",
    "\n",
    "The solution to the system is the $V_d$ value that makes both equations provide the same $I_d$ value.\n",
    "As the second equation is linear and non time dependent, it can be represented by a straight line.\n",
    "In order to obtain this solution graphically we only need to draw this line on top of the diode curve.\n",
    "\n",
    "To do that, we will first recall the diode curve we saved in the previous notebook. Then,  for our considered case we can obtain the solution of the linear part of the circuit and plot it together with the diode curve.\n",
    "\n",
    "We will make plots interactive so that you can zoom on the graph."
   ]
  },
  {
   "cell_type": "code",
   "execution_count": null,
   "metadata": {},
   "outputs": [],
   "source": [
    "# Make plots interactive\n",
    "slab.interactivePlots()\n",
    "%matplotlib notebook\n",
    "\n",
    "# Load the diode curve\n",
    "# We assume it is in the standard SLab \"Files\" folder\n",
    "vd,id = slab.load(\"../Files/1N4148\")\n",
    "\n",
    "# Obtain the curve of the linear part of the circuit\n",
    "id2 = (2.5-vd)/1\n",
    "\n",
    "# Plot both curves together\n",
    "slab.plot1n(vd,[id,id2],\"\",\"Vd (V)\",\"Id (mA)\")"
   ]
  },
  {
   "cell_type": "markdown",
   "metadata": {},
   "source": [
    "Zoom in on the point where the curve and the line cross to find the solution and compare it with the numeric and measured values.\n",
    "\n",
    "The graphical method was a very useful method when we didn't have computers to do the numeric calculations as you only needed to draw a line over the diode curve provided by the manufacturer.\n",
    "\n",
    "<div class=\"alert alert-block alert-warning\">\n",
    "<font size=\"5\" color=brown>Graphical method in other components</font><font color=black> \n",
    "<BR><BR>\n",
    "The method can be used with other non linear two terminal components, just replace the diode curve with the non linear component curve. For some components, however, there can be some problems with this method. In our case the diode curve and the line only crosses in one point that is the solution for the system. For some non linear components there can be more that one crossing point and you need to use other methods to determine which point is the good one.\n",
    "<BR></font></div>"
   ]
  },
  {
   "cell_type": "markdown",
   "metadata": {},
   "source": [
    "## Make it easy\n",
    "\n",
    "The graphical method is a step forward to solving the diode equation, especially if you don't have a computer at hand, but it is not fast and, also, has an inherent problem shared with the numerical solution: it only works if there is only one diode in the circuit.\n",
    "\n",
    "You can find numerical solution for more than one diode, but they get quite complicated. The best numerical solution for more than one diode is to use a circuit simulator like one of the [spice](https://es.wikipedia.org/wiki/SPICE) variants.\n",
    "\n",
    "One way to simplify diode calculations is to use a simpler diode model. When you change the model you have a compromise: on one hand you ease the diode calculations, on the other hand you get less precise solutions.\n",
    "\n",
    "![fig 04](images\\D_02\\fig04.jpg)\n",
    "\n",
    "The constant voltage diode mode makes use of the fact that the diode voltage has a very small change of voltage for a broad current range. For instance, if we get the **1N4148** current as an example, as seen on the above figure, we can see that the diode voltage changes from $0.6 V$ to $0.7 V$ for current values from $0.7 mA$ to $5 mA$. So, we can suppose that the voltage is constant at a value of $0.65V$ as long as there is current in the diode. Most people, however, pick a value of $0.7 V$ for the diode mean forward voltage so that will be our chosen value.\n",
    "\n",
    "We can define the average diode voltage when it conducts as $V_\\gamma$ and define the diode operation depending in two possible states: ON and OFF. That gives us the constant voltage model equations:\n",
    "\n",
    "> ON State $\\quad V_d = V_\\gamma \\quad I_d \\geq 0$  \n",
    "> OFF State $\\quad I_d = 0_\\gamma \\quad V_d \\leq V_\\gamma$  \n",
    "\n",
    "The following figure shows the **1N4148** curve, in blue, together with the constant voltage model, in green, if we define $V_\\gamma$ as $0,7V$.\n",
    "\n",
    "![fig 05](images\\D_02\\fig05.png)\n",
    "\n",
    "In order to use this model we need to know if the diode is in the **ON** or the **OFF** state. Unfortunately, as we have not yet solved the circuit, we don't know the state. To solve the problem we make a hypothesis, solve the circuit, and check if the hypothesis suits the model. If not, we know that the hypothesis is false and we need to use the other hypothesis. \n",
    "\n",
    "For the constant voltage diode model the hypothesis, equations and checks are:\n",
    "\n",
    "![fig 06](images\\D_02\\fig06.png)\n",
    "\n",
    "The method goes as follows:\n",
    "\n",
    ">**(1)** Select one hypothesis\n",
    "\n",
    ">**(2)** Solve the circuit using the diode equation for that hypothesis.\n",
    ">>Solve also the variable needed to check the hypothesis.\n",
    "\n",
    ">**(3)** Check the hypothesis. If it fails, return to **(1)** selecting another hypothesis.\n",
    "\n",
    "As the constant voltage diode model has only two hypotheses, if the selected one is false, the other needs to be true. It is advisable, however, to always check the hypothesis to detect possible calculation errors.\n",
    "\n",
    "We will solve the previously defined circuit wit $V_S = 2.5 V$ and $R_1 = 1 k\\Omega$ using the constant voltage diode model with $V_\\gamma = 0.7 V$.\n",
    "\n",
    "---\n",
    "\n",
    "**CALCULATION TASK**  \n",
    "Solve the circuit using the constant voltage diode model.   \n",
    "Try first to use the OFF hypothesis and change to the ON hypothesis if it fails.   \n",
    "Which is the good hypothesis? What are the obtained values for $V_d$ and $I_d$?        \n",
    "\n",
    "---\n",
    "\n",
    "You should get a good agreement with the measurements, especially in the $I_d$ value. This model depends on having a circuit that does not depend on knowing the exact $V_d$ voltage. So, if we connect the diode to a linear circuit, the higher the **Thevenin** open circuit voltage is, the better the model will work."
   ]
  },
  {
   "cell_type": "markdown",
   "metadata": {},
   "source": [
    "<div class=\"alert alert-block alert-warning\">\n",
    "<font size=\"5\" color=brown>Constant voltage diode model for more than one diode</font><font color=black> \n",
    "<BR><BR>\n",
    "If you have more than one diode in the circuit, you can also use the constant voltage diode model. The hypotheses, however, are made for all the diodes at the same time. For two diodes, as each one has two possible states (ON, OFF) there are four possible hypotheses (OFF;OFF), (OFF, ON), (ON,OFF), (ON, ON). For three diodes there are nine hypotheses and so on.\n",
    "<BR><BR>\n",
    "If only one diode fails the check of one hypothesis you need to reject the hypothesis and you don't get information on the state of any diode. You cannot assume that the diodes that checked ok the hypothesis are in the correct state if any other diode fails the hypothesis.\n",
    "<BR><BR>\n",
    "In order to ease the problem it is good to apply some common sense to select the hypothesis to try. For instance, if several diodes are in series, the only possible hypotheses are all ON or all OFF.\n",
    "<BR></font></div>"
   ]
  },
  {
   "cell_type": "markdown",
   "metadata": {},
   "source": [
    "The constant voltage diode model, due to its simplicity, is the most used diode model for hand calculations. In general, if we need a more exact model we use a circuit simulation package."
   ]
  },
  {
   "cell_type": "markdown",
   "metadata": {},
   "source": [
    "## Last comments\n",
    "\n",
    "This was a short project to introduce the constant voltage diode model that is usually used for hand calculations of circuits that include diodes.\n",
    "\n",
    "We have seen also other methods to calculate circuits with diodes, like the graphical method or the numeric method but those methods are cumbersome and only work with only one diode in the circuit.\n",
    "\n",
    "In general, for large signal DC calculations, we will use the constant voltage diode model if we need fast not too exact solutions and we will revert to circuit analysis packages for the case that the precision of the model is not enough."
   ]
  },
  {
   "cell_type": "markdown",
   "metadata": {},
   "source": [
    "## References\n",
    "\n",
    "[SLab Python References](../Reference)  \n",
    "Those are the reference documents for the SLab Python modules. They describe the commands that can be carried out after importing each module. \n",
    "They should be available in the SLab/Doc folder.\n",
    "\n",
    "[TinyCad](https://sourceforge.net/projects/tinycad/)  \n",
    "Circuit images on this document have been drawn using the free software TinyCad  \n",
    "\n",
    "[SciPy](https://www.scipy.org/)  \n",
    "All the functions plots have been generated using the Matplotlib SciPy package. "
   ]
  },
  {
   "cell_type": "markdown",
   "metadata": {},
   "source": [
    "## Document license\n",
    "\n",
    "Copyright  ©  Vicente Jiménez (2018-2019)  \n",
    "This work is licensed under a Creative Common Attribution-ShareAlike 4.0 International license.  \n",
    "This license is available at http://creativecommons.org/licenses/by-sa/4.0/\n",
    "\n",
    "<img  src=\"images/cc_sa.png\" width=\"200\">"
   ]
  },
  {
   "cell_type": "code",
   "execution_count": null,
   "metadata": {},
   "outputs": [],
   "source": []
  }
 ],
 "metadata": {
  "kernelspec": {
   "display_name": "Python 3",
   "language": "python",
   "name": "python3"
  },
  "language_info": {
   "codemirror_mode": {
    "name": "ipython",
    "version": 3
   },
   "file_extension": ".py",
   "mimetype": "text/x-python",
   "name": "python",
   "nbconvert_exporter": "python",
   "pygments_lexer": "ipython3",
   "version": "3.7.1"
  }
 },
 "nbformat": 4,
 "nbformat_minor": 2
}
