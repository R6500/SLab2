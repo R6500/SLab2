{
 "cells": [
  {
   "cell_type": "markdown",
   "metadata": {},
   "source": [
    "<img style=\"float: right;\"  src=\"images/LogoP.jpg\" width=\"200\">\n",
    "\n",
    "# Nucleo F303RE Zero Hardware Board\n",
    "\n",
    "# Board 03 - DAC2 Improvement\n",
    "\n",
    "This document explains a modification that can be performed on the **STM32 Nucleo F303RE** board so that the response of the **DAC2** channel is improved.\n",
    "\n",
    "This modification is **optional** you don't need to make it to use the **SLab** system.\n",
    "\n",
    "Version 1.0 (16/3/2019)\n",
    "License information is at the end of the document\n"
   ]
  },
  {
   "cell_type": "markdown",
   "metadata": {},
   "source": [
    "## The Problem\n",
    "\n",
    "As explained before, **DAC 2** is connected, at board level, to the **user LED** of the board. That induces some loading effect on the DAC. That means that the load capabilities of **DAC2** are poorer than the ones on **DAC1**.\n",
    "\n",
    "You can obtain a better **DAC 2** response if you remove the connection between **D13** and the user LED **LD2** on the Nucleo Board. Fortunately, this board modification is straightforward thanks to the intensive use of solder bridges on the board. You need to deal, however, with desoldering a very small SMD component. If you are not sure to be capable to do the modification, don't try as you can ruin the Nucleo Board. \n",
    "\n",
    "The following figure shows a section of the Nucleo board schematics. You can see that solder bridge **SB21** connects the **D13** line with the user LED **LD2**.\n",
    "\n",
    "![Schematic](images/Board_03/schematic.png)\n"
   ]
  },
  {
   "cell_type": "markdown",
   "metadata": {},
   "source": [
    "## The Solution\n",
    "\n",
    "The solution, of course, is to desolder the **SB21** bridge. Note, however, that making this modification will permanently disconnect the user **LED** on the Nucleo board, si it you won't be able to use it again unless you restore the bridge.\n",
    "\n",
    "You can find **SB21** at the back side of the Nucleo board as a SMD $0 \\Omega$ resistor. Just remove it from the board and all the problems associated to **LD2** are gone. Obviously, as was explained, this solution makes also the LED inaccessible.\n",
    "\n",
    "![Schematic](images/Board_03/solder_bridges.png)\n",
    "\n",
    "The above figures show the **solder bridges**. On the left we see the original board with **SB21** soldered as a $0 \\Omega$ resistor. On the right we see the board with **SB21** removed. [Desoldering wick](https://en.wikipedia.org/wiki/Desoldering#Solder_wick) and [flux](https://en.wikipedia.org/wiki/Flux_(metallurgy)) have been used to remove all the solder from **SB21**. After desoldering, bridges have been cleaned with **isopropyl alcohol**.\n",
    "\n",
    "As this modification changes the **DAC2** response, it can make incorrect the current board calibration files so the **calibration** should be repeated."
   ]
  },
  {
   "cell_type": "markdown",
   "metadata": {},
   "source": [
    "## Document license\n",
    "\n",
    "Copyright  ©  Vicente Jiménez (2018-2019)  \n",
    "This work is licensed under a Creative Common Attribution-ShareAlike 4.0 International license.  \n",
    "This license is available at http://creativecommons.org/licenses/by-sa/4.0/\n",
    "\n",
    "<img  src=\"images/cc_sa.png\" width=\"200\">"
   ]
  },
  {
   "cell_type": "code",
   "execution_count": null,
   "metadata": {},
   "outputs": [],
   "source": []
  }
 ],
 "metadata": {
  "kernelspec": {
   "display_name": "Python 3",
   "language": "python",
   "name": "python3"
  },
  "language_info": {
   "codemirror_mode": {
    "name": "ipython",
    "version": 3
   },
   "file_extension": ".py",
   "mimetype": "text/x-python",
   "name": "python",
   "nbconvert_exporter": "python",
   "pygments_lexer": "ipython3",
   "version": "3.7.1"
  }
 },
 "nbformat": 4,
 "nbformat_minor": 2
}
