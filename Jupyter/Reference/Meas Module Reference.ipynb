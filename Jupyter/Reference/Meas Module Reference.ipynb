{
 "cells": [
  {
   "cell_type": "markdown",
   "metadata": {},
   "source": [
    "<img style=\"float: right;\"  src=\"images/LogoP.jpg\" width=\"200\">\n",
    "\n",
    "# Meas Module Reference\n",
    "\n",
    "This a Jupyter Notebook Reference document for the SLab projects\n",
    "\n",
    "Version 1.0 (7/3/2019) License information is at the end of the document\n",
    "\n",
    "---"
   ]
  },
  {
   "cell_type": "markdown",
   "metadata": {},
   "source": [
    "This **Meas Module Reference Notebook** describes the **Meas Module** commands.  \n",
    "Those are the commands contained in the **ac.py** source file."
   ]
  },
  {
   "cell_type": "markdown",
   "metadata": {},
   "source": [
    "\n",
    "## Module Import\n",
    "\n",
    "In order to use the **meas** commands, we first need to import the meas module. This is an interactive módule, so, in order to execute the code examples, you should import it executing the cell below.\n",
    "\n",
    "We will also import the main **SLab** module as it includes some needed commands."
   ]
  },
  {
   "cell_type": "code",
   "execution_count": null,
   "metadata": {},
   "outputs": [],
   "source": [
    "# Import the main SLab module\n",
    "import slab\n",
    "\n",
    "# Import the Meas module\n",
    "import slab.meas as meas"
   ]
  },
  {
   "cell_type": "markdown",
   "metadata": {},
   "source": [
    "The examples provided in this document use waves generated using code, not real mesurements. So you don't need to connect to the **Hardware Board** to execute the examples."
   ]
  },
  {
   "cell_type": "markdown",
   "metadata": {},
   "source": [
    "# Command Index\n",
    "\n",
    "The Meas SLab module contains several commands that ease the measurements. The following list contains all the commands in the Meas module. You can use the hiperlinks to jump to one of the commands.\n",
    "\n",
    "[period](#period) : Computes the period of a signal   \n",
    "[tcross](#tcross) : Computes when a signal cross a given value   \n",
    "[analyze](#analyze) : Analyze one or several signals   "
   ]
  },
  {
   "cell_type": "markdown",
   "metadata": {},
   "source": [
    "<a id='period'></a>\n",
    "\n",
    "## period\n",
    "\n",
    "Compute the period of a signal  \n",
    "Period is computed from signal crossings at the halfrange  \n",
    "\n",
    ">**period(vector,time,ts,mode)**  \n",
    ">Required parameters:  \n",
    ">$\\quad$ vector : Sequence of values  \n",
    ">Optional parameters:    \n",
    ">$\\quad$ time : Optional time vector  \n",
    ">$\\quad$ ts : Optional sample time    \n",
    ">$\\quad$ mode : Cross mode tmodeRise (Default) or tmodeFall      \n",
    ">Returns a the mean period using:  \n",
    ">$\\quad$ time vector if provided  \n",
    ">$\\quad$ Ts if provided  \n",
    ">$\\quad$ Samples indexes if no time or Ts is provided   \n",
    "\n",
    "The only required parameter is **vector** the rest of parameters are optional.  \n",
    "The command obtains the **halfRange** of the vector and determine the locations where the halfRange is crossed in the **mode** direction. Period is computed averaging the differences of the obtained locations.  \n",
    "Mode can be **slab.tmodeRise** (option by default) or **slab.tmodeFall**.  \n",
    "If a time array is provided, the command use two times in this array to compute the sample time, so uniform sampling is required to obtain proper results.  \n",
    "If no time array is provided, and a sampling time **ts** is provided, period is calculated from the provided sample time.\n",
    "You can use the sample time from the last measurement using the internal variable **slab.sampleTime** if the module has been loaded with the default slab name.  \n",
    "If no **time** or **ts** parameter is given, period is returned in number of samples.  \n",
    "\n",
    "If less than two half range crosses are found, the command generates a **\"Not enough edges for period\"** exception.\n"
   ]
  },
  {
   "cell_type": "code",
   "execution_count": null,
   "metadata": {},
   "outputs": [],
   "source": [
    "# EXAMPLE : Measure the period of a signal\n",
    "\n",
    "# Import the numpy module\n",
    "import numpy as np\n",
    "\n",
    "# Create a sinewave signal\n",
    "time  = []\n",
    "value = []\n",
    "for i in range(0,500):\n",
    "    t = i/100.0\n",
    "    v = 1 + np.sin(2*np.pi*t) \n",
    "    time.append(t)\n",
    "    value.append(v)\n",
    "    \n",
    "# Show the signal\n",
    "slab.plot11(time,value,\"1Hz Sinewave\",'t(s)','Value')\n",
    "    \n",
    "T = meas.period(value,time,mode=slab.tmodeFall)\n",
    "print('Computed period is',T,'s')"
   ]
  },
  {
   "cell_type": "markdown",
   "metadata": {},
   "source": [
    "<a id='tcross'></a>\n",
    "\n",
    "## tcross\n",
    "\n",
    "Determine the times when a vector crosses a value\n",
    "\n",
    ">**tcross(vector,value,mode,time,ts)**  \n",
    ">Required parameters:   \n",
    ">$\\quad$ vector : Sequence of values  \n",
    ">$\\quad$ value : Value to cross  \n",
    ">Optional parameters:   \n",
    ">$\\quad$ mode : Cross mode tmodeRise (Default) or tmodeFall  \n",
    ">$\\quad$ time : Optional time vector  \n",
    ">$\\quad$ ts : Optional sample time    \n",
    ">Returns a vector of cross instants:  \n",
    ">$\\quad$ Times if time vector is provided  \n",
    ">$\\quad$ Time from Ts if provided  \n",
    ">$\\quad$ Indexes if no time or Ts is provided   \n",
    "\n",
    "The required parameters are **vector** and **value**. The rest of parameters are optional.  \n",
    "The command obtains a list of indexes $i_j$ where the vector values cross value in the direction indicated by mode.  \n",
    "Direction set by mode can be **slab.tmodeRise** (option by default) or **slab.tmodeFall**.  \n",
    "If a time array is provided, it will be used to give the time location of the cross.  \n",
    "If not, and a sampling time ts is provided, location will be given as ts * ij.  \n",
    "You can use the sample time from the last measurement using the internal variable slab.sampleTime if the module has been loaded with the default slab name.  \n",
    "If no time or ts parameter is given, the vector indices ij are returned.  \n",
    "\n",
    "We will explain the operation of the command using the waveform shown below. The command first computes three values from the signal: The **half range**, in green, halfway between wave maximum and minimum values, the **high threshold**, in red, halfway between the half range and the maximum and the **low treshold**, in cyan, halfway between the half range and the minimum.\n",
    "\n",
    "![signal](images/meas/signal.png)\n",
    "\n",
    "If the **slab.tmodeRise** mode has been selected, the command explores the wave, from left to right until its value is below the **low treshold**. Then, the cross time is found when the signal crosses the half range. At that point the algorith resets to find the next cross.\n",
    "If the **slab.tmodeFall** mode has been selected, the algorithm is similar, but this time we check against the signal going over the high treshold.\n",
    "In the example figure we see that we have found three crosses, indicated with purple, yellow and black vertical lines.\n"
   ]
  },
  {
   "cell_type": "code",
   "execution_count": null,
   "metadata": {},
   "outputs": [],
   "source": [
    "# EXAMPLE : Obtain the croses of a sine wave\n",
    "\n",
    "# Import the numpy module\n",
    "import numpy as np\n",
    "\n",
    "# Create a sinewave signal\n",
    "time  = []\n",
    "value = []\n",
    "for i in range(0,500):\n",
    "    t = i/100.0\n",
    "    v = 1 + np.sin(2*np.pi*t) \n",
    "    time.append(t)\n",
    "    value.append(v)\n",
    "    \n",
    "# Show the signal\n",
    "slab.plot11(time,value,\"1Hz Sinewave\",'t(s)','Value')\n",
    "    \n",
    "vector = meas.tcross(value,1.0,slab.tmodeFall,time)\n",
    "print('Crosses falling below 1.0 value:',vector)\n",
    "\n",
    "vector = meas.tcross(value,1.0,slab.tmodeRise,time)\n",
    "print('Crosses rising above 1.0 value:',vector)"
   ]
  },
  {
   "cell_type": "markdown",
   "metadata": {},
   "source": [
    "<a id='analyze'></a>\n",
    "\n",
    "## analyze\n",
    "\n",
    "Analize signal data and show results on screen\n",
    "\n",
    ">**analyze(data)**  \n",
    ">Optional parameters:  \n",
    ">data : data tuple to analyze  \n",
    ">$\\quad$ Pos 0 : Time vector  \n",
    ">$\\quad$ Pos 1 onward : Signal value vectors   \n",
    ">If data is not provided, a transientAsync command will be performed   \n",
    ">Returns nothing  \n",
    "\n",
    "Performs analysis on one or several signals. The signals are vectors that include a magnitude variation respect to time. The data to be analyzed can be supplied in three ways.  \n",
    "Data can be a list of floats o a numpy one dimension array. In that case it will represent one signal and time will be measured in samples with one sample for each data element.  \n",
    "Data can be list of vectors with each vector built as a list of floats or a one dimension numpy array. In that case, the first vector will be considered time and the rest will be considered signals numbered from 1 onwards. Units will be the ones of the vectors.  \n",
    "If data is not provided, a **transientAsync** command will be issued and its returned data will be used to provide as input data. Unit for time will be seconds and it will be volt for other vectors.\n",
    "\n",
    "If a time vector is available, the command provides:\n",
    "\n",
    "* Start time\n",
    "* End time\n",
    "* Total time\n",
    "\n",
    "From each signal in the data, the command provides:\n",
    "\n",
    "* **Mean** value for all provided points \n",
    "* **Standard deviation** value for all provided points\n",
    "* **High Peak** (maximum of the signal)\n",
    "* **Low Peak** (minimum of the signal)\n",
    "* **Peak to peak** value (maximum - minimum)\n",
    "* **Halfrange** value (halfway between maximum and minimum)\n",
    "* **RMS** value (without substracting mean value)\n",
    "* **Mean period** (like the value returned by the period command)\n",
    "\n",
    "Note that, if the signal is not periodic, the mean period value won't make sense.\n",
    "\n",
    "Units only will be provided if parameter **data** is not provided and analysis is performed from a **transientAsync** command.\n"
   ]
  },
  {
   "cell_type": "code",
   "execution_count": null,
   "metadata": {},
   "outputs": [],
   "source": [
    "# EXAMPLE : Analyze two sine waves\n",
    "\n",
    "# Import the numpy module\n",
    "import numpy as np\n",
    "\n",
    "# Create a sinewave signal\n",
    "time   = []\n",
    "value1 = []\n",
    "value2 = []\n",
    "for i in range(0,500):\n",
    "    t  = i/100.0\n",
    "    v1 = 1    +      np.sin(2*np.pi*t) \n",
    "    v2 = 0.75 + 0.25*np.sin(np.pi*t) \n",
    "    time.append(t)\n",
    "    value1.append(v1)\n",
    "    value2.append(v2)\n",
    "    \n",
    "# Show the signals\n",
    "slab.plot1n(time,[value1,value2],\"Sine Waves\",'t(s)','Values',['V1','V2'])\n",
    "    \n",
    "# Analyze the signals\n",
    "meas.analyze((time,value1,value2))"
   ]
  },
  {
   "cell_type": "markdown",
   "metadata": {},
   "source": [
    "## Document license\n",
    "\n",
    "Copyright  ©  Vicente Jiménez (2019)  \n",
    "This work is licensed under a Creative Common Attribution-ShareAlike 4.0 International license.  \n",
    "This license is available at http://creativecommons.org/licenses/by-sa/4.0/\n",
    "\n",
    "<img  src=\"images/cc_sa.png\" width=\"200\">"
   ]
  },
  {
   "cell_type": "code",
   "execution_count": null,
   "metadata": {},
   "outputs": [],
   "source": []
  }
 ],
 "metadata": {
  "kernelspec": {
   "display_name": "Python 3",
   "language": "python",
   "name": "python3"
  },
  "language_info": {
   "codemirror_mode": {
    "name": "ipython",
    "version": 3
   },
   "file_extension": ".py",
   "mimetype": "text/x-python",
   "name": "python",
   "nbconvert_exporter": "python",
   "pygments_lexer": "ipython3",
   "version": "3.7.1"
  }
 },
 "nbformat": 4,
 "nbformat_minor": 2
}
